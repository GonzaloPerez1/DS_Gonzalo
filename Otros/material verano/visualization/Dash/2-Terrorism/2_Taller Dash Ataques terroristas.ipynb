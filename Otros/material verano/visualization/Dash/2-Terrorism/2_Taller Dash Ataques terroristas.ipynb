{
 "cells": [
  {
   "cell_type": "markdown",
   "metadata": {},
   "source": [
    "![imagen](./img/terror.jpg)"
   ]
  },
  {
   "cell_type": "markdown",
   "metadata": {},
   "source": [
    "# Taller Dash\n",
    "## Ataques terroristas\n",
    "En este taller vas a trabajar con una base de datos de ataques terroristas desde 1970. Consta de más de 180.000 ataques y es una base de datos mantenida por el Consorcio Nacional para el Estudio del Terrorismo y Respuestas al Terrorismo (START), con sede en la Universidad de Maryland.\n",
    "\n",
    "\n",
    "Se trata de montar un dashboard interactivo en el que puedas visualizar un mapa con las víctimas que habido históricamente, además de un selector de gráficas de barras para saber cuáles son tipos de atentados más comunes, en qué países ha habido más atentados, o en qué años.\n",
    "\n",
    "Para ello, contarás con una plantilla con código hecho, y tendrás que acabar la aplicación. El objetivo de este ejercicio es que te familiarices con la búsqueda de documentación para hacer un desarrollo en una tecnología casi desconocida para ti como es Dash. No vas a conocer todas las librerías de python, pero si es importante que aprendas a manejarte por sus documentaciones.\n",
    "\n",
    "Está basado en [este dashboard](https://dash-gallery.plotly.host/dash-opioid-epidemic/), cuyo código puedes encontrar en [este GitHub](https://github.com/plotly/dash-sample-apps/tree/master/apps/dash-opioid-epidemic). Los datos están sacados de [esta competición de Kaggle](https://www.kaggle.com/ash316/terrorism-around-the-world).\n",
    "\n",
    "Hay que replicar el siguiente dashboard:"
   ]
  },
  {
   "cell_type": "markdown",
   "metadata": {},
   "source": [
    "![imagen](./img/1_terr.png)"
   ]
  },
  {
   "cell_type": "markdown",
   "metadata": {},
   "source": [
    "Ya cuentas con un proyecto donde tienes hecho el esqueleto de la app, el estilo y la estructura de de dónde tienes que poner cada gráfica.\n",
    "\n",
    "Tendrás que rellenar los apartados `TODO` que tenencontrarás en el script `app.py`:\n",
    "1. **Figure del mapa**: tienes que crear un objeto Figure, cuyo argumento sea un Densitymapbox. Personalizalo para asemejarlo como en de la imagen. Es un mapa de calor de fallecidos en todo el mundo. Para usar mapas en plotly necesitas un `mapbox_access_token`, que ya tienes en el código. Si no funcionase te tienes que [registrar en mapbox](https://studio.mapbox.com/) y conseguir un nuevo token.\n",
    "2. **KPIs**: Antes de los gráficos, se calculan unos KPIs con el país donde se han producido más ataques terroristas, o la mayor cantidad de personas fallecidas en un ataque.\n",
    "3. **Graph**: introduce el objeto de mapa que acabas de crear como un nuevo Graph, dentro del `heatmap-container`.\n",
    "4. **Selector y gráficas**: tendrás que implementar un menú tipo Dropdown, para elegir la gráfica. Y debajo del menu un espacio para una gráfica. Dependiendo de lo que se elija en el Dropdown, saldrá una gráfica u otra. Te recomiendo que empieces simplemente haciendo una de las gráficas (ver abajo), y luego implementar el selector + callback.\n",
    "5. **Callback**: Cuando selecciones una opcióon en el Dropdown habrá que modificar la gráfica a mostrar, eso se implementa en el callback. Te recomiendo que en el layout simplemente declares un Graph(), y en el callback toda la inteligencia de las gráficas.\n",
    "\n",
    "**RECOMENDACIÓN**: empieza paso a paso, primero metiendo un texto, que esté bien el encuadre, luego gráficas sencillas, que encaje bien, introduce los datos buenos en las gráficas y finalmente aplicas el estilo, con colores (si es necesario). No dudes en introducir mejoras al ejemplo/pantallazos de los que dispones.\n",
    "\n",
    "\n",
    "#### Gráficas\n",
    "Todas estas gráficas serán un groupby del dataframe, y un count de registros.\n",
    "\n",
    "1. **Histograma de fallecimientos por año**\n",
    "\n",
    "![imagen](./img/2_terr.png)\n",
    "\n",
    "2. **Histograma de tipos de ataques**\n",
    "\n",
    "![imagen](./img/3_terr.png)\n",
    "\n",
    "3. **Histograma de principales objetivos**\n",
    "\n",
    "![imagen](./img/4_terr.png)\n",
    "\n",
    "\n",
    "## Bonus track\n",
    "Si has completado el taller con éxito, prueba a introducir algún filtro para que se actualice todo el dashboard, por ejemplo un RangeSlicer de año, o más gráficas en el selector de gráficas (o debajo), filtrar en el propio mapa y que se actualicen los datos."
   ]
  }
 ],
 "metadata": {
  "kernelspec": {
   "display_name": "Python 3",
   "language": "python",
   "name": "python3"
  },
  "language_info": {
   "codemirror_mode": {
    "name": "ipython",
    "version": 3
   },
   "file_extension": ".py",
   "mimetype": "text/x-python",
   "name": "python",
   "nbconvert_exporter": "python",
   "pygments_lexer": "ipython3",
   "version": "3.8.8"
  }
 },
 "nbformat": 4,
 "nbformat_minor": 4
}
