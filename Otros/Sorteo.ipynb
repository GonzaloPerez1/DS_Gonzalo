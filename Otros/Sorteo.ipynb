{
 "cells": [
  {
   "cell_type": "code",
   "execution_count": null,
   "metadata": {},
   "outputs": [],
   "source": [
    "import numpy as np\n",
    "\n",
    "alumnos_clase = ['Gonzalo', 'Gustavo', 'Olivier',\n",
    "                'Pablo Chabbey', 'Pablo Faura', 'Alejandro Oscar',\n",
    "                'Antonio', 'Ignacio', 'Juan Manuel',\n",
    "                'Diego', 'Yago', 'Julio',\n",
    "                'Laurent', 'Miguel', 'Eva',\n",
    "                'Ana', 'Alejandro Durán', 'Susana',\n",
    "                'Angel', 'Oscar', 'Maryam',\n",
    "                'Nieves']\n",
    "\n",
    "def sorteo_par(alumnos):\n",
    "    len_parejas = len(alumnos)\n",
    "    couples = []\n",
    "    \n",
    "    for i in range(int(len_parejas/2)):\n",
    "        uno = np.random.choice(alumnos, 1)[0]\n",
    "        alumnos.remove(uno)\n",
    "\n",
    "        dos = np.random.choice(alumnos, 1)[0]\n",
    "        alumnos.remove(dos)\n",
    "\n",
    "        couples.append((uno, dos))\n",
    "        \n",
    "    return couples, alumnos\n",
    "\n",
    "\n",
    "couples, resto = sorteo_par(alumnos_clase)\n",
    "\n",
    "if len(resto) > 0:\n",
    "    pareja_elegida = np.random.randint(0, len(couples))\n",
    "    couples[pareja_elegida] = couples[pareja_elegida] + (resto[0],)\n",
    "\n",
    "    \n",
    "print(\"PAREJAS DE ALUMNOS\")\n",
    "couples"
   ]
  },
  {
   "cell_type": "code",
   "execution_count": null,
   "metadata": {},
   "outputs": [],
   "source": [
    "alumnos_clase = ['Gonzalo', 'Gustavo', 'Olivier',\n",
    "                'Pablo Chabbey', 'Pablo Faura', 'Alejandro Oscar',\n",
    "                'Antonio', 'Ignacio', 'Juan Manuel',\n",
    "                'Diego', 'Yago', 'Julio',\n",
    "                'Laurent', 'Miguel', 'Eva',\n",
    "                'Ana', 'Alejandro Durán', 'Susana',\n",
    "                'Angel', 'Oscar', 'Maryam',\n",
    "                'Nieves']\n",
    "\n",
    "import pandas as pd\n",
    "\n",
    "df_clase = pd.DataFrame(alumnos_clase, columns=['Clase'])\n",
    "df_clase.sample(frac = 1).reset_index(drop=True)"
   ]
  }
 ],
 "metadata": {
  "kernelspec": {
   "display_name": "Python 3",
   "language": "python",
   "name": "python3"
  },
  "language_info": {
   "codemirror_mode": {
    "name": "ipython",
    "version": 3
   },
   "file_extension": ".py",
   "mimetype": "text/x-python",
   "name": "python",
   "nbconvert_exporter": "python",
   "pygments_lexer": "ipython3",
   "version": "3.8.8"
  }
 },
 "nbformat": 4,
 "nbformat_minor": 4
}
