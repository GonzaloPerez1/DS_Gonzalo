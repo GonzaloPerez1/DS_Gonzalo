{
 "cells": [
  {
   "cell_type": "code",
   "execution_count": 13,
   "id": "1c735596-a799-4114-b746-9e144be1b5b6",
   "metadata": {},
   "outputs": [
    {
     "name": "stdout",
     "output_type": "stream",
     "text": [
      "{'author': 'Vernor Vinge', 'first_sentence': 'The coldsleep itself was dreamless', 'id': 0, 'title': 'A Fire Upon the Deep', 'year_published': '1992'}\n"
     ]
    }
   ],
   "source": [
    "import requests\n",
    "\n",
    "json_message ={\n",
    "    'id': '0'\n",
    "}\n",
    "\n",
    "res = requests.get('http://127.0.0.1:5000/api/v2/resources/book', json = json_message)\n",
    "\n",
    "if res.ok:\n",
    "    print(res.json())\n",
    "else:\n",
    "    print(res.ok)"
   ]
  },
  {
   "cell_type": "code",
   "execution_count": 14,
   "id": "efcd0e3e-6f59-4a5a-834c-8c95164ab6d6",
   "metadata": {},
   "outputs": [
    {
     "name": "stdout",
     "output_type": "stream",
     "text": [
      "{'author': 'Samuel L. Jackson', 'first_sentence': \"It's a fruit\", 'id': 3, 'title': 'Pineapple', 'year_published': '1980'}\n"
     ]
    }
   ],
   "source": [
    "import requests\n",
    "\n",
    "new_book = {\n",
    "    'id': 3,\n",
    "    'title': 'Pineapple',\n",
    "    'author': 'Samuel L. Jackson',\n",
    "    'first_sentence': 'It\\'s a fruit',\n",
    "    'year_published': '1980'\n",
    "}\n",
    "\n",
    "res = requests.post('http://127.0.0.1:5000/api/v1/resources/new/book', json = new_book)\n",
    "\n",
    "if res.ok:\n",
    "    print(res.json())\n",
    "else:\n",
    "    print(res.ok)"
   ]
  },
  {
   "cell_type": "code",
   "execution_count": 15,
   "id": "09ed9126-02da-4692-9455-71774da0e136",
   "metadata": {},
   "outputs": [
    {
     "name": "stdout",
     "output_type": "stream",
     "text": [
      "{'author': 'Samuel L. Jackson', 'first_sentence': \"It's a fruit\", 'id': 3, 'title': 'Pineapple', 'year_published': '1980'}\n"
     ]
    }
   ],
   "source": [
    "import requests\n",
    "\n",
    "json_message ={\n",
    "    'id': '3'\n",
    "}\n",
    "\n",
    "res = requests.get('http://127.0.0.1:5000/api/v2/resources/book', json = json_message)\n",
    "\n",
    "if res.ok:\n",
    "    print(res.json())\n",
    "else:\n",
    "    print(res.ok)"
   ]
  },
  {
   "cell_type": "markdown",
   "id": "402334e3-1c73-4cf8-ae3a-b7c3f80ef0ce",
   "metadata": {},
   "source": [
    "## Base de datos"
   ]
  },
  {
   "cell_type": "code",
   "execution_count": 27,
   "id": "e052aef4-1db8-4f8a-a223-272bfe57a3a0",
   "metadata": {},
   "outputs": [
    {
     "name": "stdout",
     "output_type": "stream",
     "text": [
      "False\n"
     ]
    }
   ],
   "source": [
    "import requests\n",
    "\n",
    "url = 'http://127.0.0.1:5000/api/v1/resources/book'\n",
    "json_parameters = {\n",
    "    'published': 2009,\n",
    "    'author': 'John Scalzi'\n",
    "}\n",
    "\n",
    "res = requests.get(url, json = json_parameters)\n",
    "\n",
    "if res.ok:\n",
    "    print(res.json())\n",
    "else:\n",
    "    print(res.ok)"
   ]
  }
 ],
 "metadata": {
  "kernelspec": {
   "display_name": "Python 3 (ipykernel)",
   "language": "python",
   "name": "python3"
  },
  "language_info": {
   "codemirror_mode": {
    "name": "ipython",
    "version": 3
   },
   "file_extension": ".py",
   "mimetype": "text/x-python",
   "name": "python",
   "nbconvert_exporter": "python",
   "pygments_lexer": "ipython3",
   "version": "3.8.11"
  }
 },
 "nbformat": 4,
 "nbformat_minor": 5
}
