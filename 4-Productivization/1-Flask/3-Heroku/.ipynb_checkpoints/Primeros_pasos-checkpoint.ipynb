{
 "cells": [
  {
   "cell_type": "code",
   "execution_count": null,
   "metadata": {},
   "outputs": [],
   "source": [
    "# Instalamos Flask\n",
    "# Nos va a permitir escribir aplicaciones web con poco código y rápidamente"
   ]
  },
  {
   "cell_type": "code",
   "execution_count": 1,
   "metadata": {},
   "outputs": [
    {
     "name": "stdout",
     "output_type": "stream",
     "text": [
      "Requirement already satisfied: flask in c:\\users\\alberto.romero\\appdata\\local\\continuum\\anaconda3\\lib\\site-packages (1.1.1)\n",
      "Requirement already satisfied: click>=5.1 in c:\\users\\alberto.romero\\appdata\\local\\continuum\\anaconda3\\lib\\site-packages (from flask) (7.0)\n",
      "Requirement already satisfied: Jinja2>=2.10.1 in c:\\users\\alberto.romero\\appdata\\local\\continuum\\anaconda3\\lib\\site-packages (from flask) (2.11.2)\n",
      "Requirement already satisfied: itsdangerous>=0.24 in c:\\users\\alberto.romero\\appdata\\local\\continuum\\anaconda3\\lib\\site-packages (from flask) (1.1.0)\n",
      "Requirement already satisfied: Werkzeug>=0.15 in c:\\users\\alberto.romero\\appdata\\local\\continuum\\anaconda3\\lib\\site-packages (from flask) (0.16.0)\n",
      "Requirement already satisfied: MarkupSafe>=0.23 in c:\\users\\alberto.romero\\appdata\\local\\continuum\\anaconda3\\lib\\site-packages (from Jinja2>=2.10.1->flask) (1.1.1)\n"
     ]
    }
   ],
   "source": [
    "!pip install flask"
   ]
  },
  {
   "cell_type": "code",
   "execution_count": null,
   "metadata": {},
   "outputs": [],
   "source": [
    "# vamos a basics.py"
   ]
  },
  {
   "cell_type": "code",
   "execution_count": null,
   "metadata": {},
   "outputs": [],
   "source": [
    "# lanzamos basics.py desde el prompt de anaconda_navigator"
   ]
  },
  {
   "cell_type": "code",
   "execution_count": null,
   "metadata": {},
   "outputs": [],
   "source": [
    "# vamos a la URL"
   ]
  },
  {
   "cell_type": "code",
   "execution_count": null,
   "metadata": {},
   "outputs": [],
   "source": [
    "# cambia \"/\" por \"/home\""
   ]
  },
  {
   "cell_type": "code",
   "execution_count": null,
   "metadata": {},
   "outputs": [],
   "source": [
    "# como el debug está activado, se cambiará la URL automáticamente\n",
    "# recarga / y te dará error, prueba con /home"
   ]
  },
  {
   "cell_type": "code",
   "execution_count": null,
   "metadata": {},
   "outputs": [],
   "source": [
    "# volvemos a dejar \"/\""
   ]
  },
  {
   "cell_type": "code",
   "execution_count": null,
   "metadata": {},
   "outputs": [],
   "source": [
    "# cambiamos el return, vamos a mostrar un .html (está en templates)"
   ]
  },
  {
   "cell_type": "code",
   "execution_count": null,
   "metadata": {},
   "outputs": [],
   "source": [
    "# abre home.html con un editor (visual studio, por ejemplo o viendo el código html)\n",
    "# para ver el código html y lo que se va a mostrar\n",
    "# Es un formulario con 4 campos\n",
    "# ¡Vamos a hacer el clasificador de flores! y pediremos 4 medidas de la flor para predecir qué flor es\n",
    "# Va a leer 4 valores: a, b, c, d\n",
    "# también enseñamos una imagen, después nos preocupamos de que encuentre la imagen\n",
    "# cuando le demos al botón de envío (el que pondrá \"submit!\") va a buscar la action \"home\", todavía no está definido\n"
   ]
  },
  {
   "cell_type": "code",
   "execution_count": null,
   "metadata": {},
   "outputs": [],
   "source": [
    "# ¡un momento! Necesitamos tener el modelo del clasificador!!!"
   ]
  },
  {
   "cell_type": "code",
   "execution_count": null,
   "metadata": {},
   "outputs": [],
   "source": [
    "# escribimos el archivo iris.py que crea el modelo y lo guarda como iri.pkl\n",
    "# ese .pkl es un archivo que tiene tu modelo ya entrenado y listo para predecir"
   ]
  },
  {
   "cell_type": "code",
   "execution_count": 10,
   "metadata": {},
   "outputs": [],
   "source": [
    "# ejecutamos iris.py y se nos creará el .pkl\n",
    "!python iris.py"
   ]
  },
  {
   "cell_type": "code",
   "execution_count": null,
   "metadata": {},
   "outputs": [],
   "source": [
    "# escribimos app.py que va a ser la aplicación Flask que va a\n",
    "# cargar nuestro modelo, tener la página de acceso inicial\n",
    "# leer datos del formulario y al darle al botón para que prediga\n",
    "# buscará \"home\", recogerá a, b, c, d, usará el modelo, lo mostrará con \n",
    "# la plantilla after.html en la ruta /predict\n",
    "# aquí se muestra si es setosa, si no, que sea versicolor"
   ]
  },
  {
   "cell_type": "code",
   "execution_count": null,
   "metadata": {},
   "outputs": [],
   "source": [
    "# ejecuta python app.py en el prompt de anaconda-navigator"
   ]
  },
  {
   "cell_type": "code",
   "execution_count": null,
   "metadata": {},
   "outputs": [],
   "source": [
    "# y hasta aquí el taller de Flask :-)"
   ]
  },
  {
   "cell_type": "code",
   "execution_count": null,
   "metadata": {},
   "outputs": [],
   "source": [
    "###########################################################################"
   ]
  },
  {
   "cell_type": "code",
   "execution_count": null,
   "metadata": {},
   "outputs": [],
   "source": [
    "# Heroku"
   ]
  },
  {
   "cell_type": "code",
   "execution_count": null,
   "metadata": {},
   "outputs": [],
   "source": [
    "##########################################################################"
   ]
  },
  {
   "cell_type": "code",
   "execution_count": null,
   "metadata": {},
   "outputs": [],
   "source": []
  },
  {
   "cell_type": "code",
   "execution_count": null,
   "metadata": {},
   "outputs": [],
   "source": []
  },
  {
   "cell_type": "code",
   "execution_count": null,
   "metadata": {},
   "outputs": [],
   "source": []
  },
  {
   "cell_type": "code",
   "execution_count": null,
   "metadata": {},
   "outputs": [],
   "source": []
  },
  {
   "cell_type": "code",
   "execution_count": null,
   "metadata": {},
   "outputs": [],
   "source": []
  },
  {
   "cell_type": "code",
   "execution_count": 6,
   "metadata": {},
   "outputs": [
    {
     "name": "stdout",
     "output_type": "stream",
     "text": [
      "4.0\n"
     ]
    }
   ],
   "source": [
    "import pickle \n",
    "print(pickle.format_version)"
   ]
  },
  {
   "cell_type": "code",
   "execution_count": 3,
   "metadata": {},
   "outputs": [
    {
     "name": "stderr",
     "output_type": "stream",
     "text": [
      "WARNING: Could not generate requirement for distribution -tatsmodels 0.10.1 (c:\\users\\alberto.romero\\appdata\\local\\continuum\\anaconda3\\lib\\site-packages): Parse error at \"'-tatsmod'\": Expected W:(abcd...)\n",
      "WARNING: Could not generate requirement for distribution -illow 6.2.0 (c:\\users\\alberto.romero\\appdata\\local\\continuum\\anaconda3\\lib\\site-packages): Parse error at \"'-illow=='\": Expected W:(abcd...)\n"
     ]
    }
   ],
   "source": [
    "!pip freeze > mi_fichero.txt"
   ]
  },
  {
   "cell_type": "code",
   "execution_count": 7,
   "metadata": {},
   "outputs": [
    {
     "name": "stdout",
     "output_type": "stream",
     "text": [
      "Package                            Version  \n",
      "---------------------------------- ---------\n",
      "-illow                             6.2.0    \n",
      "-tatsmodels                        0.10.1   \n",
      "absl-py                            0.11.0   \n",
      "alabaster                          0.7.12   \n",
      "anaconda-client                    1.7.2    \n",
      "anaconda-navigator                 1.9.12   \n",
      "anaconda-project                   0.8.3    \n",
      "arabic-reshaper                    2.1.0    \n",
      "arviz                              0.11.0   \n",
      "asn1crypto                         1.0.1    \n",
      "astroid                            2.3.1    \n",
      "astropy                            3.2.1    \n",
      "astunparse                         1.6.3    \n",
      "atomicwrites                       1.3.0    \n",
      "attrs                              20.2.0   \n",
      "Babel                              2.7.0    \n",
      "backcall                           0.1.0    \n",
      "backports.functools-lru-cache      1.6.1    \n",
      "backports.os                       0.1.1    \n",
      "backports.shutil-get-terminal-size 1.0.0    \n",
      "backports.tempfile                 1.0      \n",
      "backports.weakref                  1.0.post1\n",
      "basemap                            1.2.0    \n",
      "beautifulsoup4                     4.8.0    \n",
      "bitarray                           1.0.1    \n",
      "bkcharts                           0.2      \n",
      "bleach                             3.1.0    \n",
      "blis                               0.4.1    \n",
      "bokeh                              1.3.4    \n",
      "boto                               2.49.0   \n",
      "boto3                              1.15.5   \n",
      "botocore                           1.18.5   \n",
      "Bottleneck                         1.2.1    \n",
      "branca                             0.4.2    \n",
      "bson                               0.5.10   \n",
      "cachetools                         4.1.1    \n",
      "cairocffi                          1.1.0    \n",
      "CairoSVG                           2.4.2    \n",
      "catalogue                          1.0.0    \n",
      "certifi                            2020.12.5\n",
      "cffi                               1.12.3   \n",
      "cftime                             1.2.1    \n",
      "chardet                            3.0.4    \n",
      "chart-studio                       1.1.0    \n",
      "Click                              7.0      \n",
      "cloudpickle                        1.2.2    \n",
      "clyent                             1.2.2    \n",
      "cmdstanpy                          0.9.5    \n",
      "colorama                           0.4.1    \n",
      "comtypes                           1.1.7    \n",
      "conda                              4.9.2    \n",
      "conda-build                        3.18.9   \n",
      "conda-package-handling             1.7.0    \n",
      "conda-verify                       3.4.2    \n",
      "configobj                          5.0.6    \n",
      "confuse                            1.3.0    \n",
      "contextlib2                        0.6.0    \n",
      "convertdate                        2.3.0    \n",
      "cryptography                       2.7      \n",
      "cssselect2                         0.3.0    \n",
      "cycler                             0.10.0   \n",
      "cymem                              2.0.3    \n",
      "Cython                             0.29.13  \n",
      "cytoolz                            0.10.0   \n",
      "dask                               2.5.2    \n",
      "decorator                          4.4.0    \n",
      "defusedxml                         0.6.0    \n",
      "distributed                        2.5.2    \n",
      "docutils                           0.15.2   \n",
      "eli5                               0.11.0   \n",
      "en-core-web-sm                     2.3.1    \n",
      "entrypoints                        0.3      \n",
      "entsoe-py                          0.3.2    \n",
      "ephem                              3.7.7.1  \n",
      "esios                              0.11.0   \n",
      "et-xmlfile                         1.0.1    \n",
      "fastcache                          1.1.0    \n",
      "fbprophet                          0.7.1    \n",
      "filelock                           3.0.12   \n",
      "Flask                              1.1.1    \n",
      "Flask-WeasyPrint                   0.6      \n",
      "flatbuffers                        1.12     \n",
      "folium                             0.12.1   \n",
      "fsspec                             0.5.2    \n",
      "future                             0.18.2   \n",
      "gast                               0.3.3    \n",
      "gensim                             3.8.0    \n",
      "gevent                             1.4.0    \n",
      "glob2                              0.7      \n",
      "google-api-core                    1.20.0   \n",
      "google-auth                        1.21.3   \n",
      "google-auth-oauthlib               0.4.2    \n",
      "google-cloud-core                  1.4.1    \n",
      "google-cloud-storage               1.28.1   \n",
      "google-pasta                       0.2.0    \n",
      "google-resumable-media             0.5.1    \n",
      "googleapis-common-protos           1.52.0   \n",
      "graphviz                           0.16     \n",
      "greenlet                           0.4.15   \n",
      "grpcio                             1.32.0   \n",
      "gunicorn                           20.0.4   \n",
      "h5py                               2.10.0   \n",
      "HeapDict                           1.0.1    \n",
      "holidays                           0.10.4   \n",
      "html5lib                           1.0.1    \n",
      "htmlmin                            0.1.12   \n",
      "idna                               2.10     \n",
      "ImageHash                          4.1.0    \n",
      "imageio                            2.6.0    \n",
      "imagesize                          1.1.0    \n",
      "imbalanced-learn                   0.7.0    \n",
      "imblearn                           0.0      \n",
      "importlib-metadata                 0.23     \n",
      "imutils                            0.5.3    \n",
      "ipykernel                          5.1.2    \n",
      "ipython                            7.8.0    \n",
      "ipython-genutils                   0.2.0    \n",
      "ipywidgets                         7.5.1    \n",
      "isort                              4.3.21   \n",
      "itsdangerous                       1.1.0    \n",
      "jdcal                              1.4.1    \n",
      "jedi                               0.15.1   \n",
      "Jinja2                             2.11.2   \n",
      "jmespath                           0.10.0   \n",
      "joblib                             0.13.2   \n",
      "json5                              0.8.5    \n",
      "jsonschema                         3.0.2    \n",
      "jupyter                            1.0.0    \n",
      "jupyter-client                     5.3.3    \n",
      "jupyter-console                    6.0.0    \n",
      "jupyter-core                       4.5.0    \n",
      "jupyterlab                         1.1.4    \n",
      "jupyterlab-server                  1.0.6    \n",
      "jupytext                           1.3.3    \n",
      "Keras                              2.4.3    \n",
      "Keras-Preprocessing                1.1.2    \n",
      "keyring                            18.0.0   \n",
      "kiwisolver                         1.1.0    \n",
      "korean-lunar-calendar              0.2.1    \n",
      "lazy-object-proxy                  1.4.2    \n",
      "libarchive-c                       2.8      \n",
      "libsaas                            0.4      \n",
      "llvmlite                           0.29.0   \n",
      "locket                             0.2.0    \n",
      "LunarCalendar                      0.0.9    \n",
      "lxml                               4.4.1    \n",
      "Markdown                           3.3.3    \n",
      "MarkupSafe                         1.1.1    \n",
      "matplotlib                         3.2.2    \n",
      "mccabe                             0.6.1    \n",
      "menuinst                           1.4.16   \n",
      "missingno                          0.4.2    \n",
      "mistune                            0.8.4    \n",
      "mkl-fft                            1.0.14   \n",
      "mkl-random                         1.1.0    \n",
      "mkl-service                        2.3.0    \n",
      "mock                               3.0.5    \n",
      "more-itertools                     7.2.0    \n",
      "mpmath                             1.1.0    \n",
      "msgpack                            0.6.1    \n",
      "multipledispatch                   0.6.0    \n",
      "murmurhash                         1.0.2    \n",
      "navigator-updater                  0.2.1    \n",
      "nbconvert                          5.6.0    \n",
      "nbformat                           4.4.0    \n",
      "netCDF4                            1.5.3    \n",
      "networkx                           2.5      \n",
      "nltk                               3.4.5    \n",
      "nose                               1.3.7    \n",
      "notebook                           6.0.1    \n",
      "numba                              0.45.1   \n",
      "numexpr                            2.7.0    \n",
      "numpy                              1.19.4   \n",
      "numpydoc                           0.9.1    \n",
      "oauthlib                           3.1.0    \n",
      "olefile                            0.46     \n",
      "opencv-python                      3.4.2.17 \n",
      "openpyxl                           3.0.0    \n",
      "opt-einsum                         3.3.0    \n",
      "packaging                          19.2     \n",
      "pandas                             1.1.1    \n",
      "pandas-datareader                  0.9.0    \n",
      "pandas-profiling                   2.9.0    \n",
      "pandocfilters                      1.4.2    \n",
      "parso                              0.5.1    \n",
      "partd                              1.0.0    \n",
      "path.py                            12.0.1   \n",
      "pathlib2                           2.3.5    \n",
      "patsy                              0.5.1    \n",
      "pdfkit                             0.6.1    \n",
      "pep8                               1.7.1    \n",
      "phik                               0.10.0   \n",
      "pickleshare                        0.7.5    \n",
      "Pillow                             8.0.1    \n",
      "pip                                19.2.3   \n",
      "pkginfo                            1.5.0.1  \n",
      "plac                               0.9.6    \n",
      "plotly                             4.12.0   \n",
      "pluggy                             0.13.0   \n",
      "ply                                3.11     \n",
      "pmdarima                           1.8.0    \n",
      "preshed                            3.0.2    \n",
      "prometheus-client                  0.7.1    \n",
      "prompt-toolkit                     2.0.10   \n",
      "protobuf                           3.13.0   \n",
      "psutil                             5.7.2    \n",
      "py                                 1.8.0    \n",
      "pyasn1                             0.4.8    \n",
      "pyasn1-modules                     0.2.8    \n",
      "pycodestyle                        2.5.0    \n",
      "pycosat                            0.6.3    \n",
      "pycparser                          2.19     \n",
      "pycrypto                           2.6.1    \n",
      "pycurl                             7.43.0.3 \n",
      "pydotplus                          2.0.2    \n",
      "pyflakes                           2.1.1    \n",
      "Pygments                           2.4.2    \n",
      "pylint                             2.4.2    \n",
      "PyMeeus                            0.3.7    \n",
      "pyodbc                             4.0.27   \n",
      "pyOpenSSL                          19.0.0   \n",
      "pyparsing                          2.4.2    \n",
      "PyPDF2                             1.26.0   \n",
      "Pyphen                             0.9.5    \n",
      "pyproj                             1.9.6    \n",
      "pyreadline                         2.1      \n",
      "pyrsistent                         0.15.4   \n",
      "pyshp                              2.1.0    \n",
      "PySocks                            1.7.1    \n",
      "pystan                             2.19.1.1 \n",
      "pytest                             5.2.1    \n",
      "pytest-arraydiff                   0.3      \n",
      "pytest-astropy                     0.5.0    \n",
      "pytest-doctestplus                 0.4.0    \n",
      "pytest-openfiles                   0.4.0    \n",
      "pytest-remotedata                  0.3.2    \n",
      "python-bidi                        0.4.2    \n",
      "python-dateutil                    2.8.0    \n",
      "pytz                               2020.1   \n",
      "PyWavelets                         1.0.3    \n",
      "pywin32                            223      \n",
      "pywinpty                           0.5.5    \n",
      "PyYAML                             5.1.2    \n",
      "pyzmq                              18.0.2   \n",
      "QtAwesome                          0.6.0    \n",
      "qtconsole                          4.5.5    \n",
      "QtPy                               1.9.0    \n",
      "reportlab                          3.5.55   \n",
      "requests                           2.24.0   \n",
      "requests-oauthlib                  1.3.0    \n",
      "retrying                           1.3.3    \n",
      "rope                               0.14.0   \n",
      "rsa                                4.6      \n",
      "ruamel-yaml                        0.15.46  \n",
      "s3transfer                         0.3.3    \n",
      "scikit-image                       0.15.0   \n",
      "scikit-learn                       0.24.0   \n",
      "scipy                              1.5.3    \n",
      "seaborn                            0.11.1   \n",
      "Send2Trash                         1.5.0    \n",
      "setuptools                         41.4.0   \n",
      "setuptools-git                     1.2      \n",
      "simplegeneric                      0.8.1    \n",
      "singledispatch                     3.4.0.3  \n",
      "six                                1.15.0   \n",
      "smart-open                         2.1.1    \n",
      "snowballstemmer                    2.0.0    \n",
      "sortedcollections                  1.1.2    \n",
      "sortedcontainers                   2.1.0    \n",
      "soupsieve                          1.9.3    \n",
      "spacy                              2.3.2    \n",
      "Sphinx                             2.2.0    \n",
      "sphinxcontrib-applehelp            1.0.1    \n",
      "sphinxcontrib-devhelp              1.0.1    \n",
      "sphinxcontrib-htmlhelp             1.0.2    \n",
      "sphinxcontrib-jsmath               1.0.1    \n",
      "sphinxcontrib-qthelp               1.0.2    \n",
      "sphinxcontrib-serializinghtml      1.1.3    \n",
      "sphinxcontrib-websupport           1.1.2    \n",
      "spyder                             3.3.6    \n",
      "spyder-kernels                     0.5.2    \n",
      "SQLAlchemy                         1.3.9    \n",
      "squarify                           0.4.3    \n",
      "srsly                              1.0.2    \n",
      "statsmodels                        0.12.1   \n",
      "sympy                              1.4      \n",
      "tables                             3.5.2    \n",
      "tabulate                           0.8.8    \n",
      "tangled-up-in-unicode              0.0.6    \n",
      "tblib                              1.4.0    \n",
      "tensorboard                        2.4.0    \n",
      "tensorboard-plugin-wit             1.7.0    \n",
      "tensorflow                         2.4.1    \n",
      "tensorflow-estimator               2.4.0    \n",
      "termcolor                          1.1.0    \n",
      "terminado                          0.8.2    \n",
      "testpath                           0.4.2    \n",
      "textblob                           0.15.3   \n",
      "thinc                              7.4.1    \n",
      "threadpoolctl                      2.1.0    \n",
      "tinycss2                           1.0.2    \n",
      "toolz                              0.10.0   \n",
      "tornado                            6.0.3    \n",
      "tqdm                               4.48.2   \n",
      "traitlets                          4.3.3    \n",
      "tweepy                             3.9.0    \n",
      "typing-extensions                  3.7.4.3  \n",
      "unicodecsv                         0.14.1   \n",
      "urllib3                            1.25.9   \n",
      "utils                              1.0.1    \n",
      "visions                            0.5.0    \n",
      "wasabi                             0.8.0    \n",
      "wcwidth                            0.1.7    \n",
      "WeasyPrint                         51       \n",
      "webencodings                       0.5.1    \n",
      "Werkzeug                           0.16.0   \n",
      "wheel                              0.36.2   \n",
      "widgetsnbextension                 3.5.1    \n",
      "win-inet-pton                      1.1.0    \n",
      "win-unicode-console                0.5      \n",
      "wincertstore                       0.2      \n",
      "wkhtmltopdf                        0.2      \n",
      "wordcloud                          1.8.0    \n",
      "wrapt                              1.12.1   \n",
      "xarray                             0.16.2   \n",
      "xgboost                            1.3.1    \n",
      "xhtml2pdf                          0.2.5    \n",
      "xlrd                               1.2.0    \n",
      "XlsxWriter                         1.2.1    \n",
      "xlwings                            0.15.10  \n",
      "xlwt                               1.3.0    \n",
      "xmltodict                          0.12.0   \n",
      "zict                               1.0.0    \n",
      "zipp                               0.6.0    \n",
      "Note: you may need to restart the kernel to use updated packages.\n"
     ]
    }
   ],
   "source": [
    "%pip list"
   ]
  }
 ],
 "metadata": {
  "kernelspec": {
   "display_name": "Python 3 (ipykernel)",
   "language": "python",
   "name": "python3"
  },
  "language_info": {
   "codemirror_mode": {
    "name": "ipython",
    "version": 3
   },
   "file_extension": ".py",
   "mimetype": "text/x-python",
   "name": "python",
   "nbconvert_exporter": "python",
   "pygments_lexer": "ipython3",
   "version": "3.8.11"
  }
 },
 "nbformat": 4,
 "nbformat_minor": 4
}
