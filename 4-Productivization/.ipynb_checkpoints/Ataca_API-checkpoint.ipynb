{
 "cells": [
  {
   "cell_type": "code",
   "execution_count": 1,
   "id": "b15e9c6b-efe2-4bbf-b3d9-d2bba29739bd",
   "metadata": {},
   "outputs": [
    {
     "name": "stdout",
     "output_type": "stream",
     "text": [
      "{'author': 'Vernor Vinge', 'first_sentence': 'The coldsleep itself was dreamless.', 'id': 0, 'title': 'A Fire Upon the Deep', 'year_published': '1992'}\n"
     ]
    }
   ],
   "source": [
    "import requests\n",
    "res = requests.get('http://127.0.0.1:5000/api/v2/resources/book', json = {\"id\": \"0\"})\n",
    "\n",
    "if res.ok:\n",
    "    print(res.json())\n",
    "    \n",
    "else:\n",
    "    print(res.ok)"
   ]
  }
 ],
 "metadata": {
  "kernelspec": {
   "display_name": "Python 3 (ipykernel)",
   "language": "python",
   "name": "python3"
  },
  "language_info": {
   "codemirror_mode": {
    "name": "ipython",
    "version": 3
   },
   "file_extension": ".py",
   "mimetype": "text/x-python",
   "name": "python",
   "nbconvert_exporter": "python",
   "pygments_lexer": "ipython3",
   "version": "3.8.11"
  }
 },
 "nbformat": 4,
 "nbformat_minor": 5
}
