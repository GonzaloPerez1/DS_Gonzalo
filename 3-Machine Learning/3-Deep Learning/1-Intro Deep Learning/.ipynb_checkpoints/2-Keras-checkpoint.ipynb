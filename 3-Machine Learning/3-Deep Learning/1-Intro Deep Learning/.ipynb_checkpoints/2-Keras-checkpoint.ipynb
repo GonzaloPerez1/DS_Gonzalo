{
 "cells": [
  {
   "cell_type": "markdown",
   "metadata": {},
   "source": [
    "# Keras\n",
    "Librería para programar redes neuronales de una manera más sencilla que con TensorFlow. Keras se encuentra en una capa de abstracción por encima de TensorFlow.\n",
    "\n",
    "[Documentación](https://keras.io/guides/)"
   ]
  },
  {
   "cell_type": "code",
   "execution_count": null,
   "metadata": {},
   "outputs": [],
   "source": [
    "# !pip install tensorflow\n",
    "# !pip install keras"
   ]
  },
  {
   "cell_type": "markdown",
   "metadata": {},
   "source": [
    "Empezamos importando librerías"
   ]
  },
  {
   "cell_type": "code",
   "execution_count": 1,
   "metadata": {},
   "outputs": [
    {
     "name": "stderr",
     "output_type": "stream",
     "text": [
      "2021-09-14 12:47:31.351301: W tensorflow/stream_executor/platform/default/dso_loader.cc:64] Could not load dynamic library 'libcudart.so.11.0'; dlerror: libcudart.so.11.0: cannot open shared object file: No such file or directory\n",
      "2021-09-14 12:47:31.351318: I tensorflow/stream_executor/cuda/cudart_stub.cc:29] Ignore above cudart dlerror if you do not have a GPU set up on your machine.\n"
     ]
    }
   ],
   "source": [
    "import tensorflow as tf\n",
    "from tensorflow import keras\n",
    "from tensorflow.keras import layers\n",
    "import pandas as pd\n",
    "import numpy as np"
   ]
  },
  {
   "cell_type": "markdown",
   "metadata": {},
   "source": [
    "Cargamos los datos de mnist. No vamos a tratar imagenes con redes convolucionales (perdemos la estructura espacial 2D). Todos los pixeles se convertirán en un vector de 28x28 features independientes, que serán las entradas del modelo."
   ]
  },
  {
   "cell_type": "code",
   "execution_count": 2,
   "metadata": {},
   "outputs": [],
   "source": [
    "# Cogemos las imágenes de los dígitos asi como el conjunto de train y test\n",
    "(X_train, y_train), (X_test, y_test) = keras.datasets.mnist.load_data()"
   ]
  },
  {
   "cell_type": "markdown",
   "metadata": {},
   "source": [
    "Vemos dimensiones del dataset"
   ]
  },
  {
   "cell_type": "code",
   "execution_count": 3,
   "metadata": {},
   "outputs": [
    {
     "name": "stdout",
     "output_type": "stream",
     "text": [
      "(60000, 28, 28)\n",
      "(60000,)\n",
      "(10000, 28, 28)\n",
      "(10000,)\n"
     ]
    }
   ],
   "source": [
    "'''\n",
    "60.000 imagenes de 28x28 pixeles\n",
    "'''\n",
    "print(X_train.shape)\n",
    "print(y_train.shape)\n",
    "print(X_test.shape)\n",
    "print(y_test.shape)"
   ]
  },
  {
   "cell_type": "code",
   "execution_count": 7,
   "metadata": {
    "collapsed": true,
    "jupyter": {
     "outputs_hidden": true
    },
    "tags": []
   },
   "outputs": [
    {
     "data": {
      "text/plain": [
       "array([[  0,   0,   0,   0,   0,   0,   0,   0,   0,   0,   0,   0,   0,\n",
       "          0,   0,   0,   0,   0,   0,   0,   0,   0,   0,   0,   0,   0,\n",
       "          0,   0],\n",
       "       [  0,   0,   0,   0,   0,   0,   0,   0,   0,   0,   0,   0,   0,\n",
       "          0,   0,   0,   0,   0,   0,   0,   0,   0,   0,   0,   0,   0,\n",
       "          0,   0],\n",
       "       [  0,   0,   0,   0,   0,   0,   0,   0,   0,   0,   0,   0,   0,\n",
       "          0,   0,   0,   0,   0,   0,   0,   0,   0,   0,   0,   0,   0,\n",
       "          0,   0],\n",
       "       [  0,   0,   0,   0,   0,   0,   0,   0,   0,   0,   0,   0,   0,\n",
       "          0,   0,   0,   0,   0,   0,   0,   0,   0,   0,   0,   0,   0,\n",
       "          0,   0],\n",
       "       [  0,   0,   0,   0,   0,   0,   0,   0,   0,   0,   0,   0,   0,\n",
       "          0,   0,   0,   0,   0,   0,   0,   0,   0,   0,   0,   0,   0,\n",
       "          0,   0],\n",
       "       [  0,   0,   0,   0,   0,   0,   0,   0,   0,   0,   0,   0,   3,\n",
       "         18,  18,  18, 126, 136, 175,  26, 166, 255, 247, 127,   0,   0,\n",
       "          0,   0],\n",
       "       [  0,   0,   0,   0,   0,   0,   0,   0,  30,  36,  94, 154, 170,\n",
       "        253, 253, 253, 253, 253, 225, 172, 253, 242, 195,  64,   0,   0,\n",
       "          0,   0],\n",
       "       [  0,   0,   0,   0,   0,   0,   0,  49, 238, 253, 253, 253, 253,\n",
       "        253, 253, 253, 253, 251,  93,  82,  82,  56,  39,   0,   0,   0,\n",
       "          0,   0],\n",
       "       [  0,   0,   0,   0,   0,   0,   0,  18, 219, 253, 253, 253, 253,\n",
       "        253, 198, 182, 247, 241,   0,   0,   0,   0,   0,   0,   0,   0,\n",
       "          0,   0],\n",
       "       [  0,   0,   0,   0,   0,   0,   0,   0,  80, 156, 107, 253, 253,\n",
       "        205,  11,   0,  43, 154,   0,   0,   0,   0,   0,   0,   0,   0,\n",
       "          0,   0],\n",
       "       [  0,   0,   0,   0,   0,   0,   0,   0,   0,  14,   1, 154, 253,\n",
       "         90,   0,   0,   0,   0,   0,   0,   0,   0,   0,   0,   0,   0,\n",
       "          0,   0],\n",
       "       [  0,   0,   0,   0,   0,   0,   0,   0,   0,   0,   0, 139, 253,\n",
       "        190,   2,   0,   0,   0,   0,   0,   0,   0,   0,   0,   0,   0,\n",
       "          0,   0],\n",
       "       [  0,   0,   0,   0,   0,   0,   0,   0,   0,   0,   0,  11, 190,\n",
       "        253,  70,   0,   0,   0,   0,   0,   0,   0,   0,   0,   0,   0,\n",
       "          0,   0],\n",
       "       [  0,   0,   0,   0,   0,   0,   0,   0,   0,   0,   0,   0,  35,\n",
       "        241, 225, 160, 108,   1,   0,   0,   0,   0,   0,   0,   0,   0,\n",
       "          0,   0],\n",
       "       [  0,   0,   0,   0,   0,   0,   0,   0,   0,   0,   0,   0,   0,\n",
       "         81, 240, 253, 253, 119,  25,   0,   0,   0,   0,   0,   0,   0,\n",
       "          0,   0],\n",
       "       [  0,   0,   0,   0,   0,   0,   0,   0,   0,   0,   0,   0,   0,\n",
       "          0,  45, 186, 253, 253, 150,  27,   0,   0,   0,   0,   0,   0,\n",
       "          0,   0],\n",
       "       [  0,   0,   0,   0,   0,   0,   0,   0,   0,   0,   0,   0,   0,\n",
       "          0,   0,  16,  93, 252, 253, 187,   0,   0,   0,   0,   0,   0,\n",
       "          0,   0],\n",
       "       [  0,   0,   0,   0,   0,   0,   0,   0,   0,   0,   0,   0,   0,\n",
       "          0,   0,   0,   0, 249, 253, 249,  64,   0,   0,   0,   0,   0,\n",
       "          0,   0],\n",
       "       [  0,   0,   0,   0,   0,   0,   0,   0,   0,   0,   0,   0,   0,\n",
       "          0,  46, 130, 183, 253, 253, 207,   2,   0,   0,   0,   0,   0,\n",
       "          0,   0],\n",
       "       [  0,   0,   0,   0,   0,   0,   0,   0,   0,   0,   0,   0,  39,\n",
       "        148, 229, 253, 253, 253, 250, 182,   0,   0,   0,   0,   0,   0,\n",
       "          0,   0],\n",
       "       [  0,   0,   0,   0,   0,   0,   0,   0,   0,   0,  24, 114, 221,\n",
       "        253, 253, 253, 253, 201,  78,   0,   0,   0,   0,   0,   0,   0,\n",
       "          0,   0],\n",
       "       [  0,   0,   0,   0,   0,   0,   0,   0,  23,  66, 213, 253, 253,\n",
       "        253, 253, 198,  81,   2,   0,   0,   0,   0,   0,   0,   0,   0,\n",
       "          0,   0],\n",
       "       [  0,   0,   0,   0,   0,   0,  18, 171, 219, 253, 253, 253, 253,\n",
       "        195,  80,   9,   0,   0,   0,   0,   0,   0,   0,   0,   0,   0,\n",
       "          0,   0],\n",
       "       [  0,   0,   0,   0,  55, 172, 226, 253, 253, 253, 253, 244, 133,\n",
       "         11,   0,   0,   0,   0,   0,   0,   0,   0,   0,   0,   0,   0,\n",
       "          0,   0],\n",
       "       [  0,   0,   0,   0, 136, 253, 253, 253, 212, 135, 132,  16,   0,\n",
       "          0,   0,   0,   0,   0,   0,   0,   0,   0,   0,   0,   0,   0,\n",
       "          0,   0],\n",
       "       [  0,   0,   0,   0,   0,   0,   0,   0,   0,   0,   0,   0,   0,\n",
       "          0,   0,   0,   0,   0,   0,   0,   0,   0,   0,   0,   0,   0,\n",
       "          0,   0],\n",
       "       [  0,   0,   0,   0,   0,   0,   0,   0,   0,   0,   0,   0,   0,\n",
       "          0,   0,   0,   0,   0,   0,   0,   0,   0,   0,   0,   0,   0,\n",
       "          0,   0],\n",
       "       [  0,   0,   0,   0,   0,   0,   0,   0,   0,   0,   0,   0,   0,\n",
       "          0,   0,   0,   0,   0,   0,   0,   0,   0,   0,   0,   0,   0,\n",
       "          0,   0]], dtype=uint8)"
      ]
     },
     "execution_count": 7,
     "metadata": {},
     "output_type": "execute_result"
    }
   ],
   "source": [
    "X_train[0]"
   ]
  },
  {
   "cell_type": "markdown",
   "metadata": {},
   "source": [
    "60.000 imágenes de 28x28 pixeles. Vamos a representar una de ellas"
   ]
  },
  {
   "cell_type": "code",
   "execution_count": 4,
   "metadata": {},
   "outputs": [
    {
     "data": {
      "image/png": "[encoded data removed]",
      "text/plain": [
       "<Figure size 432x288 with 1 Axes>"
      ]
     },
     "metadata": {
      "needs_background": "light"
     },
     "output_type": "display_data"
    }
   ],
   "source": [
    "import matplotlib.pyplot as plt\n",
    "\n",
    "plt.imshow(X_train[0], cmap=plt.cm.get_cmap('Greys'));"
   ]
  },
  {
   "cell_type": "markdown",
   "metadata": {},
   "source": [
    "Cada imagen se compone de 28x28 pixeles, y cada pixel representa una escala de grises que va del 0 al 255. Siendo 0 el blanco y 255 negro.\n",
    "\n",
    "¿Se te ocurre alguna manera de normalizar los datos?"
   ]
  },
  {
   "cell_type": "code",
   "execution_count": 3,
   "metadata": {},
   "outputs": [],
   "source": [
    "#Esta celda se debe ejecutar una sola vez\n",
    "\n",
    "X_train = X_train.astype('float32') / 255\n",
    "X_test = X_test.astype('float32') / 255"
   ]
  },
  {
   "cell_type": "code",
   "execution_count": 12,
   "metadata": {
    "collapsed": true,
    "jupyter": {
     "outputs_hidden": true
    },
    "tags": []
   },
   "outputs": [
    {
     "data": {
      "text/plain": [
       "array([[0.        , 0.        , 0.        , 0.        , 0.        ,\n",
       "        0.        , 0.        , 0.        , 0.        , 0.        ,\n",
       "        0.        , 0.        , 0.        , 0.        , 0.        ,\n",
       "        0.        , 0.        , 0.        , 0.        , 0.        ,\n",
       "        0.        , 0.        , 0.        , 0.        , 0.        ,\n",
       "        0.        , 0.        , 0.        ],\n",
       "       [0.        , 0.        , 0.        , 0.        , 0.        ,\n",
       "        0.        , 0.        , 0.        , 0.        , 0.        ,\n",
       "        0.        , 0.        , 0.        , 0.        , 0.        ,\n",
       "        0.        , 0.        , 0.        , 0.        , 0.        ,\n",
       "        0.        , 0.        , 0.        , 0.        , 0.        ,\n",
       "        0.        , 0.        , 0.        ],\n",
       "       [0.        , 0.        , 0.        , 0.        , 0.        ,\n",
       "        0.        , 0.        , 0.        , 0.        , 0.        ,\n",
       "        0.        , 0.        , 0.        , 0.        , 0.        ,\n",
       "        0.        , 0.        , 0.        , 0.        , 0.        ,\n",
       "        0.        , 0.        , 0.        , 0.        , 0.        ,\n",
       "        0.        , 0.        , 0.        ],\n",
       "       [0.        , 0.        , 0.        , 0.        , 0.        ,\n",
       "        0.        , 0.        , 0.        , 0.        , 0.        ,\n",
       "        0.        , 0.        , 0.        , 0.        , 0.        ,\n",
       "        0.        , 0.        , 0.        , 0.        , 0.        ,\n",
       "        0.        , 0.        , 0.        , 0.        , 0.        ,\n",
       "        0.        , 0.        , 0.        ],\n",
       "       [0.        , 0.        , 0.        , 0.        , 0.        ,\n",
       "        0.        , 0.        , 0.        , 0.        , 0.        ,\n",
       "        0.        , 0.        , 0.        , 0.        , 0.        ,\n",
       "        0.        , 0.        , 0.        , 0.        , 0.        ,\n",
       "        0.        , 0.        , 0.        , 0.        , 0.        ,\n",
       "        0.        , 0.        , 0.        ],\n",
       "       [0.        , 0.        , 0.        , 0.        , 0.        ,\n",
       "        0.        , 0.        , 0.        , 0.        , 0.        ,\n",
       "        0.        , 0.        , 0.01176471, 0.07058824, 0.07058824,\n",
       "        0.07058824, 0.49411765, 0.53333336, 0.6862745 , 0.10196079,\n",
       "        0.6509804 , 1.        , 0.96862745, 0.49803922, 0.        ,\n",
       "        0.        , 0.        , 0.        ],\n",
       "       [0.        , 0.        , 0.        , 0.        , 0.        ,\n",
       "        0.        , 0.        , 0.        , 0.11764706, 0.14117648,\n",
       "        0.36862746, 0.6039216 , 0.6666667 , 0.99215686, 0.99215686,\n",
       "        0.99215686, 0.99215686, 0.99215686, 0.88235295, 0.6745098 ,\n",
       "        0.99215686, 0.9490196 , 0.7647059 , 0.2509804 , 0.        ,\n",
       "        0.        , 0.        , 0.        ],\n",
       "       [0.        , 0.        , 0.        , 0.        , 0.        ,\n",
       "        0.        , 0.        , 0.19215687, 0.93333334, 0.99215686,\n",
       "        0.99215686, 0.99215686, 0.99215686, 0.99215686, 0.99215686,\n",
       "        0.99215686, 0.99215686, 0.9843137 , 0.3647059 , 0.32156864,\n",
       "        0.32156864, 0.21960784, 0.15294118, 0.        , 0.        ,\n",
       "        0.        , 0.        , 0.        ],\n",
       "       [0.        , 0.        , 0.        , 0.        , 0.        ,\n",
       "        0.        , 0.        , 0.07058824, 0.85882354, 0.99215686,\n",
       "        0.99215686, 0.99215686, 0.99215686, 0.99215686, 0.7764706 ,\n",
       "        0.7137255 , 0.96862745, 0.94509804, 0.        , 0.        ,\n",
       "        0.        , 0.        , 0.        , 0.        , 0.        ,\n",
       "        0.        , 0.        , 0.        ],\n",
       "       [0.        , 0.        , 0.        , 0.        , 0.        ,\n",
       "        0.        , 0.        , 0.        , 0.3137255 , 0.6117647 ,\n",
       "        0.41960785, 0.99215686, 0.99215686, 0.8039216 , 0.04313726,\n",
       "        0.        , 0.16862746, 0.6039216 , 0.        , 0.        ,\n",
       "        0.        , 0.        , 0.        , 0.        , 0.        ,\n",
       "        0.        , 0.        , 0.        ],\n",
       "       [0.        , 0.        , 0.        , 0.        , 0.        ,\n",
       "        0.        , 0.        , 0.        , 0.        , 0.05490196,\n",
       "        0.00392157, 0.6039216 , 0.99215686, 0.3529412 , 0.        ,\n",
       "        0.        , 0.        , 0.        , 0.        , 0.        ,\n",
       "        0.        , 0.        , 0.        , 0.        , 0.        ,\n",
       "        0.        , 0.        , 0.        ],\n",
       "       [0.        , 0.        , 0.        , 0.        , 0.        ,\n",
       "        0.        , 0.        , 0.        , 0.        , 0.        ,\n",
       "        0.        , 0.54509807, 0.99215686, 0.74509805, 0.00784314,\n",
       "        0.        , 0.        , 0.        , 0.        , 0.        ,\n",
       "        0.        , 0.        , 0.        , 0.        , 0.        ,\n",
       "        0.        , 0.        , 0.        ],\n",
       "       [0.        , 0.        , 0.        , 0.        , 0.        ,\n",
       "        0.        , 0.        , 0.        , 0.        , 0.        ,\n",
       "        0.        , 0.04313726, 0.74509805, 0.99215686, 0.27450982,\n",
       "        0.        , 0.        , 0.        , 0.        , 0.        ,\n",
       "        0.        , 0.        , 0.        , 0.        , 0.        ,\n",
       "        0.        , 0.        , 0.        ],\n",
       "       [0.        , 0.        , 0.        , 0.        , 0.        ,\n",
       "        0.        , 0.        , 0.        , 0.        , 0.        ,\n",
       "        0.        , 0.        , 0.13725491, 0.94509804, 0.88235295,\n",
       "        0.627451  , 0.42352942, 0.00392157, 0.        , 0.        ,\n",
       "        0.        , 0.        , 0.        , 0.        , 0.        ,\n",
       "        0.        , 0.        , 0.        ],\n",
       "       [0.        , 0.        , 0.        , 0.        , 0.        ,\n",
       "        0.        , 0.        , 0.        , 0.        , 0.        ,\n",
       "        0.        , 0.        , 0.        , 0.31764707, 0.9411765 ,\n",
       "        0.99215686, 0.99215686, 0.46666667, 0.09803922, 0.        ,\n",
       "        0.        , 0.        , 0.        , 0.        , 0.        ,\n",
       "        0.        , 0.        , 0.        ],\n",
       "       [0.        , 0.        , 0.        , 0.        , 0.        ,\n",
       "        0.        , 0.        , 0.        , 0.        , 0.        ,\n",
       "        0.        , 0.        , 0.        , 0.        , 0.1764706 ,\n",
       "        0.7294118 , 0.99215686, 0.99215686, 0.5882353 , 0.10588235,\n",
       "        0.        , 0.        , 0.        , 0.        , 0.        ,\n",
       "        0.        , 0.        , 0.        ],\n",
       "       [0.        , 0.        , 0.        , 0.        , 0.        ,\n",
       "        0.        , 0.        , 0.        , 0.        , 0.        ,\n",
       "        0.        , 0.        , 0.        , 0.        , 0.        ,\n",
       "        0.0627451 , 0.3647059 , 0.9882353 , 0.99215686, 0.73333335,\n",
       "        0.        , 0.        , 0.        , 0.        , 0.        ,\n",
       "        0.        , 0.        , 0.        ],\n",
       "       [0.        , 0.        , 0.        , 0.        , 0.        ,\n",
       "        0.        , 0.        , 0.        , 0.        , 0.        ,\n",
       "        0.        , 0.        , 0.        , 0.        , 0.        ,\n",
       "        0.        , 0.        , 0.9764706 , 0.99215686, 0.9764706 ,\n",
       "        0.2509804 , 0.        , 0.        , 0.        , 0.        ,\n",
       "        0.        , 0.        , 0.        ],\n",
       "       [0.        , 0.        , 0.        , 0.        , 0.        ,\n",
       "        0.        , 0.        , 0.        , 0.        , 0.        ,\n",
       "        0.        , 0.        , 0.        , 0.        , 0.18039216,\n",
       "        0.50980395, 0.7176471 , 0.99215686, 0.99215686, 0.8117647 ,\n",
       "        0.00784314, 0.        , 0.        , 0.        , 0.        ,\n",
       "        0.        , 0.        , 0.        ],\n",
       "       [0.        , 0.        , 0.        , 0.        , 0.        ,\n",
       "        0.        , 0.        , 0.        , 0.        , 0.        ,\n",
       "        0.        , 0.        , 0.15294118, 0.5803922 , 0.8980392 ,\n",
       "        0.99215686, 0.99215686, 0.99215686, 0.98039216, 0.7137255 ,\n",
       "        0.        , 0.        , 0.        , 0.        , 0.        ,\n",
       "        0.        , 0.        , 0.        ],\n",
       "       [0.        , 0.        , 0.        , 0.        , 0.        ,\n",
       "        0.        , 0.        , 0.        , 0.        , 0.        ,\n",
       "        0.09411765, 0.44705883, 0.8666667 , 0.99215686, 0.99215686,\n",
       "        0.99215686, 0.99215686, 0.7882353 , 0.30588236, 0.        ,\n",
       "        0.        , 0.        , 0.        , 0.        , 0.        ,\n",
       "        0.        , 0.        , 0.        ],\n",
       "       [0.        , 0.        , 0.        , 0.        , 0.        ,\n",
       "        0.        , 0.        , 0.        , 0.09019608, 0.25882354,\n",
       "        0.8352941 , 0.99215686, 0.99215686, 0.99215686, 0.99215686,\n",
       "        0.7764706 , 0.31764707, 0.00784314, 0.        , 0.        ,\n",
       "        0.        , 0.        , 0.        , 0.        , 0.        ,\n",
       "        0.        , 0.        , 0.        ],\n",
       "       [0.        , 0.        , 0.        , 0.        , 0.        ,\n",
       "        0.        , 0.07058824, 0.67058825, 0.85882354, 0.99215686,\n",
       "        0.99215686, 0.99215686, 0.99215686, 0.7647059 , 0.3137255 ,\n",
       "        0.03529412, 0.        , 0.        , 0.        , 0.        ,\n",
       "        0.        , 0.        , 0.        , 0.        , 0.        ,\n",
       "        0.        , 0.        , 0.        ],\n",
       "       [0.        , 0.        , 0.        , 0.        , 0.21568628,\n",
       "        0.6745098 , 0.8862745 , 0.99215686, 0.99215686, 0.99215686,\n",
       "        0.99215686, 0.95686275, 0.52156866, 0.04313726, 0.        ,\n",
       "        0.        , 0.        , 0.        , 0.        , 0.        ,\n",
       "        0.        , 0.        , 0.        , 0.        , 0.        ,\n",
       "        0.        , 0.        , 0.        ],\n",
       "       [0.        , 0.        , 0.        , 0.        , 0.53333336,\n",
       "        0.99215686, 0.99215686, 0.99215686, 0.83137256, 0.5294118 ,\n",
       "        0.5176471 , 0.0627451 , 0.        , 0.        , 0.        ,\n",
       "        0.        , 0.        , 0.        , 0.        , 0.        ,\n",
       "        0.        , 0.        , 0.        , 0.        , 0.        ,\n",
       "        0.        , 0.        , 0.        ],\n",
       "       [0.        , 0.        , 0.        , 0.        , 0.        ,\n",
       "        0.        , 0.        , 0.        , 0.        , 0.        ,\n",
       "        0.        , 0.        , 0.        , 0.        , 0.        ,\n",
       "        0.        , 0.        , 0.        , 0.        , 0.        ,\n",
       "        0.        , 0.        , 0.        , 0.        , 0.        ,\n",
       "        0.        , 0.        , 0.        ],\n",
       "       [0.        , 0.        , 0.        , 0.        , 0.        ,\n",
       "        0.        , 0.        , 0.        , 0.        , 0.        ,\n",
       "        0.        , 0.        , 0.        , 0.        , 0.        ,\n",
       "        0.        , 0.        , 0.        , 0.        , 0.        ,\n",
       "        0.        , 0.        , 0.        , 0.        , 0.        ,\n",
       "        0.        , 0.        , 0.        ],\n",
       "       [0.        , 0.        , 0.        , 0.        , 0.        ,\n",
       "        0.        , 0.        , 0.        , 0.        , 0.        ,\n",
       "        0.        , 0.        , 0.        , 0.        , 0.        ,\n",
       "        0.        , 0.        , 0.        , 0.        , 0.        ,\n",
       "        0.        , 0.        , 0.        , 0.        , 0.        ,\n",
       "        0.        , 0.        , 0.        ]], dtype=float32)"
      ]
     },
     "execution_count": 12,
     "metadata": {},
     "output_type": "execute_result"
    }
   ],
   "source": [
    "'''\n",
    "Comprobamos la normalización\n",
    "'''\n",
    "X_train[0]"
   ]
  },
  {
   "cell_type": "markdown",
   "metadata": {},
   "source": [
    "Guardamos datos para validación. Estos datos se usarán durante el entrenamiento. Otra opción es decirle a keras en la etapa de entrenamiento que reserve un X % de los datos para validar."
   ]
  },
  {
   "cell_type": "code",
   "execution_count": 4,
   "metadata": {},
   "outputs": [],
   "source": [
    "y_train = y_train.astype('float32')\n",
    "y_test = y_test.astype('float32')"
   ]
  },
  {
   "cell_type": "markdown",
   "metadata": {},
   "source": [
    "Montamos la arquitectura de la red neuronal. Se va a componer de:\n",
    "* **Sequential**: API para iniciar la red neuronal. No cuenta como capa.\n",
    "* **Flatten**: capa de entrada. Necesita un vector unidimensional. Como tenemos imágenes, esta capa aplana las imagenes (2D) en 1D.\n",
    "* **Dense**: es una hidden layer. Se compondrá de `n` neuronas y de una función de activación que se aplicará a todas las neuronas de la capa.\n",
    "\n",
    "Recuerda que es un problema de clasificación multiclase (10 clases) y que por tanto la última capa se compondrá de tantas neuronas como clases tengas.\n",
    "\n",
    "En cuanto a las funciones de activación es recomendable usar relu en las hidden layer, que tarda menos en entrenar, mientras que la ultima (output) suele ser una softmax."
   ]
  },
  {
   "cell_type": "code",
   "execution_count": 5,
   "metadata": {},
   "outputs": [],
   "source": [
    "X_val = X_train[-10000:]\n",
    "y_val = y_train[-10000:]\n",
    "\n",
    "X_train = X_train[:-10000]\n",
    "y_train = y_train[:-10000]"
   ]
  },
  {
   "cell_type": "code",
   "execution_count": 8,
   "metadata": {
    "collapsed": true,
    "jupyter": {
     "outputs_hidden": true
    },
    "tags": []
   },
   "outputs": [
    {
     "name": "stderr",
     "output_type": "stream",
     "text": [
      "2021-09-14 12:45:02.962200: I tensorflow/stream_executor/cuda/cuda_gpu_executor.cc:937] successful NUMA node read from SysFS had negative value (-1), but there must be at least one NUMA node, so returning NUMA node zero\n",
      "2021-09-14 12:45:02.962550: W tensorflow/stream_executor/platform/default/dso_loader.cc:64] Could not load dynamic library 'libcudart.so.11.0'; dlerror: libcudart.so.11.0: cannot open shared object file: No such file or directory\n",
      "2021-09-14 12:45:02.962579: W tensorflow/stream_executor/platform/default/dso_loader.cc:64] Could not load dynamic library 'libcublas.so.11'; dlerror: libcublas.so.11: cannot open shared object file: No such file or directory\n",
      "2021-09-14 12:45:02.962601: W tensorflow/stream_executor/platform/default/dso_loader.cc:64] Could not load dynamic library 'libcublasLt.so.11'; dlerror: libcublasLt.so.11: cannot open shared object file: No such file or directory\n",
      "2021-09-14 12:45:02.962623: W tensorflow/stream_executor/platform/default/dso_loader.cc:64] Could not load dynamic library 'libcufft.so.10'; dlerror: libcufft.so.10: cannot open shared object file: No such file or directory\n",
      "2021-09-14 12:45:02.962646: W tensorflow/stream_executor/platform/default/dso_loader.cc:64] Could not load dynamic library 'libcurand.so.10'; dlerror: libcurand.so.10: cannot open shared object file: No such file or directory\n",
      "2021-09-14 12:45:02.962665: W tensorflow/stream_executor/platform/default/dso_loader.cc:64] Could not load dynamic library 'libcusolver.so.11'; dlerror: libcusolver.so.11: cannot open shared object file: No such file or directory\n",
      "2021-09-14 12:45:02.962685: W tensorflow/stream_executor/platform/default/dso_loader.cc:64] Could not load dynamic library 'libcusparse.so.11'; dlerror: libcusparse.so.11: cannot open shared object file: No such file or directory\n",
      "2021-09-14 12:45:02.962706: W tensorflow/stream_executor/platform/default/dso_loader.cc:64] Could not load dynamic library 'libcudnn.so.8'; dlerror: libcudnn.so.8: cannot open shared object file: No such file or directory\n",
      "2021-09-14 12:45:02.962711: W tensorflow/core/common_runtime/gpu/gpu_device.cc:1835] Cannot dlopen some GPU libraries. Please make sure the missing libraries mentioned above are installed properly if you would like to use GPU. Follow the guide at https://www.tensorflow.org/install/gpu for how to download and setup the required libraries for your platform.\n",
      "Skipping registering GPU devices...\n",
      "2021-09-14 12:45:02.963108: I tensorflow/core/platform/cpu_feature_guard.cc:142] This TensorFlow binary is optimized with oneAPI Deep Neural Network Library (oneDNN) to use the following CPU instructions in performance-critical operations:  AVX2 AVX512F FMA\n",
      "To enable them in other operations, rebuild TensorFlow with the appropriate compiler flags.\n"
     ]
    }
   ],
   "source": [
    "model = keras.Sequential()\n",
    "model.add(keras.layers.Flatten(input_shape=(28,28))) #Input layer\n",
    "model.add(keras.layers.Dense(300, activation = 'relu')) #Hidden layer\n",
    "model.add(keras.layers.Dense(100, activation = 'relu')) #Hidden layer\n",
    "model.add(keras.layers.Dense(10, activation = 'softmax')) #Output layer"
   ]
  },
  {
   "cell_type": "code",
   "execution_count": 6,
   "metadata": {
    "collapsed": true,
    "jupyter": {
     "outputs_hidden": true
    },
    "tags": []
   },
   "outputs": [
    {
     "name": "stderr",
     "output_type": "stream",
     "text": [
      "2021-09-14 12:47:50.949512: I tensorflow/stream_executor/cuda/cuda_gpu_executor.cc:937] successful NUMA node read from SysFS had negative value (-1), but there must be at least one NUMA node, so returning NUMA node zero\n",
      "2021-09-14 12:47:50.949837: W tensorflow/stream_executor/platform/default/dso_loader.cc:64] Could not load dynamic library 'libcudart.so.11.0'; dlerror: libcudart.so.11.0: cannot open shared object file: No such file or directory\n",
      "2021-09-14 12:47:50.949864: W tensorflow/stream_executor/platform/default/dso_loader.cc:64] Could not load dynamic library 'libcublas.so.11'; dlerror: libcublas.so.11: cannot open shared object file: No such file or directory\n",
      "2021-09-14 12:47:50.949885: W tensorflow/stream_executor/platform/default/dso_loader.cc:64] Could not load dynamic library 'libcublasLt.so.11'; dlerror: libcublasLt.so.11: cannot open shared object file: No such file or directory\n",
      "2021-09-14 12:47:50.949906: W tensorflow/stream_executor/platform/default/dso_loader.cc:64] Could not load dynamic library 'libcufft.so.10'; dlerror: libcufft.so.10: cannot open shared object file: No such file or directory\n",
      "2021-09-14 12:47:50.949929: W tensorflow/stream_executor/platform/default/dso_loader.cc:64] Could not load dynamic library 'libcurand.so.10'; dlerror: libcurand.so.10: cannot open shared object file: No such file or directory\n",
      "2021-09-14 12:47:50.949949: W tensorflow/stream_executor/platform/default/dso_loader.cc:64] Could not load dynamic library 'libcusolver.so.11'; dlerror: libcusolver.so.11: cannot open shared object file: No such file or directory\n",
      "2021-09-14 12:47:50.949970: W tensorflow/stream_executor/platform/default/dso_loader.cc:64] Could not load dynamic library 'libcusparse.so.11'; dlerror: libcusparse.so.11: cannot open shared object file: No such file or directory\n",
      "2021-09-14 12:47:50.949991: W tensorflow/stream_executor/platform/default/dso_loader.cc:64] Could not load dynamic library 'libcudnn.so.8'; dlerror: libcudnn.so.8: cannot open shared object file: No such file or directory\n",
      "2021-09-14 12:47:50.949996: W tensorflow/core/common_runtime/gpu/gpu_device.cc:1835] Cannot dlopen some GPU libraries. Please make sure the missing libraries mentioned above are installed properly if you would like to use GPU. Follow the guide at https://www.tensorflow.org/install/gpu for how to download and setup the required libraries for your platform.\n",
      "Skipping registering GPU devices...\n",
      "2021-09-14 12:47:50.950247: I tensorflow/core/platform/cpu_feature_guard.cc:142] This TensorFlow binary is optimized with oneAPI Deep Neural Network Library (oneDNN) to use the following CPU instructions in performance-critical operations:  AVX2 AVX512F FMA\n",
      "To enable them in other operations, rebuild TensorFlow with the appropriate compiler flags.\n"
     ]
    }
   ],
   "source": [
    "# Otra manera de declarar la red neuronal\n",
    "capas = [\n",
    "    keras.layers.Flatten(input_shape=(28,28)),\n",
    "    keras.layers.Dense(300, activation = 'relu'),\n",
    "    keras.layers.Dense(100, activation = 'relu'),\n",
    "    keras.layers.Dense(10, activation = 'softmax')\n",
    "]\n",
    "\n",
    "model = keras.Sequential(capas)"
   ]
  },
  {
   "cell_type": "markdown",
   "metadata": {},
   "source": [
    "Podemos ver las capas, y acceder a sus elementos"
   ]
  },
  {
   "cell_type": "code",
   "execution_count": 10,
   "metadata": {},
   "outputs": [
    {
     "data": {
      "text/plain": [
       "[<keras.layers.core.Flatten at 0x7fdd499108b0>,\n",
       " <keras.layers.core.Dense at 0x7fdd499101c0>,\n",
       " <keras.layers.core.Dense at 0x7fdd52b2d070>,\n",
       " <keras.layers.core.Dense at 0x7fdd52b2d3a0>]"
      ]
     },
     "execution_count": 10,
     "metadata": {},
     "output_type": "execute_result"
    }
   ],
   "source": [
    "model.layers"
   ]
  },
  {
   "cell_type": "markdown",
   "metadata": {},
   "source": [
    "Podemos ver los pesos de las capas sin entrenar, porque los inicializa aleatoriamente. Los bias los inicializa a 0."
   ]
  },
  {
   "cell_type": "code",
   "execution_count": 11,
   "metadata": {
    "collapsed": true,
    "jupyter": {
     "outputs_hidden": true
    },
    "tags": []
   },
   "outputs": [
    {
     "data": {
      "text/plain": [
       "array([[-0.02989004, -0.0013679 ,  0.02384138, ...,  0.0716759 ,\n",
       "         0.04747208, -0.05276591],\n",
       "       [-0.07393462,  0.05538675,  0.01205418, ..., -0.03834323,\n",
       "         0.02322552, -0.01466092],\n",
       "       [ 0.06902184,  0.04943595, -0.04662535, ..., -0.02901402,\n",
       "        -0.01971202,  0.0305252 ],\n",
       "       ...,\n",
       "       [-0.01008613, -0.01439381,  0.03807601, ...,  0.05119069,\n",
       "         0.06156372, -0.03285758],\n",
       "       [ 0.05895877,  0.04406012,  0.01414423, ...,  0.05022259,\n",
       "         0.00184486, -0.03279894],\n",
       "       [-0.05346923,  0.05145916, -0.00220145, ...,  0.0517759 ,\n",
       "        -0.01476304,  0.0018737 ]], dtype=float32)"
      ]
     },
     "execution_count": 11,
     "metadata": {},
     "output_type": "execute_result"
    }
   ],
   "source": [
    "hidden_1 = model.layers[1]\n",
    "weights, biases = hidden_1.get_weights()\n",
    "weights"
   ]
  },
  {
   "cell_type": "code",
   "execution_count": 21,
   "metadata": {},
   "outputs": [
    {
     "data": {
      "text/plain": [
       "array([0., 0., 0., 0., 0., 0., 0., 0., 0., 0., 0., 0., 0., 0., 0., 0., 0.,\n",
       "       0., 0., 0., 0., 0., 0., 0., 0., 0., 0., 0., 0., 0., 0., 0., 0., 0.,\n",
       "       0., 0., 0., 0., 0., 0., 0., 0., 0., 0., 0., 0., 0., 0., 0., 0., 0.,\n",
       "       0., 0., 0., 0., 0., 0., 0., 0., 0., 0., 0., 0., 0., 0., 0., 0., 0.,\n",
       "       0., 0., 0., 0., 0., 0., 0., 0., 0., 0., 0., 0., 0., 0., 0., 0., 0.,\n",
       "       0., 0., 0., 0., 0., 0., 0., 0., 0., 0., 0., 0., 0., 0., 0., 0., 0.,\n",
       "       0., 0., 0., 0., 0., 0., 0., 0., 0., 0., 0., 0., 0., 0., 0., 0., 0.,\n",
       "       0., 0., 0., 0., 0., 0., 0., 0., 0., 0., 0., 0., 0., 0., 0., 0., 0.,\n",
       "       0., 0., 0., 0., 0., 0., 0., 0., 0., 0., 0., 0., 0., 0., 0., 0., 0.,\n",
       "       0., 0., 0., 0., 0., 0., 0., 0., 0., 0., 0., 0., 0., 0., 0., 0., 0.,\n",
       "       0., 0., 0., 0., 0., 0., 0., 0., 0., 0., 0., 0., 0., 0., 0., 0., 0.,\n",
       "       0., 0., 0., 0., 0., 0., 0., 0., 0., 0., 0., 0., 0., 0., 0., 0., 0.,\n",
       "       0., 0., 0., 0., 0., 0., 0., 0., 0., 0., 0., 0., 0., 0., 0., 0., 0.,\n",
       "       0., 0., 0., 0., 0., 0., 0., 0., 0., 0., 0., 0., 0., 0., 0., 0., 0.,\n",
       "       0., 0., 0., 0., 0., 0., 0., 0., 0., 0., 0., 0., 0., 0., 0., 0., 0.,\n",
       "       0., 0., 0., 0., 0., 0., 0., 0., 0., 0., 0., 0., 0., 0., 0., 0., 0.,\n",
       "       0., 0., 0., 0., 0., 0., 0., 0.], dtype=float32)"
      ]
     },
     "execution_count": 21,
     "metadata": {},
     "output_type": "execute_result"
    }
   ],
   "source": [
    "biases[20:]"
   ]
  },
  {
   "cell_type": "markdown",
   "metadata": {},
   "source": [
    "Establecemos la configuración de ejecución... el compile."
   ]
  },
  {
   "cell_type": "code",
   "execution_count": null,
   "metadata": {},
   "outputs": [],
   "source": [
    "model.compile(\n",
    "    optimizer = keras.optimizers.SGD(),\n",
    "    loss = keras.losses.SparseCategoricalCrossentropy(),\n",
    "    metrics = [keras.metrics.SparseCategoricalAccuracy()]\n",
    ")"
   ]
  },
  {
   "cell_type": "code",
   "execution_count": 7,
   "metadata": {},
   "outputs": [],
   "source": [
    "# Equivalente\n",
    "model.compile(\n",
    "    optimizer = 'sgd',\n",
    "    loss = 'sparse_categorical_crossentropy',\n",
    "    metrics = ['accuracy']\n",
    ")"
   ]
  },
  {
   "cell_type": "code",
   "execution_count": 13,
   "metadata": {
    "tags": []
   },
   "outputs": [
    {
     "name": "stdout",
     "output_type": "stream",
     "text": [
      "Model: \"sequential_1\"\n",
      "_________________________________________________________________\n",
      "Layer (type)                 Output Shape              Param #   \n",
      "=================================================================\n",
      "flatten_1 (Flatten)          (None, 784)               0         \n",
      "_________________________________________________________________\n",
      "dense_3 (Dense)              (None, 300)               235500    \n",
      "_________________________________________________________________\n",
      "dense_4 (Dense)              (None, 100)               30100     \n",
      "_________________________________________________________________\n",
      "dense_5 (Dense)              (None, 10)                1010      \n",
      "=================================================================\n",
      "Total params: 266,610\n",
      "Trainable params: 266,610\n",
      "Non-trainable params: 0\n",
      "_________________________________________________________________\n"
     ]
    }
   ],
   "source": [
    "# Summary\n",
    "model.summary()"
   ]
  },
  {
   "cell_type": "code",
   "execution_count": 8,
   "metadata": {},
   "outputs": [
    {
     "name": "stdout",
     "output_type": "stream",
     "text": [
      "(50000, 28, 28)\n",
      "(50000,)\n"
     ]
    }
   ],
   "source": [
    "print(X_train.shape)\n",
    "print(y_train.shape)"
   ]
  },
  {
   "cell_type": "markdown",
   "metadata": {},
   "source": [
    "Entrenamos el modelo. Usamos los datos de entrenamiento. El batch_size es la cantidad de muestras que utiliza el SGD, y las epochs son las iteraciones que realiza en el entrenamiento."
   ]
  },
  {
   "cell_type": "code",
   "execution_count": 9,
   "metadata": {
    "tags": []
   },
   "outputs": [
    {
     "name": "stderr",
     "output_type": "stream",
     "text": [
      "2021-09-14 12:48:08.471436: I tensorflow/compiler/mlir/mlir_graph_optimization_pass.cc:185] None of the MLIR Optimization Passes are enabled (registered 2)\n"
     ]
    },
    {
     "name": "stdout",
     "output_type": "stream",
     "text": [
      "Epoch 1/15\n",
      "782/782 [==============================] - 1s 1ms/step - loss: 0.8918 - accuracy: 0.7816 - val_loss: 0.3934 - val_accuracy: 0.8980\n",
      "Epoch 2/15\n",
      "782/782 [==============================] - 1s 1ms/step - loss: 0.3741 - accuracy: 0.8964 - val_loss: 0.2999 - val_accuracy: 0.9171\n",
      "Epoch 3/15\n",
      "782/782 [==============================] - 1s 1ms/step - loss: 0.3092 - accuracy: 0.9124 - val_loss: 0.2661 - val_accuracy: 0.9240\n",
      "Epoch 4/15\n",
      "782/782 [==============================] - 1s 1ms/step - loss: 0.2751 - accuracy: 0.9215 - val_loss: 0.2526 - val_accuracy: 0.9276\n",
      "Epoch 5/15\n",
      "782/782 [==============================] - 1s 1ms/step - loss: 0.2499 - accuracy: 0.9296 - val_loss: 0.2228 - val_accuracy: 0.9375\n",
      "Epoch 6/15\n",
      "782/782 [==============================] - 1s 1ms/step - loss: 0.2295 - accuracy: 0.9347 - val_loss: 0.2100 - val_accuracy: 0.9417\n",
      "Epoch 7/15\n",
      "782/782 [==============================] - 1s 1ms/step - loss: 0.2125 - accuracy: 0.9399 - val_loss: 0.1954 - val_accuracy: 0.9474\n",
      "Epoch 8/15\n",
      "782/782 [==============================] - 1s 1ms/step - loss: 0.1978 - accuracy: 0.9435 - val_loss: 0.1830 - val_accuracy: 0.9510\n",
      "Epoch 9/15\n",
      "782/782 [==============================] - 1s 1ms/step - loss: 0.1854 - accuracy: 0.9475 - val_loss: 0.1750 - val_accuracy: 0.9522\n",
      "Epoch 10/15\n",
      "782/782 [==============================] - 1s 1ms/step - loss: 0.1740 - accuracy: 0.9508 - val_loss: 0.1666 - val_accuracy: 0.9530\n",
      "Epoch 11/15\n",
      "782/782 [==============================] - 1s 1ms/step - loss: 0.1639 - accuracy: 0.9537 - val_loss: 0.1584 - val_accuracy: 0.9562\n",
      "Epoch 12/15\n",
      "782/782 [==============================] - 1s 1ms/step - loss: 0.1548 - accuracy: 0.9566 - val_loss: 0.1513 - val_accuracy: 0.9575\n",
      "Epoch 13/15\n",
      "782/782 [==============================] - 1s 1ms/step - loss: 0.1468 - accuracy: 0.9585 - val_loss: 0.1451 - val_accuracy: 0.9602\n",
      "Epoch 14/15\n",
      "782/782 [==============================] - 1s 1ms/step - loss: 0.1393 - accuracy: 0.9600 - val_loss: 0.1468 - val_accuracy: 0.9604\n",
      "Epoch 15/15\n",
      "782/782 [==============================] - 1s 1ms/step - loss: 0.1323 - accuracy: 0.9622 - val_loss: 0.1355 - val_accuracy: 0.9628\n"
     ]
    },
    {
     "data": {
      "text/plain": [
       "<keras.callbacks.History at 0x7f0aafe065e0>"
      ]
     },
     "execution_count": 9,
     "metadata": {},
     "output_type": "execute_result"
    }
   ],
   "source": [
    "model.fit(X_train, y_train, epochs=15, batch_size=64, validation_data = (X_val, y_val)) #validation_split = 0.1 (va en %)"
   ]
  },
  {
   "cell_type": "markdown",
   "metadata": {},
   "source": [
    "Podemos reentrenar el modelo. No empieza de nuevo, sino que retoma el entrenamiento anterior."
   ]
  },
  {
   "cell_type": "code",
   "execution_count": 10,
   "metadata": {},
   "outputs": [
    {
     "name": "stdout",
     "output_type": "stream",
     "text": [
      "Epoch 1/5\n",
      "782/782 [==============================] - 1s 1ms/step - loss: 0.1260 - accuracy: 0.9640 - val_loss: 0.1316 - val_accuracy: 0.9644\n",
      "Epoch 2/5\n",
      "782/782 [==============================] - 1s 1ms/step - loss: 0.1203 - accuracy: 0.9659 - val_loss: 0.1259 - val_accuracy: 0.9664\n",
      "Epoch 3/5\n",
      "782/782 [==============================] - 1s 1ms/step - loss: 0.1147 - accuracy: 0.9677 - val_loss: 0.1222 - val_accuracy: 0.9664\n",
      "Epoch 4/5\n",
      "782/782 [==============================] - 1s 1ms/step - loss: 0.1098 - accuracy: 0.9689 - val_loss: 0.1200 - val_accuracy: 0.9665\n",
      "Epoch 5/5\n",
      "782/782 [==============================] - 1s 1ms/step - loss: 0.1052 - accuracy: 0.9707 - val_loss: 0.1166 - val_accuracy: 0.9672\n"
     ]
    },
    {
     "data": {
      "text/plain": [
       "<keras.callbacks.History at 0x7f0aa42d88b0>"
      ]
     },
     "execution_count": 10,
     "metadata": {},
     "output_type": "execute_result"
    }
   ],
   "source": [
    "model.fit(X_train, y_train, epochs=5, batch_size=64, validation_data = (X_val, y_val))"
   ]
  },
  {
   "cell_type": "markdown",
   "metadata": {},
   "source": [
    "Veamos el histórico del entrenamiento, para poder representarlo posteriormente."
   ]
  },
  {
   "cell_type": "code",
   "execution_count": 14,
   "metadata": {
    "collapsed": true,
    "jupyter": {
     "outputs_hidden": true
    },
    "tags": []
   },
   "outputs": [
    {
     "name": "stdout",
     "output_type": "stream",
     "text": [
      "{'verbose': 1, 'epochs': 5, 'steps': 782}\n",
      "[0, 1, 2, 3, 4]\n"
     ]
    },
    {
     "data": {
      "text/plain": [
       "{'loss': [0.12598483264446259,\n",
       "  0.12032552808523178,\n",
       "  0.1146988570690155,\n",
       "  0.10982201993465424,\n",
       "  0.1051970049738884],\n",
       " 'accuracy': [0.9640399813652039,\n",
       "  0.9659000039100647,\n",
       "  0.9676799774169922,\n",
       "  0.968940019607544,\n",
       "  0.9706599712371826],\n",
       " 'val_loss': [0.13157114386558533,\n",
       "  0.1258690506219864,\n",
       "  0.12222503870725632,\n",
       "  0.11999332159757614,\n",
       "  0.11655150353908539],\n",
       " 'val_accuracy': [0.9643999934196472,\n",
       "  0.9664000272750854,\n",
       "  0.9664000272750854,\n",
       "  0.9664999842643738,\n",
       "  0.967199981212616]}"
      ]
     },
     "execution_count": 14,
     "metadata": {},
     "output_type": "execute_result"
    }
   ],
   "source": [
    "print(model.history.params)\n",
    "print(model.history.epoch)\n",
    "model.history.history"
   ]
  },
  {
   "cell_type": "code",
   "execution_count": 15,
   "metadata": {},
   "outputs": [
    {
     "data": {
      "image/png": "[encoded data removed]",
      "text/plain": [
       "<Figure size 576x360 with 1 Axes>"
      ]
     },
     "metadata": {
      "needs_background": "light"
     },
     "output_type": "display_data"
    }
   ],
   "source": [
    "import pandas as pd\n",
    "import matplotlib.pyplot as plt\n",
    "\n",
    "pd.DataFrame(model.history.history).plot(figsize=(8, 5))\n",
    "plt.grid(True)\n",
    "plt.gca().set_ylim(0, 1) # set the vertical range to [0-1]\n",
    "plt.show()"
   ]
  },
  {
   "cell_type": "markdown",
   "metadata": {},
   "source": [
    "Si el modelo no ha ido bien, prueba a cambiar el learning rate, cambia de optimizador y después prueba a cambiar capas, neuronas y funciones de activación.\n",
    "\n",
    "Ya tenemos el modelo entrenado. Probémoslo con test"
   ]
  },
  {
   "cell_type": "code",
   "execution_count": 16,
   "metadata": {
    "tags": []
   },
   "outputs": [
    {
     "name": "stdout",
     "output_type": "stream",
     "text": [
      "313/313 [==============================] - 0s 520us/step - loss: 0.1186 - accuracy: 0.9668\n"
     ]
    }
   ],
   "source": [
    "results = model.evaluate(X_test, y_test)"
   ]
  },
  {
   "cell_type": "code",
   "execution_count": 18,
   "metadata": {},
   "outputs": [
    {
     "data": {
      "text/plain": [
       "[0.11860053986310959, 0.9667999744415283]"
      ]
     },
     "execution_count": 18,
     "metadata": {},
     "output_type": "execute_result"
    }
   ],
   "source": [
    "results #(loss, [metrics])"
   ]
  },
  {
   "cell_type": "code",
   "execution_count": 19,
   "metadata": {},
   "outputs": [
    {
     "data": {
      "image/png": "[encoded data removed]",
      "text/plain": [
       "<Figure size 432x288 with 1 Axes>"
      ]
     },
     "metadata": {
      "needs_background": "light"
     },
     "output_type": "display_data"
    }
   ],
   "source": [
    "# Cogemos el primero\n",
    "plt.imshow(X_test[0].reshape(28,28), cmap=plt.cm.get_cmap('Greys'));"
   ]
  },
  {
   "cell_type": "code",
   "execution_count": 21,
   "metadata": {
    "tags": []
   },
   "outputs": [
    {
     "name": "stdout",
     "output_type": "stream",
     "text": [
      "(1, 10)\n"
     ]
    },
    {
     "data": {
      "text/plain": [
       "array([[0.   , 0.   , 0.004, 0.028, 0.   , 0.   , 0.   , 0.968, 0.   ,\n",
       "        0.   ]], dtype=float32)"
      ]
     },
     "execution_count": 21,
     "metadata": {},
     "output_type": "execute_result"
    }
   ],
   "source": [
    "predictions = model.predict(X_test[:1]).round(3)\n",
    "print(predictions.shape)\n",
    "predictions"
   ]
  },
  {
   "cell_type": "code",
   "execution_count": 22,
   "metadata": {},
   "outputs": [
    {
     "data": {
      "text/plain": [
       "7"
      ]
     },
     "execution_count": 22,
     "metadata": {},
     "output_type": "execute_result"
    }
   ],
   "source": [
    "predictions.argmax()"
   ]
  },
  {
   "cell_type": "code",
   "execution_count": 23,
   "metadata": {},
   "outputs": [
    {
     "data": {
      "text/plain": [
       "array([7, 2, 1, ..., 4, 5, 6])"
      ]
     },
     "execution_count": 23,
     "metadata": {},
     "output_type": "execute_result"
    }
   ],
   "source": [
    "model.predict(X_test).argmax(axis = 1)"
   ]
  },
  {
   "cell_type": "markdown",
   "metadata": {},
   "source": [
    "### Problema de regresión\n",
    "Veamos un ejemplo de cómo aplicar una red neuronal de TensorFlow a un problema de regresión."
   ]
  },
  {
   "cell_type": "code",
   "execution_count": 24,
   "metadata": {},
   "outputs": [
    {
     "data": {
      "text/html": [
       "<div>\n",
       "<style scoped>\n",
       "    .dataframe tbody tr th:only-of-type {\n",
       "        vertical-align: middle;\n",
       "    }\n",
       "\n",
       "    .dataframe tbody tr th {\n",
       "        vertical-align: top;\n",
       "    }\n",
       "\n",
       "    .dataframe thead th {\n",
       "        text-align: right;\n",
       "    }\n",
       "</style>\n",
       "<table border=\"1\" class=\"dataframe\">\n",
       "  <thead>\n",
       "    <tr style=\"text-align: right;\">\n",
       "      <th></th>\n",
       "      <th>MedInc</th>\n",
       "      <th>HouseAge</th>\n",
       "      <th>AveRooms</th>\n",
       "      <th>AveBedrms</th>\n",
       "      <th>Population</th>\n",
       "      <th>AveOccup</th>\n",
       "      <th>Latitude</th>\n",
       "      <th>Longitude</th>\n",
       "      <th>target</th>\n",
       "    </tr>\n",
       "  </thead>\n",
       "  <tbody>\n",
       "    <tr>\n",
       "      <th>0</th>\n",
       "      <td>8.3252</td>\n",
       "      <td>41.0</td>\n",
       "      <td>6.984127</td>\n",
       "      <td>1.023810</td>\n",
       "      <td>322.0</td>\n",
       "      <td>2.555556</td>\n",
       "      <td>37.88</td>\n",
       "      <td>-122.23</td>\n",
       "      <td>4.526</td>\n",
       "    </tr>\n",
       "    <tr>\n",
       "      <th>1</th>\n",
       "      <td>8.3014</td>\n",
       "      <td>21.0</td>\n",
       "      <td>6.238137</td>\n",
       "      <td>0.971880</td>\n",
       "      <td>2401.0</td>\n",
       "      <td>2.109842</td>\n",
       "      <td>37.86</td>\n",
       "      <td>-122.22</td>\n",
       "      <td>3.585</td>\n",
       "    </tr>\n",
       "    <tr>\n",
       "      <th>2</th>\n",
       "      <td>7.2574</td>\n",
       "      <td>52.0</td>\n",
       "      <td>8.288136</td>\n",
       "      <td>1.073446</td>\n",
       "      <td>496.0</td>\n",
       "      <td>2.802260</td>\n",
       "      <td>37.85</td>\n",
       "      <td>-122.24</td>\n",
       "      <td>3.521</td>\n",
       "    </tr>\n",
       "    <tr>\n",
       "      <th>3</th>\n",
       "      <td>5.6431</td>\n",
       "      <td>52.0</td>\n",
       "      <td>5.817352</td>\n",
       "      <td>1.073059</td>\n",
       "      <td>558.0</td>\n",
       "      <td>2.547945</td>\n",
       "      <td>37.85</td>\n",
       "      <td>-122.25</td>\n",
       "      <td>3.413</td>\n",
       "    </tr>\n",
       "    <tr>\n",
       "      <th>4</th>\n",
       "      <td>3.8462</td>\n",
       "      <td>52.0</td>\n",
       "      <td>6.281853</td>\n",
       "      <td>1.081081</td>\n",
       "      <td>565.0</td>\n",
       "      <td>2.181467</td>\n",
       "      <td>37.85</td>\n",
       "      <td>-122.25</td>\n",
       "      <td>3.422</td>\n",
       "    </tr>\n",
       "  </tbody>\n",
       "</table>\n",
       "</div>"
      ],
      "text/plain": [
       "   MedInc  HouseAge  AveRooms  AveBedrms  Population  AveOccup  Latitude  \\\n",
       "0  8.3252      41.0  6.984127   1.023810       322.0  2.555556     37.88   \n",
       "1  8.3014      21.0  6.238137   0.971880      2401.0  2.109842     37.86   \n",
       "2  7.2574      52.0  8.288136   1.073446       496.0  2.802260     37.85   \n",
       "3  5.6431      52.0  5.817352   1.073059       558.0  2.547945     37.85   \n",
       "4  3.8462      52.0  6.281853   1.081081       565.0  2.181467     37.85   \n",
       "\n",
       "   Longitude  target  \n",
       "0    -122.23   4.526  \n",
       "1    -122.22   3.585  \n",
       "2    -122.24   3.521  \n",
       "3    -122.25   3.413  \n",
       "4    -122.25   3.422  "
      ]
     },
     "execution_count": 24,
     "metadata": {},
     "output_type": "execute_result"
    }
   ],
   "source": [
    "# Cargamos datos\n",
    "from sklearn.datasets import fetch_california_housing\n",
    "from sklearn.model_selection import train_test_split\n",
    "from sklearn.preprocessing import StandardScaler\n",
    "\n",
    "housing = fetch_california_housing()\n",
    "df = pd.DataFrame(housing.data, columns = housing.feature_names)\n",
    "df['target'] = housing['target']\n",
    "df.head()"
   ]
  },
  {
   "cell_type": "markdown",
   "metadata": {},
   "source": [
    "Divimos en train, test y validation"
   ]
  },
  {
   "cell_type": "code",
   "execution_count": 25,
   "metadata": {},
   "outputs": [],
   "source": [
    "X_train_full, X_test, y_train_full, y_test = train_test_split(housing.data,\n",
    "                                                              housing.target)\n",
    "\n",
    "X_train, X_valid, y_train, y_valid = train_test_split(X_train_full,\n",
    "                                                      y_train_full)\n",
    "\n",
    "scaler = StandardScaler()\n",
    "X_train = scaler.fit_transform(X_train)\n",
    "X_valid = scaler.transform(X_valid)\n",
    "X_test = scaler.transform(X_test)"
   ]
  },
  {
   "cell_type": "code",
   "execution_count": 26,
   "metadata": {},
   "outputs": [
    {
     "data": {
      "text/plain": [
       "(11610, 8)"
      ]
     },
     "execution_count": 26,
     "metadata": {},
     "output_type": "execute_result"
    }
   ],
   "source": [
    "X_train.shape"
   ]
  },
  {
   "cell_type": "markdown",
   "metadata": {},
   "source": [
    "Montamos el modelo. Simplemente se compondrá de una hidden layer, a la que le configuramos una capa previa de entrada de 8 neuronas (las features).\n",
    "\n",
    "Se trata de un modelo de regresión, por lo que la capa de salida es una única neurona."
   ]
  },
  {
   "cell_type": "code",
   "execution_count": 28,
   "metadata": {},
   "outputs": [
    {
     "name": "stdout",
     "output_type": "stream",
     "text": [
      "Epoch 1/20\n",
      "363/363 [==============================] - 0s 637us/step - loss: 1.2019 - accuracy: 0.0032 - mse: 1.2019 - val_loss: 0.6629 - val_accuracy: 0.0026 - val_mse: 0.6629\n",
      "Epoch 2/20\n",
      "363/363 [==============================] - 0s 465us/step - loss: 0.5487 - accuracy: 0.0033 - mse: 0.5487 - val_loss: 0.4934 - val_accuracy: 0.0026 - val_mse: 0.4934\n",
      "Epoch 3/20\n",
      "363/363 [==============================] - 0s 506us/step - loss: 0.4646 - accuracy: 0.0033 - mse: 0.4646 - val_loss: 0.4498 - val_accuracy: 0.0026 - val_mse: 0.4498\n",
      "Epoch 4/20\n",
      "363/363 [==============================] - 0s 468us/step - loss: 0.4414 - accuracy: 0.0032 - mse: 0.4414 - val_loss: 0.4347 - val_accuracy: 0.0026 - val_mse: 0.4347\n",
      "Epoch 5/20\n",
      "363/363 [==============================] - 0s 480us/step - loss: 0.4281 - accuracy: 0.0032 - mse: 0.4281 - val_loss: 0.4194 - val_accuracy: 0.0026 - val_mse: 0.4194\n",
      "Epoch 6/20\n",
      "363/363 [==============================] - 0s 487us/step - loss: 0.4210 - accuracy: 0.0032 - mse: 0.4210 - val_loss: 0.4214 - val_accuracy: 0.0026 - val_mse: 0.4214\n",
      "Epoch 7/20\n",
      "363/363 [==============================] - 0s 485us/step - loss: 0.4147 - accuracy: 0.0032 - mse: 0.4147 - val_loss: 0.4050 - val_accuracy: 0.0026 - val_mse: 0.4050\n",
      "Epoch 8/20\n",
      "363/363 [==============================] - 0s 482us/step - loss: 0.4080 - accuracy: 0.0033 - mse: 0.4080 - val_loss: 0.3994 - val_accuracy: 0.0026 - val_mse: 0.3994\n",
      "Epoch 9/20\n",
      "363/363 [==============================] - 0s 499us/step - loss: 0.4039 - accuracy: 0.0033 - mse: 0.4039 - val_loss: 0.3933 - val_accuracy: 0.0026 - val_mse: 0.3933\n",
      "Epoch 10/20\n",
      "363/363 [==============================] - 0s 528us/step - loss: 0.3992 - accuracy: 0.0033 - mse: 0.3992 - val_loss: 0.3922 - val_accuracy: 0.0026 - val_mse: 0.3922\n",
      "Epoch 11/20\n",
      "363/363 [==============================] - 0s 547us/step - loss: 0.3937 - accuracy: 0.0033 - mse: 0.3937 - val_loss: 0.3833 - val_accuracy: 0.0026 - val_mse: 0.3833\n",
      "Epoch 12/20\n",
      "363/363 [==============================] - 0s 525us/step - loss: 0.3911 - accuracy: 0.0033 - mse: 0.3911 - val_loss: 0.3780 - val_accuracy: 0.0026 - val_mse: 0.3780\n",
      "Epoch 13/20\n",
      "363/363 [==============================] - 0s 520us/step - loss: 0.3865 - accuracy: 0.0032 - mse: 0.3865 - val_loss: 0.3788 - val_accuracy: 0.0026 - val_mse: 0.3788\n",
      "Epoch 14/20\n",
      "363/363 [==============================] - 0s 500us/step - loss: 0.3841 - accuracy: 0.0033 - mse: 0.3841 - val_loss: 0.3733 - val_accuracy: 0.0026 - val_mse: 0.3733\n",
      "Epoch 15/20\n",
      "363/363 [==============================] - 0s 524us/step - loss: 0.3798 - accuracy: 0.0033 - mse: 0.3798 - val_loss: 0.3685 - val_accuracy: 0.0026 - val_mse: 0.3685\n",
      "Epoch 16/20\n",
      "363/363 [==============================] - 0s 544us/step - loss: 0.3772 - accuracy: 0.0033 - mse: 0.3772 - val_loss: 0.3683 - val_accuracy: 0.0026 - val_mse: 0.3683\n",
      "Epoch 17/20\n",
      "363/363 [==============================] - 0s 531us/step - loss: 0.3769 - accuracy: 0.0033 - mse: 0.3769 - val_loss: 0.3678 - val_accuracy: 0.0026 - val_mse: 0.3678\n",
      "Epoch 18/20\n",
      "363/363 [==============================] - 0s 520us/step - loss: 0.3730 - accuracy: 0.0033 - mse: 0.3730 - val_loss: 0.3659 - val_accuracy: 0.0026 - val_mse: 0.3659\n",
      "Epoch 19/20\n",
      "363/363 [==============================] - 0s 540us/step - loss: 0.3704 - accuracy: 0.0033 - mse: 0.3704 - val_loss: 0.3594 - val_accuracy: 0.0026 - val_mse: 0.3594\n",
      "Epoch 20/20\n",
      "363/363 [==============================] - 0s 492us/step - loss: 0.3680 - accuracy: 0.0033 - mse: 0.3680 - val_loss: 0.3566 - val_accuracy: 0.0026 - val_mse: 0.3566\n"
     ]
    }
   ],
   "source": [
    "from keras.models import Sequential\n",
    "from keras.layers import Dense\n",
    "\n",
    "model = Sequential([\n",
    "    Dense(30, activation='relu', input_shape = X_train.shape[1:]),\n",
    "    Dense(1)\n",
    "])\n",
    "\n",
    "model.compile(loss = 'mean_squared_error',\n",
    "             optimizer = 'sgd',\n",
    "             metrics = ['accuracy', 'mse'])\n",
    "\n",
    "history = model.fit(X_train, y_train, epochs = 20, validation_data = (X_valid, y_valid))"
   ]
  },
  {
   "cell_type": "code",
   "execution_count": 29,
   "metadata": {},
   "outputs": [
    {
     "name": "stdout",
     "output_type": "stream",
     "text": [
      "162/162 [==============================] - 0s 343us/step - loss: 0.3531 - accuracy: 0.0027 - mse: 0.3531\n",
      "[0.3531276285648346, 0.0027131782844662666, 0.3531276285648346]\n"
     ]
    }
   ],
   "source": [
    "mse_test = model.evaluate(X_test, y_test)\n",
    "print(mse_test)"
   ]
  },
  {
   "cell_type": "code",
   "execution_count": 30,
   "metadata": {},
   "outputs": [
    {
     "data": {
      "text/plain": [
       "array([[1.5986602],\n",
       "       [1.2231882],\n",
       "       [1.8271227],\n",
       "       [3.2275028],\n",
       "       [1.4295579]], dtype=float32)"
      ]
     },
     "execution_count": 30,
     "metadata": {},
     "output_type": "execute_result"
    }
   ],
   "source": [
    "y_pred = model.predict(X_test[:5])\n",
    "y_pred"
   ]
  },
  {
   "cell_type": "markdown",
   "metadata": {},
   "source": [
    "### Guardar modelo\n",
    "Para guardar el modelo, en el formato de Keras (HDF5). "
   ]
  },
  {
   "cell_type": "code",
   "execution_count": 31,
   "metadata": {},
   "outputs": [],
   "source": [
    "model.save('my_keras_model.h5')"
   ]
  },
  {
   "cell_type": "code",
   "execution_count": 32,
   "metadata": {},
   "outputs": [],
   "source": [
    "# Lo volvemos a cargar\n",
    "model = keras.models.load_model('my_keras_model.h5')"
   ]
  },
  {
   "cell_type": "markdown",
   "metadata": {},
   "source": [
    "### Callbacks\n",
    "Son funciones predefinidas de Keras a aplicar durante el entrenamiento\n",
    "Por ejemplo, `ModelCheckpoint` sirve para que el modelo se vaya guardando tras cada epoch. Así no perdemos el progreso en caso de que decidamos interrumpir el entrenamiento. El callback recibe como argumento el nombre del objeto donde queremos que se guarde el modelo entrenado."
   ]
  },
  {
   "cell_type": "code",
   "execution_count": 33,
   "metadata": {},
   "outputs": [
    {
     "name": "stdout",
     "output_type": "stream",
     "text": [
      "Epoch 1/10\n",
      "363/363 [==============================] - 0s 382us/step - loss: 0.3659 - accuracy: 0.0033 - mse: 0.3659\n",
      "Epoch 2/10\n",
      "363/363 [==============================] - 0s 400us/step - loss: 0.3643 - accuracy: 0.0033 - mse: 0.3643\n",
      "Epoch 3/10\n",
      "363/363 [==============================] - 0s 358us/step - loss: 0.3626 - accuracy: 0.0033 - mse: 0.3626\n",
      "Epoch 4/10\n",
      "363/363 [==============================] - 0s 364us/step - loss: 0.3608 - accuracy: 0.0033 - mse: 0.3608\n",
      "Epoch 5/10\n",
      "363/363 [==============================] - 0s 380us/step - loss: 0.3586 - accuracy: 0.0032 - mse: 0.3586\n",
      "Epoch 6/10\n",
      "363/363 [==============================] - 0s 369us/step - loss: 0.3579 - accuracy: 0.0032 - mse: 0.3579\n",
      "Epoch 7/10\n",
      "363/363 [==============================] - 0s 386us/step - loss: 0.3547 - accuracy: 0.0033 - mse: 0.3547\n",
      "Epoch 8/10\n",
      "363/363 [==============================] - 0s 367us/step - loss: 0.3545 - accuracy: 0.0032 - mse: 0.3545\n",
      "Epoch 9/10\n",
      "363/363 [==============================] - 0s 376us/step - loss: 0.3528 - accuracy: 0.0032 - mse: 0.3528\n",
      "Epoch 10/10\n",
      "363/363 [==============================] - 0s 399us/step - loss: 0.3540 - accuracy: 0.0033 - mse: 0.3540\n"
     ]
    }
   ],
   "source": [
    "checkpoint_vb = keras.callbacks.ModelCheckpoint('callback_model.h5')\n",
    "history = model.fit(X_train, y_train, epochs = 10, callbacks = [checkpoint_vb])"
   ]
  },
  {
   "cell_type": "markdown",
   "metadata": {},
   "source": [
    "### Early Stopping\n",
    "Interrumpe el entrenamiento cuando no ve progreso en el set de validación. Para ello tiene en cuenta un numero de epochs llamado `patience`. Se puede combinar con el callback"
   ]
  },
  {
   "cell_type": "code",
   "execution_count": 35,
   "metadata": {},
   "outputs": [
    {
     "name": "stdout",
     "output_type": "stream",
     "text": [
      "Epoch 1/100\n",
      "363/363 [==============================] - 0s 513us/step - loss: 0.3360 - accuracy: 0.0033 - mse: 0.3360 - val_loss: 0.3316 - val_accuracy: 0.0026 - val_mse: 0.3316\n",
      "Epoch 2/100\n",
      "363/363 [==============================] - 0s 491us/step - loss: 0.3348 - accuracy: 0.0033 - mse: 0.3348 - val_loss: 0.3251 - val_accuracy: 0.0026 - val_mse: 0.3251\n",
      "Epoch 3/100\n",
      "363/363 [==============================] - 0s 509us/step - loss: 0.3368 - accuracy: 0.0033 - mse: 0.3368 - val_loss: 0.3254 - val_accuracy: 0.0026 - val_mse: 0.3254\n",
      "Epoch 4/100\n",
      "363/363 [==============================] - 0s 478us/step - loss: 0.3390 - accuracy: 0.0033 - mse: 0.3390 - val_loss: 0.3294 - val_accuracy: 0.0026 - val_mse: 0.3294\n",
      "Epoch 5/100\n",
      "363/363 [==============================] - 0s 482us/step - loss: 0.3332 - accuracy: 0.0033 - mse: 0.3332 - val_loss: 0.3298 - val_accuracy: 0.0026 - val_mse: 0.3298\n",
      "Epoch 6/100\n",
      "363/363 [==============================] - 0s 479us/step - loss: 0.3326 - accuracy: 0.0033 - mse: 0.3326 - val_loss: 0.3248 - val_accuracy: 0.0026 - val_mse: 0.3248\n",
      "Epoch 7/100\n",
      "363/363 [==============================] - 0s 483us/step - loss: 0.3338 - accuracy: 0.0033 - mse: 0.3338 - val_loss: 0.3247 - val_accuracy: 0.0026 - val_mse: 0.3247\n",
      "Epoch 8/100\n",
      "363/363 [==============================] - 0s 486us/step - loss: 0.3292 - accuracy: 0.0033 - mse: 0.3292 - val_loss: 0.3272 - val_accuracy: 0.0026 - val_mse: 0.3272\n",
      "Epoch 9/100\n",
      "363/363 [==============================] - 0s 482us/step - loss: 0.3302 - accuracy: 0.0033 - mse: 0.3302 - val_loss: 0.3236 - val_accuracy: 0.0026 - val_mse: 0.3236\n",
      "Epoch 10/100\n",
      "363/363 [==============================] - 0s 485us/step - loss: 0.3293 - accuracy: 0.0032 - mse: 0.3293 - val_loss: 0.3203 - val_accuracy: 0.0026 - val_mse: 0.3203\n",
      "Epoch 11/100\n",
      "363/363 [==============================] - 0s 493us/step - loss: 0.3280 - accuracy: 0.0032 - mse: 0.3280 - val_loss: 0.3253 - val_accuracy: 0.0026 - val_mse: 0.3253\n",
      "Epoch 12/100\n",
      "363/363 [==============================] - 0s 491us/step - loss: 0.3278 - accuracy: 0.0033 - mse: 0.3278 - val_loss: 0.3243 - val_accuracy: 0.0026 - val_mse: 0.3243\n",
      "Epoch 13/100\n",
      "363/363 [==============================] - 0s 484us/step - loss: 0.3268 - accuracy: 0.0033 - mse: 0.3268 - val_loss: 0.3217 - val_accuracy: 0.0026 - val_mse: 0.3217\n",
      "Epoch 14/100\n",
      "363/363 [==============================] - 0s 498us/step - loss: 0.3276 - accuracy: 0.0033 - mse: 0.3276 - val_loss: 0.3189 - val_accuracy: 0.0026 - val_mse: 0.3189\n",
      "Epoch 15/100\n",
      "363/363 [==============================] - 0s 485us/step - loss: 0.3374 - accuracy: 0.0033 - mse: 0.3374 - val_loss: 0.3194 - val_accuracy: 0.0026 - val_mse: 0.3194\n",
      "Epoch 16/100\n",
      "363/363 [==============================] - 0s 494us/step - loss: 0.3283 - accuracy: 0.0032 - mse: 0.3283 - val_loss: 0.3208 - val_accuracy: 0.0026 - val_mse: 0.3208\n",
      "Epoch 17/100\n",
      "363/363 [==============================] - 0s 529us/step - loss: 0.3288 - accuracy: 0.0032 - mse: 0.3288 - val_loss: 0.3213 - val_accuracy: 0.0026 - val_mse: 0.3213\n",
      "Epoch 18/100\n",
      "363/363 [==============================] - 0s 548us/step - loss: 0.3273 - accuracy: 0.0033 - mse: 0.3273 - val_loss: 0.3168 - val_accuracy: 0.0026 - val_mse: 0.3168\n",
      "Epoch 19/100\n",
      "363/363 [==============================] - 0s 550us/step - loss: 0.3296 - accuracy: 0.0033 - mse: 0.3296 - val_loss: 0.3152 - val_accuracy: 0.0026 - val_mse: 0.3152\n",
      "Epoch 20/100\n",
      "363/363 [==============================] - 0s 531us/step - loss: 0.3267 - accuracy: 0.0033 - mse: 0.3267 - val_loss: 0.3215 - val_accuracy: 0.0026 - val_mse: 0.3215\n",
      "Epoch 21/100\n",
      "363/363 [==============================] - 0s 505us/step - loss: 0.3347 - accuracy: 0.0033 - mse: 0.3347 - val_loss: 0.3159 - val_accuracy: 0.0026 - val_mse: 0.3159\n",
      "Epoch 22/100\n",
      "363/363 [==============================] - 0s 550us/step - loss: 0.3292 - accuracy: 0.0033 - mse: 0.3292 - val_loss: 0.3251 - val_accuracy: 0.0026 - val_mse: 0.3251\n",
      "Epoch 23/100\n",
      "363/363 [==============================] - 0s 552us/step - loss: 0.3299 - accuracy: 0.0033 - mse: 0.3299 - val_loss: 0.3169 - val_accuracy: 0.0026 - val_mse: 0.3169\n",
      "Epoch 24/100\n",
      "363/363 [==============================] - 0s 486us/step - loss: 0.3229 - accuracy: 0.0033 - mse: 0.3229 - val_loss: 0.3150 - val_accuracy: 0.0026 - val_mse: 0.3150\n",
      "Epoch 25/100\n",
      "363/363 [==============================] - 0s 497us/step - loss: 0.3219 - accuracy: 0.0033 - mse: 0.3219 - val_loss: 0.3137 - val_accuracy: 0.0026 - val_mse: 0.3137\n",
      "Epoch 26/100\n",
      "363/363 [==============================] - 0s 533us/step - loss: 0.3227 - accuracy: 0.0033 - mse: 0.3227 - val_loss: 0.3157 - val_accuracy: 0.0026 - val_mse: 0.3157\n",
      "Epoch 27/100\n",
      "363/363 [==============================] - 0s 531us/step - loss: 0.3305 - accuracy: 0.0033 - mse: 0.3305 - val_loss: 0.3168 - val_accuracy: 0.0026 - val_mse: 0.3168\n",
      "Epoch 28/100\n",
      "363/363 [==============================] - 0s 537us/step - loss: 0.3216 - accuracy: 0.0033 - mse: 0.3216 - val_loss: 0.3188 - val_accuracy: 0.0026 - val_mse: 0.3188\n",
      "Epoch 29/100\n",
      "363/363 [==============================] - 0s 546us/step - loss: 0.3226 - accuracy: 0.0033 - mse: 0.3226 - val_loss: 0.3111 - val_accuracy: 0.0026 - val_mse: 0.3111\n",
      "Epoch 30/100\n",
      "363/363 [==============================] - 0s 518us/step - loss: 0.3208 - accuracy: 0.0033 - mse: 0.3208 - val_loss: 0.3130 - val_accuracy: 0.0026 - val_mse: 0.3130\n",
      "Epoch 31/100\n",
      "363/363 [==============================] - 0s 517us/step - loss: 0.3222 - accuracy: 0.0032 - mse: 0.3222 - val_loss: 0.3097 - val_accuracy: 0.0026 - val_mse: 0.3097\n",
      "Epoch 32/100\n",
      "363/363 [==============================] - 0s 520us/step - loss: 0.3193 - accuracy: 0.0032 - mse: 0.3193 - val_loss: 0.3128 - val_accuracy: 0.0026 - val_mse: 0.3128\n",
      "Epoch 33/100\n",
      "363/363 [==============================] - 0s 546us/step - loss: 0.3191 - accuracy: 0.0032 - mse: 0.3191 - val_loss: 0.3137 - val_accuracy: 0.0026 - val_mse: 0.3137\n",
      "Epoch 34/100\n",
      "363/363 [==============================] - 0s 523us/step - loss: 0.3176 - accuracy: 0.0032 - mse: 0.3176 - val_loss: 0.3108 - val_accuracy: 0.0026 - val_mse: 0.3108\n",
      "Epoch 35/100\n",
      "363/363 [==============================] - 0s 512us/step - loss: 0.3175 - accuracy: 0.0032 - mse: 0.3175 - val_loss: 0.3083 - val_accuracy: 0.0026 - val_mse: 0.3083\n",
      "Epoch 36/100\n",
      "363/363 [==============================] - 0s 515us/step - loss: 0.3176 - accuracy: 0.0032 - mse: 0.3176 - val_loss: 0.3112 - val_accuracy: 0.0026 - val_mse: 0.3112\n",
      "Epoch 37/100\n",
      "363/363 [==============================] - 0s 515us/step - loss: 0.3242 - accuracy: 0.0032 - mse: 0.3242 - val_loss: 0.3392 - val_accuracy: 0.0026 - val_mse: 0.3392\n",
      "Epoch 38/100\n",
      "363/363 [==============================] - 0s 549us/step - loss: 0.3184 - accuracy: 0.0033 - mse: 0.3184 - val_loss: 0.3104 - val_accuracy: 0.0026 - val_mse: 0.3104\n",
      "Epoch 39/100\n",
      "363/363 [==============================] - 0s 516us/step - loss: 0.3181 - accuracy: 0.0033 - mse: 0.3181 - val_loss: 0.3171 - val_accuracy: 0.0026 - val_mse: 0.3171\n",
      "Epoch 40/100\n",
      "363/363 [==============================] - 0s 490us/step - loss: 0.3186 - accuracy: 0.0033 - mse: 0.3186 - val_loss: 0.3108 - val_accuracy: 0.0026 - val_mse: 0.3108\n"
     ]
    }
   ],
   "source": [
    "early_stopping_cb = keras.callbacks.EarlyStopping(patience = 5)\n",
    "history = model.fit(X_train, y_train, epochs = 100, validation_data = (X_valid, y_valid), callbacks = [checkpoint_vb, early_stopping_cb])"
   ]
  }
 ],
 "metadata": {
  "kernelspec": {
   "display_name": "Python 3 (ipykernel)",
   "language": "python",
   "name": "python3"
  },
  "language_info": {
   "codemirror_mode": {
    "name": "ipython",
    "version": 3
   },
   "file_extension": ".py",
   "mimetype": "text/x-python",
   "name": "python",
   "nbconvert_exporter": "python",
   "pygments_lexer": "ipython3",
   "version": "3.8.11"
  }
 },
 "nbformat": 4,
 "nbformat_minor": 4
}
