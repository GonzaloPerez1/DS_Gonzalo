{
 "cells": [
  {
   "cell_type": "markdown",
   "metadata": {},
   "source": [
    "### ¿SQL?"
   ]
  },
  {
   "cell_type": "markdown",
   "metadata": {},
   "source": [
    "https://es.wikipedia.org/wiki/SQL"
   ]
  },
  {
   "cell_type": "markdown",
   "metadata": {},
   "source": [
    "### Enlace Sintaxis "
   ]
  },
  {
   "cell_type": "markdown",
   "metadata": {},
   "source": [
    "https://www.w3schools.com/sql/default.asp"
   ]
  },
  {
   "cell_type": "markdown",
   "metadata": {},
   "source": [
    "### Bases de datos: Estado del arte"
   ]
  },
  {
   "cell_type": "markdown",
   "metadata": {},
   "source": [
    "https://towardsdatascience.com/top-10-databases-to-use-in-2021-d7e6a85402ba"
   ]
  },
  {
   "cell_type": "markdown",
   "metadata": {},
   "source": [
    "### Creación de tablas"
   ]
  },
  {
   "cell_type": "markdown",
   "metadata": {},
   "source": [
    "~~~~sql\n",
    "CREATE TABLE NOMBRE_TABLA(\n",
    "  NOMBRE_CAMPO_PK TIPO_DATO PRIMARY KEY AUTOINCREMENT,\n",
    "  NOMBRE_CAMPO1 TIPO_DATO,\n",
    "  NOMBRE_CAMPO2 TIPO_DATO,\n",
    "  NOMBRE_CAMPO_FK TIPO_DATO REFERENCES NOMBRE_TABLA_RELACION(CAMPO_RELACION)\n",
    ");\n",
    "~~~~"
   ]
  },
  {
   "cell_type": "markdown",
   "metadata": {},
   "source": [
    "### Eliminación de tablas"
   ]
  },
  {
   "cell_type": "markdown",
   "metadata": {},
   "source": [
    "~~~~sql\n",
    "DROP NOMBRE_TABLA\n",
    "~~~~"
   ]
  },
  {
   "cell_type": "markdown",
   "metadata": {},
   "source": [
    "### Inserción de datos en una tabla"
   ]
  },
  {
   "cell_type": "markdown",
   "metadata": {},
   "source": [
    "~~~~sql\n",
    "INSERT INTO NOMBRE_TABLA (NOMBRE_CAMPO1, NOMBRE_CAMPO2 ..) VALUES (VALOR_CAMPO1, VALOR_CAMPO2 ....);\n",
    "~~~~"
   ]
  },
  {
   "cell_type": "markdown",
   "metadata": {},
   "source": [
    "### Modificación de datos en una tabla"
   ]
  },
  {
   "cell_type": "markdown",
   "metadata": {},
   "source": [
    "~~~~sql\n",
    "UPDATE NOMBRE_TABLA SET NOMBRE_CAMPO1=VALOR_CAMPO1, NOMBRE_CAMPO2=VALOR_CAMPO2 WHERE condicion;\n",
    "~~~~"
   ]
  },
  {
   "cell_type": "markdown",
   "metadata": {},
   "source": [
    "### Borrado datos de una tabla"
   ]
  },
  {
   "cell_type": "markdown",
   "metadata": {},
   "source": [
    "~~~~sql\n",
    "DELETE FROM NOMBRE TABLA WHERE condicion;\n",
    "~~~~"
   ]
  },
  {
   "cell_type": "markdown",
   "metadata": {},
   "source": [
    "### Sentencia SELECT"
   ]
  },
  {
   "cell_type": "markdown",
   "metadata": {},
   "source": [
    "~~~~sql\n",
    "SELECT CAMPO1, CAMPO 2... \n",
    "FROM NOMBRE TABLA \n",
    "WHERE condicion;\n",
    "~~~~"
   ]
  },
  {
   "cell_type": "code",
   "execution_count": null,
   "metadata": {},
   "outputs": [],
   "source": [
    "--Creación tabla clientes\n",
    "CREATE TABLE CLIENTES (\n",
    "DNI VARCHAR(9) PRIMARY KEY,\n",
    "NOMBRE varchar(200) not null,\n",
    "DIRECCION varchar(200)\n",
    ");\n",
    "\n",
    "--Creación tabla facturas\n",
    "CREATE TABLE FACTURAS (\n",
    "ID_FACTURAS INTEGER PRIMARY KEY AUTOINCREMENT,\n",
    "DESCRIPCION varchar(200) not null,\n",
    "IMPORTE decimal (8,2),\n",
    "FECHA DATETIME,\n",
    "DNI_CLIENTE INTEGER REFERENCES CLIENTES(DNI)\n",
    ");\n",
    "\n",
    "--Creación tabla productos\n",
    "CREATE TABLE PRODUCTOS (\n",
    "ID_PRODUCTOS INTEGER PRIMARY KEY AUTOINCREMENT,\n",
    "DESCRIPCION varchar(200) not null,\n",
    "IMPORTE decimal (8,2)\n",
    ");\n",
    "\n",
    "--Creación tabla facturas_productos\n",
    "CREATE TABLE FACTURAS_PRODUCTOS (\n",
    "ID_FACTURAS INTEGER REFERENCES FACTURAS(ID_FACTURAS),\n",
    "ID_PRODUCTOS INTEGER REFERENCES PRODUCTOS(ID_PRODUCTOS)\n",
    ");\n",
    "\n",
    "\n",
    "INSERT INTO CLIENTES (DNI, NOMBRE, DIRECCION) values ('00000000T', 'Florentino Perez', 'Santiago Bernabeu, Palco');\n",
    "INSERT INTO CLIENTES (DNI, NOMBRE, DIRECCION) values ('00000001R', 'Sergio Ramos', 'Parque de los Principes, Paris');\n",
    "INSERT INTO CLIENTES (DNI, NOMBRE, DIRECCION) values ('00000002W', 'Iker Casillas', 'Su Casa, Fuenlabrada');\n",
    "\n",
    "\n",
    "INSERT INTO FACTURAS (DESCRIPCION, IMPORTE, FECHA, DNI_CLIENTE) values \n",
    "                     ('Factura: Libro el maravilloso arte del insulto', 100.00, date('now'), '00000000T');\n",
    "INSERT INTO FACTURAS (DESCRIPCION, IMPORTE, FECHA, DNI_CLIENTE) values \n",
    "                     ('Factura: Diccionario español/frances', 50.00, date('now'), '00000001R');\n",
    "INSERT INTO FACTURAS (DESCRIPCION, IMPORTE, FECHA, DNI_CLIENTE) values \n",
    "                     ('Factura: Diccionario español', 25.00, date('now'), '00000001R');                     \n",
    "INSERT INTO FACTURAS (DESCRIPCION, IMPORTE, FECHA, DNI_CLIENTE) values \n",
    "                     ('Factura: Guantes y balon', 250.50, date('now'), '00000002W');\n",
    "                     \n",
    "UPDATE FACTURAS \n",
    "SET DESCRIPCION = 'Factura: Libro El maravilloso arte del insulto', IMPORTE = 101.00 \n",
    "WHERE ID_FACTURAS = 1;\n",
    "                     \n",
    "INSERT INTO PRODUCTOS (DESCRIPCION, IMPORTE) values \n",
    "                     ('Libro el maravilloso arte del insulto', 100);\n",
    "INSERT INTO PRODUCTOS (DESCRIPCION, IMPORTE) values \n",
    "                     ('Diccionario español/frances', 50);\n",
    "INSERT INTO PRODUCTOS (DESCRIPCION, IMPORTE) values \n",
    "                     ('Diccionario español', 25);                     \n",
    "INSERT INTO PRODUCTOS (DESCRIPCION, IMPORTE) values \n",
    "                     ('Guantes', 100.50);\n",
    "INSERT INTO PRODUCTOS (DESCRIPCION, IMPORTE) values \n",
    "                     ('Balon', 150.00);\n",
    "                     \n",
    "            \n",
    "INSERT INTO FACTURAS_PRODUCTOS(ID_FACTURAS, ID_PRODUCTOS) values (1,1);\n",
    "INSERT INTO FACTURAS_PRODUCTOS(ID_FACTURAS, ID_PRODUCTOS) values (2,2);\n",
    "INSERT INTO FACTURAS_PRODUCTOS(ID_FACTURAS, ID_PRODUCTOS) values (3,3);\n",
    "INSERT INTO FACTURAS_PRODUCTOS(ID_FACTURAS, ID_PRODUCTOS) values (4,4);\n",
    "INSERT INTO FACTURAS_PRODUCTOS(ID_FACTURAS, ID_PRODUCTOS) values (4,5);\n",
    "\n",
    "\n",
    "SELECT * FROM clientes\n",
    "SELECT * FROM facturas\n",
    "SELECT * FROM productos\n",
    "SELECT * FROM FACTURAS_PRODUCTOS as f\n",
    "\n",
    "SELECT c.nombre, f.descripcion \n",
    "FROM clientes c INNER JOIN facturas f ON c.DNI = f.DNI_cliente\n",
    "\n",
    "SELECT f.descripcion, p.descripcion, p.importe\n",
    "FROM facturas f INNER JOIN\n",
    "     FACTURAS_PRODUCTOS fp ON f.ID_FACTURAS = fp.ID_FACTURAS INNER JOIN \n",
    "     productos p ON p.ID_PRODUCTOS = fp.ID_PRODUCTOS\n",
    "\n",
    "\n",
    "--delete from clientes where name = 'tu mismo'"
   ]
  }
 ],
 "metadata": {
  "kernelspec": {
   "display_name": "Python 3",
   "language": "python",
   "name": "python3"
  },
  "language_info": {
   "codemirror_mode": {
    "name": "ipython",
    "version": 3
   },
   "file_extension": ".py",
   "mimetype": "text/x-python",
   "name": "python",
   "nbconvert_exporter": "python",
   "pygments_lexer": "ipython3",
   "version": "3.8.5"
  }
 },
 "nbformat": 4,
 "nbformat_minor": 4
}
