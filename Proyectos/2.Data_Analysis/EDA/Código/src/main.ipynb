{
 "cells": [
  {
   "cell_type": "markdown",
   "id": "528286f6",
   "metadata": {},
   "source": [
    "# Planteamiento de ideas\n",
    "\n",
    "- ¿Qué comunidades tienen más camas por habitante?\n",
    "- ¿Hay relación entre el número de camas en hospitales y la inversión por CCAA?\n",
    "- ¿Qué comunidades gastan más en sanidad por habitante?\n",
    "- ¿Hay relación entre el gasto en sanidad y las máquinas médicas?\n",
    "- ¿Hay relación entre el PIB y el gasto en sanidad?"
   ]
  },
  {
   "cell_type": "markdown",
   "id": "f6d19edb",
   "metadata": {},
   "source": [
    "# Cuerpo"
   ]
  },
  {
   "cell_type": "code",
   "execution_count": 7,
   "id": "ed3819ec",
   "metadata": {},
   "outputs": [],
   "source": [
    "#Importamos las librerias\n",
    "import sqlite3\n",
    "import pandas as pd\n",
    "\n",
    "#Conexión de base de datos\n",
    "conn = sqlite3.connect('database_eda')\n",
    "cursor = conn.cursor()"
   ]
  },
  {
   "cell_type": "markdown",
   "id": "eca2016d",
   "metadata": {},
   "source": [
    "## ¿Qué comunidades tienen más camas por habitante?"
   ]
  },
  {
   "cell_type": "code",
   "execution_count": 38,
   "id": "001cab09",
   "metadata": {
    "collapsed": true,
    "jupyter": {
     "outputs_hidden": true
    },
    "tags": []
   },
   "outputs": [
    {
     "data": {
      "text/html": [
       "<div>\n",
       "<style scoped>\n",
       "    .dataframe tbody tr th:only-of-type {\n",
       "        vertical-align: middle;\n",
       "    }\n",
       "\n",
       "    .dataframe tbody tr th {\n",
       "        vertical-align: top;\n",
       "    }\n",
       "\n",
       "    .dataframe thead th {\n",
       "        text-align: right;\n",
       "    }\n",
       "</style>\n",
       "<table border=\"1\" class=\"dataframe\">\n",
       "  <thead>\n",
       "    <tr style=\"text-align: right;\">\n",
       "      <th></th>\n",
       "      <th>COMUNIDAD_AUTONOMA</th>\n",
       "      <th>NUMERO_CAMAS</th>\n",
       "      <th>POBLACION</th>\n",
       "      <th>CAMAS_1000_HABITANTES</th>\n",
       "    </tr>\n",
       "  </thead>\n",
       "  <tbody>\n",
       "    <tr>\n",
       "      <th>7</th>\n",
       "      <td>CATALUÑA</td>\n",
       "      <td>34322</td>\n",
       "      <td>7675217</td>\n",
       "      <td>4.471795</td>\n",
       "    </tr>\n",
       "    <tr>\n",
       "      <th>10</th>\n",
       "      <td>EXTREMADURA</td>\n",
       "      <td>4323</td>\n",
       "      <td>1067710</td>\n",
       "      <td>4.048852</td>\n",
       "    </tr>\n",
       "    <tr>\n",
       "      <th>1</th>\n",
       "      <td>ARAGÓN</td>\n",
       "      <td>5290</td>\n",
       "      <td>1319291</td>\n",
       "      <td>4.009729</td>\n",
       "    </tr>\n",
       "    <tr>\n",
       "      <th>2</th>\n",
       "      <td>ASTURIAS</td>\n",
       "      <td>3930</td>\n",
       "      <td>1022800</td>\n",
       "      <td>3.842393</td>\n",
       "    </tr>\n",
       "    <tr>\n",
       "      <th>5</th>\n",
       "      <td>CASTILLA Y LEÓN</td>\n",
       "      <td>9130</td>\n",
       "      <td>2399548</td>\n",
       "      <td>3.804883</td>\n",
       "    </tr>\n",
       "    <tr>\n",
       "      <th>11</th>\n",
       "      <td>GALICIA</td>\n",
       "      <td>9767</td>\n",
       "      <td>2699499</td>\n",
       "      <td>3.618079</td>\n",
       "    </tr>\n",
       "    <tr>\n",
       "      <th>18</th>\n",
       "      <td>PAÍS VASCO</td>\n",
       "      <td>7975</td>\n",
       "      <td>2207776</td>\n",
       "      <td>3.612232</td>\n",
       "    </tr>\n",
       "    <tr>\n",
       "      <th>17</th>\n",
       "      <td>NAVARRA</td>\n",
       "      <td>2331</td>\n",
       "      <td>654214</td>\n",
       "      <td>3.563054</td>\n",
       "    </tr>\n",
       "    <tr>\n",
       "      <th>12</th>\n",
       "      <td>ILLES BALEARS</td>\n",
       "      <td>3976</td>\n",
       "      <td>1149460</td>\n",
       "      <td>3.459016</td>\n",
       "    </tr>\n",
       "    <tr>\n",
       "      <th>13</th>\n",
       "      <td>LA RIOJA</td>\n",
       "      <td>1050</td>\n",
       "      <td>316798</td>\n",
       "      <td>3.314415</td>\n",
       "    </tr>\n",
       "    <tr>\n",
       "      <th>14</th>\n",
       "      <td>MADRID</td>\n",
       "      <td>21700</td>\n",
       "      <td>6663394</td>\n",
       "      <td>3.256599</td>\n",
       "    </tr>\n",
       "    <tr>\n",
       "      <th>16</th>\n",
       "      <td>MURCIA</td>\n",
       "      <td>4862</td>\n",
       "      <td>1493898</td>\n",
       "      <td>3.254573</td>\n",
       "    </tr>\n",
       "    <tr>\n",
       "      <th>3</th>\n",
       "      <td>CANARIAS</td>\n",
       "      <td>6828</td>\n",
       "      <td>2153389</td>\n",
       "      <td>3.170816</td>\n",
       "    </tr>\n",
       "    <tr>\n",
       "      <th>8</th>\n",
       "      <td>CEUTA</td>\n",
       "      <td>252</td>\n",
       "      <td>84777</td>\n",
       "      <td>2.972504</td>\n",
       "    </tr>\n",
       "    <tr>\n",
       "      <th>6</th>\n",
       "      <td>CASTILLA-LA MANCHA</td>\n",
       "      <td>5899</td>\n",
       "      <td>2032863</td>\n",
       "      <td>2.901819</td>\n",
       "    </tr>\n",
       "    <tr>\n",
       "      <th>4</th>\n",
       "      <td>CANTABRIA</td>\n",
       "      <td>1682</td>\n",
       "      <td>581078</td>\n",
       "      <td>2.894620</td>\n",
       "    </tr>\n",
       "    <tr>\n",
       "      <th>9</th>\n",
       "      <td>COMUNIDAD VALENCIANA</td>\n",
       "      <td>13811</td>\n",
       "      <td>5003769</td>\n",
       "      <td>2.760119</td>\n",
       "    </tr>\n",
       "    <tr>\n",
       "      <th>0</th>\n",
       "      <td>ANDALUCÍA</td>\n",
       "      <td>21350</td>\n",
       "      <td>8414240</td>\n",
       "      <td>2.537365</td>\n",
       "    </tr>\n",
       "    <tr>\n",
       "      <th>15</th>\n",
       "      <td>MELILLA</td>\n",
       "      <td>170</td>\n",
       "      <td>86487</td>\n",
       "      <td>1.965613</td>\n",
       "    </tr>\n",
       "  </tbody>\n",
       "</table>\n",
       "</div>"
      ],
      "text/plain": [
       "      COMUNIDAD_AUTONOMA  NUMERO_CAMAS  POBLACION  CAMAS_1000_HABITANTES\n",
       "7               CATALUÑA         34322    7675217               4.471795\n",
       "10           EXTREMADURA          4323    1067710               4.048852\n",
       "1                 ARAGÓN          5290    1319291               4.009729\n",
       "2               ASTURIAS          3930    1022800               3.842393\n",
       "5        CASTILLA Y LEÓN          9130    2399548               3.804883\n",
       "11               GALICIA          9767    2699499               3.618079\n",
       "18            PAÍS VASCO          7975    2207776               3.612232\n",
       "17               NAVARRA          2331     654214               3.563054\n",
       "12         ILLES BALEARS          3976    1149460               3.459016\n",
       "13              LA RIOJA          1050     316798               3.314415\n",
       "14                MADRID         21700    6663394               3.256599\n",
       "16                MURCIA          4862    1493898               3.254573\n",
       "3               CANARIAS          6828    2153389               3.170816\n",
       "8                  CEUTA           252      84777               2.972504\n",
       "6     CASTILLA-LA MANCHA          5899    2032863               2.901819\n",
       "4              CANTABRIA          1682     581078               2.894620\n",
       "9   COMUNIDAD VALENCIANA         13811    5003769               2.760119\n",
       "0              ANDALUCÍA         21350    8414240               2.537365\n",
       "15               MELILLA           170      86487               1.965613"
      ]
     },
     "execution_count": 38,
     "metadata": {},
     "output_type": "execute_result"
    }
   ],
   "source": [
    "#SELECCIÓN DE LOS DATOS\n",
    "query='''\n",
    "SELECT H.COMUNIDAD_AUTONOMA, SUM(H.NUMERO_DE_CAMAS) AS NUMERO_CAMAS, P.POBLACION\n",
    "FROM HOSPITALES H\n",
    "JOIN POBLACION P ON H.COMUNIDAD_AUTONOMA = P.COMUNIDAD_AUTONOMA\n",
    "GROUP BY H.COMUNIDAD_AUTONOMA;\n",
    "'''\n",
    "\n",
    "df = pd.read_sql_query(query, conn)\n",
    "df['CAMAS_1000_HABITANTES'] = (df['NUMERO_CAMAS']/df['POBLACION'])*1000\n",
    "df = df.sort_values(by='CAMAS_1000_HABITANTES', ascending=False)\n",
    "df"
   ]
  },
  {
   "cell_type": "code",
   "execution_count": 47,
   "id": "00789374",
   "metadata": {
    "collapsed": true,
    "jupyter": {
     "outputs_hidden": true
    },
    "tags": []
   },
   "outputs": [
    {
     "data": {
      "image/png": "[encoded data removed]",
      "text/plain": [
       "<Figure size 1152x720 with 1 Axes>"
      ]
     },
     "metadata": {
      "needs_background": "light"
     },
     "output_type": "display_data"
    }
   ],
   "source": [
    "#GRÁFICA DE LOS DATOS\n",
    "import numpy as np\n",
    "import seaborn as sns\n",
    "import matplotlib.pyplot as plt\n",
    "\n",
    "plt.figure(figsize=(16,10))\n",
    "g = sns.barplot(\n",
    "    x = 'COMUNIDAD_AUTONOMA',\n",
    "    y = 'CAMAS_1000_HABITANTES',\n",
    "    palette = 'Blues_r',\n",
    "    label = 'Número de camas por cada 1000 habitantes por Comunidad Autónoma',\n",
    "    data = df\n",
    ")\n",
    "plt.xticks(rotation=80);\n",
    "plt.legend(loc='best');\n",
    "\n",
    "plt.tight_layout() #sirve apra que no corte bordes\n",
    "plt.savefig('comunidades_mas_camas.jpeg', dpi=100)"
   ]
  },
  {
   "cell_type": "markdown",
   "id": "73dcbb5e",
   "metadata": {},
   "source": [
    "## ¿Qué comunidades gastan más en sanidad por habitante?"
   ]
  },
  {
   "cell_type": "code",
   "execution_count": 9,
   "id": "f1d6c04f",
   "metadata": {
    "tags": []
   },
   "outputs": [
    {
     "data": {
      "text/html": [
       "<div>\n",
       "<style scoped>\n",
       "    .dataframe tbody tr th:only-of-type {\n",
       "        vertical-align: middle;\n",
       "    }\n",
       "\n",
       "    .dataframe tbody tr th {\n",
       "        vertical-align: top;\n",
       "    }\n",
       "\n",
       "    .dataframe thead th {\n",
       "        text-align: right;\n",
       "    }\n",
       "</style>\n",
       "<table border=\"1\" class=\"dataframe\">\n",
       "  <thead>\n",
       "    <tr style=\"text-align: right;\">\n",
       "      <th></th>\n",
       "      <th>COMUNIDAD_AUTONOMA</th>\n",
       "      <th>GASTO_SANIDAD</th>\n",
       "      <th>POBLACION</th>\n",
       "      <th>GASTO_HABITANTE</th>\n",
       "    </tr>\n",
       "  </thead>\n",
       "  <tbody>\n",
       "    <tr>\n",
       "      <th>2</th>\n",
       "      <td>ASTURIAS</td>\n",
       "      <td>1765509</td>\n",
       "      <td>1022800</td>\n",
       "      <td>1.726153</td>\n",
       "    </tr>\n",
       "    <tr>\n",
       "      <th>16</th>\n",
       "      <td>PAÍS VASCO</td>\n",
       "      <td>3770794</td>\n",
       "      <td>2207776</td>\n",
       "      <td>1.707960</td>\n",
       "    </tr>\n",
       "    <tr>\n",
       "      <th>15</th>\n",
       "      <td>NAVARRA</td>\n",
       "      <td>1086649</td>\n",
       "      <td>654214</td>\n",
       "      <td>1.660999</td>\n",
       "    </tr>\n",
       "    <tr>\n",
       "      <th>9</th>\n",
       "      <td>EXTREMADURA</td>\n",
       "      <td>1718749</td>\n",
       "      <td>1067710</td>\n",
       "      <td>1.609753</td>\n",
       "    </tr>\n",
       "    <tr>\n",
       "      <th>1</th>\n",
       "      <td>ARAGÓN</td>\n",
       "      <td>2000557</td>\n",
       "      <td>1319291</td>\n",
       "      <td>1.516388</td>\n",
       "    </tr>\n",
       "    <tr>\n",
       "      <th>11</th>\n",
       "      <td>ILLES BALEARS</td>\n",
       "      <td>1730482</td>\n",
       "      <td>1149460</td>\n",
       "      <td>1.505474</td>\n",
       "    </tr>\n",
       "    <tr>\n",
       "      <th>4</th>\n",
       "      <td>CANTABRIA</td>\n",
       "      <td>874228</td>\n",
       "      <td>581078</td>\n",
       "      <td>1.504493</td>\n",
       "    </tr>\n",
       "    <tr>\n",
       "      <th>5</th>\n",
       "      <td>CASTILLA Y LEÓN</td>\n",
       "      <td>3592949</td>\n",
       "      <td>2399548</td>\n",
       "      <td>1.497344</td>\n",
       "    </tr>\n",
       "    <tr>\n",
       "      <th>10</th>\n",
       "      <td>GALICIA</td>\n",
       "      <td>3987978</td>\n",
       "      <td>2699499</td>\n",
       "      <td>1.477303</td>\n",
       "    </tr>\n",
       "    <tr>\n",
       "      <th>3</th>\n",
       "      <td>CANARIAS</td>\n",
       "      <td>3014185</td>\n",
       "      <td>2153389</td>\n",
       "      <td>1.399740</td>\n",
       "    </tr>\n",
       "    <tr>\n",
       "      <th>12</th>\n",
       "      <td>LA RIOJA</td>\n",
       "      <td>438983</td>\n",
       "      <td>316798</td>\n",
       "      <td>1.385687</td>\n",
       "    </tr>\n",
       "    <tr>\n",
       "      <th>6</th>\n",
       "      <td>CASTILLA-LA MANCHA</td>\n",
       "      <td>2806827</td>\n",
       "      <td>2032863</td>\n",
       "      <td>1.380726</td>\n",
       "    </tr>\n",
       "    <tr>\n",
       "      <th>8</th>\n",
       "      <td>COMUNIDAD VALENCIANA</td>\n",
       "      <td>6635407</td>\n",
       "      <td>5003769</td>\n",
       "      <td>1.326082</td>\n",
       "    </tr>\n",
       "    <tr>\n",
       "      <th>14</th>\n",
       "      <td>MURCIA</td>\n",
       "      <td>1919543</td>\n",
       "      <td>1493898</td>\n",
       "      <td>1.284922</td>\n",
       "    </tr>\n",
       "    <tr>\n",
       "      <th>0</th>\n",
       "      <td>ANDALUCÍA</td>\n",
       "      <td>10539999</td>\n",
       "      <td>8414240</td>\n",
       "      <td>1.252638</td>\n",
       "    </tr>\n",
       "    <tr>\n",
       "      <th>13</th>\n",
       "      <td>MADRID</td>\n",
       "      <td>8108966</td>\n",
       "      <td>6663394</td>\n",
       "      <td>1.216942</td>\n",
       "    </tr>\n",
       "    <tr>\n",
       "      <th>7</th>\n",
       "      <td>CATALUÑA</td>\n",
       "      <td>8876083</td>\n",
       "      <td>7675217</td>\n",
       "      <td>1.156460</td>\n",
       "    </tr>\n",
       "  </tbody>\n",
       "</table>\n",
       "</div>"
      ],
      "text/plain": [
       "      COMUNIDAD_AUTONOMA  GASTO_SANIDAD  POBLACION  GASTO_HABITANTE\n",
       "2               ASTURIAS        1765509    1022800         1.726153\n",
       "16            PAÍS VASCO        3770794    2207776         1.707960\n",
       "15               NAVARRA        1086649     654214         1.660999\n",
       "9            EXTREMADURA        1718749    1067710         1.609753\n",
       "1                 ARAGÓN        2000557    1319291         1.516388\n",
       "11         ILLES BALEARS        1730482    1149460         1.505474\n",
       "4              CANTABRIA         874228     581078         1.504493\n",
       "5        CASTILLA Y LEÓN        3592949    2399548         1.497344\n",
       "10               GALICIA        3987978    2699499         1.477303\n",
       "3               CANARIAS        3014185    2153389         1.399740\n",
       "12              LA RIOJA         438983     316798         1.385687\n",
       "6     CASTILLA-LA MANCHA        2806827    2032863         1.380726\n",
       "8   COMUNIDAD VALENCIANA        6635407    5003769         1.326082\n",
       "14                MURCIA        1919543    1493898         1.284922\n",
       "0              ANDALUCÍA       10539999    8414240         1.252638\n",
       "13                MADRID        8108966    6663394         1.216942\n",
       "7               CATALUÑA        8876083    7675217         1.156460"
      ]
     },
     "execution_count": 9,
     "metadata": {},
     "output_type": "execute_result"
    }
   ],
   "source": [
    "#SELECCIÓN DE LOS DATOS\n",
    "query='''\n",
    "SELECT G.COMUNIDAD_AUTONOMA, G.GASTO_SANIDAD, P.POBLACION\n",
    "FROM GASTO_SANIDAD G\n",
    "JOIN POBLACION P ON G.COMUNIDAD_AUTONOMA = P.COMUNIDAD_AUTONOMA\n",
    "GROUP BY G.COMUNIDAD_AUTONOMA;\n",
    "'''\n",
    "\n",
    "df1 = pd.read_sql_query(query, conn)\n",
    "df1['GASTO_HABITANTE'] = df1['GASTO_SANIDAD']/df1['POBLACION']\n",
    "df1 = df1.sort_values(by='GASTO_HABITANTE', ascending=False)\n",
    "df1"
   ]
  },
  {
   "cell_type": "code",
   "execution_count": 48,
   "id": "aadf48e8",
   "metadata": {
    "tags": []
   },
   "outputs": [
    {
     "data": {
      "image/png": "[encoded data removed]",
      "text/plain": [
       "<Figure size 1152x720 with 1 Axes>"
      ]
     },
     "metadata": {
      "needs_background": "light"
     },
     "output_type": "display_data"
    }
   ],
   "source": [
    "#GRÁFICA DE LOS DATOS\n",
    "import seaborn as sns\n",
    "import matplotlib.pyplot as plt\n",
    "\n",
    "plt.figure(figsize=(16,10))\n",
    "sns.barplot(\n",
    "    x = 'COMUNIDAD_AUTONOMA',\n",
    "    y = 'GASTO_HABITANTE',\n",
    "    palette = 'Blues_r',\n",
    "    label = 'Gasto en sanidad por habitante por Comunidad Autónoma',\n",
    "    data = df1\n",
    ")\n",
    "plt.xticks(rotation=80)\n",
    "plt.legend(loc='best');\n",
    "\n",
    "plt.tight_layout() #sirve apra que no corte bordes\n",
    "plt.savefig('gasto_sanidad_habitante.jpeg', dpi=100)"
   ]
  },
  {
   "cell_type": "code",
   "execution_count": 15,
   "id": "951e5ea2",
   "metadata": {},
   "outputs": [
    {
     "data": {
      "image/png": "[encoded data removed]",
      "text/plain": [
       "<Figure size 1152x720 with 1 Axes>"
      ]
     },
     "metadata": {
      "needs_background": "light"
     },
     "output_type": "display_data"
    }
   ],
   "source": [
    "#GRÁFICA DE LOS DATOS\n",
    "import seaborn as sns\n",
    "import matplotlib.pyplot as plt\n",
    "\n",
    "df1 = df1.sort_values(by='POBLACION', ascending=False)\n",
    "\n",
    "import numpy as np\n",
    "\n",
    "def show_values_on_bars(axs, h_v=\"v\", space=0.3):\n",
    "    def _show_on_single_plot(ax):\n",
    "        if h_v == \"v\":\n",
    "            for p in ax.patches:\n",
    "                _x = p.get_x() + p.get_width() / 2\n",
    "                _y = p.get_y() + p.get_height()\n",
    "                value = int(p.get_height())\n",
    "                ax.text(_x, _y, value, ha=\"center\") \n",
    "        elif h_v == \"h\":\n",
    "            for p in ax.patches:\n",
    "                _x = p.get_x() + p.get_width() + float(space)\n",
    "                _y = p.get_y() + p.get_height()\n",
    "                value = int(p.get_width())\n",
    "                ax.text(_x, _y, value, ha=\"left\")\n",
    "\n",
    "    if isinstance(axs, np.ndarray):\n",
    "        for idx, ax in np.ndenumerate(axs):\n",
    "            _show_on_single_plot(ax)\n",
    "    else:\n",
    "        _show_on_single_plot(axs)\n",
    "\n",
    "plt.figure(figsize=(16,10))\n",
    "g = sns.barplot(\n",
    "    y = 'COMUNIDAD_AUTONOMA',\n",
    "    x = 'POBLACION',\n",
    "    palette = 'Blues_r',\n",
    "    label = 'Número de habitantes por Comunidad Autónoma',\n",
    "    data = df1\n",
    ")\n",
    "plt.legend(loc='best');\n",
    "\n",
    "show_values_on_bars(g, 'h', 0.3)\n",
    "\n",
    "plt.tight_layout() #sirve apra que no corte bordes\n",
    "plt.savefig('./img/poblacion_ccaa.jpeg', dpi=100)"
   ]
  },
  {
   "cell_type": "markdown",
   "id": "21df16c3",
   "metadata": {},
   "source": [
    "## ¿Hay relación entre el número de camas en hospitales y la inversión por CCAA?"
   ]
  },
  {
   "cell_type": "code",
   "execution_count": 3,
   "id": "d7e0b506",
   "metadata": {},
   "outputs": [
    {
     "data": {
      "text/html": [
       "<div>\n",
       "<style scoped>\n",
       "    .dataframe tbody tr th:only-of-type {\n",
       "        vertical-align: middle;\n",
       "    }\n",
       "\n",
       "    .dataframe tbody tr th {\n",
       "        vertical-align: top;\n",
       "    }\n",
       "\n",
       "    .dataframe thead th {\n",
       "        text-align: right;\n",
       "    }\n",
       "</style>\n",
       "<table border=\"1\" class=\"dataframe\">\n",
       "  <thead>\n",
       "    <tr style=\"text-align: right;\">\n",
       "      <th></th>\n",
       "      <th>NUMERO_CAMAS</th>\n",
       "      <th>GASTO_SANIDAD</th>\n",
       "      <th>POBLACION</th>\n",
       "      <th>CAMAS_1000_HABITANTES</th>\n",
       "      <th>GASTO_HABITANTE</th>\n",
       "    </tr>\n",
       "  </thead>\n",
       "  <tbody>\n",
       "    <tr>\n",
       "      <th>NUMERO_CAMAS</th>\n",
       "      <td>1.000000</td>\n",
       "      <td>0.925751</td>\n",
       "      <td>0.945239</td>\n",
       "      <td>0.131022</td>\n",
       "      <td>-0.690896</td>\n",
       "    </tr>\n",
       "    <tr>\n",
       "      <th>GASTO_SANIDAD</th>\n",
       "      <td>0.925751</td>\n",
       "      <td>1.000000</td>\n",
       "      <td>0.994465</td>\n",
       "      <td>-0.161583</td>\n",
       "      <td>-0.661212</td>\n",
       "    </tr>\n",
       "    <tr>\n",
       "      <th>POBLACION</th>\n",
       "      <td>0.945239</td>\n",
       "      <td>0.994465</td>\n",
       "      <td>1.000000</td>\n",
       "      <td>-0.146824</td>\n",
       "      <td>-0.713639</td>\n",
       "    </tr>\n",
       "    <tr>\n",
       "      <th>CAMAS_1000_HABITANTES</th>\n",
       "      <td>0.131022</td>\n",
       "      <td>-0.161583</td>\n",
       "      <td>-0.146824</td>\n",
       "      <td>1.000000</td>\n",
       "      <td>0.290934</td>\n",
       "    </tr>\n",
       "    <tr>\n",
       "      <th>GASTO_HABITANTE</th>\n",
       "      <td>-0.690896</td>\n",
       "      <td>-0.661212</td>\n",
       "      <td>-0.713639</td>\n",
       "      <td>0.290934</td>\n",
       "      <td>1.000000</td>\n",
       "    </tr>\n",
       "  </tbody>\n",
       "</table>\n",
       "</div>"
      ],
      "text/plain": [
       "                       NUMERO_CAMAS  GASTO_SANIDAD  POBLACION  \\\n",
       "NUMERO_CAMAS               1.000000       0.925751   0.945239   \n",
       "GASTO_SANIDAD              0.925751       1.000000   0.994465   \n",
       "POBLACION                  0.945239       0.994465   1.000000   \n",
       "CAMAS_1000_HABITANTES      0.131022      -0.161583  -0.146824   \n",
       "GASTO_HABITANTE           -0.690896      -0.661212  -0.713639   \n",
       "\n",
       "                       CAMAS_1000_HABITANTES  GASTO_HABITANTE  \n",
       "NUMERO_CAMAS                        0.131022        -0.690896  \n",
       "GASTO_SANIDAD                      -0.161583        -0.661212  \n",
       "POBLACION                          -0.146824        -0.713639  \n",
       "CAMAS_1000_HABITANTES               1.000000         0.290934  \n",
       "GASTO_HABITANTE                     0.290934         1.000000  "
      ]
     },
     "execution_count": 3,
     "metadata": {},
     "output_type": "execute_result"
    }
   ],
   "source": [
    "#SELECCIÓN DE LOS DATOS\n",
    "query='''\n",
    "SELECT H.COMUNIDAD_AUTONOMA, SUM(H.NUMERO_DE_CAMAS) AS NUMERO_CAMAS, G.GASTO_SANIDAD, P.POBLACION\n",
    "FROM HOSPITALES H\n",
    "JOIN GASTO_SANIDAD G ON H.COMUNIDAD_AUTONOMA = G.COMUNIDAD_AUTONOMA\n",
    "JOIN POBLACION P ON H.COMUNIDAD_AUTONOMA = P.COMUNIDAD_AUTONOMA\n",
    "GROUP BY H.COMUNIDAD_AUTONOMA;\n",
    "'''\n",
    "\n",
    "df2 = pd.read_sql_query(query, conn)\n",
    "df2['CAMAS_1000_HABITANTES'] = (df2['NUMERO_CAMAS']/df2['POBLACION'])*1000\n",
    "df2['GASTO_HABITANTE'] = df2['GASTO_SANIDAD']/df2['POBLACION']\n",
    "df2.corr()"
   ]
  },
  {
   "cell_type": "code",
   "execution_count": 4,
   "id": "642277c4",
   "metadata": {},
   "outputs": [
    {
     "data": {
      "image/png": "[encoded data removed]",
      "text/plain": [
       "<Figure size 864x864 with 2 Axes>"
      ]
     },
     "metadata": {
      "needs_background": "light"
     },
     "output_type": "display_data"
    }
   ],
   "source": [
    "#GRÁFICA DE LOS DATOS\n",
    "import seaborn as sns\n",
    "import matplotlib.pyplot as plt\n",
    "\n",
    "plt.figure(figsize=(12,12))\n",
    "sns.heatmap(df2.corr(),\n",
    "           vmin = -1,\n",
    "           vmax = 1,\n",
    "           annot=True, #Introduzco los números dentro de cada recuadro\n",
    "           square = True, #Obtengo cuadrados en vex de rectángulos\n",
    "           linewidths = .5, #Margen entre cuadrados\n",
    "           cmap=sns.diverging_palette(150, 277, s=100, l=30, n=13))\n",
    "plt.yticks(rotation=0)\n",
    "plt.xticks(rotation=80);\n",
    "\n",
    "plt.tight_layout() #sirve apra que no corte bordes\n",
    "plt.savefig('relacion_gasto_camas.jpeg', dpi=100)"
   ]
  },
  {
   "cell_type": "code",
   "execution_count": 50,
   "id": "fa47da0a",
   "metadata": {
    "collapsed": true,
    "jupyter": {
     "outputs_hidden": true
    },
    "tags": []
   },
   "outputs": [
    {
     "data": {
      "application/vnd.plotly.v1+json": {
       "config": {
        "plotlyServerURL": "https://plot.ly"
       },
       "data": [
        {
         "alignmentgroup": "True",
         "hovertemplate": "COMUNIDAD_AUTONOMA=%{x}<br>CAMAS_1000_HABITANTES=%{y}<br>GASTO_HABITANTE=%{marker.color}<extra></extra>",
         "legendgroup": "",
         "marker": {
          "color": [
           1.1564602017115608,
           1.2169422969735844,
           1.252638265606876,
           1.3260817995395071,
           1.4773030106697576,
           1.4973440831356573,
           1.7079604090270026,
           1.3997401305569965,
           1.3807260991025958,
           1.516387968992436,
           1.2849223976469613,
           1.6097526481909883,
           1.5054738746889844,
           1.7261527180289402,
           1.660999306037474,
           1.504493372662534,
           1.3856874096427376
          ],
          "coloraxis": "coloraxis"
         },
         "name": "",
         "offsetgroup": "",
         "orientation": "v",
         "showlegend": false,
         "textposition": "auto",
         "type": "bar",
         "x": [
          "CATALUÑA",
          "MADRID",
          "ANDALUCÍA",
          "COMUNIDAD VALENCIANA",
          "GALICIA",
          "CASTILLA Y LEÓN",
          "PAÍS VASCO",
          "CANARIAS",
          "CASTILLA-LA MANCHA",
          "ARAGÓN",
          "MURCIA",
          "EXTREMADURA",
          "ILLES BALEARS",
          "ASTURIAS",
          "NAVARRA",
          "CANTABRIA",
          "LA RIOJA"
         ],
         "xaxis": "x",
         "y": [
          4.471795390280171,
          3.2565986642842972,
          2.5373652284698323,
          2.7601194219797116,
          3.6180787620221384,
          3.8048832530126506,
          3.612232400388445,
          3.1708158628097385,
          2.9018187649635023,
          4.0097294683280635,
          3.2545729360371323,
          4.048852216425808,
          3.4590155377307608,
          3.8423934298005475,
          3.563054291103523,
          2.894619999380462,
          3.3144148637302
         ],
         "yaxis": "y"
        }
       ],
       "layout": {
        "barmode": "relative",
        "coloraxis": {
         "colorbar": {
          "title": {
           "text": "GASTO_HABITANTE"
          }
         },
         "colorscale": [
          [
           0,
           "#0d0887"
          ],
          [
           0.1111111111111111,
           "#46039f"
          ],
          [
           0.2222222222222222,
           "#7201a8"
          ],
          [
           0.3333333333333333,
           "#9c179e"
          ],
          [
           0.4444444444444444,
           "#bd3786"
          ],
          [
           0.5555555555555556,
           "#d8576b"
          ],
          [
           0.6666666666666666,
           "#ed7953"
          ],
          [
           0.7777777777777778,
           "#fb9f3a"
          ],
          [
           0.8888888888888888,
           "#fdca26"
          ],
          [
           1,
           "#f0f921"
          ]
         ]
        },
        "legend": {
         "tracegroupgap": 0
        },
        "margin": {
         "t": 60
        },
        "template": {
         "data": {
          "bar": [
           {
            "error_x": {
             "color": "#2a3f5f"
            },
            "error_y": {
             "color": "#2a3f5f"
            },
            "marker": {
             "line": {
              "color": "#E5ECF6",
              "width": 0.5
             }
            },
            "type": "bar"
           }
          ],
          "barpolar": [
           {
            "marker": {
             "line": {
              "color": "#E5ECF6",
              "width": 0.5
             }
            },
            "type": "barpolar"
           }
          ],
          "carpet": [
           {
            "aaxis": {
             "endlinecolor": "#2a3f5f",
             "gridcolor": "white",
             "linecolor": "white",
             "minorgridcolor": "white",
             "startlinecolor": "#2a3f5f"
            },
            "baxis": {
             "endlinecolor": "#2a3f5f",
             "gridcolor": "white",
             "linecolor": "white",
             "minorgridcolor": "white",
             "startlinecolor": "#2a3f5f"
            },
            "type": "carpet"
           }
          ],
          "choropleth": [
           {
            "colorbar": {
             "outlinewidth": 0,
             "ticks": ""
            },
            "type": "choropleth"
           }
          ],
          "contour": [
           {
            "colorbar": {
             "outlinewidth": 0,
             "ticks": ""
            },
            "colorscale": [
             [
              0,
              "#0d0887"
             ],
             [
              0.1111111111111111,
              "#46039f"
             ],
             [
              0.2222222222222222,
              "#7201a8"
             ],
             [
              0.3333333333333333,
              "#9c179e"
             ],
             [
              0.4444444444444444,
              "#bd3786"
             ],
             [
              0.5555555555555556,
              "#d8576b"
             ],
             [
              0.6666666666666666,
              "#ed7953"
             ],
             [
              0.7777777777777778,
              "#fb9f3a"
             ],
             [
              0.8888888888888888,
              "#fdca26"
             ],
             [
              1,
              "#f0f921"
             ]
            ],
            "type": "contour"
           }
          ],
          "contourcarpet": [
           {
            "colorbar": {
             "outlinewidth": 0,
             "ticks": ""
            },
            "type": "contourcarpet"
           }
          ],
          "heatmap": [
           {
            "colorbar": {
             "outlinewidth": 0,
             "ticks": ""
            },
            "colorscale": [
             [
              0,
              "#0d0887"
             ],
             [
              0.1111111111111111,
              "#46039f"
             ],
             [
              0.2222222222222222,
              "#7201a8"
             ],
             [
              0.3333333333333333,
              "#9c179e"
             ],
             [
              0.4444444444444444,
              "#bd3786"
             ],
             [
              0.5555555555555556,
              "#d8576b"
             ],
             [
              0.6666666666666666,
              "#ed7953"
             ],
             [
              0.7777777777777778,
              "#fb9f3a"
             ],
             [
              0.8888888888888888,
              "#fdca26"
             ],
             [
              1,
              "#f0f921"
             ]
            ],
            "type": "heatmap"
           }
          ],
          "heatmapgl": [
           {
            "colorbar": {
             "outlinewidth": 0,
             "ticks": ""
            },
            "colorscale": [
             [
              0,
              "#0d0887"
             ],
             [
              0.1111111111111111,
              "#46039f"
             ],
             [
              0.2222222222222222,
              "#7201a8"
             ],
             [
              0.3333333333333333,
              "#9c179e"
             ],
             [
              0.4444444444444444,
              "#bd3786"
             ],
             [
              0.5555555555555556,
              "#d8576b"
             ],
             [
              0.6666666666666666,
              "#ed7953"
             ],
             [
              0.7777777777777778,
              "#fb9f3a"
             ],
             [
              0.8888888888888888,
              "#fdca26"
             ],
             [
              1,
              "#f0f921"
             ]
            ],
            "type": "heatmapgl"
           }
          ],
          "histogram": [
           {
            "marker": {
             "colorbar": {
              "outlinewidth": 0,
              "ticks": ""
             }
            },
            "type": "histogram"
           }
          ],
          "histogram2d": [
           {
            "colorbar": {
             "outlinewidth": 0,
             "ticks": ""
            },
            "colorscale": [
             [
              0,
              "#0d0887"
             ],
             [
              0.1111111111111111,
              "#46039f"
             ],
             [
              0.2222222222222222,
              "#7201a8"
             ],
             [
              0.3333333333333333,
              "#9c179e"
             ],
             [
              0.4444444444444444,
              "#bd3786"
             ],
             [
              0.5555555555555556,
              "#d8576b"
             ],
             [
              0.6666666666666666,
              "#ed7953"
             ],
             [
              0.7777777777777778,
              "#fb9f3a"
             ],
             [
              0.8888888888888888,
              "#fdca26"
             ],
             [
              1,
              "#f0f921"
             ]
            ],
            "type": "histogram2d"
           }
          ],
          "histogram2dcontour": [
           {
            "colorbar": {
             "outlinewidth": 0,
             "ticks": ""
            },
            "colorscale": [
             [
              0,
              "#0d0887"
             ],
             [
              0.1111111111111111,
              "#46039f"
             ],
             [
              0.2222222222222222,
              "#7201a8"
             ],
             [
              0.3333333333333333,
              "#9c179e"
             ],
             [
              0.4444444444444444,
              "#bd3786"
             ],
             [
              0.5555555555555556,
              "#d8576b"
             ],
             [
              0.6666666666666666,
              "#ed7953"
             ],
             [
              0.7777777777777778,
              "#fb9f3a"
             ],
             [
              0.8888888888888888,
              "#fdca26"
             ],
             [
              1,
              "#f0f921"
             ]
            ],
            "type": "histogram2dcontour"
           }
          ],
          "mesh3d": [
           {
            "colorbar": {
             "outlinewidth": 0,
             "ticks": ""
            },
            "type": "mesh3d"
           }
          ],
          "parcoords": [
           {
            "line": {
             "colorbar": {
              "outlinewidth": 0,
              "ticks": ""
             }
            },
            "type": "parcoords"
           }
          ],
          "pie": [
           {
            "automargin": true,
            "type": "pie"
           }
          ],
          "scatter": [
           {
            "marker": {
             "colorbar": {
              "outlinewidth": 0,
              "ticks": ""
             }
            },
            "type": "scatter"
           }
          ],
          "scatter3d": [
           {
            "line": {
             "colorbar": {
              "outlinewidth": 0,
              "ticks": ""
             }
            },
            "marker": {
             "colorbar": {
              "outlinewidth": 0,
              "ticks": ""
             }
            },
            "type": "scatter3d"
           }
          ],
          "scattercarpet": [
           {
            "marker": {
             "colorbar": {
              "outlinewidth": 0,
              "ticks": ""
             }
            },
            "type": "scattercarpet"
           }
          ],
          "scattergeo": [
           {
            "marker": {
             "colorbar": {
              "outlinewidth": 0,
              "ticks": ""
             }
            },
            "type": "scattergeo"
           }
          ],
          "scattergl": [
           {
            "marker": {
             "colorbar": {
              "outlinewidth": 0,
              "ticks": ""
             }
            },
            "type": "scattergl"
           }
          ],
          "scattermapbox": [
           {
            "marker": {
             "colorbar": {
              "outlinewidth": 0,
              "ticks": ""
             }
            },
            "type": "scattermapbox"
           }
          ],
          "scatterpolar": [
           {
            "marker": {
             "colorbar": {
              "outlinewidth": 0,
              "ticks": ""
             }
            },
            "type": "scatterpolar"
           }
          ],
          "scatterpolargl": [
           {
            "marker": {
             "colorbar": {
              "outlinewidth": 0,
              "ticks": ""
             }
            },
            "type": "scatterpolargl"
           }
          ],
          "scatterternary": [
           {
            "marker": {
             "colorbar": {
              "outlinewidth": 0,
              "ticks": ""
             }
            },
            "type": "scatterternary"
           }
          ],
          "surface": [
           {
            "colorbar": {
             "outlinewidth": 0,
             "ticks": ""
            },
            "colorscale": [
             [
              0,
              "#0d0887"
             ],
             [
              0.1111111111111111,
              "#46039f"
             ],
             [
              0.2222222222222222,
              "#7201a8"
             ],
             [
              0.3333333333333333,
              "#9c179e"
             ],
             [
              0.4444444444444444,
              "#bd3786"
             ],
             [
              0.5555555555555556,
              "#d8576b"
             ],
             [
              0.6666666666666666,
              "#ed7953"
             ],
             [
              0.7777777777777778,
              "#fb9f3a"
             ],
             [
              0.8888888888888888,
              "#fdca26"
             ],
             [
              1,
              "#f0f921"
             ]
            ],
            "type": "surface"
           }
          ],
          "table": [
           {
            "cells": {
             "fill": {
              "color": "#EBF0F8"
             },
             "line": {
              "color": "white"
             }
            },
            "header": {
             "fill": {
              "color": "#C8D4E3"
             },
             "line": {
              "color": "white"
             }
            },
            "type": "table"
           }
          ]
         },
         "layout": {
          "annotationdefaults": {
           "arrowcolor": "#2a3f5f",
           "arrowhead": 0,
           "arrowwidth": 1
          },
          "autotypenumbers": "strict",
          "coloraxis": {
           "colorbar": {
            "outlinewidth": 0,
            "ticks": ""
           }
          },
          "colorscale": {
           "diverging": [
            [
             0,
             "#8e0152"
            ],
            [
             0.1,
             "#c51b7d"
            ],
            [
             0.2,
             "#de77ae"
            ],
            [
             0.3,
             "#f1b6da"
            ],
            [
             0.4,
             "#fde0ef"
            ],
            [
             0.5,
             "#f7f7f7"
            ],
            [
             0.6,
             "#e6f5d0"
            ],
            [
             0.7,
             "#b8e186"
            ],
            [
             0.8,
             "#7fbc41"
            ],
            [
             0.9,
             "#4d9221"
            ],
            [
             1,
             "#276419"
            ]
           ],
           "sequential": [
            [
             0,
             "#0d0887"
            ],
            [
             0.1111111111111111,
             "#46039f"
            ],
            [
             0.2222222222222222,
             "#7201a8"
            ],
            [
             0.3333333333333333,
             "#9c179e"
            ],
            [
             0.4444444444444444,
             "#bd3786"
            ],
            [
             0.5555555555555556,
             "#d8576b"
            ],
            [
             0.6666666666666666,
             "#ed7953"
            ],
            [
             0.7777777777777778,
             "#fb9f3a"
            ],
            [
             0.8888888888888888,
             "#fdca26"
            ],
            [
             1,
             "#f0f921"
            ]
           ],
           "sequentialminus": [
            [
             0,
             "#0d0887"
            ],
            [
             0.1111111111111111,
             "#46039f"
            ],
            [
             0.2222222222222222,
             "#7201a8"
            ],
            [
             0.3333333333333333,
             "#9c179e"
            ],
            [
             0.4444444444444444,
             "#bd3786"
            ],
            [
             0.5555555555555556,
             "#d8576b"
            ],
            [
             0.6666666666666666,
             "#ed7953"
            ],
            [
             0.7777777777777778,
             "#fb9f3a"
            ],
            [
             0.8888888888888888,
             "#fdca26"
            ],
            [
             1,
             "#f0f921"
            ]
           ]
          },
          "colorway": [
           "#636efa",
           "#EF553B",
           "#00cc96",
           "#ab63fa",
           "#FFA15A",
           "#19d3f3",
           "#FF6692",
           "#B6E880",
           "#FF97FF",
           "#FECB52"
          ],
          "font": {
           "color": "#2a3f5f"
          },
          "geo": {
           "bgcolor": "white",
           "lakecolor": "white",
           "landcolor": "#E5ECF6",
           "showlakes": true,
           "showland": true,
           "subunitcolor": "white"
          },
          "hoverlabel": {
           "align": "left"
          },
          "hovermode": "closest",
          "mapbox": {
           "style": "light"
          },
          "paper_bgcolor": "white",
          "plot_bgcolor": "#E5ECF6",
          "polar": {
           "angularaxis": {
            "gridcolor": "white",
            "linecolor": "white",
            "ticks": ""
           },
           "bgcolor": "#E5ECF6",
           "radialaxis": {
            "gridcolor": "white",
            "linecolor": "white",
            "ticks": ""
           }
          },
          "scene": {
           "xaxis": {
            "backgroundcolor": "#E5ECF6",
            "gridcolor": "white",
            "gridwidth": 2,
            "linecolor": "white",
            "showbackground": true,
            "ticks": "",
            "zerolinecolor": "white"
           },
           "yaxis": {
            "backgroundcolor": "#E5ECF6",
            "gridcolor": "white",
            "gridwidth": 2,
            "linecolor": "white",
            "showbackground": true,
            "ticks": "",
            "zerolinecolor": "white"
           },
           "zaxis": {
            "backgroundcolor": "#E5ECF6",
            "gridcolor": "white",
            "gridwidth": 2,
            "linecolor": "white",
            "showbackground": true,
            "ticks": "",
            "zerolinecolor": "white"
           }
          },
          "shapedefaults": {
           "line": {
            "color": "#2a3f5f"
           }
          },
          "ternary": {
           "aaxis": {
            "gridcolor": "white",
            "linecolor": "white",
            "ticks": ""
           },
           "baxis": {
            "gridcolor": "white",
            "linecolor": "white",
            "ticks": ""
           },
           "bgcolor": "#E5ECF6",
           "caxis": {
            "gridcolor": "white",
            "linecolor": "white",
            "ticks": ""
           }
          },
          "title": {
           "x": 0.05
          },
          "xaxis": {
           "automargin": true,
           "gridcolor": "white",
           "linecolor": "white",
           "ticks": "",
           "title": {
            "standoff": 15
           },
           "zerolinecolor": "white",
           "zerolinewidth": 2
          },
          "yaxis": {
           "automargin": true,
           "gridcolor": "white",
           "linecolor": "white",
           "ticks": "",
           "title": {
            "standoff": 15
           },
           "zerolinecolor": "white",
           "zerolinewidth": 2
          }
         }
        },
        "xaxis": {
         "anchor": "y",
         "autorange": true,
         "domain": [
          0,
          1
         ],
         "range": [
          -0.5,
          16.5
         ],
         "title": {
          "text": "COMUNIDAD_AUTONOMA"
         },
         "type": "category"
        },
        "yaxis": {
         "anchor": "x",
         "autorange": true,
         "domain": [
          0,
          1
         ],
         "range": [
          0,
          4.70715304240018
         ],
         "title": {
          "text": "CAMAS_1000_HABITANTES"
         },
         "type": "linear"
        }
       }
      },
      "text/html": [
       "<div>                            <div id=\"bdc875f3-d8e3-4a5a-bcea-5ba91afffb09\" class=\"plotly-graph-div\" style=\"height:525px; width:100%;\"></div>            <script type=\"text/javascript\">                require([\"plotly\"], function(Plotly) {                    window.PLOTLYENV=window.PLOTLYENV || {};                                    if (document.getElementById(\"bdc875f3-d8e3-4a5a-bcea-5ba91afffb09\")) {                    Plotly.newPlot(                        \"bdc875f3-d8e3-4a5a-bcea-5ba91afffb09\",                        [{\"alignmentgroup\": \"True\", \"hovertemplate\": \"COMUNIDAD_AUTONOMA=%{x}<br>CAMAS_1000_HABITANTES=%{y}<br>GASTO_HABITANTE=%{marker.color}<extra></extra>\", \"legendgroup\": \"\", \"marker\": {\"color\": [1.1564602017115608, 1.2169422969735844, 1.252638265606876, 1.3260817995395071, 1.4773030106697576, 1.4973440831356573, 1.7079604090270026, 1.3997401305569965, 1.3807260991025958, 1.516387968992436, 1.2849223976469613, 1.6097526481909883, 1.5054738746889844, 1.7261527180289402, 1.660999306037474, 1.504493372662534, 1.3856874096427376], \"coloraxis\": \"coloraxis\"}, \"name\": \"\", \"offsetgroup\": \"\", \"orientation\": \"v\", \"showlegend\": false, \"textposition\": \"auto\", \"type\": \"bar\", \"x\": [\"CATALU\\u00d1A\", \"MADRID\", \"ANDALUC\\u00cdA\", \"COMUNIDAD VALENCIANA\", \"GALICIA\", \"CASTILLA Y LE\\u00d3N\", \"PA\\u00cdS VASCO\", \"CANARIAS\", \"CASTILLA-LA MANCHA\", \"ARAG\\u00d3N\", \"MURCIA\", \"EXTREMADURA\", \"ILLES BALEARS\", \"ASTURIAS\", \"NAVARRA\", \"CANTABRIA\", \"LA RIOJA\"], \"xaxis\": \"x\", \"y\": [4.471795390280171, 3.2565986642842972, 2.5373652284698323, 2.7601194219797116, 3.6180787620221384, 3.8048832530126506, 3.612232400388445, 3.1708158628097385, 2.9018187649635023, 4.0097294683280635, 3.2545729360371323, 4.048852216425808, 3.4590155377307608, 3.8423934298005475, 3.563054291103523, 2.894619999380462, 3.3144148637302], \"yaxis\": \"y\"}],                        {\"barmode\": \"relative\", \"coloraxis\": {\"colorbar\": {\"title\": {\"text\": \"GASTO_HABITANTE\"}}, \"colorscale\": [[0.0, \"#0d0887\"], [0.1111111111111111, \"#46039f\"], [0.2222222222222222, \"#7201a8\"], [0.3333333333333333, \"#9c179e\"], [0.4444444444444444, \"#bd3786\"], [0.5555555555555556, \"#d8576b\"], [0.6666666666666666, \"#ed7953\"], [0.7777777777777778, \"#fb9f3a\"], [0.8888888888888888, \"#fdca26\"], [1.0, \"#f0f921\"]]}, \"legend\": {\"tracegroupgap\": 0}, \"margin\": {\"t\": 60}, \"template\": {\"data\": {\"bar\": [{\"error_x\": {\"color\": \"#2a3f5f\"}, \"error_y\": {\"color\": \"#2a3f5f\"}, \"marker\": {\"line\": {\"color\": \"#E5ECF6\", \"width\": 0.5}}, \"type\": \"bar\"}], \"barpolar\": [{\"marker\": {\"line\": {\"color\": \"#E5ECF6\", \"width\": 0.5}}, \"type\": \"barpolar\"}], \"carpet\": [{\"aaxis\": {\"endlinecolor\": \"#2a3f5f\", \"gridcolor\": \"white\", \"linecolor\": \"white\", \"minorgridcolor\": \"white\", \"startlinecolor\": \"#2a3f5f\"}, \"baxis\": {\"endlinecolor\": \"#2a3f5f\", \"gridcolor\": \"white\", \"linecolor\": \"white\", \"minorgridcolor\": \"white\", \"startlinecolor\": \"#2a3f5f\"}, \"type\": \"carpet\"}], \"choropleth\": [{\"colorbar\": {\"outlinewidth\": 0, \"ticks\": \"\"}, \"type\": \"choropleth\"}], \"contour\": [{\"colorbar\": {\"outlinewidth\": 0, \"ticks\": \"\"}, \"colorscale\": [[0.0, \"#0d0887\"], [0.1111111111111111, \"#46039f\"], [0.2222222222222222, \"#7201a8\"], [0.3333333333333333, \"#9c179e\"], [0.4444444444444444, \"#bd3786\"], [0.5555555555555556, \"#d8576b\"], [0.6666666666666666, \"#ed7953\"], [0.7777777777777778, \"#fb9f3a\"], [0.8888888888888888, \"#fdca26\"], [1.0, \"#f0f921\"]], \"type\": \"contour\"}], \"contourcarpet\": [{\"colorbar\": {\"outlinewidth\": 0, \"ticks\": \"\"}, \"type\": \"contourcarpet\"}], \"heatmap\": [{\"colorbar\": {\"outlinewidth\": 0, \"ticks\": \"\"}, \"colorscale\": [[0.0, \"#0d0887\"], [0.1111111111111111, \"#46039f\"], [0.2222222222222222, \"#7201a8\"], [0.3333333333333333, \"#9c179e\"], [0.4444444444444444, \"#bd3786\"], [0.5555555555555556, \"#d8576b\"], [0.6666666666666666, \"#ed7953\"], [0.7777777777777778, \"#fb9f3a\"], [0.8888888888888888, \"#fdca26\"], [1.0, \"#f0f921\"]], \"type\": \"heatmap\"}], \"heatmapgl\": [{\"colorbar\": {\"outlinewidth\": 0, \"ticks\": \"\"}, \"colorscale\": [[0.0, \"#0d0887\"], [0.1111111111111111, \"#46039f\"], [0.2222222222222222, \"#7201a8\"], [0.3333333333333333, \"#9c179e\"], [0.4444444444444444, \"#bd3786\"], [0.5555555555555556, \"#d8576b\"], [0.6666666666666666, \"#ed7953\"], [0.7777777777777778, \"#fb9f3a\"], [0.8888888888888888, \"#fdca26\"], [1.0, \"#f0f921\"]], \"type\": \"heatmapgl\"}], \"histogram\": [{\"marker\": {\"colorbar\": {\"outlinewidth\": 0, \"ticks\": \"\"}}, \"type\": \"histogram\"}], \"histogram2d\": [{\"colorbar\": {\"outlinewidth\": 0, \"ticks\": \"\"}, \"colorscale\": [[0.0, \"#0d0887\"], [0.1111111111111111, \"#46039f\"], [0.2222222222222222, \"#7201a8\"], [0.3333333333333333, \"#9c179e\"], [0.4444444444444444, \"#bd3786\"], [0.5555555555555556, \"#d8576b\"], [0.6666666666666666, \"#ed7953\"], [0.7777777777777778, \"#fb9f3a\"], [0.8888888888888888, \"#fdca26\"], [1.0, \"#f0f921\"]], \"type\": \"histogram2d\"}], \"histogram2dcontour\": [{\"colorbar\": {\"outlinewidth\": 0, \"ticks\": \"\"}, \"colorscale\": [[0.0, \"#0d0887\"], [0.1111111111111111, \"#46039f\"], [0.2222222222222222, \"#7201a8\"], [0.3333333333333333, \"#9c179e\"], [0.4444444444444444, \"#bd3786\"], [0.5555555555555556, \"#d8576b\"], [0.6666666666666666, \"#ed7953\"], [0.7777777777777778, \"#fb9f3a\"], [0.8888888888888888, \"#fdca26\"], [1.0, \"#f0f921\"]], \"type\": \"histogram2dcontour\"}], \"mesh3d\": [{\"colorbar\": {\"outlinewidth\": 0, \"ticks\": \"\"}, \"type\": \"mesh3d\"}], \"parcoords\": [{\"line\": {\"colorbar\": {\"outlinewidth\": 0, \"ticks\": \"\"}}, \"type\": \"parcoords\"}], \"pie\": [{\"automargin\": true, \"type\": \"pie\"}], \"scatter\": [{\"marker\": {\"colorbar\": {\"outlinewidth\": 0, \"ticks\": \"\"}}, \"type\": \"scatter\"}], \"scatter3d\": [{\"line\": {\"colorbar\": {\"outlinewidth\": 0, \"ticks\": \"\"}}, \"marker\": {\"colorbar\": {\"outlinewidth\": 0, \"ticks\": \"\"}}, \"type\": \"scatter3d\"}], \"scattercarpet\": [{\"marker\": {\"colorbar\": {\"outlinewidth\": 0, \"ticks\": \"\"}}, \"type\": \"scattercarpet\"}], \"scattergeo\": [{\"marker\": {\"colorbar\": {\"outlinewidth\": 0, \"ticks\": \"\"}}, \"type\": \"scattergeo\"}], \"scattergl\": [{\"marker\": {\"colorbar\": {\"outlinewidth\": 0, \"ticks\": \"\"}}, \"type\": \"scattergl\"}], \"scattermapbox\": [{\"marker\": {\"colorbar\": {\"outlinewidth\": 0, \"ticks\": \"\"}}, \"type\": \"scattermapbox\"}], \"scatterpolar\": [{\"marker\": {\"colorbar\": {\"outlinewidth\": 0, \"ticks\": \"\"}}, \"type\": \"scatterpolar\"}], \"scatterpolargl\": [{\"marker\": {\"colorbar\": {\"outlinewidth\": 0, \"ticks\": \"\"}}, \"type\": \"scatterpolargl\"}], \"scatterternary\": [{\"marker\": {\"colorbar\": {\"outlinewidth\": 0, \"ticks\": \"\"}}, \"type\": \"scatterternary\"}], \"surface\": [{\"colorbar\": {\"outlinewidth\": 0, \"ticks\": \"\"}, \"colorscale\": [[0.0, \"#0d0887\"], [0.1111111111111111, \"#46039f\"], [0.2222222222222222, \"#7201a8\"], [0.3333333333333333, \"#9c179e\"], [0.4444444444444444, \"#bd3786\"], [0.5555555555555556, \"#d8576b\"], [0.6666666666666666, \"#ed7953\"], [0.7777777777777778, \"#fb9f3a\"], [0.8888888888888888, \"#fdca26\"], [1.0, \"#f0f921\"]], \"type\": \"surface\"}], \"table\": [{\"cells\": {\"fill\": {\"color\": \"#EBF0F8\"}, \"line\": {\"color\": \"white\"}}, \"header\": {\"fill\": {\"color\": \"#C8D4E3\"}, \"line\": {\"color\": \"white\"}}, \"type\": \"table\"}]}, \"layout\": {\"annotationdefaults\": {\"arrowcolor\": \"#2a3f5f\", \"arrowhead\": 0, \"arrowwidth\": 1}, \"autotypenumbers\": \"strict\", \"coloraxis\": {\"colorbar\": {\"outlinewidth\": 0, \"ticks\": \"\"}}, \"colorscale\": {\"diverging\": [[0, \"#8e0152\"], [0.1, \"#c51b7d\"], [0.2, \"#de77ae\"], [0.3, \"#f1b6da\"], [0.4, \"#fde0ef\"], [0.5, \"#f7f7f7\"], [0.6, \"#e6f5d0\"], [0.7, \"#b8e186\"], [0.8, \"#7fbc41\"], [0.9, \"#4d9221\"], [1, \"#276419\"]], \"sequential\": [[0.0, \"#0d0887\"], [0.1111111111111111, \"#46039f\"], [0.2222222222222222, \"#7201a8\"], [0.3333333333333333, \"#9c179e\"], [0.4444444444444444, \"#bd3786\"], [0.5555555555555556, \"#d8576b\"], [0.6666666666666666, \"#ed7953\"], [0.7777777777777778, \"#fb9f3a\"], [0.8888888888888888, \"#fdca26\"], [1.0, \"#f0f921\"]], \"sequentialminus\": [[0.0, \"#0d0887\"], [0.1111111111111111, \"#46039f\"], [0.2222222222222222, \"#7201a8\"], [0.3333333333333333, \"#9c179e\"], [0.4444444444444444, \"#bd3786\"], [0.5555555555555556, \"#d8576b\"], [0.6666666666666666, \"#ed7953\"], [0.7777777777777778, \"#fb9f3a\"], [0.8888888888888888, \"#fdca26\"], [1.0, \"#f0f921\"]]}, \"colorway\": [\"#636efa\", \"#EF553B\", \"#00cc96\", \"#ab63fa\", \"#FFA15A\", \"#19d3f3\", \"#FF6692\", \"#B6E880\", \"#FF97FF\", \"#FECB52\"], \"font\": {\"color\": \"#2a3f5f\"}, \"geo\": {\"bgcolor\": \"white\", \"lakecolor\": \"white\", \"landcolor\": \"#E5ECF6\", \"showlakes\": true, \"showland\": true, \"subunitcolor\": \"white\"}, \"hoverlabel\": {\"align\": \"left\"}, \"hovermode\": \"closest\", \"mapbox\": {\"style\": \"light\"}, \"paper_bgcolor\": \"white\", \"plot_bgcolor\": \"#E5ECF6\", \"polar\": {\"angularaxis\": {\"gridcolor\": \"white\", \"linecolor\": \"white\", \"ticks\": \"\"}, \"bgcolor\": \"#E5ECF6\", \"radialaxis\": {\"gridcolor\": \"white\", \"linecolor\": \"white\", \"ticks\": \"\"}}, \"scene\": {\"xaxis\": {\"backgroundcolor\": \"#E5ECF6\", \"gridcolor\": \"white\", \"gridwidth\": 2, \"linecolor\": \"white\", \"showbackground\": true, \"ticks\": \"\", \"zerolinecolor\": \"white\"}, \"yaxis\": {\"backgroundcolor\": \"#E5ECF6\", \"gridcolor\": \"white\", \"gridwidth\": 2, \"linecolor\": \"white\", \"showbackground\": true, \"ticks\": \"\", \"zerolinecolor\": \"white\"}, \"zaxis\": {\"backgroundcolor\": \"#E5ECF6\", \"gridcolor\": \"white\", \"gridwidth\": 2, \"linecolor\": \"white\", \"showbackground\": true, \"ticks\": \"\", \"zerolinecolor\": \"white\"}}, \"shapedefaults\": {\"line\": {\"color\": \"#2a3f5f\"}}, \"ternary\": {\"aaxis\": {\"gridcolor\": \"white\", \"linecolor\": \"white\", \"ticks\": \"\"}, \"baxis\": {\"gridcolor\": \"white\", \"linecolor\": \"white\", \"ticks\": \"\"}, \"bgcolor\": \"#E5ECF6\", \"caxis\": {\"gridcolor\": \"white\", \"linecolor\": \"white\", \"ticks\": \"\"}}, \"title\": {\"x\": 0.05}, \"xaxis\": {\"automargin\": true, \"gridcolor\": \"white\", \"linecolor\": \"white\", \"ticks\": \"\", \"title\": {\"standoff\": 15}, \"zerolinecolor\": \"white\", \"zerolinewidth\": 2}, \"yaxis\": {\"automargin\": true, \"gridcolor\": \"white\", \"linecolor\": \"white\", \"ticks\": \"\", \"title\": {\"standoff\": 15}, \"zerolinecolor\": \"white\", \"zerolinewidth\": 2}}}, \"xaxis\": {\"anchor\": \"y\", \"domain\": [0.0, 1.0], \"title\": {\"text\": \"COMUNIDAD_AUTONOMA\"}}, \"yaxis\": {\"anchor\": \"x\", \"domain\": [0.0, 1.0], \"title\": {\"text\": \"CAMAS_1000_HABITANTES\"}}},                        {\"responsive\": true}                    ).then(function(){\n",
       "                            \n",
       "var gd = document.getElementById('bdc875f3-d8e3-4a5a-bcea-5ba91afffb09');\n",
       "var x = new MutationObserver(function (mutations, observer) {{\n",
       "        var display = window.getComputedStyle(gd).display;\n",
       "        if (!display || display === 'none') {{\n",
       "            console.log([gd, 'removed!']);\n",
       "            Plotly.purge(gd);\n",
       "            observer.disconnect();\n",
       "        }}\n",
       "}});\n",
       "\n",
       "// Listen for the removal of the full notebook cells\n",
       "var notebookContainer = gd.closest('#notebook-container');\n",
       "if (notebookContainer) {{\n",
       "    x.observe(notebookContainer, {childList: true});\n",
       "}}\n",
       "\n",
       "// Listen for the clearing of the current output cell\n",
       "var outputEl = gd.closest('.output');\n",
       "if (outputEl) {{\n",
       "    x.observe(outputEl, {childList: true});\n",
       "}}\n",
       "\n",
       "                        })                };                });            </script>        </div>"
      ]
     },
     "metadata": {},
     "output_type": "display_data"
    },
    {
     "data": {
      "text/plain": [
       "<Figure size 432x288 with 0 Axes>"
      ]
     },
     "metadata": {},
     "output_type": "display_data"
    }
   ],
   "source": [
    "import plotly.express as px\n",
    "\n",
    "df2 = df2.sort_values(by='NUMERO_CAMAS', ascending=False)\n",
    "\n",
    "fig = px.bar(\n",
    "    df2,\n",
    "    x = 'COMUNIDAD_AUTONOMA',\n",
    "    y = 'CAMAS_1000_HABITANTES',\n",
    "    color = 'GASTO_HABITANTE'\n",
    ")\n",
    "\n",
    "fig.show();\n",
    "\n",
    "plt.tight_layout() #sirve apra que no corte bordes\n",
    "plt.savefig('camas_gasto.jpeg', dpi=100)"
   ]
  },
  {
   "cell_type": "code",
   "execution_count": 51,
   "id": "1bf0b416",
   "metadata": {},
   "outputs": [
    {
     "data": {
      "application/vnd.plotly.v1+json": {
       "config": {
        "plotlyServerURL": "https://plot.ly"
       },
       "data": [
        {
         "alignmentgroup": "True",
         "hovertemplate": "COMUNIDAD_AUTONOMA=%{x}<br>NUMERO_CAMAS=%{y}<br>GASTO_SANIDAD=%{marker.color}<extra></extra>",
         "legendgroup": "",
         "marker": {
          "color": [
           8876083,
           8108966,
           10539999,
           6635407,
           3987978,
           3592949,
           3770794,
           3014185,
           2806827,
           2000557,
           1919543,
           1718749,
           1730482,
           1765509,
           1086649,
           874228,
           438983
          ],
          "coloraxis": "coloraxis"
         },
         "name": "",
         "offsetgroup": "",
         "orientation": "v",
         "showlegend": false,
         "textposition": "auto",
         "type": "bar",
         "x": [
          "CATALUÑA",
          "MADRID",
          "ANDALUCÍA",
          "COMUNIDAD VALENCIANA",
          "GALICIA",
          "CASTILLA Y LEÓN",
          "PAÍS VASCO",
          "CANARIAS",
          "CASTILLA-LA MANCHA",
          "ARAGÓN",
          "MURCIA",
          "EXTREMADURA",
          "ILLES BALEARS",
          "ASTURIAS",
          "NAVARRA",
          "CANTABRIA",
          "LA RIOJA"
         ],
         "xaxis": "x",
         "y": [
          34322,
          21700,
          21350,
          13811,
          9767,
          9130,
          7975,
          6828,
          5899,
          5290,
          4862,
          4323,
          3976,
          3930,
          2331,
          1682,
          1050
         ],
         "yaxis": "y"
        }
       ],
       "layout": {
        "autosize": true,
        "barmode": "relative",
        "coloraxis": {
         "colorbar": {
          "title": {
           "text": "GASTO_SANIDAD"
          }
         },
         "colorscale": [
          [
           0,
           "#0d0887"
          ],
          [
           0.1111111111111111,
           "#46039f"
          ],
          [
           0.2222222222222222,
           "#7201a8"
          ],
          [
           0.3333333333333333,
           "#9c179e"
          ],
          [
           0.4444444444444444,
           "#bd3786"
          ],
          [
           0.5555555555555556,
           "#d8576b"
          ],
          [
           0.6666666666666666,
           "#ed7953"
          ],
          [
           0.7777777777777778,
           "#fb9f3a"
          ],
          [
           0.8888888888888888,
           "#fdca26"
          ],
          [
           1,
           "#f0f921"
          ]
         ]
        },
        "legend": {
         "tracegroupgap": 0
        },
        "margin": {
         "t": 60
        },
        "template": {
         "data": {
          "bar": [
           {
            "error_x": {
             "color": "#2a3f5f"
            },
            "error_y": {
             "color": "#2a3f5f"
            },
            "marker": {
             "line": {
              "color": "#E5ECF6",
              "width": 0.5
             }
            },
            "type": "bar"
           }
          ],
          "barpolar": [
           {
            "marker": {
             "line": {
              "color": "#E5ECF6",
              "width": 0.5
             }
            },
            "type": "barpolar"
           }
          ],
          "carpet": [
           {
            "aaxis": {
             "endlinecolor": "#2a3f5f",
             "gridcolor": "white",
             "linecolor": "white",
             "minorgridcolor": "white",
             "startlinecolor": "#2a3f5f"
            },
            "baxis": {
             "endlinecolor": "#2a3f5f",
             "gridcolor": "white",
             "linecolor": "white",
             "minorgridcolor": "white",
             "startlinecolor": "#2a3f5f"
            },
            "type": "carpet"
           }
          ],
          "choropleth": [
           {
            "colorbar": {
             "outlinewidth": 0,
             "ticks": ""
            },
            "type": "choropleth"
           }
          ],
          "contour": [
           {
            "colorbar": {
             "outlinewidth": 0,
             "ticks": ""
            },
            "colorscale": [
             [
              0,
              "#0d0887"
             ],
             [
              0.1111111111111111,
              "#46039f"
             ],
             [
              0.2222222222222222,
              "#7201a8"
             ],
             [
              0.3333333333333333,
              "#9c179e"
             ],
             [
              0.4444444444444444,
              "#bd3786"
             ],
             [
              0.5555555555555556,
              "#d8576b"
             ],
             [
              0.6666666666666666,
              "#ed7953"
             ],
             [
              0.7777777777777778,
              "#fb9f3a"
             ],
             [
              0.8888888888888888,
              "#fdca26"
             ],
             [
              1,
              "#f0f921"
             ]
            ],
            "type": "contour"
           }
          ],
          "contourcarpet": [
           {
            "colorbar": {
             "outlinewidth": 0,
             "ticks": ""
            },
            "type": "contourcarpet"
           }
          ],
          "heatmap": [
           {
            "colorbar": {
             "outlinewidth": 0,
             "ticks": ""
            },
            "colorscale": [
             [
              0,
              "#0d0887"
             ],
             [
              0.1111111111111111,
              "#46039f"
             ],
             [
              0.2222222222222222,
              "#7201a8"
             ],
             [
              0.3333333333333333,
              "#9c179e"
             ],
             [
              0.4444444444444444,
              "#bd3786"
             ],
             [
              0.5555555555555556,
              "#d8576b"
             ],
             [
              0.6666666666666666,
              "#ed7953"
             ],
             [
              0.7777777777777778,
              "#fb9f3a"
             ],
             [
              0.8888888888888888,
              "#fdca26"
             ],
             [
              1,
              "#f0f921"
             ]
            ],
            "type": "heatmap"
           }
          ],
          "heatmapgl": [
           {
            "colorbar": {
             "outlinewidth": 0,
             "ticks": ""
            },
            "colorscale": [
             [
              0,
              "#0d0887"
             ],
             [
              0.1111111111111111,
              "#46039f"
             ],
             [
              0.2222222222222222,
              "#7201a8"
             ],
             [
              0.3333333333333333,
              "#9c179e"
             ],
             [
              0.4444444444444444,
              "#bd3786"
             ],
             [
              0.5555555555555556,
              "#d8576b"
             ],
             [
              0.6666666666666666,
              "#ed7953"
             ],
             [
              0.7777777777777778,
              "#fb9f3a"
             ],
             [
              0.8888888888888888,
              "#fdca26"
             ],
             [
              1,
              "#f0f921"
             ]
            ],
            "type": "heatmapgl"
           }
          ],
          "histogram": [
           {
            "marker": {
             "colorbar": {
              "outlinewidth": 0,
              "ticks": ""
             }
            },
            "type": "histogram"
           }
          ],
          "histogram2d": [
           {
            "colorbar": {
             "outlinewidth": 0,
             "ticks": ""
            },
            "colorscale": [
             [
              0,
              "#0d0887"
             ],
             [
              0.1111111111111111,
              "#46039f"
             ],
             [
              0.2222222222222222,
              "#7201a8"
             ],
             [
              0.3333333333333333,
              "#9c179e"
             ],
             [
              0.4444444444444444,
              "#bd3786"
             ],
             [
              0.5555555555555556,
              "#d8576b"
             ],
             [
              0.6666666666666666,
              "#ed7953"
             ],
             [
              0.7777777777777778,
              "#fb9f3a"
             ],
             [
              0.8888888888888888,
              "#fdca26"
             ],
             [
              1,
              "#f0f921"
             ]
            ],
            "type": "histogram2d"
           }
          ],
          "histogram2dcontour": [
           {
            "colorbar": {
             "outlinewidth": 0,
             "ticks": ""
            },
            "colorscale": [
             [
              0,
              "#0d0887"
             ],
             [
              0.1111111111111111,
              "#46039f"
             ],
             [
              0.2222222222222222,
              "#7201a8"
             ],
             [
              0.3333333333333333,
              "#9c179e"
             ],
             [
              0.4444444444444444,
              "#bd3786"
             ],
             [
              0.5555555555555556,
              "#d8576b"
             ],
             [
              0.6666666666666666,
              "#ed7953"
             ],
             [
              0.7777777777777778,
              "#fb9f3a"
             ],
             [
              0.8888888888888888,
              "#fdca26"
             ],
             [
              1,
              "#f0f921"
             ]
            ],
            "type": "histogram2dcontour"
           }
          ],
          "mesh3d": [
           {
            "colorbar": {
             "outlinewidth": 0,
             "ticks": ""
            },
            "type": "mesh3d"
           }
          ],
          "parcoords": [
           {
            "line": {
             "colorbar": {
              "outlinewidth": 0,
              "ticks": ""
             }
            },
            "type": "parcoords"
           }
          ],
          "pie": [
           {
            "automargin": true,
            "type": "pie"
           }
          ],
          "scatter": [
           {
            "marker": {
             "colorbar": {
              "outlinewidth": 0,
              "ticks": ""
             }
            },
            "type": "scatter"
           }
          ],
          "scatter3d": [
           {
            "line": {
             "colorbar": {
              "outlinewidth": 0,
              "ticks": ""
             }
            },
            "marker": {
             "colorbar": {
              "outlinewidth": 0,
              "ticks": ""
             }
            },
            "type": "scatter3d"
           }
          ],
          "scattercarpet": [
           {
            "marker": {
             "colorbar": {
              "outlinewidth": 0,
              "ticks": ""
             }
            },
            "type": "scattercarpet"
           }
          ],
          "scattergeo": [
           {
            "marker": {
             "colorbar": {
              "outlinewidth": 0,
              "ticks": ""
             }
            },
            "type": "scattergeo"
           }
          ],
          "scattergl": [
           {
            "marker": {
             "colorbar": {
              "outlinewidth": 0,
              "ticks": ""
             }
            },
            "type": "scattergl"
           }
          ],
          "scattermapbox": [
           {
            "marker": {
             "colorbar": {
              "outlinewidth": 0,
              "ticks": ""
             }
            },
            "type": "scattermapbox"
           }
          ],
          "scatterpolar": [
           {
            "marker": {
             "colorbar": {
              "outlinewidth": 0,
              "ticks": ""
             }
            },
            "type": "scatterpolar"
           }
          ],
          "scatterpolargl": [
           {
            "marker": {
             "colorbar": {
              "outlinewidth": 0,
              "ticks": ""
             }
            },
            "type": "scatterpolargl"
           }
          ],
          "scatterternary": [
           {
            "marker": {
             "colorbar": {
              "outlinewidth": 0,
              "ticks": ""
             }
            },
            "type": "scatterternary"
           }
          ],
          "surface": [
           {
            "colorbar": {
             "outlinewidth": 0,
             "ticks": ""
            },
            "colorscale": [
             [
              0,
              "#0d0887"
             ],
             [
              0.1111111111111111,
              "#46039f"
             ],
             [
              0.2222222222222222,
              "#7201a8"
             ],
             [
              0.3333333333333333,
              "#9c179e"
             ],
             [
              0.4444444444444444,
              "#bd3786"
             ],
             [
              0.5555555555555556,
              "#d8576b"
             ],
             [
              0.6666666666666666,
              "#ed7953"
             ],
             [
              0.7777777777777778,
              "#fb9f3a"
             ],
             [
              0.8888888888888888,
              "#fdca26"
             ],
             [
              1,
              "#f0f921"
             ]
            ],
            "type": "surface"
           }
          ],
          "table": [
           {
            "cells": {
             "fill": {
              "color": "#EBF0F8"
             },
             "line": {
              "color": "white"
             }
            },
            "header": {
             "fill": {
              "color": "#C8D4E3"
             },
             "line": {
              "color": "white"
             }
            },
            "type": "table"
           }
          ]
         },
         "layout": {
          "annotationdefaults": {
           "arrowcolor": "#2a3f5f",
           "arrowhead": 0,
           "arrowwidth": 1
          },
          "autotypenumbers": "strict",
          "coloraxis": {
           "colorbar": {
            "outlinewidth": 0,
            "ticks": ""
           }
          },
          "colorscale": {
           "diverging": [
            [
             0,
             "#8e0152"
            ],
            [
             0.1,
             "#c51b7d"
            ],
            [
             0.2,
             "#de77ae"
            ],
            [
             0.3,
             "#f1b6da"
            ],
            [
             0.4,
             "#fde0ef"
            ],
            [
             0.5,
             "#f7f7f7"
            ],
            [
             0.6,
             "#e6f5d0"
            ],
            [
             0.7,
             "#b8e186"
            ],
            [
             0.8,
             "#7fbc41"
            ],
            [
             0.9,
             "#4d9221"
            ],
            [
             1,
             "#276419"
            ]
           ],
           "sequential": [
            [
             0,
             "#0d0887"
            ],
            [
             0.1111111111111111,
             "#46039f"
            ],
            [
             0.2222222222222222,
             "#7201a8"
            ],
            [
             0.3333333333333333,
             "#9c179e"
            ],
            [
             0.4444444444444444,
             "#bd3786"
            ],
            [
             0.5555555555555556,
             "#d8576b"
            ],
            [
             0.6666666666666666,
             "#ed7953"
            ],
            [
             0.7777777777777778,
             "#fb9f3a"
            ],
            [
             0.8888888888888888,
             "#fdca26"
            ],
            [
             1,
             "#f0f921"
            ]
           ],
           "sequentialminus": [
            [
             0,
             "#0d0887"
            ],
            [
             0.1111111111111111,
             "#46039f"
            ],
            [
             0.2222222222222222,
             "#7201a8"
            ],
            [
             0.3333333333333333,
             "#9c179e"
            ],
            [
             0.4444444444444444,
             "#bd3786"
            ],
            [
             0.5555555555555556,
             "#d8576b"
            ],
            [
             0.6666666666666666,
             "#ed7953"
            ],
            [
             0.7777777777777778,
             "#fb9f3a"
            ],
            [
             0.8888888888888888,
             "#fdca26"
            ],
            [
             1,
             "#f0f921"
            ]
           ]
          },
          "colorway": [
           "#636efa",
           "#EF553B",
           "#00cc96",
           "#ab63fa",
           "#FFA15A",
           "#19d3f3",
           "#FF6692",
           "#B6E880",
           "#FF97FF",
           "#FECB52"
          ],
          "font": {
           "color": "#2a3f5f"
          },
          "geo": {
           "bgcolor": "white",
           "lakecolor": "white",
           "landcolor": "#E5ECF6",
           "showlakes": true,
           "showland": true,
           "subunitcolor": "white"
          },
          "hoverlabel": {
           "align": "left"
          },
          "hovermode": "closest",
          "mapbox": {
           "style": "light"
          },
          "paper_bgcolor": "white",
          "plot_bgcolor": "#E5ECF6",
          "polar": {
           "angularaxis": {
            "gridcolor": "white",
            "linecolor": "white",
            "ticks": ""
           },
           "bgcolor": "#E5ECF6",
           "radialaxis": {
            "gridcolor": "white",
            "linecolor": "white",
            "ticks": ""
           }
          },
          "scene": {
           "xaxis": {
            "backgroundcolor": "#E5ECF6",
            "gridcolor": "white",
            "gridwidth": 2,
            "linecolor": "white",
            "showbackground": true,
            "ticks": "",
            "zerolinecolor": "white"
           },
           "yaxis": {
            "backgroundcolor": "#E5ECF6",
            "gridcolor": "white",
            "gridwidth": 2,
            "linecolor": "white",
            "showbackground": true,
            "ticks": "",
            "zerolinecolor": "white"
           },
           "zaxis": {
            "backgroundcolor": "#E5ECF6",
            "gridcolor": "white",
            "gridwidth": 2,
            "linecolor": "white",
            "showbackground": true,
            "ticks": "",
            "zerolinecolor": "white"
           }
          },
          "shapedefaults": {
           "line": {
            "color": "#2a3f5f"
           }
          },
          "ternary": {
           "aaxis": {
            "gridcolor": "white",
            "linecolor": "white",
            "ticks": ""
           },
           "baxis": {
            "gridcolor": "white",
            "linecolor": "white",
            "ticks": ""
           },
           "bgcolor": "#E5ECF6",
           "caxis": {
            "gridcolor": "white",
            "linecolor": "white",
            "ticks": ""
           }
          },
          "title": {
           "x": 0.05
          },
          "xaxis": {
           "automargin": true,
           "gridcolor": "white",
           "linecolor": "white",
           "ticks": "",
           "title": {
            "standoff": 15
           },
           "zerolinecolor": "white",
           "zerolinewidth": 2
          },
          "yaxis": {
           "automargin": true,
           "gridcolor": "white",
           "linecolor": "white",
           "ticks": "",
           "title": {
            "standoff": 15
           },
           "zerolinecolor": "white",
           "zerolinewidth": 2
          }
         }
        },
        "xaxis": {
         "anchor": "y",
         "autorange": true,
         "domain": [
          0,
          1
         ],
         "range": [
          -0.5,
          16.5
         ],
         "title": {
          "text": "COMUNIDAD_AUTONOMA"
         },
         "type": "category"
        },
        "yaxis": {
         "anchor": "x",
         "autorange": true,
         "domain": [
          0,
          1
         ],
         "range": [
          0,
          36128.42105263158
         ],
         "title": {
          "text": "NUMERO_CAMAS"
         },
         "type": "linear"
        }
       }
      },
      "image/png": "[encoded data removed]",
      "text/html": [
       "<div>                            <div id=\"84f00bd5-c85b-4224-b180-951713355b9a\" class=\"plotly-graph-div\" style=\"height:525px; width:100%;\"></div>            <script type=\"text/javascript\">                require([\"plotly\"], function(Plotly) {                    window.PLOTLYENV=window.PLOTLYENV || {};                                    if (document.getElementById(\"84f00bd5-c85b-4224-b180-951713355b9a\")) {                    Plotly.newPlot(                        \"84f00bd5-c85b-4224-b180-951713355b9a\",                        [{\"alignmentgroup\": \"True\", \"hovertemplate\": \"COMUNIDAD_AUTONOMA=%{x}<br>NUMERO_CAMAS=%{y}<br>GASTO_SANIDAD=%{marker.color}<extra></extra>\", \"legendgroup\": \"\", \"marker\": {\"color\": [8876083, 8108966, 10539999, 6635407, 3987978, 3592949, 3770794, 3014185, 2806827, 2000557, 1919543, 1718749, 1730482, 1765509, 1086649, 874228, 438983], \"coloraxis\": \"coloraxis\"}, \"name\": \"\", \"offsetgroup\": \"\", \"orientation\": \"v\", \"showlegend\": false, \"textposition\": \"auto\", \"type\": \"bar\", \"x\": [\"CATALU\\u00d1A\", \"MADRID\", \"ANDALUC\\u00cdA\", \"COMUNIDAD VALENCIANA\", \"GALICIA\", \"CASTILLA Y LE\\u00d3N\", \"PA\\u00cdS VASCO\", \"CANARIAS\", \"CASTILLA-LA MANCHA\", \"ARAG\\u00d3N\", \"MURCIA\", \"EXTREMADURA\", \"ILLES BALEARS\", \"ASTURIAS\", \"NAVARRA\", \"CANTABRIA\", \"LA RIOJA\"], \"xaxis\": \"x\", \"y\": [34322, 21700, 21350, 13811, 9767, 9130, 7975, 6828, 5899, 5290, 4862, 4323, 3976, 3930, 2331, 1682, 1050], \"yaxis\": \"y\"}],                        {\"barmode\": \"relative\", \"coloraxis\": {\"colorbar\": {\"title\": {\"text\": \"GASTO_SANIDAD\"}}, \"colorscale\": [[0.0, \"#0d0887\"], [0.1111111111111111, \"#46039f\"], [0.2222222222222222, \"#7201a8\"], [0.3333333333333333, \"#9c179e\"], [0.4444444444444444, \"#bd3786\"], [0.5555555555555556, \"#d8576b\"], [0.6666666666666666, \"#ed7953\"], [0.7777777777777778, \"#fb9f3a\"], [0.8888888888888888, \"#fdca26\"], [1.0, \"#f0f921\"]]}, \"legend\": {\"tracegroupgap\": 0}, \"margin\": {\"t\": 60}, \"template\": {\"data\": {\"bar\": [{\"error_x\": {\"color\": \"#2a3f5f\"}, \"error_y\": {\"color\": \"#2a3f5f\"}, \"marker\": {\"line\": {\"color\": \"#E5ECF6\", \"width\": 0.5}}, \"type\": \"bar\"}], \"barpolar\": [{\"marker\": {\"line\": {\"color\": \"#E5ECF6\", \"width\": 0.5}}, \"type\": \"barpolar\"}], \"carpet\": [{\"aaxis\": {\"endlinecolor\": \"#2a3f5f\", \"gridcolor\": \"white\", \"linecolor\": \"white\", \"minorgridcolor\": \"white\", \"startlinecolor\": \"#2a3f5f\"}, \"baxis\": {\"endlinecolor\": \"#2a3f5f\", \"gridcolor\": \"white\", \"linecolor\": \"white\", \"minorgridcolor\": \"white\", \"startlinecolor\": \"#2a3f5f\"}, \"type\": \"carpet\"}], \"choropleth\": [{\"colorbar\": {\"outlinewidth\": 0, \"ticks\": \"\"}, \"type\": \"choropleth\"}], \"contour\": [{\"colorbar\": {\"outlinewidth\": 0, \"ticks\": \"\"}, \"colorscale\": [[0.0, \"#0d0887\"], [0.1111111111111111, \"#46039f\"], [0.2222222222222222, \"#7201a8\"], [0.3333333333333333, \"#9c179e\"], [0.4444444444444444, \"#bd3786\"], [0.5555555555555556, \"#d8576b\"], [0.6666666666666666, \"#ed7953\"], [0.7777777777777778, \"#fb9f3a\"], [0.8888888888888888, \"#fdca26\"], [1.0, \"#f0f921\"]], \"type\": \"contour\"}], \"contourcarpet\": [{\"colorbar\": {\"outlinewidth\": 0, \"ticks\": \"\"}, \"type\": \"contourcarpet\"}], \"heatmap\": [{\"colorbar\": {\"outlinewidth\": 0, \"ticks\": \"\"}, \"colorscale\": [[0.0, \"#0d0887\"], [0.1111111111111111, \"#46039f\"], [0.2222222222222222, \"#7201a8\"], [0.3333333333333333, \"#9c179e\"], [0.4444444444444444, \"#bd3786\"], [0.5555555555555556, \"#d8576b\"], [0.6666666666666666, \"#ed7953\"], [0.7777777777777778, \"#fb9f3a\"], [0.8888888888888888, \"#fdca26\"], [1.0, \"#f0f921\"]], \"type\": \"heatmap\"}], \"heatmapgl\": [{\"colorbar\": {\"outlinewidth\": 0, \"ticks\": \"\"}, \"colorscale\": [[0.0, \"#0d0887\"], [0.1111111111111111, \"#46039f\"], [0.2222222222222222, \"#7201a8\"], [0.3333333333333333, \"#9c179e\"], [0.4444444444444444, \"#bd3786\"], [0.5555555555555556, \"#d8576b\"], [0.6666666666666666, \"#ed7953\"], [0.7777777777777778, \"#fb9f3a\"], [0.8888888888888888, \"#fdca26\"], [1.0, \"#f0f921\"]], \"type\": \"heatmapgl\"}], \"histogram\": [{\"marker\": {\"colorbar\": {\"outlinewidth\": 0, \"ticks\": \"\"}}, \"type\": \"histogram\"}], \"histogram2d\": [{\"colorbar\": {\"outlinewidth\": 0, \"ticks\": \"\"}, \"colorscale\": [[0.0, \"#0d0887\"], [0.1111111111111111, \"#46039f\"], [0.2222222222222222, \"#7201a8\"], [0.3333333333333333, \"#9c179e\"], [0.4444444444444444, \"#bd3786\"], [0.5555555555555556, \"#d8576b\"], [0.6666666666666666, \"#ed7953\"], [0.7777777777777778, \"#fb9f3a\"], [0.8888888888888888, \"#fdca26\"], [1.0, \"#f0f921\"]], \"type\": \"histogram2d\"}], \"histogram2dcontour\": [{\"colorbar\": {\"outlinewidth\": 0, \"ticks\": \"\"}, \"colorscale\": [[0.0, \"#0d0887\"], [0.1111111111111111, \"#46039f\"], [0.2222222222222222, \"#7201a8\"], [0.3333333333333333, \"#9c179e\"], [0.4444444444444444, \"#bd3786\"], [0.5555555555555556, \"#d8576b\"], [0.6666666666666666, \"#ed7953\"], [0.7777777777777778, \"#fb9f3a\"], [0.8888888888888888, \"#fdca26\"], [1.0, \"#f0f921\"]], \"type\": \"histogram2dcontour\"}], \"mesh3d\": [{\"colorbar\": {\"outlinewidth\": 0, \"ticks\": \"\"}, \"type\": \"mesh3d\"}], \"parcoords\": [{\"line\": {\"colorbar\": {\"outlinewidth\": 0, \"ticks\": \"\"}}, \"type\": \"parcoords\"}], \"pie\": [{\"automargin\": true, \"type\": \"pie\"}], \"scatter\": [{\"marker\": {\"colorbar\": {\"outlinewidth\": 0, \"ticks\": \"\"}}, \"type\": \"scatter\"}], \"scatter3d\": [{\"line\": {\"colorbar\": {\"outlinewidth\": 0, \"ticks\": \"\"}}, \"marker\": {\"colorbar\": {\"outlinewidth\": 0, \"ticks\": \"\"}}, \"type\": \"scatter3d\"}], \"scattercarpet\": [{\"marker\": {\"colorbar\": {\"outlinewidth\": 0, \"ticks\": \"\"}}, \"type\": \"scattercarpet\"}], \"scattergeo\": [{\"marker\": {\"colorbar\": {\"outlinewidth\": 0, \"ticks\": \"\"}}, \"type\": \"scattergeo\"}], \"scattergl\": [{\"marker\": {\"colorbar\": {\"outlinewidth\": 0, \"ticks\": \"\"}}, \"type\": \"scattergl\"}], \"scattermapbox\": [{\"marker\": {\"colorbar\": {\"outlinewidth\": 0, \"ticks\": \"\"}}, \"type\": \"scattermapbox\"}], \"scatterpolar\": [{\"marker\": {\"colorbar\": {\"outlinewidth\": 0, \"ticks\": \"\"}}, \"type\": \"scatterpolar\"}], \"scatterpolargl\": [{\"marker\": {\"colorbar\": {\"outlinewidth\": 0, \"ticks\": \"\"}}, \"type\": \"scatterpolargl\"}], \"scatterternary\": [{\"marker\": {\"colorbar\": {\"outlinewidth\": 0, \"ticks\": \"\"}}, \"type\": \"scatterternary\"}], \"surface\": [{\"colorbar\": {\"outlinewidth\": 0, \"ticks\": \"\"}, \"colorscale\": [[0.0, \"#0d0887\"], [0.1111111111111111, \"#46039f\"], [0.2222222222222222, \"#7201a8\"], [0.3333333333333333, \"#9c179e\"], [0.4444444444444444, \"#bd3786\"], [0.5555555555555556, \"#d8576b\"], [0.6666666666666666, \"#ed7953\"], [0.7777777777777778, \"#fb9f3a\"], [0.8888888888888888, \"#fdca26\"], [1.0, \"#f0f921\"]], \"type\": \"surface\"}], \"table\": [{\"cells\": {\"fill\": {\"color\": \"#EBF0F8\"}, \"line\": {\"color\": \"white\"}}, \"header\": {\"fill\": {\"color\": \"#C8D4E3\"}, \"line\": {\"color\": \"white\"}}, \"type\": \"table\"}]}, \"layout\": {\"annotationdefaults\": {\"arrowcolor\": \"#2a3f5f\", \"arrowhead\": 0, \"arrowwidth\": 1}, \"autotypenumbers\": \"strict\", \"coloraxis\": {\"colorbar\": {\"outlinewidth\": 0, \"ticks\": \"\"}}, \"colorscale\": {\"diverging\": [[0, \"#8e0152\"], [0.1, \"#c51b7d\"], [0.2, \"#de77ae\"], [0.3, \"#f1b6da\"], [0.4, \"#fde0ef\"], [0.5, \"#f7f7f7\"], [0.6, \"#e6f5d0\"], [0.7, \"#b8e186\"], [0.8, \"#7fbc41\"], [0.9, \"#4d9221\"], [1, \"#276419\"]], \"sequential\": [[0.0, \"#0d0887\"], [0.1111111111111111, \"#46039f\"], [0.2222222222222222, \"#7201a8\"], [0.3333333333333333, \"#9c179e\"], [0.4444444444444444, \"#bd3786\"], [0.5555555555555556, \"#d8576b\"], [0.6666666666666666, \"#ed7953\"], [0.7777777777777778, \"#fb9f3a\"], [0.8888888888888888, \"#fdca26\"], [1.0, \"#f0f921\"]], \"sequentialminus\": [[0.0, \"#0d0887\"], [0.1111111111111111, \"#46039f\"], [0.2222222222222222, \"#7201a8\"], [0.3333333333333333, \"#9c179e\"], [0.4444444444444444, \"#bd3786\"], [0.5555555555555556, \"#d8576b\"], [0.6666666666666666, \"#ed7953\"], [0.7777777777777778, \"#fb9f3a\"], [0.8888888888888888, \"#fdca26\"], [1.0, \"#f0f921\"]]}, \"colorway\": [\"#636efa\", \"#EF553B\", \"#00cc96\", \"#ab63fa\", \"#FFA15A\", \"#19d3f3\", \"#FF6692\", \"#B6E880\", \"#FF97FF\", \"#FECB52\"], \"font\": {\"color\": \"#2a3f5f\"}, \"geo\": {\"bgcolor\": \"white\", \"lakecolor\": \"white\", \"landcolor\": \"#E5ECF6\", \"showlakes\": true, \"showland\": true, \"subunitcolor\": \"white\"}, \"hoverlabel\": {\"align\": \"left\"}, \"hovermode\": \"closest\", \"mapbox\": {\"style\": \"light\"}, \"paper_bgcolor\": \"white\", \"plot_bgcolor\": \"#E5ECF6\", \"polar\": {\"angularaxis\": {\"gridcolor\": \"white\", \"linecolor\": \"white\", \"ticks\": \"\"}, \"bgcolor\": \"#E5ECF6\", \"radialaxis\": {\"gridcolor\": \"white\", \"linecolor\": \"white\", \"ticks\": \"\"}}, \"scene\": {\"xaxis\": {\"backgroundcolor\": \"#E5ECF6\", \"gridcolor\": \"white\", \"gridwidth\": 2, \"linecolor\": \"white\", \"showbackground\": true, \"ticks\": \"\", \"zerolinecolor\": \"white\"}, \"yaxis\": {\"backgroundcolor\": \"#E5ECF6\", \"gridcolor\": \"white\", \"gridwidth\": 2, \"linecolor\": \"white\", \"showbackground\": true, \"ticks\": \"\", \"zerolinecolor\": \"white\"}, \"zaxis\": {\"backgroundcolor\": \"#E5ECF6\", \"gridcolor\": \"white\", \"gridwidth\": 2, \"linecolor\": \"white\", \"showbackground\": true, \"ticks\": \"\", \"zerolinecolor\": \"white\"}}, \"shapedefaults\": {\"line\": {\"color\": \"#2a3f5f\"}}, \"ternary\": {\"aaxis\": {\"gridcolor\": \"white\", \"linecolor\": \"white\", \"ticks\": \"\"}, \"baxis\": {\"gridcolor\": \"white\", \"linecolor\": \"white\", \"ticks\": \"\"}, \"bgcolor\": \"#E5ECF6\", \"caxis\": {\"gridcolor\": \"white\", \"linecolor\": \"white\", \"ticks\": \"\"}}, \"title\": {\"x\": 0.05}, \"xaxis\": {\"automargin\": true, \"gridcolor\": \"white\", \"linecolor\": \"white\", \"ticks\": \"\", \"title\": {\"standoff\": 15}, \"zerolinecolor\": \"white\", \"zerolinewidth\": 2}, \"yaxis\": {\"automargin\": true, \"gridcolor\": \"white\", \"linecolor\": \"white\", \"ticks\": \"\", \"title\": {\"standoff\": 15}, \"zerolinecolor\": \"white\", \"zerolinewidth\": 2}}}, \"xaxis\": {\"anchor\": \"y\", \"domain\": [0.0, 1.0], \"title\": {\"text\": \"COMUNIDAD_AUTONOMA\"}}, \"yaxis\": {\"anchor\": \"x\", \"domain\": [0.0, 1.0], \"title\": {\"text\": \"NUMERO_CAMAS\"}}},                        {\"responsive\": true}                    ).then(function(){\n",
       "                            \n",
       "var gd = document.getElementById('84f00bd5-c85b-4224-b180-951713355b9a');\n",
       "var x = new MutationObserver(function (mutations, observer) {{\n",
       "        var display = window.getComputedStyle(gd).display;\n",
       "        if (!display || display === 'none') {{\n",
       "            console.log([gd, 'removed!']);\n",
       "            Plotly.purge(gd);\n",
       "            observer.disconnect();\n",
       "        }}\n",
       "}});\n",
       "\n",
       "// Listen for the removal of the full notebook cells\n",
       "var notebookContainer = gd.closest('#notebook-container');\n",
       "if (notebookContainer) {{\n",
       "    x.observe(notebookContainer, {childList: true});\n",
       "}}\n",
       "\n",
       "// Listen for the clearing of the current output cell\n",
       "var outputEl = gd.closest('.output');\n",
       "if (outputEl) {{\n",
       "    x.observe(outputEl, {childList: true});\n",
       "}}\n",
       "\n",
       "                        })                };                });            </script>        </div>"
      ]
     },
     "metadata": {},
     "output_type": "display_data"
    },
    {
     "data": {
      "text/plain": [
       "<Figure size 432x288 with 0 Axes>"
      ]
     },
     "metadata": {},
     "output_type": "display_data"
    }
   ],
   "source": [
    "import plotly.express as px\n",
    "\n",
    "df2 = df2.sort_values(by='NUMERO_CAMAS', ascending=False)\n",
    "\n",
    "fig = px.bar(\n",
    "    df2,\n",
    "    x = 'COMUNIDAD_AUTONOMA',\n",
    "    y = 'NUMERO_CAMAS',\n",
    "    color = 'GASTO_SANIDAD'\n",
    ")\n",
    "\n",
    "fig.show();\n",
    "\n",
    "plt.tight_layout() #sirve apra que no corte bordes\n",
    "plt.savefig('camas_gasto_2.jpeg', dpi=100)"
   ]
  },
  {
   "cell_type": "markdown",
   "id": "b2ed9203",
   "metadata": {},
   "source": [
    "## A más inversión, mayor número de maquinaria sanitaria"
   ]
  },
  {
   "cell_type": "code",
   "execution_count": 25,
   "id": "559bdb9a",
   "metadata": {},
   "outputs": [
    {
     "data": {
      "text/html": [
       "<div>\n",
       "<style scoped>\n",
       "    .dataframe tbody tr th:only-of-type {\n",
       "        vertical-align: middle;\n",
       "    }\n",
       "\n",
       "    .dataframe tbody tr th {\n",
       "        vertical-align: top;\n",
       "    }\n",
       "\n",
       "    .dataframe thead th {\n",
       "        text-align: right;\n",
       "    }\n",
       "</style>\n",
       "<table border=\"1\" class=\"dataframe\">\n",
       "  <thead>\n",
       "    <tr style=\"text-align: right;\">\n",
       "      <th></th>\n",
       "      <th>COMUNIDAD_AUTONOMA</th>\n",
       "      <th>GASTO_SANIDAD</th>\n",
       "      <th>POBLACION</th>\n",
       "      <th>TOTAL_MAQUINAS</th>\n",
       "      <th>MAQUINA_HABITANTE</th>\n",
       "      <th>GASTO_HABITANTE</th>\n",
       "    </tr>\n",
       "  </thead>\n",
       "  <tbody>\n",
       "    <tr>\n",
       "      <th>0</th>\n",
       "      <td>ANDALUCÍA</td>\n",
       "      <td>10539999</td>\n",
       "      <td>8414240</td>\n",
       "      <td>1238</td>\n",
       "      <td>0.000147</td>\n",
       "      <td>1.252638</td>\n",
       "    </tr>\n",
       "    <tr>\n",
       "      <th>1</th>\n",
       "      <td>ARAGÓN</td>\n",
       "      <td>2000557</td>\n",
       "      <td>1319291</td>\n",
       "      <td>336</td>\n",
       "      <td>0.000255</td>\n",
       "      <td>1.516388</td>\n",
       "    </tr>\n",
       "    <tr>\n",
       "      <th>2</th>\n",
       "      <td>ASTURIAS</td>\n",
       "      <td>1765509</td>\n",
       "      <td>1022800</td>\n",
       "      <td>260</td>\n",
       "      <td>0.000254</td>\n",
       "      <td>1.726153</td>\n",
       "    </tr>\n",
       "    <tr>\n",
       "      <th>3</th>\n",
       "      <td>CANARIAS</td>\n",
       "      <td>3014185</td>\n",
       "      <td>2153389</td>\n",
       "      <td>528</td>\n",
       "      <td>0.000245</td>\n",
       "      <td>1.399740</td>\n",
       "    </tr>\n",
       "    <tr>\n",
       "      <th>4</th>\n",
       "      <td>CANTABRIA</td>\n",
       "      <td>874228</td>\n",
       "      <td>581078</td>\n",
       "      <td>52</td>\n",
       "      <td>0.000089</td>\n",
       "      <td>1.504493</td>\n",
       "    </tr>\n",
       "    <tr>\n",
       "      <th>5</th>\n",
       "      <td>CASTILLA Y LEÓN</td>\n",
       "      <td>3592949</td>\n",
       "      <td>2399548</td>\n",
       "      <td>487</td>\n",
       "      <td>0.000203</td>\n",
       "      <td>1.497344</td>\n",
       "    </tr>\n",
       "    <tr>\n",
       "      <th>6</th>\n",
       "      <td>CASTILLA-LA MANCHA</td>\n",
       "      <td>2806827</td>\n",
       "      <td>2032863</td>\n",
       "      <td>237</td>\n",
       "      <td>0.000117</td>\n",
       "      <td>1.380726</td>\n",
       "    </tr>\n",
       "    <tr>\n",
       "      <th>7</th>\n",
       "      <td>CATALUÑA</td>\n",
       "      <td>8876083</td>\n",
       "      <td>7675217</td>\n",
       "      <td>1287</td>\n",
       "      <td>0.000168</td>\n",
       "      <td>1.156460</td>\n",
       "    </tr>\n",
       "    <tr>\n",
       "      <th>8</th>\n",
       "      <td>COMUNIDAD VALENCIANA</td>\n",
       "      <td>6635407</td>\n",
       "      <td>5003769</td>\n",
       "      <td>1003</td>\n",
       "      <td>0.000200</td>\n",
       "      <td>1.326082</td>\n",
       "    </tr>\n",
       "    <tr>\n",
       "      <th>9</th>\n",
       "      <td>EXTREMADURA</td>\n",
       "      <td>1718749</td>\n",
       "      <td>1067710</td>\n",
       "      <td>188</td>\n",
       "      <td>0.000176</td>\n",
       "      <td>1.609753</td>\n",
       "    </tr>\n",
       "    <tr>\n",
       "      <th>10</th>\n",
       "      <td>GALICIA</td>\n",
       "      <td>3987978</td>\n",
       "      <td>2699499</td>\n",
       "      <td>663</td>\n",
       "      <td>0.000246</td>\n",
       "      <td>1.477303</td>\n",
       "    </tr>\n",
       "    <tr>\n",
       "      <th>11</th>\n",
       "      <td>ILLES BALEARS</td>\n",
       "      <td>1730482</td>\n",
       "      <td>1149460</td>\n",
       "      <td>308</td>\n",
       "      <td>0.000268</td>\n",
       "      <td>1.505474</td>\n",
       "    </tr>\n",
       "    <tr>\n",
       "      <th>12</th>\n",
       "      <td>LA RIOJA</td>\n",
       "      <td>438983</td>\n",
       "      <td>316798</td>\n",
       "      <td>63</td>\n",
       "      <td>0.000199</td>\n",
       "      <td>1.385687</td>\n",
       "    </tr>\n",
       "    <tr>\n",
       "      <th>13</th>\n",
       "      <td>MADRID</td>\n",
       "      <td>8108966</td>\n",
       "      <td>6663394</td>\n",
       "      <td>1370</td>\n",
       "      <td>0.000206</td>\n",
       "      <td>1.216942</td>\n",
       "    </tr>\n",
       "    <tr>\n",
       "      <th>14</th>\n",
       "      <td>MURCIA</td>\n",
       "      <td>1919543</td>\n",
       "      <td>1493898</td>\n",
       "      <td>228</td>\n",
       "      <td>0.000153</td>\n",
       "      <td>1.284922</td>\n",
       "    </tr>\n",
       "    <tr>\n",
       "      <th>15</th>\n",
       "      <td>NAVARRA</td>\n",
       "      <td>1086649</td>\n",
       "      <td>654214</td>\n",
       "      <td>166</td>\n",
       "      <td>0.000254</td>\n",
       "      <td>1.660999</td>\n",
       "    </tr>\n",
       "    <tr>\n",
       "      <th>16</th>\n",
       "      <td>PAÍS VASCO</td>\n",
       "      <td>3770794</td>\n",
       "      <td>2207776</td>\n",
       "      <td>366</td>\n",
       "      <td>0.000166</td>\n",
       "      <td>1.707960</td>\n",
       "    </tr>\n",
       "  </tbody>\n",
       "</table>\n",
       "</div>"
      ],
      "text/plain": [
       "      COMUNIDAD_AUTONOMA  GASTO_SANIDAD  POBLACION  TOTAL_MAQUINAS  \\\n",
       "0              ANDALUCÍA       10539999    8414240            1238   \n",
       "1                 ARAGÓN        2000557    1319291             336   \n",
       "2               ASTURIAS        1765509    1022800             260   \n",
       "3               CANARIAS        3014185    2153389             528   \n",
       "4              CANTABRIA         874228     581078              52   \n",
       "5        CASTILLA Y LEÓN        3592949    2399548             487   \n",
       "6     CASTILLA-LA MANCHA        2806827    2032863             237   \n",
       "7               CATALUÑA        8876083    7675217            1287   \n",
       "8   COMUNIDAD VALENCIANA        6635407    5003769            1003   \n",
       "9            EXTREMADURA        1718749    1067710             188   \n",
       "10               GALICIA        3987978    2699499             663   \n",
       "11         ILLES BALEARS        1730482    1149460             308   \n",
       "12              LA RIOJA         438983     316798              63   \n",
       "13                MADRID        8108966    6663394            1370   \n",
       "14                MURCIA        1919543    1493898             228   \n",
       "15               NAVARRA        1086649     654214             166   \n",
       "16            PAÍS VASCO        3770794    2207776             366   \n",
       "\n",
       "    MAQUINA_HABITANTE  GASTO_HABITANTE  \n",
       "0            0.000147         1.252638  \n",
       "1            0.000255         1.516388  \n",
       "2            0.000254         1.726153  \n",
       "3            0.000245         1.399740  \n",
       "4            0.000089         1.504493  \n",
       "5            0.000203         1.497344  \n",
       "6            0.000117         1.380726  \n",
       "7            0.000168         1.156460  \n",
       "8            0.000200         1.326082  \n",
       "9            0.000176         1.609753  \n",
       "10           0.000246         1.477303  \n",
       "11           0.000268         1.505474  \n",
       "12           0.000199         1.385687  \n",
       "13           0.000206         1.216942  \n",
       "14           0.000153         1.284922  \n",
       "15           0.000254         1.660999  \n",
       "16           0.000166         1.707960  "
      ]
     },
     "execution_count": 25,
     "metadata": {},
     "output_type": "execute_result"
    }
   ],
   "source": [
    "query = '''\n",
    "SELECT E.*, G.GASTO_SANIDAD, P.POBLACION\n",
    "FROM EQUIPO_MEDICO E\n",
    "JOIN GASTO_SANIDAD G ON E.COMUNIDAD_AUTONOMA = G.COMUNIDAD_AUTONOMA\n",
    "JOIN POBLACION P ON E.COMUNIDAD_AUTONOMA = P.COMUNIDAD_AUTONOMA\n",
    "GROUP BY E.COMUNIDAD_AUTONOMA;\n",
    "'''\n",
    "\n",
    "df3 = pd.read_sql_query(query, conn)\n",
    "df3['TOTAL_MAQUINAS'] = df3.loc[:, 'TAC':'DIAL'].sum(axis=1)\n",
    "df3['MAQUINA_HABITANTE'] = df3['TOTAL_MAQUINAS']/df3['POBLACION']\n",
    "df3['GASTO_HABITANTE'] = df3['GASTO_SANIDAD']/df3['POBLACION']\n",
    "df3 = df3[['COMUNIDAD_AUTONOMA',\n",
    "          'GASTO_SANIDAD',\n",
    "          'POBLACION',\n",
    "          'TOTAL_MAQUINAS',\n",
    "          'MAQUINA_HABITANTE',\n",
    "          'GASTO_HABITANTE']]\n",
    "df3"
   ]
  },
  {
   "cell_type": "code",
   "execution_count": 52,
   "id": "5b931c50",
   "metadata": {},
   "outputs": [
    {
     "data": {
      "image/png": "[encoded data removed]",
      "text/plain": [
       "<Figure size 864x864 with 2 Axes>"
      ]
     },
     "metadata": {
      "needs_background": "light"
     },
     "output_type": "display_data"
    }
   ],
   "source": [
    "#GRÁFICA DE LOS DATOS\n",
    "import seaborn as sns\n",
    "import matplotlib.pyplot as plt\n",
    "\n",
    "plt.figure(figsize=(12,12))\n",
    "sns.heatmap(df3.corr(),\n",
    "           vmin = -1,\n",
    "           vmax = 1,\n",
    "           annot=True, #Introduzco los números dentro de cada recuadro\n",
    "           square = True, #Obtengo cuadrados en vex de rectángulos\n",
    "           linewidths = .5, #Margen entre cuadrados\n",
    "           cmap=sns.diverging_palette(150, 277, s=100, l=30, n=13))\n",
    "plt.yticks(rotation=0);\n",
    "\n",
    "plt.tight_layout() #sirve apra que no corte bordes\n",
    "plt.savefig('relacion_gasto_maquinas.jpeg', dpi=100)"
   ]
  },
  {
   "cell_type": "markdown",
   "id": "b60b09ed",
   "metadata": {},
   "source": [
    "## Relación entre PIB per capita y gasto en sanidad per capita"
   ]
  },
  {
   "cell_type": "code",
   "execution_count": 56,
   "id": "1bb0aad1",
   "metadata": {},
   "outputs": [
    {
     "data": {
      "text/html": [
       "<div>\n",
       "<style scoped>\n",
       "    .dataframe tbody tr th:only-of-type {\n",
       "        vertical-align: middle;\n",
       "    }\n",
       "\n",
       "    .dataframe tbody tr th {\n",
       "        vertical-align: top;\n",
       "    }\n",
       "\n",
       "    .dataframe thead th {\n",
       "        text-align: right;\n",
       "    }\n",
       "</style>\n",
       "<table border=\"1\" class=\"dataframe\">\n",
       "  <thead>\n",
       "    <tr style=\"text-align: right;\">\n",
       "      <th></th>\n",
       "      <th>COMUNIDAD_AUTONOMA</th>\n",
       "      <th>PIB</th>\n",
       "      <th>GASTO_SANIDAD</th>\n",
       "      <th>POBLACION</th>\n",
       "      <th>PIB_PER_CAPITA</th>\n",
       "      <th>GASTO_HABITANTE</th>\n",
       "    </tr>\n",
       "  </thead>\n",
       "  <tbody>\n",
       "    <tr>\n",
       "      <th>0</th>\n",
       "      <td>ANDALUCÍA</td>\n",
       "      <td>165866000000</td>\n",
       "      <td>10539999</td>\n",
       "      <td>8414240</td>\n",
       "      <td>19712.53494</td>\n",
       "      <td>1.25264</td>\n",
       "    </tr>\n",
       "    <tr>\n",
       "      <th>1</th>\n",
       "      <td>ARAGÓN</td>\n",
       "      <td>38044000000</td>\n",
       "      <td>2000557</td>\n",
       "      <td>1319291</td>\n",
       "      <td>28836.70092</td>\n",
       "      <td>1.51639</td>\n",
       "    </tr>\n",
       "    <tr>\n",
       "      <th>2</th>\n",
       "      <td>ASTURIAS</td>\n",
       "      <td>23765000000</td>\n",
       "      <td>1765509</td>\n",
       "      <td>1022800</td>\n",
       "      <td>23235.23661</td>\n",
       "      <td>1.72615</td>\n",
       "    </tr>\n",
       "    <tr>\n",
       "      <th>3</th>\n",
       "      <td>CANARIAS</td>\n",
       "      <td>47164000000</td>\n",
       "      <td>3014185</td>\n",
       "      <td>2153389</td>\n",
       "      <td>21902.22017</td>\n",
       "      <td>1.39974</td>\n",
       "    </tr>\n",
       "    <tr>\n",
       "      <th>4</th>\n",
       "      <td>CANTABRIA</td>\n",
       "      <td>14187000000</td>\n",
       "      <td>874228</td>\n",
       "      <td>581078</td>\n",
       "      <td>24414.96667</td>\n",
       "      <td>1.50449</td>\n",
       "    </tr>\n",
       "    <tr>\n",
       "      <th>5</th>\n",
       "      <td>CASTILLA Y LEÓN</td>\n",
       "      <td>59795000000</td>\n",
       "      <td>3592949</td>\n",
       "      <td>2399548</td>\n",
       "      <td>24919.27646</td>\n",
       "      <td>1.49734</td>\n",
       "    </tr>\n",
       "    <tr>\n",
       "      <th>6</th>\n",
       "      <td>CASTILLA-LA MANCHA</td>\n",
       "      <td>42820000000</td>\n",
       "      <td>2806827</td>\n",
       "      <td>2032863</td>\n",
       "      <td>21063.88871</td>\n",
       "      <td>1.38073</td>\n",
       "    </tr>\n",
       "    <tr>\n",
       "      <th>7</th>\n",
       "      <td>CATALUÑA</td>\n",
       "      <td>236814000000</td>\n",
       "      <td>8876083</td>\n",
       "      <td>7675217</td>\n",
       "      <td>30854.37194</td>\n",
       "      <td>1.15646</td>\n",
       "    </tr>\n",
       "    <tr>\n",
       "      <th>8</th>\n",
       "      <td>COMUNIDAD VALENCIANA</td>\n",
       "      <td>116015000000</td>\n",
       "      <td>6635407</td>\n",
       "      <td>5003769</td>\n",
       "      <td>23185.52275</td>\n",
       "      <td>1.32608</td>\n",
       "    </tr>\n",
       "    <tr>\n",
       "      <th>9</th>\n",
       "      <td>EXTREMADURA</td>\n",
       "      <td>20677000000</td>\n",
       "      <td>1718749</td>\n",
       "      <td>1067710</td>\n",
       "      <td>19365.74538</td>\n",
       "      <td>1.60975</td>\n",
       "    </tr>\n",
       "    <tr>\n",
       "      <th>10</th>\n",
       "      <td>GALICIA</td>\n",
       "      <td>64430000000</td>\n",
       "      <td>3987978</td>\n",
       "      <td>2699499</td>\n",
       "      <td>23867.39169</td>\n",
       "      <td>1.47730</td>\n",
       "    </tr>\n",
       "    <tr>\n",
       "      <th>11</th>\n",
       "      <td>ILLES BALEARS</td>\n",
       "      <td>33800000000</td>\n",
       "      <td>1730482</td>\n",
       "      <td>1149460</td>\n",
       "      <td>29405.11197</td>\n",
       "      <td>1.50547</td>\n",
       "    </tr>\n",
       "    <tr>\n",
       "      <th>12</th>\n",
       "      <td>LA RIOJA</td>\n",
       "      <td>8867000000</td>\n",
       "      <td>438983</td>\n",
       "      <td>316798</td>\n",
       "      <td>27989.44438</td>\n",
       "      <td>1.38569</td>\n",
       "    </tr>\n",
       "    <tr>\n",
       "      <th>13</th>\n",
       "      <td>MADRID</td>\n",
       "      <td>240130000000</td>\n",
       "      <td>8108966</td>\n",
       "      <td>6663394</td>\n",
       "      <td>36037.19066</td>\n",
       "      <td>1.21694</td>\n",
       "    </tr>\n",
       "    <tr>\n",
       "      <th>14</th>\n",
       "      <td>MURCIA</td>\n",
       "      <td>32256000000</td>\n",
       "      <td>1919543</td>\n",
       "      <td>1493898</td>\n",
       "      <td>21591.83559</td>\n",
       "      <td>1.28492</td>\n",
       "    </tr>\n",
       "    <tr>\n",
       "      <th>15</th>\n",
       "      <td>NAVARRA</td>\n",
       "      <td>20973000000</td>\n",
       "      <td>1086649</td>\n",
       "      <td>654214</td>\n",
       "      <td>32058.31731</td>\n",
       "      <td>1.66100</td>\n",
       "    </tr>\n",
       "    <tr>\n",
       "      <th>16</th>\n",
       "      <td>PAÍS VASCO</td>\n",
       "      <td>74496000000</td>\n",
       "      <td>3770794</td>\n",
       "      <td>2207776</td>\n",
       "      <td>33742.55359</td>\n",
       "      <td>1.70796</td>\n",
       "    </tr>\n",
       "  </tbody>\n",
       "</table>\n",
       "</div>"
      ],
      "text/plain": [
       "      COMUNIDAD_AUTONOMA           PIB  GASTO_SANIDAD  POBLACION  \\\n",
       "0              ANDALUCÍA  165866000000       10539999    8414240   \n",
       "1                 ARAGÓN   38044000000        2000557    1319291   \n",
       "2               ASTURIAS   23765000000        1765509    1022800   \n",
       "3               CANARIAS   47164000000        3014185    2153389   \n",
       "4              CANTABRIA   14187000000         874228     581078   \n",
       "5        CASTILLA Y LEÓN   59795000000        3592949    2399548   \n",
       "6     CASTILLA-LA MANCHA   42820000000        2806827    2032863   \n",
       "7               CATALUÑA  236814000000        8876083    7675217   \n",
       "8   COMUNIDAD VALENCIANA  116015000000        6635407    5003769   \n",
       "9            EXTREMADURA   20677000000        1718749    1067710   \n",
       "10               GALICIA   64430000000        3987978    2699499   \n",
       "11         ILLES BALEARS   33800000000        1730482    1149460   \n",
       "12              LA RIOJA    8867000000         438983     316798   \n",
       "13                MADRID  240130000000        8108966    6663394   \n",
       "14                MURCIA   32256000000        1919543    1493898   \n",
       "15               NAVARRA   20973000000        1086649     654214   \n",
       "16            PAÍS VASCO   74496000000        3770794    2207776   \n",
       "\n",
       "    PIB_PER_CAPITA  GASTO_HABITANTE  \n",
       "0      19712.53494          1.25264  \n",
       "1      28836.70092          1.51639  \n",
       "2      23235.23661          1.72615  \n",
       "3      21902.22017          1.39974  \n",
       "4      24414.96667          1.50449  \n",
       "5      24919.27646          1.49734  \n",
       "6      21063.88871          1.38073  \n",
       "7      30854.37194          1.15646  \n",
       "8      23185.52275          1.32608  \n",
       "9      19365.74538          1.60975  \n",
       "10     23867.39169          1.47730  \n",
       "11     29405.11197          1.50547  \n",
       "12     27989.44438          1.38569  \n",
       "13     36037.19066          1.21694  \n",
       "14     21591.83559          1.28492  \n",
       "15     32058.31731          1.66100  \n",
       "16     33742.55359          1.70796  "
      ]
     },
     "execution_count": 56,
     "metadata": {},
     "output_type": "execute_result"
    }
   ],
   "source": [
    "query = '''\n",
    "SELECT PI.*, G.GASTO_SANIDAD, P.POBLACION, ROUND(CAST(PI.PIB AS FLOAT)/CAST(P.POBLACION AS FLOAT), 5) AS PIB_PER_CAPITA,\n",
    "        ROUND(CAST(G.GASTO_SANIDAD AS FLOAT)/CAST(P.POBLACION AS FLOAT), 5) AS GASTO_HABITANTE\n",
    "FROM PIB PI\n",
    "JOIN POBLACION P ON PI.COMUNIDAD_AUTONOMA = P.COMUNIDAD_AUTONOMA\n",
    "JOIN GASTO_SANIDAD G ON P.COMUNIDAD_AUTONOMA = G.COMUNIDAD_AUTONOMA\n",
    "GROUP BY PI.COMUNIDAD_AUTONOMA;\n",
    "'''\n",
    "\n",
    "df4 = pd.read_sql_query(query, conn)\n",
    "df4"
   ]
  },
  {
   "cell_type": "code",
   "execution_count": 58,
   "id": "ecce0465",
   "metadata": {},
   "outputs": [
    {
     "data": {
      "image/png": "[encoded data removed]",
      "text/plain": [
       "<Figure size 864x864 with 2 Axes>"
      ]
     },
     "metadata": {
      "needs_background": "light"
     },
     "output_type": "display_data"
    }
   ],
   "source": [
    "#GRÁFICA DE LOS DATOS\n",
    "import seaborn as sns\n",
    "import matplotlib.pyplot as plt\n",
    "\n",
    "plt.figure(figsize=(12,12))\n",
    "sns.heatmap(df4.corr(),\n",
    "           vmin = -1,\n",
    "           vmax = 1,\n",
    "           annot=True, #Introduzco los números dentro de cada recuadro\n",
    "           square = True, #Obtengo cuadrados en vex de rectángulos\n",
    "           linewidths = .5, #Margen entre cuadrados\n",
    "           cmap=sns.diverging_palette(150, 277, s=100, l=30, n=13))\n",
    "plt.yticks(rotation=0);\n",
    "\n",
    "plt.tight_layout() #sirve apra que no corte bordes\n",
    "plt.savefig('./img/relacion_gasto_pib.jpeg', dpi=100)"
   ]
  }
 ],
 "metadata": {
  "kernelspec": {
   "display_name": "Python 3 (ipykernel)",
   "language": "python",
   "name": "python3"
  },
  "language_info": {
   "codemirror_mode": {
    "name": "ipython",
    "version": 3
   },
   "file_extension": ".py",
   "mimetype": "text/x-python",
   "name": "python",
   "nbconvert_exporter": "python",
   "pygments_lexer": "ipython3",
   "version": "3.8.11"
  }
 },
 "nbformat": 4,
 "nbformat_minor": 5
}
