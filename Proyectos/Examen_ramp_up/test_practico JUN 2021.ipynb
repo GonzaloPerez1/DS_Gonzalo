{
 "cells": [
  {
   "cell_type": "markdown",
   "metadata": {},
   "source": [
    "# Test DS-FT"
   ]
  },
  {
   "cell_type": "markdown",
   "metadata": {},
   "source": [
    "## Primera parte:\n",
    "\n",
    "https://docs.google.com/forms/d/e/1FAIpQLScXc_AIaUDBHJHPpBFPYA9BNAnkOkAmPvh4Bd3kA1YVsbyT5w/viewform?usp=sf_link\n",
    "\n",
    "El examen tendrá una duración de 3h. Se recomienda dedicar al test 40 minutos aprox."
   ]
  },
  {
   "cell_type": "markdown",
   "metadata": {},
   "source": [
    "-----------------"
   ]
  },
  {
   "cell_type": "markdown",
   "metadata": {},
   "source": [
    "## Segunda parte, ejercicios prácticos:\n",
    "Crea todas las celdas que necesites"
   ]
  },
  {
   "cell_type": "markdown",
   "metadata": {},
   "source": [
    "## Ejercicios prácticos"
   ]
  },
  {
   "cell_type": "markdown",
   "metadata": {},
   "source": [
    "#### Ejercicio 1.\n",
    "En este ejercicio se va a crear una lista con los siguientes elementos. Primero, crearemos las variables que luego añadiremos a la lista. Las variables son las siguientes:\n",
    "\n",
    "1. Crea una variable llamada `num_dni` de tipo Integer que represente el primer número de tu DNI. \n",
    "2. Crea una variable llamada `let_dni` de tipo String y que represente la letra de vuestro DNI.\n",
    "3. Crea una variable llamada `tip_ord` de tipo Boolean True si usas Windows y False si usas Mac.\n",
    "4. Crea una variable llamada `nada` de tipo None cuyo valor sea None.\n",
    "5. Crea una variable llamada `lista_deseo` de tipo List que contenga los cuatro objetos que te llevarías a una isla desierta. Cada elemento ha de ser de tipo String y el tamaño de la lista ha de ser 4.\n",
    "6. Crea una variable llamada `tupla_ropa` de tipo Tuple con la marca de la prenda superior, inferior y calzado que llevas puesto.\n",
    "7. Crea una variable llamada `dict_info` con dos keys y dos values. Una key es 'nombre', teniendo como value vuestro nombre. Otra key es 'edad', teniendo como value vuestra edad.\n",
    "8. Crea una variable llamada `flo_hor` con la hora actual separada por punto en vez de dos puntos. Ejemplo: si son las 10:06, el valor de la variable sería 10.06.\n",
    "\n",
    "Añade todos estos elementos en una lista llamada `lista_examen` en el orden de aparición."
   ]
  },
  {
   "cell_type": "code",
   "execution_count": 1,
   "metadata": {},
   "outputs": [],
   "source": [
    " # tu respuesta aquí\n",
    "num_dni = 5\n",
    "let_dni = \"B\"\n",
    "tip_ord = False\n",
    "nada = None\n",
    "lista_deseo = ['tienda de campaña', 'linterna', 'cuchillo', 'cerillas']\n",
    "tupla_ropa = ('Sudadera', 'Vaqueros', 'Deportivas')\n",
    "dict_info = {'Nombre': 'Gonzalo', 'Edad': 20}\n",
    "flo_hor = 9.16"
   ]
  },
  {
   "cell_type": "code",
   "execution_count": 4,
   "metadata": {},
   "outputs": [
    {
     "name": "stdout",
     "output_type": "stream",
     "text": [
      "[5, 'B', False, None, ['tienda de campaña', 'linterna', 'cuchillo', 'cerillas'], ('Sudadera', 'Vaqueros', 'Deportivas'), {'Nombre': 'Gonzalo', 'Edad': 20}, 9.16]\n"
     ]
    }
   ],
   "source": [
    "lista_examen = [num_dni, let_dni, tip_ord, nada, lista_deseo, tupla_ropa, dict_info, flo_hor]\n",
    "print(lista_examen)"
   ]
  },
  {
   "cell_type": "markdown",
   "metadata": {},
   "source": [
    "#### Ejercicio 2. \n",
    "\n",
    "Para resolver este ejercicio necesitarás la lista del ejercicio anterior (`lista_examen`). Se recomeinda leer cada punto hasta el final antes de resolver el ejercicio.\n",
    "\n",
    "Se repite para que quede aún más claro: **SOLO USAR LA VARIABLE** `lista_examen`. Usar las demás variables se calificará como error.  \n",
    "\n",
    "1. Mostrar por pantalla, sin uso de funciones ni bucles: \n",
    "    - El segundo elemento de `lista_deseo` desde `lista_examen`.\n",
    "    - El calzado que llevas puesto.\n",
    "    - Vuestro nombre.\n",
    "    - La hora almacenada concatenada con vuestra edad y el número de vuestro de DNI. No debe haber espacios entre la concatenación.\n",
    "    - Si tenéis más de 20 años, el primer número de vuestro DNI es mayor a 7 y usas Mac, mostrar la posición 5 de `lista_examen`.\n",
    "    "
   ]
  },
  {
   "cell_type": "code",
   "execution_count": 5,
   "metadata": {},
   "outputs": [
    {
     "name": "stdout",
     "output_type": "stream",
     "text": [
      "linterna\n"
     ]
    }
   ],
   "source": [
    "# tu respuesta aquí\n",
    "print(lista_examen[4][1])"
   ]
  },
  {
   "cell_type": "code",
   "execution_count": 6,
   "metadata": {},
   "outputs": [
    {
     "name": "stdout",
     "output_type": "stream",
     "text": [
      "Deportivas\n"
     ]
    }
   ],
   "source": [
    "print(lista_examen[5][-1])"
   ]
  },
  {
   "cell_type": "code",
   "execution_count": 8,
   "metadata": {},
   "outputs": [
    {
     "name": "stdout",
     "output_type": "stream",
     "text": [
      "Gonzalo\n"
     ]
    }
   ],
   "source": [
    "print(lista_examen[6]['Nombre'])"
   ]
  },
  {
   "cell_type": "code",
   "execution_count": 16,
   "metadata": {},
   "outputs": [
    {
     "name": "stdout",
     "output_type": "stream",
     "text": [
      "9.16205\n"
     ]
    }
   ],
   "source": [
    "print(lista_examen[7], lista_examen[6]['Edad'], lista_examen[0], sep=\"\")"
   ]
  },
  {
   "cell_type": "markdown",
   "metadata": {},
   "source": [
    "2. Mostrar por pantalla, con uso de un bucle `for`:\n",
    "    - Todos los elementos de `lista_examen`.\n",
    "    - Todos los elementos de `lista_deseo` desde `lista_examen`.\n",
    "    - Todos los elementos que ocupen una posición menor a 4 en `lista_examen`.\n"
   ]
  },
  {
   "cell_type": "code",
   "execution_count": 17,
   "metadata": {},
   "outputs": [
    {
     "name": "stdout",
     "output_type": "stream",
     "text": [
      "5\n",
      "B\n",
      "False\n",
      "None\n",
      "['tienda de campaña', 'linterna', 'cuchillo', 'cerillas']\n",
      "('Sudadera', 'Vaqueros', 'Deportivas')\n",
      "{'Nombre': 'Gonzalo', 'Edad': 20}\n",
      "9.16\n"
     ]
    }
   ],
   "source": [
    "# tu respuesta aquí\n",
    "for i in lista_examen:\n",
    "    print(i)"
   ]
  },
  {
   "cell_type": "code",
   "execution_count": 18,
   "metadata": {},
   "outputs": [
    {
     "name": "stdout",
     "output_type": "stream",
     "text": [
      "tienda de campaña\n",
      "linterna\n",
      "cuchillo\n",
      "cerillas\n"
     ]
    }
   ],
   "source": [
    "for i in lista_examen[4]:\n",
    "    print(i)"
   ]
  },
  {
   "cell_type": "code",
   "execution_count": 24,
   "metadata": {},
   "outputs": [
    {
     "name": "stdout",
     "output_type": "stream",
     "text": [
      "5\n",
      "B\n",
      "False\n",
      "None\n"
     ]
    }
   ],
   "source": [
    "for i in range(len(lista_examen)):\n",
    "    if i < 4:\n",
    "        print(lista_examen[i])"
   ]
  },
  {
   "cell_type": "markdown",
   "metadata": {},
   "source": [
    "3. Mostrar por pantalla, con uso de un bucle while: \n",
    "    - Todos los elementos de `tupla_ropa` seguido de la cadena `\"-->\"` y la `posición` (int) que ocupa en la tupla accediendo desde `lista_examen`.\n",
    "    - Cada key de `dict_info` seguido de la cadena \":\" seguido de su value desde `lista_examen`."
   ]
  },
  {
   "cell_type": "code",
   "execution_count": 29,
   "metadata": {
    "tags": []
   },
   "outputs": [
    {
     "name": "stdout",
     "output_type": "stream",
     "text": [
      "Sudadera --> 0\n",
      "Vaqueros --> 1\n",
      "Deportivas --> 2\n"
     ]
    }
   ],
   "source": [
    "# tu respuesta aquí\n",
    "while True:\n",
    "    cont = -1\n",
    "    for i in lista_examen[5]:\n",
    "        cont += 1\n",
    "        print(i, \"-->\", cont)\n",
    "    break\n"
   ]
  },
  {
   "cell_type": "code",
   "execution_count": 37,
   "metadata": {},
   "outputs": [
    {
     "name": "stdout",
     "output_type": "stream",
     "text": [
      "Nombre: Gonzalo\n",
      "Edad: 20\n"
     ]
    }
   ],
   "source": [
    "while True:\n",
    "    for key, value in lista_examen[6].items():\n",
    "        print(\"{}: {}\".format(key, value))\n",
    "    break\n"
   ]
  },
  {
   "cell_type": "markdown",
   "metadata": {},
   "source": [
    "#### Ejercicio 3. \n",
    "\n",
    "Crea una clase \"Humano\" que se inicializa con 3 atributos: \"edad\", \"altura\" y \"nombre\". Además, debe contar con dos métodos: \n",
    "\n",
    "- `cumplir_edad`: al llamar a este método se debe sumar 1 a la edad actual del humano. \n",
    "- `registro_nombre` que recibe parametro \"nuevo_nombre\": al llamar a este método con un parámetro de entrada, este método debe cambiar el nombre del humano por el \"nuevo_nombre\"\n",
    "\n",
    "Crea un humano llamado \"Wolfram\" que tiene 23 años de edad y mide 173 centímetros. A \"Wolfram\" nunca le gustó su nombre. Por eso, usa la función correspondiente para cambiarle su nombre por \"Benacio\". Además, hoy es su cumpleaños por lo que usa la función para aumentar su edad. \n",
    "\n",
    "Muestra por pantalla el nombre del humano antes y después de cambiarse de nombre. Muestra también la edad de Benacio antes y después de cumplir años."
   ]
  },
  {
   "cell_type": "code",
   "execution_count": 38,
   "metadata": {},
   "outputs": [],
   "source": [
    "# tu respuesta aquí\n",
    "class Humano:\n",
    "    '''\n",
    "    Éste código trata sobre las características de un humano.\n",
    "    Las características son:\n",
    "        Edad\n",
    "        Altura\n",
    "        Nombre\n",
    "        \n",
    "    Además podemos hacer que el humano cumpla anios o podemos cambiarle el nombre.\n",
    "    '''\n",
    "    \n",
    "    def __init__(self, edad, altura, nombre):\n",
    "        '''\n",
    "        Características específicas\n",
    "        '''\n",
    "        self.edad = edad\n",
    "        self.altura = altura\n",
    "        self. nombre = nombre\n",
    "        \n",
    "    def cumplir_edad(self):\n",
    "        '''\n",
    "        Método para hacer que el humano cumpla anios\n",
    "        '''\n",
    "        self.edad += 1\n",
    "        \n",
    "    def registro_nombre(self, nuevo_nombre):\n",
    "        '''\n",
    "        Método para cambiar el nombre del humano\n",
    "        '''\n",
    "        self.nombre = nuevo_nombre"
   ]
  },
  {
   "cell_type": "code",
   "execution_count": 41,
   "metadata": {},
   "outputs": [
    {
     "name": "stdout",
     "output_type": "stream",
     "text": [
      "23 173 Wolfram\n",
      "Benacio\n",
      "24\n"
     ]
    }
   ],
   "source": [
    "Humano_1 = Humano(23, 173, \"Wolfram\")\n",
    "print(Humano_1.edad, Humano_1.altura, Humano_1.nombre)\n",
    "Humano_1.registro_nombre(\"Benacio\")\n",
    "print(Humano_1.nombre)\n",
    "Humano_1.cumplir_edad()\n",
    "print(Humano_1.edad)"
   ]
  },
  {
   "cell_type": "markdown",
   "metadata": {},
   "source": [
    "#### Ejercicio 4. \n",
    "\n",
    "Escribe una función `reverse_number` que reciba dos parámetros. Los parámetros son `cadena` y `n`. `cadena` será un string y `n` un entero. La función debe retornar un string que sea el string `cadena` al revés y que tenga concatenado el número `n` por cada caracter de `cadena`.  \n",
    "\n",
    "*No se permite usar la función built-in `reverse` ni pasar el string `cadena` a otro tipo de variable (como list)* \n",
    "\n",
    "Ejemplos de llamada a la función y lo que devuelve la función:\n",
    "\n",
    "--------\n",
    "\n",
    ">> print(reverse_number(cadena=\"aloh\", n=3))\n",
    "\n",
    ">>> h3o3l3a3\n",
    "\n",
    "--------\n",
    "\n",
    ">> print(reverse_number(cadena=\"otipep\", n=85))\n",
    "\n",
    ">>> p85e85p85i85t85o85\n",
    "\n",
    "\n",
    "\n"
   ]
  },
  {
   "cell_type": "code",
   "execution_count": 1,
   "metadata": {},
   "outputs": [
    {
     "name": "stdout",
     "output_type": "stream",
     "text": [
      "h3o3l3a3\n",
      "p85e85p85i85t85o85\n"
     ]
    }
   ],
   "source": [
    "def reverse_number(cadena, n):\n",
    "    reverse_word = \"\"\n",
    "    for i in cadena:\n",
    "        letra = i + str(n)\n",
    "        reverse_word = letra + reverse_word\n",
    "    print(reverse_word)\n",
    "    \n",
    "reverse_number(cadena='aloh', n = 3)\n",
    "reverse_number(cadena='otipep', n=85)"
   ]
  },
  {
   "cell_type": "markdown",
   "metadata": {},
   "source": [
    "#### Ejercicio 5. \n",
    "##### Piedra, papel o tijera\n",
    "En este apartado tienes que implementar el clásico juego de piedra, papel o tijera. Las especificaciones son las siguientes:\n",
    "- El juego debe recoger los inputs de dos jugadores: J1 y J2. Ambos meterán sus inputs en el programa a través de la sentencia `input()`. Puedes manejar todos los posibles inputs (piedra, papel, tijera) como 1,2,3.\n",
    "- Una vez se recogen los inputs y se realizan las comprobaciones oportunas, el juego debe dictaminar si J1 ha ganado, perdido o ha habido empate. A continuación seguirá con otra partida.\n",
    "- El juego se ejecuta para infinitas partidas, hasta que alguno de los jugadores decida pararlo."
   ]
  },
  {
   "cell_type": "code",
   "execution_count": 66,
   "metadata": {},
   "outputs": [
    {
     "name": "stdin",
     "output_type": "stream",
     "text": [
      "Introduzca piedra, papel o tijera (1,2,3):  1\n",
      "Introduzca piedra, papel o tijera (1,2,3):  3\n"
     ]
    },
    {
     "name": "stdout",
     "output_type": "stream",
     "text": [
      "J1 gana\n"
     ]
    },
    {
     "name": "stdin",
     "output_type": "stream",
     "text": [
      "J1, ¿Quieres jugar de nuevo? (S/N):  s\n",
      "J2, ¿Quieres jugar de nuevo? (S/N):  s\n",
      "Introduzca piedra, papel o tijera (1,2,3):  1\n",
      "Introduzca piedra, papel o tijera (1,2,3):  2\n"
     ]
    },
    {
     "name": "stdout",
     "output_type": "stream",
     "text": [
      "J2 gana\n"
     ]
    },
    {
     "name": "stdin",
     "output_type": "stream",
     "text": [
      "J1, ¿Quieres jugar de nuevo? (S/N):  s\n",
      "J2, ¿Quieres jugar de nuevo? (S/N):  s\n",
      "Introduzca piedra, papel o tijera (1,2,3):  1\n",
      "Introduzca piedra, papel o tijera (1,2,3):  3\n"
     ]
    },
    {
     "name": "stdout",
     "output_type": "stream",
     "text": [
      "J1 gana\n"
     ]
    },
    {
     "name": "stdin",
     "output_type": "stream",
     "text": [
      "J1, ¿Quieres jugar de nuevo? (S/N):  n\n",
      "J2, ¿Quieres jugar de nuevo? (S/N):  n\n"
     ]
    }
   ],
   "source": [
    "#### JUEGO DE PIEDRA, PAPEL, TIJERA ####\n",
    "# Piedra = 1\n",
    "# Papel = 2\n",
    "# Tijera = 3\n",
    "\n",
    "def juego(J1, J2):\n",
    "    while True:\n",
    "        if J1 == 1 and J2 == 3 or J1 == 2 and J2 == 1 or J1 == 3 and J2 == 2:\n",
    "            print(\"J1 gana\")\n",
    "        elif J1 == J2:\n",
    "            pass\n",
    "        else:\n",
    "            print(\"J2 gana\")\n",
    "\n",
    "        n_1 = input(\"J1, ¿Quieres jugar de nuevo? (S/N): \")\n",
    "        n_2 = input(\"J2, ¿Quieres jugar de nuevo? (S/N): \")\n",
    "        \n",
    "        if n_1 == 'N'.lower() or n_2 == 'N'.lower():\n",
    "            break\n",
    "        else:\n",
    "            pass\n",
    "            \n",
    "        J1 = int(input(\"Introduzca piedra, papel o tijera (1,2,3): \"))\n",
    "        J2 = int(input(\"Introduzca piedra, papel o tijera (1,2,3): \"))\n",
    "            \n",
    "        \n",
    "J1 = int(input(\"Introduzca piedra, papel o tijera (1,2,3): \"))\n",
    "J2 = int(input(\"Introduzca piedra, papel o tijera (1,2,3): \"))\n",
    "juego(J1, J2)"
   ]
  }
 ],
 "metadata": {
  "kernelspec": {
   "display_name": "Python 3",
   "language": "python",
   "name": "python3"
  },
  "language_info": {
   "codemirror_mode": {
    "name": "ipython",
    "version": 3
   },
   "file_extension": ".py",
   "mimetype": "text/x-python",
   "name": "python",
   "nbconvert_exporter": "python",
   "pygments_lexer": "ipython3",
   "version": "3.8.10"
  }
 },
 "nbformat": 4,
 "nbformat_minor": 4
}
