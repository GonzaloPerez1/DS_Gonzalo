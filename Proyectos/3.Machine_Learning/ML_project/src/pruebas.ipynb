{
 "cells": [
  {
   "cell_type": "markdown",
   "id": "f325f87a-0e84-4ec8-983d-d7338e98d4cc",
   "metadata": {},
   "source": [
    "# Trabajo de machine lerning (Clasificador de SPAM)"
   ]
  },
  {
   "cell_type": "markdown",
   "id": "3c7e363c-9ad6-433e-89e7-5ef06b938f18",
   "metadata": {},
   "source": [
    "## Recogemos los datos"
   ]
  },
  {
   "cell_type": "code",
   "execution_count": 1,
   "id": "ceb2ca79-db42-4253-8cc1-305cb4e5938c",
   "metadata": {},
   "outputs": [
    {
     "name": "stderr",
     "output_type": "stream",
     "text": [
      "/tmp/ipykernel_25178/408128277.py:10: SettingWithCopyWarning: \n",
      "A value is trying to be set on a copy of a slice from a DataFrame.\n",
      "Try using .loc[row_indexer,col_indexer] = value instead\n",
      "\n",
      "See the caveats in the documentation: https://pandas.pydata.org/pandas-docs/stable/user_guide/indexing.html#returning-a-view-versus-a-copy\n",
      "  dataset_limpio['target'] = dataset_limpio['class'].apply(conversion_target)\n"
     ]
    },
    {
     "data": {
      "text/html": [
       "<div>\n",
       "<style scoped>\n",
       "    .dataframe tbody tr th:only-of-type {\n",
       "        vertical-align: middle;\n",
       "    }\n",
       "\n",
       "    .dataframe tbody tr th {\n",
       "        vertical-align: top;\n",
       "    }\n",
       "\n",
       "    .dataframe thead th {\n",
       "        text-align: right;\n",
       "    }\n",
       "</style>\n",
       "<table border=\"1\" class=\"dataframe\">\n",
       "  <thead>\n",
       "    <tr style=\"text-align: right;\">\n",
       "      <th></th>\n",
       "      <th>class</th>\n",
       "      <th>message</th>\n",
       "      <th>target</th>\n",
       "    </tr>\n",
       "  </thead>\n",
       "  <tbody>\n",
       "    <tr>\n",
       "      <th>0</th>\n",
       "      <td>ham</td>\n",
       "      <td>Go until jurong point, crazy.. Available only ...</td>\n",
       "      <td>0</td>\n",
       "    </tr>\n",
       "    <tr>\n",
       "      <th>1</th>\n",
       "      <td>ham</td>\n",
       "      <td>Ok lar... Joking wif u oni...</td>\n",
       "      <td>0</td>\n",
       "    </tr>\n",
       "    <tr>\n",
       "      <th>2</th>\n",
       "      <td>spam</td>\n",
       "      <td>Free entry in 2 a wkly comp to win FA Cup fina...</td>\n",
       "      <td>1</td>\n",
       "    </tr>\n",
       "    <tr>\n",
       "      <th>3</th>\n",
       "      <td>ham</td>\n",
       "      <td>U dun say so early hor... U c already then say...</td>\n",
       "      <td>0</td>\n",
       "    </tr>\n",
       "    <tr>\n",
       "      <th>4</th>\n",
       "      <td>ham</td>\n",
       "      <td>Nah I don't think he goes to usf, he lives aro...</td>\n",
       "      <td>0</td>\n",
       "    </tr>\n",
       "  </tbody>\n",
       "</table>\n",
       "</div>"
      ],
      "text/plain": [
       "  class                                            message  target\n",
       "0   ham  Go until jurong point, crazy.. Available only ...       0\n",
       "1   ham                      Ok lar... Joking wif u oni...       0\n",
       "2  spam  Free entry in 2 a wkly comp to win FA Cup fina...       1\n",
       "3   ham  U dun say so early hor... U c already then say...       0\n",
       "4   ham  Nah I don't think he goes to usf, he lives aro...       0"
      ]
     },
     "execution_count": 1,
     "metadata": {},
     "output_type": "execute_result"
    }
   ],
   "source": [
    "import numpy as np\n",
    "import pandas as pd\n",
    "from info import CSV_ROUTE\n",
    "from aux_functions import conversion_target\n",
    "\n",
    "dataset = pd.read_csv(CSV_ROUTE, encoding= 'latin-1')\n",
    "\n",
    "dataset_limpio = dataset[['class', 'message']]\n",
    "\n",
    "dataset_limpio['target'] = dataset_limpio['class'].apply(conversion_target)\n",
    "\n",
    "dataset_limpio.head()"
   ]
  },
  {
   "cell_type": "code",
   "execution_count": 2,
   "id": "da97f4de-9662-4bbd-be41-2161665bb2d3",
   "metadata": {},
   "outputs": [
    {
     "data": {
      "text/html": [
       "<div>\n",
       "<style scoped>\n",
       "    .dataframe tbody tr th:only-of-type {\n",
       "        vertical-align: middle;\n",
       "    }\n",
       "\n",
       "    .dataframe tbody tr th {\n",
       "        vertical-align: top;\n",
       "    }\n",
       "\n",
       "    .dataframe thead th {\n",
       "        text-align: right;\n",
       "    }\n",
       "</style>\n",
       "<table border=\"1\" class=\"dataframe\">\n",
       "  <thead>\n",
       "    <tr style=\"text-align: right;\">\n",
       "      <th></th>\n",
       "      <th>class</th>\n",
       "      <th>message</th>\n",
       "      <th>target</th>\n",
       "    </tr>\n",
       "  </thead>\n",
       "  <tbody>\n",
       "    <tr>\n",
       "      <th>0</th>\n",
       "      <td>ham</td>\n",
       "      <td>Go until jurong point, crazy.. Available only ...</td>\n",
       "      <td>0</td>\n",
       "    </tr>\n",
       "    <tr>\n",
       "      <th>1</th>\n",
       "      <td>ham</td>\n",
       "      <td>Ok lar... Joking wif u oni...</td>\n",
       "      <td>0</td>\n",
       "    </tr>\n",
       "    <tr>\n",
       "      <th>2</th>\n",
       "      <td>spam</td>\n",
       "      <td>Free entry in 2 a wkly comp to win FA Cup fina...</td>\n",
       "      <td>1</td>\n",
       "    </tr>\n",
       "    <tr>\n",
       "      <th>3</th>\n",
       "      <td>ham</td>\n",
       "      <td>U dun say so early hor... U c already then say...</td>\n",
       "      <td>0</td>\n",
       "    </tr>\n",
       "    <tr>\n",
       "      <th>4</th>\n",
       "      <td>ham</td>\n",
       "      <td>Nah I don't think he goes to usf, he lives aro...</td>\n",
       "      <td>0</td>\n",
       "    </tr>\n",
       "    <tr>\n",
       "      <th>...</th>\n",
       "      <td>...</td>\n",
       "      <td>...</td>\n",
       "      <td>...</td>\n",
       "    </tr>\n",
       "    <tr>\n",
       "      <th>5567</th>\n",
       "      <td>spam</td>\n",
       "      <td>This is the 2nd time we have tried 2 contact u...</td>\n",
       "      <td>1</td>\n",
       "    </tr>\n",
       "    <tr>\n",
       "      <th>5568</th>\n",
       "      <td>ham</td>\n",
       "      <td>Will Ì_ b going to esplanade fr home?</td>\n",
       "      <td>0</td>\n",
       "    </tr>\n",
       "    <tr>\n",
       "      <th>5569</th>\n",
       "      <td>ham</td>\n",
       "      <td>Pity, * was in mood for that. So...any other s...</td>\n",
       "      <td>0</td>\n",
       "    </tr>\n",
       "    <tr>\n",
       "      <th>5570</th>\n",
       "      <td>ham</td>\n",
       "      <td>The guy did some bitching but I acted like i'd...</td>\n",
       "      <td>0</td>\n",
       "    </tr>\n",
       "    <tr>\n",
       "      <th>5571</th>\n",
       "      <td>ham</td>\n",
       "      <td>Rofl. Its true to its name</td>\n",
       "      <td>0</td>\n",
       "    </tr>\n",
       "  </tbody>\n",
       "</table>\n",
       "<p>5572 rows × 3 columns</p>\n",
       "</div>"
      ],
      "text/plain": [
       "     class                                            message  target\n",
       "0      ham  Go until jurong point, crazy.. Available only ...       0\n",
       "1      ham                      Ok lar... Joking wif u oni...       0\n",
       "2     spam  Free entry in 2 a wkly comp to win FA Cup fina...       1\n",
       "3      ham  U dun say so early hor... U c already then say...       0\n",
       "4      ham  Nah I don't think he goes to usf, he lives aro...       0\n",
       "...    ...                                                ...     ...\n",
       "5567  spam  This is the 2nd time we have tried 2 contact u...       1\n",
       "5568   ham              Will Ì_ b going to esplanade fr home?       0\n",
       "5569   ham  Pity, * was in mood for that. So...any other s...       0\n",
       "5570   ham  The guy did some bitching but I acted like i'd...       0\n",
       "5571   ham                         Rofl. Its true to its name       0\n",
       "\n",
       "[5572 rows x 3 columns]"
      ]
     },
     "execution_count": 2,
     "metadata": {},
     "output_type": "execute_result"
    }
   ],
   "source": [
    "dataset_limpio"
   ]
  },
  {
   "cell_type": "markdown",
   "id": "d624a3d1-7bf6-4d01-af97-c23089a243b2",
   "metadata": {},
   "source": [
    "## Dividimos los datos"
   ]
  },
  {
   "cell_type": "code",
   "execution_count": 3,
   "id": "940c0697-af3c-4f2b-93f6-2dc0e9110356",
   "metadata": {},
   "outputs": [],
   "source": [
    "from sklearn.model_selection import train_test_split\n",
    "\n",
    "X = dataset_limpio['message']\n",
    "y = dataset_limpio['target']\n",
    "\n",
    "X_train, X_test, y_train, y_test = train_test_split(X, y, test_size = .2, random_state=42)"
   ]
  },
  {
   "cell_type": "markdown",
   "id": "b891556f-aafa-420e-a92c-f2eb91f620d6",
   "metadata": {},
   "source": [
    "## Creamos el Pipeline"
   ]
  },
  {
   "cell_type": "code",
   "execution_count": 4,
   "id": "5888e721-43ca-486d-8d48-89cdb016e80c",
   "metadata": {},
   "outputs": [
    {
     "data": {
      "text/plain": [
       "GridSearchCV(estimator=Pipeline(steps=[('vectorizer',\n",
       "                                        CountVectorizer(stop_words='english')),\n",
       "                                       ('bayes', MultinomialNB())]),\n",
       "             param_grid={'vectorizer__max_features': range(80, 400)})"
      ]
     },
     "execution_count": 4,
     "metadata": {},
     "output_type": "execute_result"
    }
   ],
   "source": [
    "from sklearn.pipeline import Pipeline\n",
    "from sklearn.naive_bayes import MultinomialNB\n",
    "from sklearn.model_selection import GridSearchCV\n",
    "from sklearn.feature_extraction.text import CountVectorizer\n",
    "\n",
    "naive_bayes = Pipeline(steps = [\n",
    "    ('vectorizer', CountVectorizer(stop_words='english')),\n",
    "    ('bayes', MultinomialNB())\n",
    "])\n",
    "\n",
    "vectorizer_parameters = {\n",
    "    'vectorizer__max_features': range(80, 400, 25)\n",
    "}\n",
    "\n",
    "bayes_grid = GridSearchCV(naive_bayes,\n",
    "                         vectorizer_parameters)\n",
    "\n",
    "bayes_grid.fit(X_train, y_train)"
   ]
  },
  {
   "cell_type": "code",
   "execution_count": 5,
   "id": "01929155-dccc-43b4-8daa-5b31b50ab67e",
   "metadata": {},
   "outputs": [
    {
     "data": {
      "text/plain": [
       "{'vectorizer__max_features': 334}"
      ]
     },
     "execution_count": 5,
     "metadata": {},
     "output_type": "execute_result"
    }
   ],
   "source": [
    "bayes_grid.best_params_"
   ]
  },
  {
   "cell_type": "code",
   "execution_count": 6,
   "id": "cdba45c2-bb32-42bb-94f4-8ccd3f3a0897",
   "metadata": {},
   "outputs": [
    {
     "name": "stdout",
     "output_type": "stream",
     "text": [
      "0.9773390172761948\n",
      "0.9730941704035875\n"
     ]
    }
   ],
   "source": [
    "best_model = bayes_grid.best_estimator_\n",
    "best_model.fit(X_train, y_train)\n",
    "\n",
    "print(best_model.score(X_train, y_train))\n",
    "print(best_model.score(X_test, y_test))"
   ]
  },
  {
   "cell_type": "code",
   "execution_count": 7,
   "id": "281da3ae-9a08-4328-bfd8-383b9363e732",
   "metadata": {},
   "outputs": [
    {
     "data": {
      "text/plain": [
       "array([0, 0, 1, ..., 0, 0, 1])"
      ]
     },
     "execution_count": 7,
     "metadata": {},
     "output_type": "execute_result"
    }
   ],
   "source": [
    "best_model.predict(X_test)"
   ]
  },
  {
   "cell_type": "markdown",
   "id": "334c2cd5-f790-497c-af6c-13562eeda74f",
   "metadata": {},
   "source": [
    "## Redes neuronales"
   ]
  },
  {
   "cell_type": "code",
   "execution_count": 25,
   "id": "301ab3d6-bdc6-4716-ab46-4e181c7dde81",
   "metadata": {},
   "outputs": [
    {
     "name": "stdout",
     "output_type": "stream",
     "text": [
      "(4457, 334)\n",
      "(4457,)\n",
      "Model: \"sequential_6\"\n",
      "_________________________________________________________________\n",
      "Layer (type)                 Output Shape              Param #   \n",
      "=================================================================\n",
      "dense_24 (Dense)             (None, 50)                16750     \n",
      "_________________________________________________________________\n",
      "dense_25 (Dense)             (None, 30)                1530      \n",
      "_________________________________________________________________\n",
      "dense_26 (Dense)             (None, 10)                310       \n",
      "_________________________________________________________________\n",
      "dense_27 (Dense)             (None, 2)                 22        \n",
      "=================================================================\n",
      "Total params: 18,612\n",
      "Trainable params: 18,612\n",
      "Non-trainable params: 0\n",
      "_________________________________________________________________\n",
      "Epoch 1/10\n",
      "45/45 [==============================] - 0s 919us/step - loss: 7.6364 - acc: 0.8661 - mse: 0.5595 - mae: 0.5330\n",
      "Epoch 2/10\n",
      "45/45 [==============================] - 0s 992us/step - loss: 7.6364 - acc: 0.8661 - mse: 0.5595 - mae: 0.5330\n",
      "Epoch 3/10\n",
      "45/45 [==============================] - 0s 982us/step - loss: 7.6364 - acc: 0.8661 - mse: 0.5595 - mae: 0.5330\n",
      "Epoch 4/10\n",
      "45/45 [==============================] - 0s 958us/step - loss: 7.6364 - acc: 0.8661 - mse: 0.5595 - mae: 0.5330\n",
      "Epoch 5/10\n",
      "45/45 [==============================] - 0s 984us/step - loss: 7.6364 - acc: 0.8661 - mse: 0.5595 - mae: 0.5330\n",
      "Epoch 6/10\n",
      "45/45 [==============================] - 0s 1ms/step - loss: 7.6364 - acc: 0.8661 - mse: 0.5595 - mae: 0.5330\n",
      "Epoch 7/10\n",
      "45/45 [==============================] - 0s 1ms/step - loss: 7.6364 - acc: 0.8661 - mse: 0.5595 - mae: 0.5330\n",
      "Epoch 8/10\n",
      "45/45 [==============================] - 0s 1ms/step - loss: 7.6364 - acc: 0.8661 - mse: 0.5595 - mae: 0.5330\n",
      "Epoch 9/10\n",
      "45/45 [==============================] - 0s 1ms/step - loss: 7.6364 - acc: 0.8661 - mse: 0.5595 - mae: 0.5330\n",
      "Epoch 10/10\n",
      "45/45 [==============================] - 0s 1ms/step - loss: 7.6364 - acc: 0.8661 - mse: 0.5595 - mae: 0.5330\n"
     ]
    },
    {
     "data": {
      "text/plain": [
       "<keras.callbacks.History at 0x7f0ec330a3d0>"
      ]
     },
     "execution_count": 30,
     "metadata": {},
     "output_type": "execute_result"
    }
   ],
   "source": [
    "from keras.models import Sequential\n",
    "from keras.layers import Dense\n",
    "from sklearn.pipeline import Pipeline\n",
    "from sklearn.model_selection import GridSearchCV\n",
    "from sklearn.model_selection import train_test_split\n",
    "from keras.layers import Dropout\n",
    "from sklearn.feature_extraction.text import CountVectorizer\n",
    "\n",
    "X = dataset_limpio['message']\n",
    "y = dataset_limpio['target']\n",
    "\n",
    "X_train, X_test, y_train, y_test = train_test_split(X, y, test_size = .2, random_state=42)\n",
    "\n",
    "vectorizer = CountVectorizer(max_features = 334, stop_words = 'english')\n",
    "X_train_vec = vectorizer.fit_transform(X_train)\n",
    "X_test_vec = vectorizer.transform(X_test)\n",
    "\n",
    "print(X_train_vec.shape)\n",
    "\n",
    "#print(X_train.toarray().shape)\n",
    "\n",
    "print(y_train.shape)\n",
    "\n",
    "ann = Sequential()\n",
    "ann.add(Dense(50, input_shape=X_train_vec.shape[1:], activation = 'relu'))\n",
    "ann.add(Dense(30, activation = 'sigmoid'))\n",
    "ann.add(Dense(10, activation = 'sigmoid'))\n",
    "ann.add(Dense(1, activation = 'sigmoid'))\n",
    "\n",
    "ann.summary()\n",
    "\n",
    "ann.compile(loss='binary_crossentropy', optimizer='adam',\n",
    "           metrics=['acc', 'mse', 'mae'])\n",
    "\n",
    "ann.fit(X_train_vec.toarray(), y_train, epochs = 10, batch_size = 100)"
   ]
  },
  {
   "cell_type": "code",
   "execution_count": 26,
   "id": "e72df46c-f63c-4641-98f5-3b357d1c3c9e",
   "metadata": {},
   "outputs": [
    {
     "name": "stdout",
     "output_type": "stream",
     "text": [
      "(1115, 334)\n",
      "(1115,)\n"
     ]
    }
   ],
   "source": [
    "print(X_test_vec.toarray().shape)\n",
    "print(y_test.shape)"
   ]
  },
  {
   "cell_type": "code",
   "execution_count": 27,
   "id": "81e831d6-2932-4c45-842d-6d23ab81831d",
   "metadata": {},
   "outputs": [],
   "source": [
    "prediction = ann.predict(X_test_vec)\n",
    "prediction = list(map(lambda x: 1 if x > 0.5 else 0, prediction))"
   ]
  },
  {
   "cell_type": "code",
   "execution_count": 28,
   "id": "56f814ef-2405-4898-ba0f-f345514669c3",
   "metadata": {},
   "outputs": [
    {
     "data": {
      "text/plain": [
       "0.9775784753363229"
      ]
     },
     "execution_count": 28,
     "metadata": {},
     "output_type": "execute_result"
    }
   ],
   "source": [
    "sum(prediction == y_test) / len(prediction)"
   ]
  },
  {
   "cell_type": "code",
   "execution_count": 118,
   "id": "46cd970f-3c15-4a73-8aa4-9cd9010abcd3",
   "metadata": {},
   "outputs": [
    {
     "name": "stdout",
     "output_type": "stream",
     "text": [
      "(1115,)\n",
      "(1115, 2)\n"
     ]
    }
   ],
   "source": [
    "print(y_test.shape)\n",
    "print(prediction.shape)"
   ]
  }
 ],
 "metadata": {
  "kernelspec": {
   "display_name": "Python 3 (ipykernel)",
   "language": "python",
   "name": "python3"
  },
  "language_info": {
   "codemirror_mode": {
    "name": "ipython",
    "version": 3
   },
   "file_extension": ".py",
   "mimetype": "text/x-python",
   "name": "python",
   "nbconvert_exporter": "python",
   "pygments_lexer": "ipython3",
   "version": "3.8.11"
  }
 },
 "nbformat": 4,
 "nbformat_minor": 5
}
