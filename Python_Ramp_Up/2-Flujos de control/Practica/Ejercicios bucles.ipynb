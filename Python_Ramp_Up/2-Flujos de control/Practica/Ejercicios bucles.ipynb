{
 "cells": [
  {
   "cell_type": "markdown",
   "metadata": {},
   "source": [
    "![imagen](./img/ejercicios.png)"
   ]
  },
  {
   "cell_type": "markdown",
   "metadata": {},
   "source": [
    "## Ejercicio 1\n",
    "1. Elimina todos los VW de la siguiente lista. Crea una lista nueva para ello.\n",
    "2. Hazlo de otra manera. Crea una lista nueva vacía, y ve añadiendo todos los que no sean VW\n",
    "3. En vez de `for`, usa un bucle `while`\n",
    "> ejer_1 = [\"VW\", \"Audi\", \"Renault\", \"VW\", \"BMW\"]"
   ]
  },
  {
   "cell_type": "code",
   "execution_count": 4,
   "metadata": {},
   "outputs": [
    {
     "name": "stdout",
     "output_type": "stream",
     "text": [
      "['Audi', 'Renault', 'BMW']\n"
     ]
    }
   ],
   "source": [
    "ejer_1 = [\"VW\", \"Audi\", \"Renault\", \"VW\", \"BMW\"]\n",
    "lista_2 = []\n",
    "lista_3 = []\n",
    "\n",
    "for marca in ejer_1:\n",
    "    if marca != \"VW\":\n",
    "        lista_2.append(marca)\n",
    "print(lista_2)"
   ]
  },
  {
   "cell_type": "markdown",
   "metadata": {},
   "source": [
    "## Ejercicio 2\n",
    "Imprime por pantalla la siguiente secuencia: 10, 9, 8.... -8, -9, -10"
   ]
  },
  {
   "cell_type": "code",
   "execution_count": 9,
   "metadata": {},
   "outputs": [
    {
     "name": "stdout",
     "output_type": "stream",
     "text": [
      "10\n",
      "9\n",
      "8\n",
      "7\n",
      "6\n",
      "5\n",
      "4\n",
      "3\n",
      "2\n",
      "1\n",
      "0\n",
      "-1\n",
      "-2\n",
      "-3\n",
      "-4\n",
      "-5\n",
      "-6\n",
      "-7\n",
      "-8\n",
      "-9\n",
      "-10\n"
     ]
    }
   ],
   "source": [
    "for i in range(10, -11, -1):\n",
    "    print(i)"
   ]
  },
  {
   "cell_type": "markdown",
   "metadata": {},
   "source": [
    "## Ejercicio 3\n",
    "1. Escribe un programa que vaya pidiendo numeros al usuario. Cuando el usuario introduzca el 0, el programa tiene que imprimir por pantalla el sumatorio de todos los numeros positivos introducidos\n",
    "2. Además de la suma, queremos que imprima también una lista con todos los números."
   ]
  },
  {
   "cell_type": "code",
   "execution_count": 29,
   "metadata": {},
   "outputs": [
    {
     "name": "stdin",
     "output_type": "stream",
     "text": [
      "Introduce un número:  1\n",
      "Introduce un número:  2\n",
      "Introduce un número:  3\n",
      "Introduce un número:  0\n"
     ]
    },
    {
     "name": "stdout",
     "output_type": "stream",
     "text": [
      "6\n",
      "[1, 2, 3]\n"
     ]
    }
   ],
   "source": [
    "lista_numeros = []\n",
    "numeros = int(input(\"Introduce un número: \"))\n",
    "n = 0\n",
    "\n",
    "while n == 0:\n",
    "    lista_numeros.append(numeros)\n",
    "    numeros = int(input(\"Introduce un número: \"))\n",
    "    if numeros == 0:\n",
    "        print(sum(lista_numeros))\n",
    "        break\n",
    "print(lista_numeros)"
   ]
  },
  {
   "cell_type": "markdown",
   "metadata": {},
   "source": [
    "## Ejercicio 4\n",
    "Escribir un programa que vaya pidiendo la cantidad de compras que hace un cliente en una página web. El programa tiene que pedir cantidades hasta que se ingresa un 0. Igualmente cuando una de las cantiaddes introducida es negativa, hay que imprimir por pantalla un mensaje:\n",
    "\n",
    "\"Numero negativo, por favor, introduzca un numero positivo\""
   ]
  },
  {
   "cell_type": "code",
   "execution_count": 35,
   "metadata": {},
   "outputs": [
    {
     "name": "stdin",
     "output_type": "stream",
     "text": [
      "Introduce un número:  1\n",
      "Introduce un número:  2\n",
      "Introduce un número:  3\n",
      "Introduce un número:  -4\n"
     ]
    },
    {
     "name": "stdout",
     "output_type": "stream",
     "text": [
      "Número negativo, por favor, introduzca un número positivo\n"
     ]
    },
    {
     "name": "stdin",
     "output_type": "stream",
     "text": [
      "Introduce un número:  0\n"
     ]
    },
    {
     "name": "stdout",
     "output_type": "stream",
     "text": [
      "[1, 2, 3, -4]\n"
     ]
    }
   ],
   "source": [
    "lista_numeros = []\n",
    "numeros = int(input(\"Introduce un número: \"))\n",
    "n = 0\n",
    "\n",
    "while n == 0:\n",
    "    lista_numeros.append(numeros)\n",
    "    numeros = int(input(\"Introduce un número: \"))\n",
    "    if numeros == 0:\n",
    "        break\n",
    "    if numeros < 0:\n",
    "        print(\"Número negativo, por favor, introduzca un número positivo\")\n",
    "print(lista_numeros)"
   ]
  },
  {
   "cell_type": "markdown",
   "metadata": {},
   "source": [
    "## Ejercicio 5\n",
    "Imprime por pantalla la palabra \"Python\", pero empezando con la última letra."
   ]
  },
  {
   "cell_type": "code",
   "execution_count": 41,
   "metadata": {},
   "outputs": [
    {
     "name": "stdout",
     "output_type": "stream",
     "text": [
      "n\n",
      "o\n",
      "h\n",
      "t\n",
      "y\n",
      "P\n"
     ]
    }
   ],
   "source": [
    "palabra = \"Python\"\n",
    "\n",
    "for letra in palabra[::-1]: #Se puede usar para el ejercicio de palíndromos\n",
    "    print(letra)"
   ]
  },
  {
   "cell_type": "markdown",
   "metadata": {},
   "source": [
    "## Ejercicio 6\n",
    "Escribe un programa que calcule la cantidad de veces que está la letra \"m\" o \"M\" en la frase:\n",
    "> \"En un lugar de La Mancha, de cuyo nombre no quiero acordarme\""
   ]
  },
  {
   "cell_type": "code",
   "execution_count": 42,
   "metadata": {},
   "outputs": [
    {
     "name": "stdout",
     "output_type": "stream",
     "text": [
      "3\n"
     ]
    }
   ],
   "source": [
    "frase = \"En un lugar de La Mancha, de cuyo nombre no quiero acordarme\"\n",
    "contador = 0\n",
    "\n",
    "for letras in frase:\n",
    "    if letras == \"M\" or letras == \"m\":\n",
    "        contador += 1\n",
    "print(contador)"
   ]
  },
  {
   "cell_type": "markdown",
   "metadata": {},
   "source": [
    "## Ejercicio 7\n",
    "Crea un programa que simule la siguiente pirámide. Para ello, el programa tiene que pedirle al usuario un caracter cualquiera. El número de filas es fijo, 5.\n",
    "\n",
    "W W W W W \n",
    "\n",
    "W W W W \n",
    "\n",
    "W W W \n",
    "\n",
    "W W \n",
    "\n",
    "W \n",
    "\n",
    "\n"
   ]
  },
  {
   "cell_type": "code",
   "execution_count": 63,
   "metadata": {
    "tags": []
   },
   "outputs": [
    {
     "name": "stdin",
     "output_type": "stream",
     "text": [
      "Introduce un símbolo cualquiera:  W\n"
     ]
    },
    {
     "name": "stdout",
     "output_type": "stream",
     "text": [
      "W W W W W \n",
      "W W W W \n",
      "W W W \n",
      "W W \n",
      "W \n"
     ]
    }
   ],
   "source": [
    "def piramide(simbolo):\n",
    "    for i in range(5):\n",
    "        for j in range(0, 5 - i):\n",
    "            print(simbolo, end=\" \")\n",
    "        print(\"\\r\")\n",
    "    \n",
    "simbolo = input(\"Introduce un símbolo cualquiera: \")\n",
    "piramide(simbolo)"
   ]
  },
  {
   "cell_type": "markdown",
   "metadata": {},
   "source": [
    " ## Ejercicio 8\n",
    " Crea un programa que en función de un input numérico que inserte el usuario, imprima por pantalla la pirámide de ejemplo. Si el input es 6, tendrá 6 pisos, pero si introduce 10, la pirámide tendrá 10 pisos.\n",
    " \n",
    " 1 2 3 4 5 6\n",
    " \n",
    " 1 2 3 4 5\n",
    " \n",
    " 1 2 3 4\n",
    " \n",
    " 1 2 3\n",
    " \n",
    " 1 2\n",
    " \n",
    " 1"
   ]
  },
  {
   "cell_type": "code",
   "execution_count": 68,
   "metadata": {},
   "outputs": [
    {
     "name": "stdin",
     "output_type": "stream",
     "text": [
      "introduzca el número de pisos:  6\n"
     ]
    },
    {
     "name": "stdout",
     "output_type": "stream",
     "text": [
      "1 2 3 4 5 6 \n",
      "1 2 3 4 5 \n",
      "1 2 3 4 \n",
      "1 2 3 \n",
      "1 2 \n",
      "1 \n",
      "\n",
      "\n"
     ]
    }
   ],
   "source": [
    "def piramide(pisos):\n",
    "    for i in range(-1, pisos + 1):\n",
    "        for j in range(1, pisos - i):\n",
    "            print(j, end=\" \")\n",
    "        print(\"\\r\")\n",
    "        \n",
    "pisos = int(input(\"introduzca el número de pisos: \"))\n",
    "piramide(pisos)"
   ]
  },
  {
   "cell_type": "markdown",
   "metadata": {},
   "source": [
    "## Ejercicio 9\n",
    "Replica el siguiente patrón"
   ]
  },
  {
   "cell_type": "code",
   "execution_count": null,
   "metadata": {},
   "outputs": [],
   "source": [
    "def piramide(pisos):\n",
    "    for i in range(-1, pisos + 1):\n",
    "        for j in range(1, pisos - i):\n",
    "            print(j, end=\" \")\n",
    "        print(\"\\r\")\n",
    "        \n",
    "pisos = int(input(\"introduzca el número de pisos: \"))\n",
    "piramide(pisos)"
   ]
  },
  {
   "cell_type": "markdown",
   "metadata": {},
   "source": [
    "## Ejercicio 10\n",
    "Imprime toda la secuencia de numeros del 1 al 10, excepto el 3, 4 y 9. Impleméntalo de dos maneras diferentes"
   ]
  },
  {
   "cell_type": "code",
   "execution_count": 69,
   "metadata": {},
   "outputs": [
    {
     "name": "stdout",
     "output_type": "stream",
     "text": [
      "1\n",
      "2\n",
      "5\n",
      "6\n",
      "7\n",
      "8\n",
      "10\n"
     ]
    }
   ],
   "source": [
    "for i in range(1, 11):\n",
    "    if i == 3 or i == 4 or i == 9:\n",
    "        continue\n",
    "    print(i)"
   ]
  },
  {
   "cell_type": "markdown",
   "metadata": {},
   "source": [
    "## Ejercicio 11\n",
    "Suponiendo que siempre se cumple que las dos listas del ejercicio son iguales de tamaño, implementa un programa que calcule el ratio ingreso/gasto de cada elemento, y lo guarde en una nueva lista. Si hubiese algún problema con los datos, hay que almacenar un mensaje de error en la lista del resultado. Usa `try/except`\n",
    "> ingresos = [100, 200, 500, 100, 600]\n",
    ">\n",
    "> gastos = [50, 20, 70, 0, 25]"
   ]
  },
  {
   "cell_type": "code",
   "execution_count": 5,
   "metadata": {},
   "outputs": [
    {
     "name": "stdout",
     "output_type": "stream",
     "text": [
      "[200.0, 1000.0, 714.2857142857143, ZeroDivisionError('division by zero')]\n"
     ]
    }
   ],
   "source": [
    "ingresos = [100, 200, 500, 100, 600]\n",
    "gastos = [50, 20, 70, 0, 25]\n",
    "ratio = []\n",
    "\n",
    "try:\n",
    "    for i in range(0, 5):\n",
    "        r = (ingresos[i] / gastos[i])*100\n",
    "        ratio.append(r)\n",
    "    print(ratio)\n",
    "except Exception as e:\n",
    "    ratio.append(e)\n",
    "    print(ratio)"
   ]
  },
  {
   "cell_type": "markdown",
   "metadata": {},
   "source": [
    "## Ejercicio 12\n",
    "Muy parecido al anterior, aunque ahora tendremos que excepcionar más tipos de errores con estos nuevos datos. En este caso, almacena un mensaje diferente en la lista resultado, para cada error.\n",
    "\n",
    "> ingresos = [100, \"HHH\", 500, 100, 600, 900, 150]\n",
    ">\n",
    "> gastos = [50, 20, 70, 0, 25]"
   ]
  },
  {
   "cell_type": "code",
   "execution_count": 8,
   "metadata": {},
   "outputs": [
    {
     "name": "stdout",
     "output_type": "stream",
     "text": [
      "[50, TypeError(\"unsupported operand type(s) for -: 'str' and 'int'\")]\n"
     ]
    }
   ],
   "source": [
    "ingresos = [100, \"HHH\", 500, 100, 600, 900, 150]\n",
    "gastos = [50, 20, 70, 0, 25]\n",
    "ratio = []\n",
    "\n",
    "try:\n",
    "    for i in range(0, 7):\n",
    "        r = ingresos[i] - gastos[i]\n",
    "        ratio.append(r)\n",
    "    print(ratio)\n",
    "except Exception as e:\n",
    "    ratio.append(e)\n",
    "    print(ratio)"
   ]
  }
 ],
 "metadata": {
  "kernelspec": {
   "display_name": "Python 3",
   "language": "python",
   "name": "python3"
  },
  "language_info": {
   "codemirror_mode": {
    "name": "ipython",
    "version": 3
   },
   "file_extension": ".py",
   "mimetype": "text/x-python",
   "name": "python",
   "nbconvert_exporter": "python",
   "pygments_lexer": "ipython3",
   "version": "3.8.10"
  }
 },
 "nbformat": 4,
 "nbformat_minor": 4
}
