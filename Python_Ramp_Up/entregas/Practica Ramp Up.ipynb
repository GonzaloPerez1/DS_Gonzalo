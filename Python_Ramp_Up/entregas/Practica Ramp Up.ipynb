{
 "cells": [
  {
   "cell_type": "markdown",
   "metadata": {},
   "source": [
    "# Entrega Ramp Up\n"
   ]
  },
  {
   "cell_type": "markdown",
   "metadata": {},
   "source": [
    "## Ejercicio 1\n",
    "#### Crear un programa que calcule la cuota de una hipoteca\n",
    "\n",
    "Las cuotas hipotecarias se calculan utilizando la fórmula del interés frances. El objetivo del ejercicio es crear un programa que solicite al usuario los datos de su hipoteca (cantidad, intereses, y plazo en años) y le devuelva la cuota mensual a pagar\n",
    "\n",
    "La formula del interés frances es la siguiente:\n",
    "\\begin{align*}\n",
    "C=V \\frac{(1+i)^n i}{(1+i)^n -1}\n",
    "\\end{align*}\n",
    "\n",
    "\n",
    "    C = Cuota a pagar\n",
    "    V = Cantidad del préstamo hipotecario\n",
    "    i = tipo de interés del período (tipo de interes de la hipoteca por mes)\n",
    "    n = número de cuotas (en meses)\n",
    "\n",
    "V = 300.000\n",
    "\n",
    "i = 2 %\n",
    "\n",
    "n = 20*12\n",
    "\n",
    "output: 1517"
   ]
  },
  {
   "cell_type": "code",
   "execution_count": 103,
   "metadata": {},
   "outputs": [
    {
     "name": "stdin",
     "output_type": "stream",
     "text": [
      "Introduzca la cantidad del préstamo:  300000\n",
      "Introduzca el interés del préstamo sin el símbolo '%':  2\n",
      "Introduzca el número de cuotas:  20\n"
     ]
    },
    {
     "name": "stdout",
     "output_type": "stream",
     "text": [
      "1517.650005135323\n"
     ]
    }
   ],
   "source": [
    "def cuota_hipoteca(V, i, n):\n",
    "    i = (i / 100) / 12 #Pasamos el valor del interés de porcentaje a un número decimal y de anual a mensual\n",
    "    n = n * 12 #Obtenemos el número de cuotas mensuales, n es anual\n",
    "    try:\n",
    "        cuota = (V * ( (i*((1+i)**n)) / (((1+i)**n)-1) )) #Fórmula del interés francés 2,31777470305887703215015 114,8887351529438516075\n",
    "        return cuota\n",
    "    except Exception as e:\n",
    "        print(\"Error: \", e)\n",
    "\n",
    "V = float(input(\"Introduzca la cantidad del préstamo: \"))\n",
    "i = int(input(\"Introduzca el interés del préstamo sin el símbolo '%': \"))\n",
    "n = float(input(\"Introduzca el número de cuotas: \"))\n",
    "print(cuota_hipoteca(V, i, n)) #Llamamos a la función cuota_hipoteca"
   ]
  },
  {
   "cell_type": "markdown",
   "metadata": {},
   "source": [
    "## Ejercicio 2\n",
    "#### Crear un programa que calcule el plan de amortización\n",
    "\n",
    "El objetivo del ejercicio es crear un programa que solicite al usuario los datos de su hipoteca (cantidad, intereses, y plazo en años) y le devuelva el plan de amortización.\n",
    "\n",
    "En cada cuota se pagan intereses por el capital restante, y se devuelve capital hasta la cuota mensual. El capital restante ha de ser actualizado restandole el capital devuelto.\n",
    "\n",
    "Salida ejemplo:\n",
    "\n",
    "mes  cuota  intereses  principal  pendiente   \n",
    "\n",
    "0  758.89   450.00   308.89   179691.11 \n",
    "\n",
    "**NOTA**: Tienes que partir de tipo de interes por periodo calculado en el apartado anterior, y del total de la hipoteca. Para cada mes calcular:\n",
    "\n",
    "1. cuota (apartado anterior)\n",
    "2. intereses a pagar del mes (lo que quede por pagar * interes por periodo del apartado anterior)\n",
    "3. principal (cuota - interes)\n",
    "4. pendiente (lo que quede por pagar - principal)\n",
    "\n",
    "Igual que se calcula aqui: http://www.calculohipoteca.org"
   ]
  },
  {
   "cell_type": "code",
   "execution_count": 80,
   "metadata": {},
   "outputs": [
    {
     "ename": "NameError",
     "evalue": "name 'self' is not defined",
     "output_type": "error",
     "traceback": [
      "\u001b[0;31m---------------------------------------------------------------------------\u001b[0m",
      "\u001b[0;31mNameError\u001b[0m                                 Traceback (most recent call last)",
      "\u001b[0;32m<ipython-input-80-4133b1ae4b7e>\u001b[0m in \u001b[0;36m<module>\u001b[0;34m\u001b[0m\n\u001b[1;32m     34\u001b[0m \u001b[0;34m\u001b[0m\u001b[0m\n\u001b[1;32m     35\u001b[0m \u001b[0;31m### EJECUTOR ###\u001b[0m\u001b[0;34m\u001b[0m\u001b[0;34m\u001b[0m\u001b[0;34m\u001b[0m\u001b[0m\n\u001b[0;32m---> 36\u001b[0;31m \u001b[0mmain\u001b[0m\u001b[0;34m(\u001b[0m\u001b[0mself\u001b[0m\u001b[0;34m)\u001b[0m\u001b[0;34m\u001b[0m\u001b[0;34m\u001b[0m\u001b[0m\n\u001b[0m",
      "\u001b[0;31mNameError\u001b[0m: name 'self' is not defined"
     ]
    }
   ],
   "source": [
    "### CUOTA ###\n",
    "def cuota(self, V, i, n):\n",
    "    i = (i / 100) / 12 #Pasamos el valor del interés de porcentaje a un número decimal y de anual a mensual\n",
    "    n = n * 12 #Obtenemos el número de cuotas mensuales, n es anual\n",
    "    try:\n",
    "        self.cuota = (V * ( (i*((1+i)**n)) / (((1+i)**n)-1) )) #Fórmula del interés francés 2,31777470305887703215015 114,8887351529438516075\n",
    "        return cuota\n",
    "    except Exception as e:\n",
    "        print(\"Error: \", e)\n",
    "\n",
    "### CALCULOS PARA LOS VALORES ###\n",
    "def calculos(self, V, i, n):\n",
    "    intereses = V * i\n",
    "    principal = self.cuota - intereses\n",
    "    pendiente = V - principal\n",
    "    return self.intereses, self.principal, self.pendiente\n",
    "\n",
    "### COORDINADOR ###\n",
    "def main(self):\n",
    "    V = float(input(\"Introduzca la cantidad del préstamo: \"))\n",
    "    i = int(input(\"Introduzca el interés del préstamo sin el símbolo '%': \"))\n",
    "    n = float(input(\"Introduzca el número de cuotas: \"))\n",
    "    mes = 0\n",
    "    while V > 0:\n",
    "        mes += 1\n",
    "        if V < 0:\n",
    "            break\n",
    "        calculos(V, i, n)\n",
    "        print(f\"Mes: {mes}, \\\n",
    "              Cuota: {self.cuota}, \\\n",
    "              Intereses: {self.intereses}, \\\n",
    "              Principal: {self.principal}, \\\n",
    "              Pendiente: {self.pendiente}\")\n",
    "    \n",
    "### EJECUTOR ###  \n",
    "self.main(self)"
   ]
  },
  {
   "cell_type": "markdown",
   "metadata": {},
   "source": [
    "## Ejercicio 3\n",
    "#### Crear un programa que resuelva una ecuacción de segundo grado\n",
    "\n",
    "El objetivo del programa es resolver la ecuacción de sgundo grado \n",
    "\n",
    "\\begin{align*}\n",
    "ax^2+bx+c = 0\n",
    "\\end{align*}\n",
    "\n",
    "Pasando como parámetros los coeficientes de la ecuacción. La resolución de la ecuacción es la siguiente:\n",
    "\n",
    "\\begin{align*}\n",
    "x=\\frac{-b \\pm \\sqrt{b^2-4ac}}{2a}\n",
    "\\end{align*}\n",
    "\n",
    "Para realizar este programa tienes que utilizar el metodo sqrt() para calcular la raiz cuadrada. Para ello tienes que importar el módulo math. Así que tu programa debería empezar con ```ìmport math```\n"
   ]
  },
  {
   "cell_type": "code",
   "execution_count": 38,
   "metadata": {},
   "outputs": [
    {
     "name": "stdin",
     "output_type": "stream",
     "text": [
      "Introduce el valor de a:  5\n",
      "Introduce el valor de b:  4\n",
      "Introduce el valor de c:  3\n"
     ]
    },
    {
     "name": "stdout",
     "output_type": "stream",
     "text": [
      "Los números introducidos no son adecuados\n"
     ]
    }
   ],
   "source": [
    "from math import sqrt\n",
    "\n",
    "def ecuacion(a, b, c):\n",
    "    D = b**2 - (4*a*c) #Comprobamos que va a tener soluciones\n",
    "    if D >= 0: \n",
    "        try:\n",
    "            x_1 = (-b + sqrt(b**2 - (4*a*c))) / (2*a)\n",
    "            x_2 = (-b - sqrt(b**2 - (4*a*c))) / (2*a)\n",
    "            print(f\"Las soluciones son: {x_1} y {x_2}\")\n",
    "        except Exception as e: #Guardamos el error, si apareciese, y lo mostramos por pantalla\n",
    "            print(\"Error: \", e)\n",
    "    else:\n",
    "        print(\"Los números introducidos no son adecuados\")\n",
    "    \n",
    "a = int(input(\"Introduce el valor de a: \"))\n",
    "b = int(input(\"Introduce el valor de b: \"))\n",
    "c = int(input(\"Introduce el valor de c: \"))\n",
    "ecuacion(a, b, c) #Llamamos a la función ecuacion"
   ]
  },
  {
   "cell_type": "markdown",
   "metadata": {},
   "source": [
    "## Ejercicio 4\n",
    "#### Crear un programa que calcule el average\n",
    "\n",
    "El programa pedirá al usuario que introduzca numeros. En primer lugar le pedirá que indique cuantos números se quieren introducir, y enseñara un prompt para incluirlos, y calculará el average.\n",
    "\n"
   ]
  },
  {
   "cell_type": "code",
   "execution_count": 1,
   "metadata": {},
   "outputs": [
    {
     "name": "stdin",
     "output_type": "stream",
     "text": [
      "¿Cuántos números va a introducir?:  4\n",
      "Introduzca los números sin elementos adicionales ni negativos:  1234\n"
     ]
    },
    {
     "name": "stdout",
     "output_type": "stream",
     "text": [
      "The average is: 2.5\n"
     ]
    }
   ],
   "source": [
    "def average(rango, numeros):\n",
    "    if len(numeros) == rango:\n",
    "        numeros_int = (int(x) for x in numeros)\n",
    "        avg = (sum(numeros_int) / len(numeros))\n",
    "        print(\"The average is: {}\".format(avg))\n",
    "    else:\n",
    "        print(\"Has introducido más números de los que has dicho\")\n",
    "\n",
    "rango = int(input(\"¿Cuántos números va a introducir?: \"))\n",
    "numeros = list(input(\"Introduzca los números sin elementos adicionales ni negativos: \"))\n",
    "average(rango, numeros)"
   ]
  },
  {
   "cell_type": "markdown",
   "metadata": {},
   "source": [
    "## Ejercicio 5\n",
    "#### Crear un programa que calcule el average II\n",
    "\n",
    "El programa pedirá que se diga cuantos números se quieren introducir, y enseñara un prompt para incluirl número a número en una lista, y calcule después el average.\n"
   ]
  },
  {
   "cell_type": "code",
   "execution_count": 5,
   "metadata": {},
   "outputs": [
    {
     "name": "stdin",
     "output_type": "stream",
     "text": [
      "¿Cuántos números va a introducir?:  4\n",
      "Introduzca los números sin elementos adicionales ni negativos:  1234\n"
     ]
    },
    {
     "name": "stdout",
     "output_type": "stream",
     "text": [
      "['1', '2', '3', '4']\n",
      "2.5\n"
     ]
    }
   ],
   "source": [
    "def average(rango, numeros):\n",
    "    if len(numeros) == rango:\n",
    "        numeros_int = (int(x) for x in numeros)\n",
    "        avg = (sum(numeros_int) / len(numeros))\n",
    "        print(avg)\n",
    "    else:\n",
    "        print(\"Has introducido más números de los que has dicho\")\n",
    "\n",
    "rango = int(input(\"¿Cuántos números va a introducir?: \"))\n",
    "numeros = list(input(\"Introduzca los números sin elementos adicionales ni negativos: \"))\n",
    "print(numeros)\n",
    "average(rango, numeros)"
   ]
  },
  {
   "cell_type": "markdown",
   "metadata": {},
   "source": [
    "## Ejercicio 6\n",
    "#### Write a Python program to convert a list of characters into a string.\n",
    "\n",
    "Sample list : ['a','b','c','d']\n",
    "\n",
    "Expected output : abcd"
   ]
  },
  {
   "cell_type": "code",
   "execution_count": 84,
   "metadata": {},
   "outputs": [
    {
     "name": "stdout",
     "output_type": "stream",
     "text": [
      "abcd\n"
     ]
    }
   ],
   "source": [
    "print(\"\".join(['a', 'b', 'c', 'd']))"
   ]
  },
  {
   "cell_type": "markdown",
   "metadata": {},
   "source": [
    "## Ejercicio 7\n",
    "#### First and last 5\n",
    "Write a Python program to generate and print a list of first and last 5 elements where the values are square of numbers between 1 and 30 (both included). "
   ]
  },
  {
   "cell_type": "code",
   "execution_count": 32,
   "metadata": {},
   "outputs": [
    {
     "name": "stdout",
     "output_type": "stream",
     "text": [
      "[1, 4, 9, 16, 25]\n",
      "[676, 729, 784, 841, 900]\n"
     ]
    }
   ],
   "source": [
    "def numbers():\n",
    "    lista_ini = []\n",
    "    for i in range(1,31):\n",
    "        i = i ** 2\n",
    "        lista_ini.append(i)\n",
    "\n",
    "    print(lista_ini[:5])\n",
    "    print(lista_ini[-5:])\n",
    "        \n",
    "numbers()    "
   ]
  },
  {
   "cell_type": "markdown",
   "metadata": {},
   "source": [
    "## Ejercicio 8\n",
    "#### Interactuando con listas\n",
    "\n",
    "From given list gadgets = [“Mobile”, “Laptop”, 100, “Camera”, 310.28, “Speakers”, 27.00,\n",
    "“Television”, 1000, “Laptop Case”, “Camera Lens”]\n",
    "\n",
    "a)create separate lists of strings and numbers.  \n",
    "\n",
    "b)Sort the strings list in ascending order  \n",
    "\n",
    "c)Sort the strings list in descending order  \n",
    "\n",
    "d)Sort the number list from lowest to highest  \n",
    "\n",
    "e)Sort the number list from highest to lowest"
   ]
  },
  {
   "cell_type": "code",
   "execution_count": 11,
   "metadata": {},
   "outputs": [
    {
     "name": "stdout",
     "output_type": "stream",
     "text": [
      "Strings: ['Mobile', 'Laptop', 'Camera', 'Speakers', 'Television', 'Laptop Case', 'Camera Lens'] \n",
      "Numbers: [100, 310.28, 27.0, 1000]\n",
      "['Camera', 'Camera Lens', 'Laptop', 'Laptop Case', 'Mobile', 'Speakers', 'Television']\n",
      "['Television', 'Speakers', 'Mobile', 'Laptop Case', 'Laptop', 'Camera Lens', 'Camera']\n",
      "[27.0, 100, 310.28, 1000]\n",
      "[1000, 310.28, 100, 27.0]\n"
     ]
    }
   ],
   "source": [
    "# Función para separar elementos\n",
    "def separate_num_str(gadgets, num_list, str_list):\n",
    "    for elements in gadgets:\n",
    "        if type(elements) == str:\n",
    "            str_list.append(elements)\n",
    "            continue\n",
    "        elif type(elements) == int or type(elements) == float:\n",
    "            num_list.append(elements)\n",
    "            continue\n",
    "    print(\"Strings: {} \\nNumbers: {}\".format(str_list, num_list))\n",
    "\n",
    "# Cadena original\n",
    "gadgets = [\"Mobile\", \"Laptop\", 100, \"Camera\", 310.28, \"Speakers\", 27.00, \"Television\", 1000, \"Laptop Case\", \"Camera Lens\"]\n",
    "\n",
    "# Separar números y strings en dos listas distintas\n",
    "num_list = []\n",
    "str_list = []\n",
    "separate_num_str(gadgets, num_list, str_list)\n",
    "\n",
    "# Ordenar la lista de string de forma ascendente\n",
    "print(sorted(str_list))\n",
    "\n",
    "# Ordenar la lista de string de forma descendente\n",
    "print(sorted(str_list, reverse=True))\n",
    "\n",
    "# Ordenar la lista de números de más bajo a más alto\n",
    "print(sorted(num_list))\n",
    "\n",
    "# Ordenar la lista de números de más alto a más bajo\n",
    "print(sorted(num_list, reverse=True))"
   ]
  },
  {
   "cell_type": "markdown",
   "metadata": {},
   "source": [
    "## Ejercicio 9\n",
    "#### Get first, second best scores from the list.\n",
    "\n",
    "List may contain duplicates.\n",
    "\n",
    "Ex: [86,86,85,85,85,83,23,45,84,1,2,0] => should get 86, 85"
   ]
  },
  {
   "cell_type": "code",
   "execution_count": 31,
   "metadata": {},
   "outputs": [
    {
     "name": "stdout",
     "output_type": "stream",
     "text": [
      "86 85\n"
     ]
    }
   ],
   "source": [
    "# Se podría hacer en una sola línea si introducimos la lista en el print\n",
    "numbers = sorted(set([86,86,85,85,85,83,23,45,84,1,2,0]), reverse=True)\n",
    "print(numbers[0], numbers[1])"
   ]
  },
  {
   "cell_type": "markdown",
   "metadata": {},
   "source": [
    "## Ejercicio 10\n",
    "#### Write a program that detects if a string is a palindrome\n",
    "Ask the user for a string and print out whether this string is a palindrome or not. (A palindrome is a string that reads the same forwards and backwards.)"
   ]
  },
  {
   "cell_type": "code",
   "execution_count": 33,
   "metadata": {},
   "outputs": [
    {
     "name": "stdin",
     "output_type": "stream",
     "text": [
      "Write a single word:  Arenera\n"
     ]
    },
    {
     "name": "stdout",
     "output_type": "stream",
     "text": [
      "The word is not a palindrome.\n"
     ]
    }
   ],
   "source": [
    "# Si usáramos una función tendríamos dos líneas más de código que no tendrían ninguna utilidad\n",
    "word = input(\"Write a single word: \")\n",
    "\n",
    "if word.lower() == word[::-1]:\n",
    "    print(\"The word is a palindrome.\")\n",
    "else:\n",
    "    print(\"The word is not a palindrome.\")"
   ]
  },
  {
   "cell_type": "markdown",
   "metadata": {},
   "source": [
    "## (Bonus) Ejercicio 11\n",
    "#### Desarrolla el juego del ahorcado\n",
    "El juego del ahorcado consiste en adivinar una palabra, probando letra a letra. El jugaor tiene permitidos 6 fallos, al 7mo fallo pierde. \n",
    "\n",
    "* Habrá que imprimir por pantalla una cantidad de guiones igual al numero de letras e ir sustituyéndolos con los aciertos.\n",
    "* Necesitarás usar un bucle while con un input para modelar las jugadas del ahoracado. En cada ejecución del while comprueba las vidas del jugador, y los aciertos."
   ]
  },
  {
   "cell_type": "code",
   "execution_count": 81,
   "metadata": {},
   "outputs": [
    {
     "ename": "SyntaxError",
     "evalue": "invalid syntax (<ipython-input-81-20b3f1da7c9e>, line 14)",
     "output_type": "error",
     "traceback": [
      "\u001b[0;36m  File \u001b[0;32m\"<ipython-input-81-20b3f1da7c9e>\"\u001b[0;36m, line \u001b[0;32m14\u001b[0m\n\u001b[0;31m    palabras =\u001b[0m\n\u001b[0m               ^\u001b[0m\n\u001b[0;31mSyntaxError\u001b[0m\u001b[0;31m:\u001b[0m invalid syntax\n"
     ]
    }
   ],
   "source": [
    "import random\n",
    "\n",
    "# Dibujamos la horca\n",
    "AHORCADO = ['''+======+\\n|//    | \\n|/ \\n| \\n| \\n| \\n==============''',\n",
    "            '''+======+\\n|//    | \\n|/     0 \\n| \\n| \\n| \\n==============''',\n",
    "            '''+======+\\n|//    | \\n|/     0 \\n|      | \\n| \\n| \\n==============''',\n",
    "            '''+======+ \\n|//    | \\n|/     0 \\n|     /| \\n| \\n| \\n==============''',\n",
    "            '''+======+ \\n|//    | \\n|/     0 \\n|     /|\\ \\n| \\n| \\n==============''',\n",
    "            '''+======+ \\n|//    | \\n|/     0 \\n|     /|\\ \\n|     / \\n| \\n==============''',\n",
    "            '''+======+\\n|//    | \\n|/     0 \\n|     /|\\ \\n|     / \\ \\n| \\n=============='''\n",
    "           ]\n",
    "\n",
    "def palabra_a_adivinar():\n",
    "    palabras = \n",
    "\n",
    "palabras = 'valoracion aprenderpython comida juego python web imposible variable curso volador cabeza reproductor mirada escritor billete lapicero celular valor revista gratuito disco voleibol anillo estrella'.split()\n",
    "\n",
    "def buscarPalabraAleat(listaPalabras):\n",
    "    # Esta funcion retorna una palabra aleatoria.\n",
    "    palabraAleatoria = random.randint(0, len(listaPalabras) - 1)\n",
    "    print(palabraAleatoria)\n",
    "    return listaPalabras[palabraAleatoria]\n",
    "buscarPalabraAleat(palabras)\n",
    "\n",
    "#https://unipython.com/juego-python-ahorcado/"
   ]
  }
 ],
 "metadata": {
  "kernelspec": {
   "display_name": "Python 3",
   "language": "python",
   "name": "python3"
  },
  "language_info": {
   "codemirror_mode": {
    "name": "ipython",
    "version": 3
   },
   "file_extension": ".py",
   "mimetype": "text/x-python",
   "name": "python",
   "nbconvert_exporter": "python",
   "pygments_lexer": "ipython3",
   "version": "3.8.10"
  }
 },
 "nbformat": 4,
 "nbformat_minor": 4
}
