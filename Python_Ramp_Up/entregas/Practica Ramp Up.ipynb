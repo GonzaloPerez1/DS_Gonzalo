{
 "cells": [
  {
   "cell_type": "markdown",
   "metadata": {},
   "source": [
    "# Entrega Ramp Up\n"
   ]
  },
  {
   "cell_type": "markdown",
   "metadata": {},
   "source": [
    "## Ejercicio 1\n",
    "#### Crear un programa que calcule la cuota de una hipoteca\n",
    "\n",
    "Las cuotas hipotecarias se calculan utilizando la fórmula del interés frances. El objetivo del ejercicio es crear un programa que solicite al usuario los datos de su hipoteca (cantidad, intereses, y plazo en años) y le devuelva la cuota mensual a pagar\n",
    "\n",
    "La formula del interés frances es la siguiente:\n",
    "\\begin{align*}\n",
    "C=V \\frac{(1+i)^n i}{(1+i)^n -1}\n",
    "\\end{align*}\n",
    "\n",
    "\n",
    "    C = Cuota a pagar\n",
    "    V = Cantidad del préstamo hipotecario\n",
    "    i = tipo de interés del período (tipo de interes de la hipoteca por mes)\n",
    "    n = número de cuotas (en meses)\n",
    "\n",
    "V = 300.000\n",
    "\n",
    "i = 2 %\n",
    "\n",
    "n = 20*12\n",
    "\n",
    "output: 1517"
   ]
  },
  {
   "cell_type": "code",
   "execution_count": 103,
   "metadata": {},
   "outputs": [
    {
     "name": "stdin",
     "output_type": "stream",
     "text": [
      "Introduzca la cantidad del préstamo:  300000\n",
      "Introduzca el interés del préstamo sin el símbolo '%':  2\n",
      "Introduzca el número de cuotas:  20\n"
     ]
    },
    {
     "name": "stdout",
     "output_type": "stream",
     "text": [
      "1517.650005135323\n"
     ]
    }
   ],
   "source": [
    "def cuota_hipoteca(V, i, n):\n",
    "    i = (i / 100) / 12 #Pasamos el valor del interés de porcentaje a un número decimal y de anual a mensual\n",
    "    n = n * 12 #Obtenemos el número de cuotas mensuales, n es anual\n",
    "    try:\n",
    "        cuota = (V * ( (i*((1+i)**n)) / (((1+i)**n)-1) )) #Fórmula del interés francés 2,31777470305887703215015 114,8887351529438516075\n",
    "        return cuota\n",
    "    except Exception as e:\n",
    "        print(\"Error: \", e)\n",
    "\n",
    "V = float(input(\"Introduzca la cantidad del préstamo: \"))\n",
    "i = int(input(\"Introduzca el interés del préstamo sin el símbolo '%': \"))\n",
    "n = float(input(\"Introduzca el número de cuotas: \"))\n",
    "print(cuota_hipoteca(V, i, n)) #Llamamos a la función cuota_hipoteca"
   ]
  },
  {
   "cell_type": "markdown",
   "metadata": {},
   "source": [
    "## Ejercicio 2\n",
    "#### Crear un programa que calcule el plan de amortización\n",
    "\n",
    "El objetivo del ejercicio es crear un programa que solicite al usuario los datos de su hipoteca (cantidad, intereses, y plazo en años) y le devuelva el plan de amortización.\n",
    "\n",
    "En cada cuota se pagan intereses por el capital restante, y se devuelve capital hasta la cuota mensual. El capital restante ha de ser actualizado restandole el capital devuelto.\n",
    "\n",
    "Salida ejemplo:\n",
    "\n",
    "mes  cuota  intereses  principal  pendiente   \n",
    "\n",
    "0  758.89   450.00   308.89   179691.11 \n",
    "\n",
    "**NOTA**: Tienes que partir de tipo de interes por periodo calculado en el apartado anterior, y del total de la hipoteca. Para cada mes calcular:\n",
    "\n",
    "1. cuota (apartado anterior)\n",
    "2. intereses a pagar del mes (lo que quede por pagar * interes por periodo del apartado anterior)\n",
    "3. principal (cuota - interes)\n",
    "4. pendiente (lo que quede por pagar - principal)\n",
    "\n",
    "Igual que se calcula aqui: http://www.calculohipoteca.org"
   ]
  },
  {
   "cell_type": "code",
   "execution_count": 65,
   "metadata": {},
   "outputs": [
    {
     "name": "stdin",
     "output_type": "stream",
     "text": [
      "Introduzca la cantidad del préstamo:  300000\n",
      "Introduzca el interés del préstamo sin el símbolo '%':  2\n",
      "Introduzca el número de cuotas:  20\n"
     ]
    },
    {
     "name": "stdout",
     "output_type": "stream",
     "text": [
      "Mes: 1,           Cuota: 1517.650005135323,           Intereses: 500.00000000000006,           Principal: 1017.650005135323,           Pendiente: 298982.34999486466\n",
      "Mes: 2,           Cuota: 1517.650005135323,           Intereses: 498.3039166581078,           Principal: 1019.3460884772152,           Pendiente: 297963.0039063874\n",
      "Mes: 3,           Cuota: 1517.650005135323,           Intereses: 496.60500651064575,           Principal: 1021.0449986246772,           Pendiente: 296941.9589077628\n",
      "Mes: 4,           Cuota: 1517.650005135323,           Intereses: 494.9032648462713,           Principal: 1022.7467402890517,           Pendiente: 295919.21216747374\n",
      "Mes: 5,           Cuota: 1517.650005135323,           Intereses: 493.1986869457896,           Principal: 1024.4513181895334,           Pendiente: 294894.7608492842\n",
      "Mes: 6,           Cuota: 1517.650005135323,           Intereses: 491.4912680821403,           Principal: 1026.1587370531827,           Pendiente: 293868.602112231\n",
      "Mes: 7,           Cuota: 1517.650005135323,           Intereses: 489.78100352038507,           Principal: 1027.869001614938,           Pendiente: 292840.7331106161\n",
      "Mes: 8,           Cuota: 1517.650005135323,           Intereses: 488.0678885176935,           Principal: 1029.5821166176295,           Pendiente: 291811.15099399845\n",
      "Mes: 9,           Cuota: 1517.650005135323,           Intereses: 486.3519183233308,           Principal: 1031.298086811992,           Pendiente: 290779.8529071865\n",
      "Mes: 10,           Cuota: 1517.650005135323,           Intereses: 484.6330881786442,           Principal: 1033.0169169566789,           Pendiente: 289746.8359902298\n",
      "Mes: 11,           Cuota: 1517.650005135323,           Intereses: 482.9113933170497,           Principal: 1034.7386118182733,           Pendiente: 288712.0973784115\n",
      "Mes: 12,           Cuota: 1517.650005135323,           Intereses: 481.1868289640192,           Principal: 1036.4631761713038,           Pendiente: 287675.6342022402\n",
      "Mes: 13,           Cuota: 1517.650005135323,           Intereses: 479.459390337067,           Principal: 1038.1906147982559,           Pendiente: 286637.4435874419\n",
      "Mes: 14,           Cuota: 1517.650005135323,           Intereses: 477.72907264573655,           Principal: 1039.9209324895864,           Pendiente: 285597.52265495236\n",
      "Mes: 15,           Cuota: 1517.650005135323,           Intereses: 475.99587109158733,           Principal: 1041.6541340437357,           Pendiente: 284555.86852090864\n",
      "Mes: 16,           Cuota: 1517.650005135323,           Intereses: 474.2597808681811,           Principal: 1043.390224267142,           Pendiente: 283512.4782966415\n",
      "Mes: 17,           Cuota: 1517.650005135323,           Intereses: 472.5207971610692,           Principal: 1045.1292079742539,           Pendiente: 282467.34908866725\n",
      "Mes: 18,           Cuota: 1517.650005135323,           Intereses: 470.7789151477788,           Principal: 1046.871089987544,           Pendiente: 281420.47799867974\n",
      "Mes: 19,           Cuota: 1517.650005135323,           Intereses: 469.0341299977996,           Principal: 1048.6158751375233,           Pendiente: 280371.86212354223\n",
      "Mes: 20,           Cuota: 1517.650005135323,           Intereses: 467.2864368725704,           Principal: 1050.3635682627526,           Pendiente: 279321.49855527945\n",
      "Mes: 21,           Cuota: 1517.650005135323,           Intereses: 465.5358309254658,           Principal: 1052.114174209857,           Pendiente: 278269.38438106957\n",
      "Mes: 22,           Cuota: 1517.650005135323,           Intereses: 463.7823073017826,           Principal: 1053.8676978335404,           Pendiente: 277215.51668323606\n",
      "Mes: 23,           Cuota: 1517.650005135323,           Intereses: 462.0258611387268,           Principal: 1055.624143996596,           Pendiente: 276159.8925392395\n",
      "Mes: 24,           Cuota: 1517.650005135323,           Intereses: 460.2664875653992,           Principal: 1057.3835175699237,           Pendiente: 275102.50902166957\n",
      "Mes: 25,           Cuota: 1517.650005135323,           Intereses: 458.50418170278266,           Principal: 1059.1458234325403,           Pendiente: 274043.363198237\n",
      "Mes: 26,           Cuota: 1517.650005135323,           Intereses: 456.7389386637284,           Principal: 1060.9110664715945,           Pendiente: 272982.4521317654\n",
      "Mes: 27,           Cuota: 1517.650005135323,           Intereses: 454.9707535529424,           Principal: 1062.6792515823806,           Pendiente: 271919.77288018307\n",
      "Mes: 28,           Cuota: 1517.650005135323,           Intereses: 453.1996214669718,           Principal: 1064.4503836683512,           Pendiente: 270855.3224965147\n",
      "Mes: 29,           Cuota: 1517.650005135323,           Intereses: 451.4255374941912,           Principal: 1066.224467641132,           Pendiente: 269789.09802887356\n",
      "Mes: 30,           Cuota: 1517.650005135323,           Intereses: 449.6484967147893,           Principal: 1068.0015084205338,           Pendiente: 268721.09652045305\n",
      "Mes: 31,           Cuota: 1517.650005135323,           Intereses: 447.8684942007551,           Principal: 1069.781510934568,           Pendiente: 267651.31500951847\n",
      "Mes: 32,           Cuota: 1517.650005135323,           Intereses: 446.08552501586416,           Principal: 1071.564480119459,           Pendiente: 266579.750529399\n",
      "Mes: 33,           Cuota: 1517.650005135323,           Intereses: 444.29958421566505,           Principal: 1073.350420919658,           Pendiente: 265506.40010847937\n",
      "Mes: 34,           Cuota: 1517.650005135323,           Intereses: 442.51066684746564,           Principal: 1075.1393382878573,           Pendiente: 264431.2607701915\n",
      "Mes: 35,           Cuota: 1517.650005135323,           Intereses: 440.7187679503192,           Principal: 1076.9312371850037,           Pendiente: 263354.3295330065\n",
      "Mes: 36,           Cuota: 1517.650005135323,           Intereses: 438.92388255501083,           Principal: 1078.7261225803122,           Pendiente: 262275.6034104262\n",
      "Mes: 37,           Cuota: 1517.650005135323,           Intereses: 437.12600568404366,           Principal: 1080.5239994512795,           Pendiente: 261195.0794109749\n",
      "Mes: 38,           Cuota: 1517.650005135323,           Intereses: 435.32513235162486,           Principal: 1082.324872783698,           Pendiente: 260112.7545381912\n",
      "Mes: 39,           Cuota: 1517.650005135323,           Intereses: 433.521257563652,           Principal: 1084.128747571671,           Pendiente: 259028.62579061952\n",
      "Mes: 40,           Cuota: 1517.650005135323,           Intereses: 431.71437631769925,           Principal: 1085.9356288176236,           Pendiente: 257942.6901618019\n",
      "Mes: 41,           Cuota: 1517.650005135323,           Intereses: 429.9044836030032,           Principal: 1087.7455215323198,           Pendiente: 256854.9446402696\n",
      "Mes: 42,           Cuota: 1517.650005135323,           Intereses: 428.09157440044936,           Principal: 1089.5584307348736,           Pendiente: 255765.3862095347\n",
      "Mes: 43,           Cuota: 1517.650005135323,           Intereses: 426.27564368255787,           Principal: 1091.3743614527652,           Pendiente: 254674.01184808195\n",
      "Mes: 44,           Cuota: 1517.650005135323,           Intereses: 424.4566864134699,           Principal: 1093.193318721853,           Pendiente: 253580.81852936008\n",
      "Mes: 45,           Cuota: 1517.650005135323,           Intereses: 422.6346975489335,           Principal: 1095.0153075863896,           Pendiente: 252485.8032217737\n",
      "Mes: 46,           Cuota: 1517.650005135323,           Intereses: 420.80967203628956,           Principal: 1096.8403330990334,           Pendiente: 251388.96288867467\n",
      "Mes: 47,           Cuota: 1517.650005135323,           Intereses: 418.9816048144578,           Principal: 1098.6684003208652,           Pendiente: 250290.2944883538\n",
      "Mes: 48,           Cuota: 1517.650005135323,           Intereses: 417.150490813923,           Principal: 1100.4995143214,           Pendiente: 249189.7949740324\n",
      "Mes: 49,           Cuota: 1517.650005135323,           Intereses: 415.31632495672073,           Principal: 1102.3336801786022,           Pendiente: 248087.46129385382\n",
      "Mes: 50,           Cuota: 1517.650005135323,           Intereses: 413.47910215642304,           Principal: 1104.1709029789,           Pendiente: 246983.29039087493\n",
      "Mes: 51,           Cuota: 1517.650005135323,           Intereses: 411.6388173181249,           Principal: 1106.011187817198,           Pendiente: 245877.27920305773\n",
      "Mes: 52,           Cuota: 1517.650005135323,           Intereses: 409.79546533842955,           Principal: 1107.8545397968935,           Pendiente: 244769.42466326084\n",
      "Mes: 53,           Cuota: 1517.650005135323,           Intereses: 407.9490411054348,           Principal: 1109.7009640298882,           Pendiente: 243659.72369923096\n",
      "Mes: 54,           Cuota: 1517.650005135323,           Intereses: 406.0995394987183,           Principal: 1111.5504656366047,           Pendiente: 242548.17323359437\n",
      "Mes: 55,           Cuota: 1517.650005135323,           Intereses: 404.24695538932394,           Principal: 1113.403049745999,           Pendiente: 241434.77018384836\n",
      "Mes: 56,           Cuota: 1517.650005135323,           Intereses: 402.3912836397473,           Principal: 1115.2587214955756,           Pendiente: 240319.5114623528\n",
      "Mes: 57,           Cuota: 1517.650005135323,           Intereses: 400.53251910392135,           Principal: 1117.1174860314018,           Pendiente: 239202.3939763214\n",
      "Mes: 58,           Cuota: 1517.650005135323,           Intereses: 398.67065662720233,           Principal: 1118.9793485081207,           Pendiente: 238083.41462781327\n",
      "Mes: 59,           Cuota: 1517.650005135323,           Intereses: 396.8056910463555,           Principal: 1120.8443140889676,           Pendiente: 236962.5703137243\n",
      "Mes: 60,           Cuota: 1517.650005135323,           Intereses: 394.93761718954056,           Principal: 1122.7123879457824,           Pendiente: 235839.85792577852\n",
      "Mes: 61,           Cuota: 1517.650005135323,           Intereses: 393.06642987629755,           Principal: 1124.5835752590256,           Pendiente: 234715.2743505195\n",
      "Mes: 62,           Cuota: 1517.650005135323,           Intereses: 391.1921239175325,           Principal: 1126.4578812177906,           Pendiente: 233588.8164693017\n",
      "Mes: 63,           Cuota: 1517.650005135323,           Intereses: 389.31469411550285,           Principal: 1128.3353110198202,           Pendiente: 232460.48115828188\n",
      "Mes: 64,           Cuota: 1517.650005135323,           Intereses: 387.43413526380317,           Principal: 1130.2158698715198,           Pendiente: 231330.26528841036\n",
      "Mes: 65,           Cuota: 1517.650005135323,           Intereses: 385.5504421473506,           Principal: 1132.0995629879724,           Pendiente: 230198.16572542238\n",
      "Mes: 66,           Cuota: 1517.650005135323,           Intereses: 383.66360954237064,           Principal: 1133.9863955929522,           Pendiente: 229064.17932982944\n",
      "Mes: 67,           Cuota: 1517.650005135323,           Intereses: 381.7736322163824,           Principal: 1135.8763729189407,           Pendiente: 227928.30295691048\n",
      "Mes: 68,           Cuota: 1517.650005135323,           Intereses: 379.88050492818417,           Principal: 1137.769500207139,           Pendiente: 226790.53345670336\n",
      "Mes: 69,           Cuota: 1517.650005135323,           Intereses: 377.984222427839,           Principal: 1139.6657827074841,           Pendiente: 225650.86767399588\n",
      "Mes: 70,           Cuota: 1517.650005135323,           Intereses: 376.0847794566598,           Principal: 1141.5652256786632,           Pendiente: 224509.3024483172\n",
      "Mes: 71,           Cuota: 1517.650005135323,           Intereses: 374.18217074719536,           Principal: 1143.4678343881276,           Pendiente: 223365.83461392907\n",
      "Mes: 72,           Cuota: 1517.650005135323,           Intereses: 372.2763910232151,           Principal: 1145.3736141121078,           Pendiente: 222220.46099981695\n",
      "Mes: 73,           Cuota: 1517.650005135323,           Intereses: 370.3674349996949,           Principal: 1147.282570135628,           Pendiente: 221073.1784296813\n",
      "Mes: 74,           Cuota: 1517.650005135323,           Intereses: 368.4552973828022,           Principal: 1149.1947077525208,           Pendiente: 219923.9837219288\n",
      "Mes: 75,           Cuota: 1517.650005135323,           Intereses: 366.53997286988135,           Principal: 1151.1100322654415,           Pendiente: 218772.87368966333\n",
      "Mes: 76,           Cuota: 1517.650005135323,           Intereses: 364.6214561494389,           Principal: 1153.028548985884,           Pendiente: 217619.84514067744\n",
      "Mes: 77,           Cuota: 1517.650005135323,           Intereses: 362.6997419011291,           Principal: 1154.950263234194,           Pendiente: 216464.89487744324\n",
      "Mes: 78,           Cuota: 1517.650005135323,           Intereses: 360.77482479573877,           Principal: 1156.8751803395842,           Pendiente: 215308.01969710365\n",
      "Mes: 79,           Cuota: 1517.650005135323,           Intereses: 358.8466994951728,           Principal: 1158.8033056401503,           Pendiente: 214149.2163914635\n",
      "Mes: 80,           Cuota: 1517.650005135323,           Intereses: 356.9153606524392,           Principal: 1160.7346444828838,           Pendiente: 212988.48174698063\n",
      "Mes: 81,           Cuota: 1517.650005135323,           Intereses: 354.9808029116344,           Principal: 1162.6692022236887,           Pendiente: 211825.81254475695\n",
      "Mes: 82,           Cuota: 1517.650005135323,           Intereses: 353.0430209079283,           Principal: 1164.6069842273946,           Pendiente: 210661.20556052955\n",
      "Mes: 83,           Cuota: 1517.650005135323,           Intereses: 351.10200926754925,           Principal: 1166.5479958677738,           Pendiente: 209494.6575646618\n",
      "Mes: 84,           Cuota: 1517.650005135323,           Intereses: 349.15776260776966,           Principal: 1168.4922425275533,           Pendiente: 208326.16532213424\n",
      "Mes: 85,           Cuota: 1517.650005135323,           Intereses: 347.21027553689044,           Principal: 1170.4397295984327,           Pendiente: 207155.7255925358\n",
      "Mes: 86,           Cuota: 1517.650005135323,           Intereses: 345.2595426542264,           Principal: 1172.3904624810966,           Pendiente: 205983.3351300547\n",
      "Mes: 87,           Cuota: 1517.650005135323,           Intereses: 343.3055585500912,           Principal: 1174.3444465852317,           Pendiente: 204808.99068346948\n",
      "Mes: 88,           Cuota: 1517.650005135323,           Intereses: 341.3483178057825,           Principal: 1176.3016873295405,           Pendiente: 203632.68899613994\n",
      "Mes: 89,           Cuota: 1517.650005135323,           Intereses: 339.3878149935666,           Principal: 1178.2621901417565,           Pendiente: 202454.4268059982\n",
      "Mes: 90,           Cuota: 1517.650005135323,           Intereses: 337.4240446766637,           Principal: 1180.2259604586593,           Pendiente: 201274.20084553954\n",
      "Mes: 91,           Cuota: 1517.650005135323,           Intereses: 335.4570014092326,           Principal: 1182.1930037260904,           Pendiente: 200092.00784181344\n",
      "Mes: 92,           Cuota: 1517.650005135323,           Intereses: 333.48667973635577,           Principal: 1184.1633253989671,           Pendiente: 198907.84451641448\n",
      "Mes: 93,           Cuota: 1517.650005135323,           Intereses: 331.51307419402417,           Principal: 1186.136930941299,           Pendiente: 197721.70758547317\n",
      "Mes: 94,           Cuota: 1517.650005135323,           Intereses: 329.53617930912196,           Principal: 1188.113825826201,           Pendiente: 196533.59375964696\n",
      "Mes: 95,           Cuota: 1517.650005135323,           Intereses: 327.55598959941165,           Principal: 1190.0940155359112,           Pendiente: 195343.49974411106\n",
      "Mes: 96,           Cuota: 1517.650005135323,           Intereses: 325.5724995735184,           Principal: 1192.0775055618046,           Pendiente: 194151.42223854925\n",
      "Mes: 97,           Cuota: 1517.650005135323,           Intereses: 323.58570373091544,           Principal: 1194.0643014044076,           Pendiente: 192957.35793714484\n",
      "Mes: 98,           Cuota: 1517.650005135323,           Intereses: 321.5955965619081,           Principal: 1196.054408573415,           Pendiente: 191761.3035285714\n",
      "Mes: 99,           Cuota: 1517.650005135323,           Intereses: 319.60217254761903,           Principal: 1198.0478325877039,           Pendiente: 190563.2556959837\n",
      "Mes: 100,           Cuota: 1517.650005135323,           Intereses: 317.60542615997286,           Principal: 1200.04457897535,           Pendiente: 189363.21111700835\n",
      "Mes: 101,           Cuota: 1517.650005135323,           Intereses: 315.6053518616806,           Principal: 1202.0446532736423,           Pendiente: 188161.1664637347\n",
      "Mes: 102,           Cuota: 1517.650005135323,           Intereses: 313.6019441062245,           Principal: 1204.0480610290986,           Pendiente: 186957.1184027056\n",
      "Mes: 103,           Cuota: 1517.650005135323,           Intereses: 311.59519733784265,           Principal: 1206.0548077974804,           Pendiente: 185751.0635949081\n",
      "Mes: 104,           Cuota: 1517.650005135323,           Intereses: 309.5851059915135,           Principal: 1208.0648991438095,           Pendiente: 184542.99869576428\n",
      "Mes: 105,           Cuota: 1517.650005135323,           Intereses: 307.5716644929405,           Principal: 1210.0783406423825,           Pendiente: 183332.9203551219\n",
      "Mes: 106,           Cuota: 1517.650005135323,           Intereses: 305.5548672585365,           Principal: 1212.0951378767866,           Pendiente: 182120.82521724512\n",
      "Mes: 107,           Cuota: 1517.650005135323,           Intereses: 303.53470869540854,           Principal: 1214.1152964399143,           Pendiente: 180906.7099208052\n",
      "Mes: 108,           Cuota: 1517.650005135323,           Intereses: 301.511183201342,           Principal: 1216.138821933981,           Pendiente: 179690.57109887124\n",
      "Mes: 109,           Cuota: 1517.650005135323,           Intereses: 299.48428516478543,           Principal: 1218.1657199705376,           Pendiente: 178472.4053789007\n",
      "Mes: 110,           Cuota: 1517.650005135323,           Intereses: 297.45400896483454,           Principal: 1220.1959961704883,           Pendiente: 177252.20938273022\n",
      "Mes: 111,           Cuota: 1517.650005135323,           Intereses: 295.42034897121704,           Principal: 1222.229656164106,           Pendiente: 176029.97972656612\n",
      "Mes: 112,           Cuota: 1517.650005135323,           Intereses: 293.3832995442769,           Principal: 1224.266705591046,           Pendiente: 174805.71302097506\n",
      "Mes: 113,           Cuota: 1517.650005135323,           Intereses: 291.34285503495846,           Principal: 1226.3071501003647,           Pendiente: 173579.4058708747\n",
      "Mes: 114,           Cuota: 1517.650005135323,           Intereses: 289.29900978479117,           Principal: 1228.3509953505318,           Pendiente: 172351.05487552416\n",
      "Mes: 115,           Cuota: 1517.650005135323,           Intereses: 287.2517581258736,           Principal: 1230.3982470094493,           Pendiente: 171120.6566285147\n",
      "Mes: 116,           Cuota: 1517.650005135323,           Intereses: 285.20109438085785,           Principal: 1232.448910754465,           Pendiente: 169888.20771776023\n",
      "Mes: 117,           Cuota: 1517.650005135323,           Intereses: 283.14701286293376,           Principal: 1234.5029922723893,           Pendiente: 168653.70472548786\n",
      "Mes: 118,           Cuota: 1517.650005135323,           Intereses: 281.0895078758131,           Principal: 1236.56049725951,           Pendiente: 167417.14422822834\n",
      "Mes: 119,           Cuota: 1517.650005135323,           Intereses: 279.0285737137139,           Principal: 1238.621431421609,           Pendiente: 166178.52279680673\n",
      "Mes: 120,           Cuota: 1517.650005135323,           Intereses: 276.9642046613446,           Principal: 1240.6858004739784,           Pendiente: 164937.83699633274\n",
      "Mes: 121,           Cuota: 1517.650005135323,           Intereses: 274.8963949938879,           Principal: 1242.753610141435,           Pendiente: 163695.0833861913\n",
      "Mes: 122,           Cuota: 1517.650005135323,           Intereses: 272.82513897698556,           Principal: 1244.8248661583375,           Pendiente: 162450.25852003298\n",
      "Mes: 123,           Cuota: 1517.650005135323,           Intereses: 270.7504308667217,           Principal: 1246.8995742686013,           Pendiente: 161203.35894576437\n",
      "Mes: 124,           Cuota: 1517.650005135323,           Intereses: 268.6722649096073,           Principal: 1248.9777402257157,           Pendiente: 159954.38120553867\n",
      "Mes: 125,           Cuota: 1517.650005135323,           Intereses: 266.59063534256444,           Principal: 1251.0593697927586,           Pendiente: 158703.3218357459\n",
      "Mes: 126,           Cuota: 1517.650005135323,           Intereses: 264.50553639290985,           Principal: 1253.1444687424132,           Pendiente: 157450.1773670035\n",
      "Mes: 127,           Cuota: 1517.650005135323,           Intereses: 262.41696227833916,           Principal: 1255.233042856984,           Pendiente: 156194.9443241465\n",
      "Mes: 128,           Cuota: 1517.650005135323,           Intereses: 260.32490720691084,           Principal: 1257.325097928412,           Pendiente: 154937.61922621808\n",
      "Mes: 129,           Cuota: 1517.650005135323,           Intereses: 258.22936537703015,           Principal: 1259.420639758293,           Pendiente: 153678.1985864598\n",
      "Mes: 130,           Cuota: 1517.650005135323,           Intereses: 256.130330977433,           Principal: 1261.51967415789,           Pendiente: 152416.6789123019\n",
      "Mes: 131,           Cuota: 1517.650005135323,           Intereses: 254.02779818716985,           Principal: 1263.6222069481532,           Pendiente: 151153.05670535375\n",
      "Mes: 132,           Cuota: 1517.650005135323,           Intereses: 251.9217611755896,           Principal: 1265.7282439597334,           Pendiente: 149887.328461394\n",
      "Mes: 133,           Cuota: 1517.650005135323,           Intereses: 249.81221410232337,           Principal: 1267.8377910329996,           Pendiente: 148619.490670361\n",
      "Mes: 134,           Cuota: 1517.650005135323,           Intereses: 247.69915111726834,           Principal: 1269.9508540180545,           Pendiente: 147349.53981634293\n",
      "Mes: 135,           Cuota: 1517.650005135323,           Intereses: 245.58256636057158,           Principal: 1272.0674387747515,           Pendiente: 146077.4723775682\n",
      "Mes: 136,           Cuota: 1517.650005135323,           Intereses: 243.46245396261367,           Principal: 1274.1875511727094,           Pendiente: 144803.28482639548\n",
      "Mes: 137,           Cuota: 1517.650005135323,           Intereses: 241.3388080439925,           Principal: 1276.3111970913305,           Pendiente: 143526.97362930415\n",
      "Mes: 138,           Cuota: 1517.650005135323,           Intereses: 239.21162271550693,           Principal: 1278.438382419816,           Pendiente: 142248.53524688433\n",
      "Mes: 139,           Cuota: 1517.650005135323,           Intereses: 237.08089207814058,           Principal: 1280.5691130571824,           Pendiente: 140967.96613382714\n",
      "Mes: 140,           Cuota: 1517.650005135323,           Intereses: 234.94661022304524,           Principal: 1282.7033949122779,           Pendiente: 139685.26273891487\n",
      "Mes: 141,           Cuota: 1517.650005135323,           Intereses: 232.8087712315248,           Principal: 1284.8412339037982,           Pendiente: 138400.42150501107\n",
      "Mes: 142,           Cuota: 1517.650005135323,           Intereses: 230.66736917501845,           Principal: 1286.9826359603046,           Pendiente: 137113.43886905076\n",
      "Mes: 143,           Cuota: 1517.650005135323,           Intereses: 228.52239811508463,           Principal: 1289.1276070202384,           Pendiente: 135824.31126203053\n",
      "Mes: 144,           Cuota: 1517.650005135323,           Intereses: 226.37385210338422,           Principal: 1291.2761530319387,           Pendiente: 134533.0351089986\n",
      "Mes: 145,           Cuota: 1517.650005135323,           Intereses: 224.22172518166434,           Principal: 1293.4282799536586,           Pendiente: 133239.60682904493\n",
      "Mes: 146,           Cuota: 1517.650005135323,           Intereses: 222.06601138174156,           Principal: 1295.5839937535814,           Pendiente: 131944.02283529134\n",
      "Mes: 147,           Cuota: 1517.650005135323,           Intereses: 219.90670472548558,           Principal: 1297.7433004098375,           Pendiente: 130646.2795348815\n",
      "Mes: 148,           Cuota: 1517.650005135323,           Intereses: 217.7437992248025,           Principal: 1299.9062059105204,           Pendiente: 129346.37332897098\n",
      "Mes: 149,           Cuota: 1517.650005135323,           Intereses: 215.5772888816183,           Principal: 1302.0727162537046,           Pendiente: 128044.30061271727\n",
      "Mes: 150,           Cuota: 1517.650005135323,           Intereses: 213.40716768786214,           Principal: 1304.242837447461,           Pendiente: 126740.05777526982\n",
      "Mes: 151,           Cuota: 1517.650005135323,           Intereses: 211.2334296254497,           Principal: 1306.4165755098734,           Pendiente: 125433.64119975994\n",
      "Mes: 152,           Cuota: 1517.650005135323,           Intereses: 209.05606866626658,           Principal: 1308.5939364690564,           Pendiente: 124125.04726329088\n",
      "Mes: 153,           Cuota: 1517.650005135323,           Intereses: 206.87507877215148,           Principal: 1310.7749263631715,           Pendiente: 122814.27233692771\n",
      "Mes: 154,           Cuota: 1517.650005135323,           Intereses: 204.69045389487954,           Principal: 1312.9595512404435,           Pendiente: 121501.31278568726\n",
      "Mes: 155,           Cuota: 1517.650005135323,           Intereses: 202.50218797614545,           Principal: 1315.1478171591775,           Pendiente: 120186.16496852809\n",
      "Mes: 156,           Cuota: 1517.650005135323,           Intereses: 200.31027494754682,           Principal: 1317.3397301877762,           Pendiente: 118868.82523834032\n",
      "Mes: 157,           Cuota: 1517.650005135323,           Intereses: 198.1147087305672,           Principal: 1319.5352964047559,           Pendiente: 117549.28994193557\n",
      "Mes: 158,           Cuota: 1517.650005135323,           Intereses: 195.91548323655928,           Principal: 1321.7345218987637,           Pendiente: 116227.5554200368\n",
      "Mes: 159,           Cuota: 1517.650005135323,           Intereses: 193.71259236672802,           Principal: 1323.937412768595,           Pendiente: 114903.6180072682\n",
      "Mes: 160,           Cuota: 1517.650005135323,           Intereses: 191.50603001211368,           Principal: 1326.1439751232092,           Pendiente: 113577.474032145\n",
      "Mes: 161,           Cuota: 1517.650005135323,           Intereses: 189.295790053575,           Principal: 1328.354215081748,           Pendiente: 112249.11981706324\n",
      "Mes: 162,           Cuota: 1517.650005135323,           Intereses: 187.0818663617721,           Principal: 1330.5681387735508,           Pendiente: 110918.55167828969\n",
      "Mes: 163,           Cuota: 1517.650005135323,           Intereses: 184.8642527971495,           Principal: 1332.7857523381736,           Pendiente: 109585.76592595152\n",
      "Mes: 164,           Cuota: 1517.650005135323,           Intereses: 182.64294320991922,           Principal: 1335.0070619254038,           Pendiente: 108250.75886402611\n",
      "Mes: 165,           Cuota: 1517.650005135323,           Intereses: 180.41793144004353,           Principal: 1337.2320736952795,           Pendiente: 106913.52679033083\n",
      "Mes: 166,           Cuota: 1517.650005135323,           Intereses: 178.18921131721805,           Principal: 1339.460793818105,           Pendiente: 105574.06599651273\n",
      "Mes: 167,           Cuota: 1517.650005135323,           Intereses: 175.95677666085456,           Principal: 1341.6932284744685,           Pendiente: 104232.37276803826\n",
      "Mes: 168,           Cuota: 1517.650005135323,           Intereses: 173.72062128006377,           Principal: 1343.9293838552592,           Pendiente: 102888.443384183\n",
      "Mes: 169,           Cuota: 1517.650005135323,           Intereses: 171.48073897363835,           Principal: 1346.1692661616846,           Pendiente: 101542.27411802132\n",
      "Mes: 170,           Cuota: 1517.650005135323,           Intereses: 169.23712353003555,           Principal: 1348.4128816052876,           Pendiente: 100193.86123641604\n",
      "Mes: 171,           Cuota: 1517.650005135323,           Intereses: 166.98976872736006,           Principal: 1350.6602364079629,           Pendiente: 98843.20100000808\n",
      "Mes: 172,           Cuota: 1517.650005135323,           Intereses: 164.7386683333468,           Principal: 1352.9113368019762,           Pendiente: 97490.2896632061\n",
      "Mes: 173,           Cuota: 1517.650005135323,           Intereses: 162.48381610534352,           Principal: 1355.1661890299795,           Pendiente: 96135.12347417613\n",
      "Mes: 174,           Cuota: 1517.650005135323,           Intereses: 160.22520579029356,           Principal: 1357.4247993450294,           Pendiente: 94777.6986748311\n",
      "Mes: 175,           Cuota: 1517.650005135323,           Intereses: 157.96283112471852,           Principal: 1359.6871740106044,           Pendiente: 93418.0115008205\n",
      "Mes: 176,           Cuota: 1517.650005135323,           Intereses: 155.69668583470084,           Principal: 1361.953319300622,           Pendiente: 92056.05818151988\n",
      "Mes: 177,           Cuota: 1517.650005135323,           Intereses: 153.42676363586648,           Principal: 1364.2232414994564,           Pendiente: 90691.83494002043\n",
      "Mes: 178,           Cuota: 1517.650005135323,           Intereses: 151.1530582333674,           Principal: 1366.4969469019557,           Pendiente: 89325.33799311848\n",
      "Mes: 179,           Cuota: 1517.650005135323,           Intereses: 148.87556332186415,           Principal: 1368.774441813459,           Pendiente: 87956.56355130502\n",
      "Mes: 180,           Cuota: 1517.650005135323,           Intereses: 146.59427258550838,           Principal: 1371.0557325498146,           Pendiente: 86585.50781875521\n",
      "Mes: 181,           Cuota: 1517.650005135323,           Intereses: 144.30917969792537,           Principal: 1373.3408254373976,           Pendiente: 85212.16699331782\n",
      "Mes: 182,           Cuota: 1517.650005135323,           Intereses: 142.0202783221964,           Principal: 1375.6297268131266,           Pendiente: 83836.53726650469\n",
      "Mes: 183,           Cuota: 1517.650005135323,           Intereses: 139.72756211084115,           Principal: 1377.922443024482,           Pendiente: 82458.61482348021\n",
      "Mes: 184,           Cuota: 1517.650005135323,           Intereses: 137.43102470580035,           Principal: 1380.2189804295226,           Pendiente: 81078.39584305069\n",
      "Mes: 185,           Cuota: 1517.650005135323,           Intereses: 135.13065973841782,           Principal: 1382.5193453969052,           Pendiente: 79695.87649765378\n",
      "Mes: 186,           Cuota: 1517.650005135323,           Intereses: 132.82646082942298,           Principal: 1384.8235443059,           Pendiente: 78311.05295334788\n",
      "Mes: 187,           Cuota: 1517.650005135323,           Intereses: 130.51842158891316,           Principal: 1387.1315835464097,           Pendiente: 76923.92136980148\n",
      "Mes: 188,           Cuota: 1517.650005135323,           Intereses: 128.2065356163358,           Principal: 1389.4434695189873,           Pendiente: 75534.4779002825\n",
      "Mes: 189,           Cuota: 1517.650005135323,           Intereses: 125.89079650047083,           Principal: 1391.7592086348523,           Pendiente: 74142.71869164763\n",
      "Mes: 190,           Cuota: 1517.650005135323,           Intereses: 123.57119781941273,           Principal: 1394.0788073159104,           Pendiente: 72748.63988433173\n",
      "Mes: 191,           Cuota: 1517.650005135323,           Intereses: 121.2477331405529,           Principal: 1396.4022719947702,           Pendiente: 71352.23761233696\n",
      "Mes: 192,           Cuota: 1517.650005135323,           Intereses: 118.92039602056161,           Principal: 1398.7296091147614,           Pendiente: 69953.5080032222\n",
      "Mes: 193,           Cuota: 1517.650005135323,           Intereses: 116.58918000537035,           Principal: 1401.0608251299527,           Pendiente: 68552.44717809225\n",
      "Mes: 194,           Cuota: 1517.650005135323,           Intereses: 114.25407863015376,           Principal: 1403.3959265051692,           Pendiente: 67149.05125158708\n",
      "Mes: 195,           Cuota: 1517.650005135323,           Intereses: 111.91508541931181,           Principal: 1405.7349197160113,           Pendiente: 65743.31633187107\n",
      "Mes: 196,           Cuota: 1517.650005135323,           Intereses: 109.5721938864518,           Principal: 1408.0778112488713,           Pendiente: 64335.2385206222\n",
      "Mes: 197,           Cuota: 1517.650005135323,           Intereses: 107.22539753437034,           Principal: 1410.4246076009526,           Pendiente: 62924.81391302125\n",
      "Mes: 198,           Cuota: 1517.650005135323,           Intereses: 104.87468985503543,           Principal: 1412.7753152802875,           Pendiente: 61512.03859774096\n",
      "Mes: 199,           Cuota: 1517.650005135323,           Intereses: 102.52006432956827,           Principal: 1415.1299408057548,           Pendiente: 60096.90865693521\n",
      "Mes: 200,           Cuota: 1517.650005135323,           Intereses: 100.16151442822535,           Principal: 1417.4884907070978,           Pendiente: 58679.42016622811\n",
      "Mes: 201,           Cuota: 1517.650005135323,           Intereses: 97.79903361038019,           Principal: 1419.850971524943,           Pendiente: 57259.56919470317\n",
      "Mes: 202,           Cuota: 1517.650005135323,           Intereses: 95.43261532450528,           Principal: 1422.2173898108176,           Pendiente: 55837.35180489235\n",
      "Mes: 203,           Cuota: 1517.650005135323,           Intereses: 93.06225300815392,           Principal: 1424.587752127169,           Pendiente: 54412.76405276518\n",
      "Mes: 204,           Cuota: 1517.650005135323,           Intereses: 90.68794008794198,           Principal: 1426.962065047381,           Pendiente: 52985.8019877178\n",
      "Mes: 205,           Cuota: 1517.650005135323,           Intereses: 88.30966997952967,           Principal: 1429.3403351557934,           Pendiente: 51556.46165256201\n",
      "Mes: 206,           Cuota: 1517.650005135323,           Intereses: 85.92743608760335,           Principal: 1431.7225690477196,           Pendiente: 50124.73908351429\n",
      "Mes: 207,           Cuota: 1517.650005135323,           Intereses: 83.54123180585715,           Principal: 1434.1087733294657,           Pendiente: 48690.630310184824\n",
      "Mes: 208,           Cuota: 1517.650005135323,           Intereses: 81.1510505169747,           Principal: 1436.4989546183483,           Pendiente: 47254.131355566475\n",
      "Mes: 209,           Cuota: 1517.650005135323,           Intereses: 78.7568855926108,           Principal: 1438.8931195427122,           Pendiente: 45815.23823602376\n",
      "Mes: 210,           Cuota: 1517.650005135323,           Intereses: 76.35873039337294,           Principal: 1441.29127474195,           Pendiente: 44373.946961281814\n",
      "Mes: 211,           Cuota: 1517.650005135323,           Intereses: 73.95657826880303,           Principal: 1443.69342686652,           Pendiente: 42930.25353441529\n",
      "Mes: 212,           Cuota: 1517.650005135323,           Intereses: 71.55042255735883,           Principal: 1446.0995825779642,           Pendiente: 41484.15395183733\n",
      "Mes: 213,           Cuota: 1517.650005135323,           Intereses: 69.14025658639555,           Principal: 1448.5097485489275,           Pendiente: 40035.64420328841\n",
      "Mes: 214,           Cuota: 1517.650005135323,           Intereses: 66.72607367214735,           Principal: 1450.9239314631757,           Pendiente: 38584.72027182523\n",
      "Mes: 215,           Cuota: 1517.650005135323,           Intereses: 64.30786711970872,           Principal: 1453.3421380156142,           Pendiente: 37131.378133809616\n",
      "Mes: 216,           Cuota: 1517.650005135323,           Intereses: 61.88563022301603,           Principal: 1455.764374912307,           Pendiente: 35675.61375889731\n",
      "Mes: 217,           Cuota: 1517.650005135323,           Intereses: 59.45935626482885,           Principal: 1458.1906488704942,           Pendiente: 34217.423110026815\n",
      "Mes: 218,           Cuota: 1517.650005135323,           Intereses: 57.02903851671136,           Principal: 1460.6209666186116,           Pendiente: 32756.802143408204\n",
      "Mes: 219,           Cuota: 1517.650005135323,           Intereses: 54.59467023901367,           Principal: 1463.0553348963094,           Pendiente: 31293.746808511896\n",
      "Mes: 220,           Cuota: 1517.650005135323,           Intereses: 52.15624468085316,           Principal: 1465.4937604544698,           Pendiente: 29828.253048057428\n",
      "Mes: 221,           Cuota: 1517.650005135323,           Intereses: 49.713755080095716,           Principal: 1467.9362500552272,           Pendiente: 28360.3167980022\n",
      "Mes: 222,           Cuota: 1517.650005135323,           Intereses: 47.267194663337,           Principal: 1470.382810471986,           Pendiente: 26889.933987530214\n",
      "Mes: 223,           Cuota: 1517.650005135323,           Intereses: 44.81655664588369,           Principal: 1472.8334484894392,           Pendiente: 25417.100539040774\n",
      "Mes: 224,           Cuota: 1517.650005135323,           Intereses: 42.361834231734626,           Principal: 1475.2881709035885,           Pendiente: 23941.812368137184\n",
      "Mes: 225,           Cuota: 1517.650005135323,           Intereses: 39.90302061356198,           Principal: 1477.746984521761,           Pendiente: 22464.065383615423\n",
      "Mes: 226,           Cuota: 1517.650005135323,           Intereses: 37.44010897269237,           Principal: 1480.2098961626307,           Pendiente: 20983.85548745279\n",
      "Mes: 227,           Cuota: 1517.650005135323,           Intereses: 34.97309247908799,           Principal: 1482.6769126562351,           Pendiente: 19501.178574796555\n",
      "Mes: 228,           Cuota: 1517.650005135323,           Intereses: 32.501964291327596,           Principal: 1485.1480408439954,           Pendiente: 18016.03053395256\n",
      "Mes: 229,           Cuota: 1517.650005135323,           Intereses: 30.0267175565876,           Principal: 1487.6232875787355,           Pendiente: 16528.407246373823\n",
      "Mes: 230,           Cuota: 1517.650005135323,           Intereses: 27.54734541062304,           Principal: 1490.1026597247,           Pendiente: 15038.304586649123\n",
      "Mes: 231,           Cuota: 1517.650005135323,           Intereses: 25.06384097774854,           Principal: 1492.5861641575746,           Pendiente: 13545.718422491549\n",
      "Mes: 232,           Cuota: 1517.650005135323,           Intereses: 22.57619737081925,           Principal: 1495.0738077645037,           Pendiente: 12050.644614727045\n",
      "Mes: 233,           Cuota: 1517.650005135323,           Intereses: 20.084407691211744,           Principal: 1497.5655974441113,           Pendiente: 10553.079017282935\n",
      "Mes: 234,           Cuota: 1517.650005135323,           Intereses: 17.588465028804894,           Principal: 1500.0615401065181,           Pendiente: 9053.017477176416\n",
      "Mes: 235,           Cuota: 1517.650005135323,           Intereses: 15.088362461960694,           Principal: 1502.5616426733623,           Pendiente: 7550.455834503054\n",
      "Mes: 236,           Cuota: 1517.650005135323,           Intereses: 12.58409305750509,           Principal: 1505.065912077818,           Pendiente: 6045.389922425235\n",
      "Mes: 237,           Cuota: 1517.650005135323,           Intereses: 10.075649870708727,           Principal: 1507.5743552646143,           Pendiente: 4537.815567160621\n",
      "Mes: 238,           Cuota: 1517.650005135323,           Intereses: 7.563025945267702,           Principal: 1510.0869791900552,           Pendiente: 3027.728587970566\n",
      "Mes: 239,           Cuota: 1517.650005135323,           Intereses: 5.046214313284277,           Principal: 1512.6037908220387,           Pendiente: 1515.1247971485273\n",
      "Mes: 240,           Cuota: 1517.650005135323,           Intereses: 2.5252079952475457,           Principal: 1515.1247971400755,           Pendiente: 8.451706889900379e-09\n",
      "Mes: 241,           Cuota: 1517.650005135323,           Intereses: 1.4086178149833965e-11,           Principal: 1517.650005135309,           Pendiente: -1517.6500051268572\n"
     ]
    }
   ],
   "source": [
    "V = float(input(\"Introduzca la cantidad del préstamo: \"))\n",
    "i = int(input(\"Introduzca el interés del préstamo sin el símbolo '%': \"))\n",
    "n = float(input(\"Introduzca el número de cuotas: \"))\n",
    "\n",
    "#Cuota\n",
    "cuota = (V * ( (((i / 100) / 12)*((1+((i / 100) / 12))**(n*12))) / (((1+((i / 100) / 12))**(n*12))-1) ))\n",
    "\n",
    "# Contador para los meses\n",
    "mes = 0\n",
    "\n",
    "# Bucle\n",
    "while V > 0:\n",
    "    mes += 1\n",
    "    #Intereses\n",
    "    intereses = V * ((i/100)/12)\n",
    "\n",
    "    #Principal\n",
    "    principal = cuota - intereses\n",
    "\n",
    "    #Pendiente\n",
    "    V = V - principal\n",
    "    print(f\"Mes: {mes}, \\\n",
    "          Cuota: {cuota}, \\\n",
    "          Intereses: {intereses}, \\\n",
    "          Principal: {principal}, \\\n",
    "          Pendiente: {V}\")\n",
    "    if V < 0:\n",
    "        break"
   ]
  },
  {
   "cell_type": "markdown",
   "metadata": {},
   "source": [
    "## Ejercicio 3\n",
    "#### Crear un programa que resuelva una ecuacción de segundo grado\n",
    "\n",
    "El objetivo del programa es resolver la ecuacción de sgundo grado \n",
    "\n",
    "\\begin{align*}\n",
    "ax^2+bx+c = 0\n",
    "\\end{align*}\n",
    "\n",
    "Pasando como parámetros los coeficientes de la ecuacción. La resolución de la ecuacción es la siguiente:\n",
    "\n",
    "\\begin{align*}\n",
    "x=\\frac{-b \\pm \\sqrt{b^2-4ac}}{2a}\n",
    "\\end{align*}\n",
    "\n",
    "Para realizar este programa tienes que utilizar el metodo sqrt() para calcular la raiz cuadrada. Para ello tienes que importar el módulo math. Así que tu programa debería empezar con ```ìmport math```\n"
   ]
  },
  {
   "cell_type": "code",
   "execution_count": 38,
   "metadata": {},
   "outputs": [
    {
     "name": "stdin",
     "output_type": "stream",
     "text": [
      "Introduce el valor de a:  5\n",
      "Introduce el valor de b:  4\n",
      "Introduce el valor de c:  3\n"
     ]
    },
    {
     "name": "stdout",
     "output_type": "stream",
     "text": [
      "Los números introducidos no son adecuados\n"
     ]
    }
   ],
   "source": [
    "from math import sqrt\n",
    "\n",
    "def ecuacion(a, b, c):\n",
    "    D = b**2 - (4*a*c) #Comprobamos que va a tener soluciones\n",
    "    if D >= 0: \n",
    "        try:\n",
    "            x_1 = (-b + sqrt(b**2 - (4*a*c))) / (2*a)\n",
    "            x_2 = (-b - sqrt(b**2 - (4*a*c))) / (2*a)\n",
    "            print(f\"Las soluciones son: {x_1} y {x_2}\")\n",
    "        except Exception as e: #Guardamos el error, si apareciese, y lo mostramos por pantalla\n",
    "            print(\"Error: \", e)\n",
    "    else:\n",
    "        print(\"Los números introducidos no son adecuados\")\n",
    "    \n",
    "a = float(input(\"Introduce el valor de a: \"))\n",
    "b = float(input(\"Introduce el valor de b: \"))\n",
    "c = float(input(\"Introduce el valor de c: \"))\n",
    "ecuacion(a, b, c) #Llamamos a la función ecuacion"
   ]
  },
  {
   "cell_type": "markdown",
   "metadata": {},
   "source": [
    "## Ejercicio 4\n",
    "#### Crear un programa que calcule el average\n",
    "\n",
    "El programa pedirá al usuario que introduzca numeros. En primer lugar le pedirá que indique cuantos números se quieren introducir, y enseñara un prompt para incluirlos, y calculará el average.\n",
    "\n"
   ]
  },
  {
   "cell_type": "code",
   "execution_count": 1,
   "metadata": {},
   "outputs": [
    {
     "name": "stdin",
     "output_type": "stream",
     "text": [
      "¿Cuántos números va a introducir?:  4\n",
      "Introduzca los números sin elementos adicionales ni negativos:  1234\n"
     ]
    },
    {
     "name": "stdout",
     "output_type": "stream",
     "text": [
      "The average is: 2.5\n"
     ]
    }
   ],
   "source": [
    "def average(rango, numeros):\n",
    "    if len(numeros) == rango:\n",
    "        numeros_int = (int(x) for x in numeros)\n",
    "        avg = (sum(numeros_int) / len(numeros))\n",
    "        print(\"The average is: {}\".format(avg))\n",
    "    else:\n",
    "        print(\"Has introducido más números de los que has dicho\")\n",
    "\n",
    "rango = int(input(\"¿Cuántos números va a introducir?: \"))\n",
    "numeros = list(input(\"Introduzca los números sin elementos adicionales ni negativos: \"))\n",
    "average(rango, numeros)"
   ]
  },
  {
   "cell_type": "markdown",
   "metadata": {},
   "source": [
    "## Ejercicio 5\n",
    "#### Crear un programa que calcule el average II\n",
    "\n",
    "El programa pedirá que se diga cuantos números se quieren introducir, y enseñara un prompt para incluirl número a número en una lista, y calcule después el average.\n"
   ]
  },
  {
   "cell_type": "code",
   "execution_count": 5,
   "metadata": {},
   "outputs": [
    {
     "name": "stdin",
     "output_type": "stream",
     "text": [
      "¿Cuántos números va a introducir?:  4\n",
      "Introduzca los números sin elementos adicionales ni negativos:  1234\n"
     ]
    },
    {
     "name": "stdout",
     "output_type": "stream",
     "text": [
      "['1', '2', '3', '4']\n",
      "2.5\n"
     ]
    }
   ],
   "source": [
    "def average(rango, numeros):\n",
    "    if len(numeros) == rango:\n",
    "        numeros_int = (int(x) for x in numeros)\n",
    "        avg = (sum(numeros_int) / len(numeros))\n",
    "        print(avg)\n",
    "    else:\n",
    "        print(\"Has introducido más números de los que has dicho\")\n",
    "\n",
    "rango = int(input(\"¿Cuántos números va a introducir?: \"))\n",
    "numeros = list(input(\"Introduzca los números sin elementos adicionales ni negativos: \"))\n",
    "print(numeros)\n",
    "average(rango, numeros)"
   ]
  },
  {
   "cell_type": "markdown",
   "metadata": {},
   "source": [
    "## Ejercicio 6\n",
    "#### Write a Python program to convert a list of characters into a string.\n",
    "\n",
    "Sample list : ['a','b','c','d']\n",
    "\n",
    "Expected output : abcd"
   ]
  },
  {
   "cell_type": "code",
   "execution_count": 84,
   "metadata": {},
   "outputs": [
    {
     "name": "stdout",
     "output_type": "stream",
     "text": [
      "abcd\n"
     ]
    }
   ],
   "source": [
    "print(\"\".join(['a', 'b', 'c', 'd']))"
   ]
  },
  {
   "cell_type": "markdown",
   "metadata": {},
   "source": [
    "## Ejercicio 7\n",
    "#### First and last 5\n",
    "Write a Python program to generate and print a list of first and last 5 elements where the values are square of numbers between 1 and 30 (both included). "
   ]
  },
  {
   "cell_type": "code",
   "execution_count": 32,
   "metadata": {},
   "outputs": [
    {
     "name": "stdout",
     "output_type": "stream",
     "text": [
      "[1, 4, 9, 16, 25]\n",
      "[676, 729, 784, 841, 900]\n"
     ]
    }
   ],
   "source": [
    "def numbers():\n",
    "    lista_ini = []\n",
    "    for i in range(1,31):\n",
    "        i = i ** 2\n",
    "        lista_ini.append(i)\n",
    "\n",
    "    print(lista_ini[:5])\n",
    "    print(lista_ini[-5:])\n",
    "    \n",
    "numbers()    "
   ]
  },
  {
   "cell_type": "markdown",
   "metadata": {},
   "source": [
    "## Ejercicio 8\n",
    "#### Interactuando con listas\n",
    "\n",
    "From given list gadgets = [“Mobile”, “Laptop”, 100, “Camera”, 310.28, “Speakers”, 27.00,\n",
    "“Television”, 1000, “Laptop Case”, “Camera Lens”]\n",
    "\n",
    "a)create separate lists of strings and numbers.  \n",
    "\n",
    "b)Sort the strings list in ascending order  \n",
    "\n",
    "c)Sort the strings list in descending order  \n",
    "\n",
    "d)Sort the number list from lowest to highest  \n",
    "\n",
    "e)Sort the number list from highest to lowest"
   ]
  },
  {
   "cell_type": "code",
   "execution_count": 11,
   "metadata": {},
   "outputs": [
    {
     "name": "stdout",
     "output_type": "stream",
     "text": [
      "Strings: ['Mobile', 'Laptop', 'Camera', 'Speakers', 'Television', 'Laptop Case', 'Camera Lens'] \n",
      "Numbers: [100, 310.28, 27.0, 1000]\n",
      "['Camera', 'Camera Lens', 'Laptop', 'Laptop Case', 'Mobile', 'Speakers', 'Television']\n",
      "['Television', 'Speakers', 'Mobile', 'Laptop Case', 'Laptop', 'Camera Lens', 'Camera']\n",
      "[27.0, 100, 310.28, 1000]\n",
      "[1000, 310.28, 100, 27.0]\n"
     ]
    }
   ],
   "source": [
    "# Función para separar elementos\n",
    "def separate_num_str(gadgets, num_list, str_list):\n",
    "    for elements in gadgets:\n",
    "        if type(elements) == str:\n",
    "            str_list.append(elements)\n",
    "            continue\n",
    "        elif type(elements) == int or type(elements) == float:\n",
    "            num_list.append(elements)\n",
    "            continue\n",
    "    print(\"Strings: {} \\nNumbers: {}\".format(str_list, num_list))\n",
    "\n",
    "# Cadena original\n",
    "gadgets = [\"Mobile\", \"Laptop\", 100, \"Camera\", 310.28, \"Speakers\", 27.00, \"Television\", 1000, \"Laptop Case\", \"Camera Lens\"]\n",
    "\n",
    "# Separar números y strings en dos listas distintas\n",
    "num_list = []\n",
    "str_list = []\n",
    "separate_num_str(gadgets, num_list, str_list)\n",
    "\n",
    "# Ordenar la lista de string de forma ascendente\n",
    "print(sorted(str_list))\n",
    "\n",
    "# Ordenar la lista de string de forma descendente\n",
    "print(sorted(str_list, reverse=True))\n",
    "\n",
    "# Ordenar la lista de números de más bajo a más alto\n",
    "print(sorted(num_list))\n",
    "\n",
    "# Ordenar la lista de números de más alto a más bajo\n",
    "print(sorted(num_list, reverse=True))"
   ]
  },
  {
   "cell_type": "markdown",
   "metadata": {},
   "source": [
    "## Ejercicio 9\n",
    "#### Get first, second best scores from the list.\n",
    "\n",
    "List may contain duplicates.\n",
    "\n",
    "Ex: [86,86,85,85,85,83,23,45,84,1,2,0] => should get 86, 85"
   ]
  },
  {
   "cell_type": "code",
   "execution_count": 8,
   "metadata": {},
   "outputs": [
    {
     "name": "stdout",
     "output_type": "stream",
     "text": [
      "[86, 85]\n"
     ]
    }
   ],
   "source": [
    "# Se podría hacer en una sola línea si introducimos la lista en el print\n",
    "numbers = sorted(set([86,86,85,85,85,83,23,45,84,1,2,0]), reverse=True)\n",
    "print(numbers[:2])"
   ]
  },
  {
   "cell_type": "markdown",
   "metadata": {},
   "source": [
    "## Ejercicio 10\n",
    "#### Write a program that detects if a string is a palindrome\n",
    "Ask the user for a string and print out whether this string is a palindrome or not. (A palindrome is a string that reads the same forwards and backwards.)"
   ]
  },
  {
   "cell_type": "code",
   "execution_count": 33,
   "metadata": {},
   "outputs": [
    {
     "name": "stdin",
     "output_type": "stream",
     "text": [
      "Write a single word:  Arenera\n"
     ]
    },
    {
     "name": "stdout",
     "output_type": "stream",
     "text": [
      "The word is not a palindrome.\n"
     ]
    }
   ],
   "source": [
    "# Si usáramos una función tendríamos dos líneas más de código que no tendrían ninguna utilidad\n",
    "word = input(\"Write a single word: \")\n",
    "\n",
    "if word.lower() == word[::-1]:\n",
    "    print(\"The word is a palindrome.\")\n",
    "else:\n",
    "    print(\"The word is not a palindrome.\")"
   ]
  },
  {
   "cell_type": "markdown",
   "metadata": {},
   "source": [
    "## (Bonus) Ejercicio 11\n",
    "#### Desarrolla el juego del ahorcado\n",
    "El juego del ahorcado consiste en adivinar una palabra, probando letra a letra. El jugaor tiene permitidos 6 fallos, al 7mo fallo pierde. \n",
    "\n",
    "* Habrá que imprimir por pantalla una cantidad de guiones igual al numero de letras e ir sustituyéndolos con los aciertos.\n",
    "* Necesitarás usar un bucle while con un input para modelar las jugadas del ahoracado. En cada ejecución del while comprueba las vidas del jugador, y los aciertos."
   ]
  },
  {
   "cell_type": "code",
   "execution_count": 66,
   "metadata": {},
   "outputs": [
    {
     "name": "stdout",
     "output_type": "stream",
     "text": [
      "AHORCADO\n",
      "+======+\n",
      "|//    | \n",
      "|/ \n",
      "| \n",
      "| \n",
      "| \n",
      "==============\n",
      "_  \n",
      "_  \n",
      "_  \n",
      "_  \n",
      "_  \n",
      "_  \n"
     ]
    },
    {
     "name": "stdin",
     "output_type": "stream",
     "text": [
      "Introduce una letra:  l\n"
     ]
    },
    {
     "name": "stdout",
     "output_type": "stream",
     "text": [
      "+======+\n",
      "|//    | \n",
      "|/     0 \n",
      "| \n",
      "| \n",
      "| \n",
      "==============\n",
      "Letras incorrectas: l  \n",
      "_  \n",
      "_  \n",
      "_  \n",
      "_  \n",
      "_  \n",
      "_  \n"
     ]
    },
    {
     "name": "stdin",
     "output_type": "stream",
     "text": [
      "Introduce una letra:  p\n"
     ]
    },
    {
     "name": "stdout",
     "output_type": "stream",
     "text": [
      "+======+\n",
      "|//    | \n",
      "|/     0 \n",
      "| \n",
      "| \n",
      "| \n",
      "==============\n",
      "Letras incorrectas: l  \n",
      "p  \n",
      "_  \n",
      "_  \n",
      "_  \n",
      "_  \n",
      "_  \n"
     ]
    },
    {
     "name": "stdin",
     "output_type": "stream",
     "text": [
      "Introduce una letra:  y\n"
     ]
    },
    {
     "name": "stdout",
     "output_type": "stream",
     "text": [
      "+======+\n",
      "|//    | \n",
      "|/     0 \n",
      "| \n",
      "| \n",
      "| \n",
      "==============\n",
      "Letras incorrectas: l  \n",
      "p  \n",
      "y  \n",
      "_  \n",
      "_  \n",
      "_  \n",
      "_  \n"
     ]
    },
    {
     "name": "stdin",
     "output_type": "stream",
     "text": [
      "Introduce una letra:  t\n"
     ]
    },
    {
     "name": "stdout",
     "output_type": "stream",
     "text": [
      "+======+\n",
      "|//    | \n",
      "|/     0 \n",
      "| \n",
      "| \n",
      "| \n",
      "==============\n",
      "Letras incorrectas: l  \n",
      "p  \n",
      "y  \n",
      "t  \n",
      "_  \n",
      "_  \n",
      "_  \n"
     ]
    },
    {
     "name": "stdin",
     "output_type": "stream",
     "text": [
      "Introduce una letra:  h\n"
     ]
    },
    {
     "name": "stdout",
     "output_type": "stream",
     "text": [
      "+======+\n",
      "|//    | \n",
      "|/     0 \n",
      "| \n",
      "| \n",
      "| \n",
      "==============\n",
      "Letras incorrectas: l  \n",
      "p  \n",
      "y  \n",
      "t  \n",
      "h  \n",
      "_  \n",
      "_  \n"
     ]
    },
    {
     "name": "stdin",
     "output_type": "stream",
     "text": [
      "Introduce una letra:  o\n"
     ]
    },
    {
     "name": "stdout",
     "output_type": "stream",
     "text": [
      "+======+\n",
      "|//    | \n",
      "|/     0 \n",
      "| \n",
      "| \n",
      "| \n",
      "==============\n",
      "Letras incorrectas: l  \n",
      "p  \n",
      "y  \n",
      "t  \n",
      "h  \n",
      "o  \n",
      "_  \n"
     ]
    },
    {
     "name": "stdin",
     "output_type": "stream",
     "text": [
      "Introduce una letra:  n\n"
     ]
    },
    {
     "name": "stdout",
     "output_type": "stream",
     "text": [
      "ENHORABUENA \n",
      " La palabra era python, has ganado!!\n",
      "¿Quieres jugar de nuevo? (S/N): \n"
     ]
    },
    {
     "name": "stdin",
     "output_type": "stream",
     "text": [
      " n\n"
     ]
    }
   ],
   "source": [
    "import random\n",
    "\n",
    "# Dibujamos la horca\n",
    "AHORCADO = ['''+======+\\n|//    | \\n|/ \\n| \\n| \\n| \\n==============''',\n",
    "            '''+======+\\n|//    | \\n|/     0 \\n| \\n| \\n| \\n==============''',\n",
    "            '''+======+\\n|//    | \\n|/     0 \\n|      | \\n| \\n| \\n==============''',\n",
    "            '''+======+ \\n|//    | \\n|/     0 \\n|     /| \\n| \\n| \\n==============''',\n",
    "            '''+======+ \\n|//    | \\n|/     0 \\n|     /|\\ \\n| \\n| \\n==============''',\n",
    "            '''+======+ \\n|//    | \\n|/     0 \\n|     /|\\ \\n|     / \\n| \\n==============''',\n",
    "            '''+======+\\n|//    | \\n|/     0 \\n|     /|\\ \\n|     / \\ \\n| \\n=============='''\n",
    "           ]\n",
    "\n",
    "def palabra_a_adivinar():\n",
    "    diccionario = 'python machineLearning script keras deepLearning maths laptop'.split()\n",
    "    palabra = random.randint(0, len(diccionario) - 1)\n",
    "    return diccionario[palabra]\n",
    "\n",
    "def horca_y_letras(AHORCADO, S_word, C_word, I_word):\n",
    "    print(AHORCADO[len(I_word)])\n",
    "    for letra_I in I_word:\n",
    "        print(\"Letras incorrectas: {} {}\".format(letra_I, \" \"))\n",
    "    espacio_letras = \"_\" * len(S_word)\n",
    "    for i in range(len(S_word)):\n",
    "        if S_word[i] in C_word:\n",
    "            espacio_letras = espacio_letras[:i] + S_word[i] + espacio_letras[i+1:]\n",
    "    for letra in espacio_letras:\n",
    "        print(letra, \" \")\n",
    "\n",
    "def elegir_letra(alguna_letra):\n",
    "    while True:\n",
    "        letra = input(\"Introduce una letra: \").lower()\n",
    "        if len(letra) != 1:\n",
    "            print(\"Introduce sólo una letra.\")\n",
    "        elif letra in alguna_letra:\n",
    "            print(\"Ya has usado esa letra, elige otra.\")\n",
    "        elif letra not in 'abcdefghijklmnñopqrstuvwxyz':\n",
    "            print(\"Escoge una letra.\")\n",
    "        else:\n",
    "            return letra\n",
    "        \n",
    "def empezar_juego():\n",
    "    print(\"¿Quieres jugar de nuevo? (S/N): \")\n",
    "    return input().lower().startswith('s')\n",
    "\n",
    "def main():\n",
    "    print(\"AHORCADO\")\n",
    "    S_word = palabra_a_adivinar()\n",
    "    C_word = ''\n",
    "    I_word = ''\n",
    "    end_game = False\n",
    "    while True:\n",
    "        horca_y_letras(AHORCADO, S_word, C_word, I_word)\n",
    "        letra = elegir_letra(C_word + I_word)\n",
    "        if letra in S_word:\n",
    "            C_word = C_word + letra\n",
    "            letra_encontrada = True\n",
    "            for i in range(len(S_word)):\n",
    "                if S_word[i] not in C_word:\n",
    "                    letra_encontrada = False\n",
    "                    break\n",
    "            if letra_encontrada:\n",
    "                print (f\"ENHORABUENA \\n La palabra era {S_word}, has ganado!!\")\n",
    "                end_game = True\n",
    "        else:\n",
    "            I_word = I_word + letra\n",
    "            if len(I_word) == len(AHORCADO)-1:\n",
    "                horca_y_letras(AHORCADO, S_word, C_word, I_word)\n",
    "                print(f\"Te has quedado sin oportunidades. \\n\\\n",
    "                      Letras incorrectas: {str(len(I_word))},\\\n",
    "                      Letras correctas: {str(len(C_word))},\\\n",
    "                      Palabra: {S_word}\")\n",
    "                end_game = True\n",
    "            \n",
    "        if end_game:\n",
    "            if empezar_juego():\n",
    "                I_word = ''\n",
    "                C_word = ''\n",
    "                end_game = False\n",
    "                S_word = palabra_a_adivinar()\n",
    "            else:\n",
    "                break\n",
    "        \n",
    "if __name__ == '__main__':\n",
    "    main()\n",
    "#https://unipython.com/juego-python-ahorcado/"
   ]
  },
  {
   "cell_type": "code",
   "execution_count": 58,
   "metadata": {},
   "outputs": [
    {
     "name": "stdout",
     "output_type": "stream",
     "text": [
      "_ _ _ _ _ _ _ _ _ _ _ _ _ _ _ \n"
     ]
    }
   ],
   "source": [
    "S_word = \"MachineLearning\"\n",
    "\n",
    "espacio = \"_ \" * len(S_word)\n",
    "for i in range(len(S_word)):\n",
    "    if S_word[i] == \" \":\n",
    "        espacio = espacio[:i] + S_word[i] + espacio[i+1:]\n",
    "print(espacio)"
   ]
  }
 ],
 "metadata": {
  "kernelspec": {
   "display_name": "Python 3",
   "language": "python",
   "name": "python3"
  },
  "language_info": {
   "codemirror_mode": {
    "name": "ipython",
    "version": 3
   },
   "file_extension": ".py",
   "mimetype": "text/x-python",
   "name": "python",
   "nbconvert_exporter": "python",
   "pygments_lexer": "ipython3",
   "version": "3.8.10"
  }
 },
 "nbformat": 4,
 "nbformat_minor": 4
}
