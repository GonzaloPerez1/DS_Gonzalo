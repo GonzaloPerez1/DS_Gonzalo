{
 "cells": [
  {
   "cell_type": "markdown",
   "id": "bdfb77f7-0991-4841-99ef-d95ef402c787",
   "metadata": {},
   "source": [
    "https://medium.com/swlh/understanding-regular-expressions-in-python-21410c64a6f2\n"
   ]
  },
  {
   "cell_type": "markdown",
   "id": "88505773-6eb7-4630-a66a-ba5c6e916428",
   "metadata": {},
   "source": [
    "# Regular Expressions\n",
    "Utilizaremos las expresiones regulares para buscar patrones dentro de un string. Un simple `str1 in str2` es muy útil, pero no nos sirve si estamos buscando formatos de mails, teléfonos, caracteres a buscar dentro de otras palabras...\n",
    "\n",
    "Para ello utilizaremos la librería de Python `re` (regular expression), cuyas principales funciones serían las siguientes:\n",
    "\n",
    "##### search\n",
    "Search devuelve un objeto de tipo *match* en el caso de encontrar el patrón contenido en cualquier parte del string. De lo contrario, devolverá *None*\n",
    "```Python\n",
    "re.search()\n",
    "```\n",
    "\n",
    "##### match\n",
    "Match también acertará si el string empieza con el patrón en cuestión. No es el más utilizado ya que eso lo podemos hacer fácilmente con `search`\n",
    "```Python\n",
    "re.match()\n",
    "```\n",
    "\n",
    "##### findall\n",
    "Devuelve una lista con todos los aciertos del patrón en el string\n",
    "```Python\n",
    "re.findall()\n",
    "```\n",
    "\n",
    "##### split\n",
    "Devuelve una lista donde se ha dividido el string, según el patrón indicado. Como el `split()` del string\n",
    "```Python\n",
    "re.split()\n",
    "```\n",
    "\n",
    "##### sub\n",
    "Reemplaza uno o más matches con otro string\n",
    "```Python\n",
    "re.sub()\n",
    "```"
   ]
  },
  {
   "cell_type": "code",
   "execution_count": 4,
   "id": "2b37f39b-d8fe-4889-9791-51480856cd31",
   "metadata": {},
   "outputs": [
    {
     "name": "stdout",
     "output_type": "stream",
     "text": [
      "<re.Match object; span=(19, 26), match='pattern'>\n",
      "None\n"
     ]
    }
   ],
   "source": [
    "import re\n",
    "\n",
    "s=\"I am looking for a pattern in this string\"\n",
    "search = re.search(r\"pattern\", s)\n",
    "print(search)\n",
    "print(re.search(r\"patternnnnn\", s))"
   ]
  },
  {
   "cell_type": "code",
   "execution_count": 6,
   "id": "b91e56f4-fd00-4edd-bc2d-f658b19052cf",
   "metadata": {},
   "outputs": [
    {
     "data": {
      "text/plain": [
       "True"
      ]
     },
     "execution_count": 6,
     "metadata": {},
     "output_type": "execute_result"
    }
   ],
   "source": [
    "\"pattern\" in s"
   ]
  },
  {
   "cell_type": "markdown",
   "id": "0b34c218-3975-40c3-b2c7-ffe595040fe1",
   "metadata": {},
   "source": [
    "Nos dice cuál ha sido el match, y de dónde a dónde ha ido tal match.\n",
    "\n",
    "El mismo código se puede escribir de la misma manera mediante metacaracteres. En el siguiente ejemplo, vamos a buscar todo patrón que empiece por `p`, que la siguiente letra a `p` está comprendida entre `a`-`z` y el `+` indica que esas letras pueden estar más de una vez. Evidentemente, esto puede dar match con otros patrones."
   ]
  },
  {
   "cell_type": "code",
   "execution_count": 7,
   "id": "3ea25bbd-4dea-4dd6-989f-ca8497669143",
   "metadata": {},
   "outputs": [
    {
     "name": "stdout",
     "output_type": "stream",
     "text": [
      "<re.Match object; span=(5, 11), match='pandas'>\n"
     ]
    }
   ],
   "source": [
    "s=\"I am pandas looking for a pattern in this string\"\n",
    "\n",
    "search=re.search(\"p[a-z]+\",s)\n",
    "print(search)"
   ]
  },
  {
   "cell_type": "markdown",
   "id": "d7096331-1c3c-451b-b381-59d6adc76642",
   "metadata": {},
   "source": [
    "# Metacaracteres\n",
    "\n",
    "**Empezar/Acabar**\n",
    "- `^` Empieza por ese string\n",
    "- `$` Acaba por ese string\n",
    "\n",
    "**Match de caracteres**\n",
    "- `.` Match de cualquier caracter\n",
    "- `\\` caracteres especiales\n",
    "    - `\\A`, `\\Z` inicio/fin con ese string\n",
    "    - `\\s`, `\\S` Espacio o no espacio, respectivamente\n",
    "    - `\\t`, `\\n`, `\\r` Tabulación, salto de línea y return\n",
    "    - `\\d`, `\\D` Digito o no digito respectivamente\n",
    "    - `\\w`, `\\W` Carácter alfanumerico o no caracter alfanumerico respectivamente\n",
    "    - `^.[$()|*+?` Caracteres propios de las expresiones regulares\n",
    "- `()` Grupos de caracteres\n",
    "\n",
    "**Match de varias opciones de caracteres**\n",
    "- `|` *Or* para busqueda de varias posibilidades\n",
    "- `[abc]` match de cualquier caracter dentro de los corchetes\n",
    "- `[^abc]` match de cualquier caracter fuera de los corchetes\n",
    "- `[a-z]` match de rango de caracteres\n",
    "\n",
    "**Repeticiones**\n",
    "- `*`: String seguido de 0 o más ocurrencias de un patrón\n",
    "- `?` Cero o una única repetición\n",
    "- `+` Una o más repeticiones\n",
    "- `{m, n}` Match de m a n repeticiones de un caracter\n",
    "\n",
    "**Otros**\n",
    "- `|` match de RegEx `a` or RegEx `b`\n",
    "- HTML\n",
    "- Deteccion de mail\n",
    "- Devuelve todas las ocurrencias\n",
    "- Números de telefono\n",
    "- Nombre de usuario\n",
    "- Pin cajeros"
   ]
  },
  {
   "cell_type": "markdown",
   "id": "cb832abe-7a05-4848-88bc-f27fe50c28da",
   "metadata": {},
   "source": [
    "## Empezar/Acabar\n",
    "### `^` Empieza por\n",
    "Match de todo string que empiece por el patrón"
   ]
  },
  {
   "cell_type": "code",
   "execution_count": 10,
   "id": "4243fb0c-2e28-4b98-94dc-2958112373b2",
   "metadata": {},
   "outputs": [
    {
     "name": "stdout",
     "output_type": "stream",
     "text": [
      "<re.Match object; span=(0, 1), match='I'>\n",
      "<re.Match object; span=(0, 1), match='I'>\n",
      "<re.Match object; span=(0, 4), match='I am'>\n",
      "<re.Match object; span=(2, 4), match='am'>\n"
     ]
    }
   ],
   "source": [
    "s = \"I am looking for a pattern in this string\"\n",
    "print(re.search(r\"I\",s))\n",
    "print(re.search(r\"^I\",s))\n",
    "print(re.search(r\"^I am\",s))\n",
    "print(re.search(r\"am\",s))"
   ]
  },
  {
   "cell_type": "markdown",
   "id": "0c424ee9-04b2-4f33-9f23-99127096a009",
   "metadata": {},
   "source": [
    "### `$` Acaba por\n",
    "Match de todo string que acabe por el patrón"
   ]
  },
  {
   "cell_type": "code",
   "execution_count": 11,
   "id": "c682acc2-c1e1-4840-92cc-bb8b1075d367",
   "metadata": {},
   "outputs": [
    {
     "name": "stdout",
     "output_type": "stream",
     "text": [
      "None\n",
      "<re.Match object; span=(40, 41), match='g'>\n",
      "<re.Match object; span=(38, 41), match='ing'>\n"
     ]
    }
   ],
   "source": [
    "s = \"I am looking for a pattern in this string\"\n",
    "print(re.search(r\"$I\",s))\n",
    "print(re.search(r\"g$\",s))\n",
    "print(re.search(r\"ing$\",s))"
   ]
  },
  {
   "cell_type": "markdown",
   "id": "599b2453-774f-48ff-8d83-c215aef55b88",
   "metadata": {},
   "source": [
    "## Match Caracteres\n",
    "### `.` Punto\n",
    "Me vale cualquier caracter"
   ]
  },
  {
   "cell_type": "code",
   "execution_count": 18,
   "id": "38b70bc5-e1cd-489f-b8d4-265b293e6b0c",
   "metadata": {},
   "outputs": [
    {
     "name": "stdout",
     "output_type": "stream",
     "text": [
      "<re.Match object; span=(0, 13), match='patterntolook'>\n"
     ]
    }
   ],
   "source": [
    "s=\"patterntolook\"\n",
    "search = re.search(r\"pattern..look\", s)\n",
    "print(search)\n",
    "re.search(r\"pattern..look\", \"patternyylook\")\n",
    "re.search(r\"pattern..look\", \"patternyyylook\")"
   ]
  },
  {
   "cell_type": "markdown",
   "id": "5c0aea07-afa6-442d-a7aa-2c570f7fc9bc",
   "metadata": {},
   "source": [
    "Combinando `^`, `$`  y `.`: *todo string que empiece por patron1 y acabe con patron2*"
   ]
  },
  {
   "cell_type": "code",
   "execution_count": 20,
   "id": "6ab4d6f2-41ba-4ce7-9356-36f543e57e5e",
   "metadata": {},
   "outputs": [
    {
     "name": "stdout",
     "output_type": "stream",
     "text": [
      "<re.Match object; span=(0, 41), match='I am looking for a pattern in this string'>\n"
     ]
    }
   ],
   "source": [
    "s = \"I am looking for a pattern in this string\"\n",
    "search = re.search(r\"^I a.*ing$\", s)\n",
    "print(search)"
   ]
  },
  {
   "cell_type": "markdown",
   "id": "7df5d3a7-0edd-474b-89a4-e7cc3e01842d",
   "metadata": {},
   "source": [
    "### `\\` caracteres especiales\n",
    "Tenemos varias opciones:\n",
    "- `\\A`, `\\Z` inicio/fin con ese string\n",
    "- `\\s`, `\\S` indica espacio o no espacio respectivamente\n",
    "- `\\t`, `\\n`, `\\r` para tabulación, salto de línea y return respectivamente\n",
    "- `\\d`, `\\D` Digito o no digito respectivamente\n",
    "- `\\w`, `\\W` Carácter alfanumerico o no caracter alfanumerico respectivamente\n",
    "- `^.[$()|*+?` Caracteres propios de las expresiones regulares"
   ]
  },
  {
   "cell_type": "markdown",
   "id": "6859c962-0747-45df-94f1-ee3cb61604b2",
   "metadata": {},
   "source": [
    "#### `\\A`, `\\Z` inicio/fin con ese string"
   ]
  },
  {
   "cell_type": "code",
   "execution_count": 25,
   "id": "de556080-afee-4f2d-8d93-430f802f2d4c",
   "metadata": {},
   "outputs": [
    {
     "name": "stdout",
     "output_type": "stream",
     "text": [
      "<re.Match object; span=(0, 12), match='I am looking'>\n",
      "<re.Match object; span=(30, 41), match='this string'>\n",
      "None\n"
     ]
    }
   ],
   "source": [
    "s = \"I am looking for a pattern in this string\"\n",
    "print(re.search(r\"\\AI am looking\", s))\n",
    "print(re.search(r\"this string\\Z\", s))\n",
    "print(re.search(r\"this string\\Z otras cosas\", s))"
   ]
  },
  {
   "cell_type": "code",
   "execution_count": 29,
   "id": "749c5131-8633-4b33-81ca-fd443c84b4b7",
   "metadata": {},
   "outputs": [
    {
     "name": "stdout",
     "output_type": "stream",
     "text": [
      "<re.Match object; span=(0, 6), match='string'>\n",
      "None\n",
      "<re.Match object; span=(0, 6), match='string'>\n"
     ]
    }
   ],
   "source": [
    "s1 = \"string\"\n",
    "s2 = \"string\\n\"\n",
    "print(re.search(r\"string\\Z\", s1))\n",
    "print(re.search(r\"string\\Z\", s2))\n",
    "print(re.search(r\"string$\", s2))"
   ]
  },
  {
   "cell_type": "markdown",
   "id": "09fd0c9f-4e29-41a1-a266-49ac80d61147",
   "metadata": {},
   "source": [
    "#### `\\s`, `\\S` Espacio en blanco"
   ]
  },
  {
   "cell_type": "code",
   "execution_count": 31,
   "id": "a8561568-b097-439d-a5e5-c8f01775b013",
   "metadata": {},
   "outputs": [
    {
     "name": "stdout",
     "output_type": "stream",
     "text": [
      "<re.Match object; span=(30, 41), match='this string'>\n",
      "<re.Match object; span=(30, 41), match='this string'>\n"
     ]
    }
   ],
   "source": [
    "s = \"I am looking for a pattern in this string\"\n",
    "print(re.search(r\"this\\sstring\", s))\n",
    "print(re.search(r\"this\\s\\S\\Sring\", s))"
   ]
  },
  {
   "cell_type": "markdown",
   "id": "648f91f3-2ca2-4fc8-ad19-4638df5239ca",
   "metadata": {},
   "source": [
    "#### `\\t`, `\\n`, `\\r` Tabulación, salto de línea y return"
   ]
  },
  {
   "cell_type": "code",
   "execution_count": 32,
   "id": "679279bd-f8a3-495d-b997-ab1992d7890e",
   "metadata": {
    "tags": []
   },
   "outputs": [
    {
     "name": "stdout",
     "output_type": "stream",
     "text": [
      "<re.Match object; span=(0, 1), match='\\n'>\n"
     ]
    }
   ],
   "source": [
    "print(re.search(r\"\\n\", \"\\nlinea 1\"))"
   ]
  },
  {
   "cell_type": "markdown",
   "id": "69a914bf-33a2-407a-98a7-d054a944786d",
   "metadata": {
    "tags": []
   },
   "source": [
    "#### `\\d`, `\\D` Digito"
   ]
  },
  {
   "cell_type": "code",
   "execution_count": 34,
   "id": "5ddc77a2-58c4-4484-845f-1786f8c132c2",
   "metadata": {},
   "outputs": [
    {
     "name": "stdout",
     "output_type": "stream",
     "text": [
      "<re.Match object; span=(10, 18), match='street 9'>\n",
      "<re.Match object; span=(10, 18), match='street 9'>\n"
     ]
    }
   ],
   "source": [
    "print(re.search(r\"street \\d\", \"Liverpool street 9\"))\n",
    "print(re.search(r\"street\\D\\d\", \"Liverpool street 9\"))"
   ]
  },
  {
   "cell_type": "markdown",
   "id": "146840e5-6d6e-44df-a481-8cbb9196357c",
   "metadata": {},
   "source": [
    "#### `\\w`, `\\W` Carácter alfanumerico\n",
    "Numero y letras en mayúsculas o minúsculas (y guión bajo) `[0-9a-zA-Z_]`"
   ]
  },
  {
   "cell_type": "code",
   "execution_count": 38,
   "id": "ec945a68-ca87-4559-89b2-78b38a5cccba",
   "metadata": {},
   "outputs": [
    {
     "name": "stdout",
     "output_type": "stream",
     "text": [
      "<re.Match object; span=(10, 18), match='street 9'>\n",
      "<re.Match object; span=(0, 10), match='Liverpool '>\n",
      "None\n"
     ]
    }
   ],
   "source": [
    "print(re.search(r\"street \\w\", \"Liverpool street 9\"))\n",
    "print(re.search(r\"\\wiverpool \", \"Liverpool street 9\"))\n",
    "print(re.search(r\"Liverp\\w1 \", \"Liverp_1\"))"
   ]
  },
  {
   "cell_type": "markdown",
   "id": "f34a6d79-dee5-4a65-816f-77768b051fd1",
   "metadata": {},
   "source": [
    "#### `^.[$()|*+?` Caracteres propios de las expresiones regulares"
   ]
  },
  {
   "cell_type": "code",
   "execution_count": 41,
   "id": "b765f702-8ce9-45a4-95fa-50179df53235",
   "metadata": {},
   "outputs": [
    {
     "name": "stdout",
     "output_type": "stream",
     "text": [
      "<re.Match object; span=(18, 31), match='(300$ + 400$)'>\n"
     ]
    }
   ],
   "source": [
    "s = \"Simple operation: (300$ + 400$)*2\"\n",
    "print(re.search(r\"\\(300\\$ \\+ 400\\$\\)\", s))"
   ]
  },
  {
   "cell_type": "markdown",
   "id": "dbec5383-cdad-4fc7-88a9-7a8235a00bc8",
   "metadata": {},
   "source": [
    "### `()` Grupos de caracteres\n",
    "Muy útil junto con la sentencia or: `|`"
   ]
  },
  {
   "cell_type": "code",
   "execution_count": 44,
   "id": "aec8734e-1f6d-4478-ba48-7eb976eafd41",
   "metadata": {},
   "outputs": [
    {
     "name": "stdout",
     "output_type": "stream",
     "text": [
      "<re.Match object; span=(5, 12), match='looking'>\n",
      "<re.Match object; span=(5, 12), match='looking'>\n"
     ]
    }
   ],
   "source": [
    "s = \"I am looking for a pattern in this string\"\n",
    "print(re.search(r\"l(oo)king\", s))\n",
    "print(re.search(r\"l(o)+king\", s))"
   ]
  },
  {
   "cell_type": "markdown",
   "id": "0af3bcc3-cd13-4d68-b442-26885746f95e",
   "metadata": {},
   "source": [
    "## Match de varias opciones de caracteres"
   ]
  },
  {
   "cell_type": "markdown",
   "id": "559f745c-f362-4d22-a9ab-6e6005c31216",
   "metadata": {},
   "source": [
    "### `|` *Or* para busqueda de varias posibilidades\n",
    "Como si fuese un `or`, encuentra este caracter o cojunto de caracteres, dentro de varias posibilidades"
   ]
  },
  {
   "cell_type": "code",
   "execution_count": 46,
   "id": "79d6e27c-a3f2-4427-830c-a7bc8c2dd7ef",
   "metadata": {},
   "outputs": [
    {
     "name": "stdout",
     "output_type": "stream",
     "text": [
      "<re.Match object; span=(0, 13), match='patterntolook'>\n",
      "<re.Match object; span=(0, 13), match='patterntolook'>\n"
     ]
    }
   ],
   "source": [
    "s=\"patterntolook\"\n",
    "print(re.search(r\"pattern(.)olook\", s)) #Demasiado genérico\n",
    "print(re.search(r\"pattern(t|e|v|c)olook\", s))"
   ]
  },
  {
   "cell_type": "markdown",
   "id": "9eb651fe-4f46-42c5-aa05-d17706f74753",
   "metadata": {},
   "source": [
    "### `[]` Corchetes\n",
    "La diferencia con `|` es que con los corchetes puedo establecer diferentes rangos"
   ]
  },
  {
   "cell_type": "code",
   "execution_count": 48,
   "id": "34c097dc-0230-4e2b-8f75-4623d70fc6b0",
   "metadata": {},
   "outputs": [
    {
     "name": "stdout",
     "output_type": "stream",
     "text": [
      "<re.Match object; span=(5, 12), match='looking'>\n",
      "<re.Match object; span=(5, 12), match='looking'>\n"
     ]
    }
   ],
   "source": [
    "s = \"I am looking for a pattern in this string\"\n",
    "print(re.search(r\"loo[jkh]ing\", s))\n",
    "print(re.search(r\"loo(k|e|v|c)ing\", s))"
   ]
  },
  {
   "cell_type": "code",
   "execution_count": 53,
   "id": "a12031d4-e00a-4bf1-a445-77033f8a5dfa",
   "metadata": {},
   "outputs": [
    {
     "name": "stdout",
     "output_type": "stream",
     "text": [
      "None\n",
      "None\n",
      "<re.Match object; span=(5, 12), match='looking'>\n"
     ]
    }
   ],
   "source": [
    "print(re.search(r\"loo[^jkh]ing\", s))\n",
    "print(re.search(r\"loo^[jkh]ing\", s))\n",
    "print(re.search(r\"loo[k]ing\", s))"
   ]
  },
  {
   "cell_type": "code",
   "execution_count": 56,
   "id": "600ba0dc-2d19-4cef-b875-357bb491e891",
   "metadata": {},
   "outputs": [
    {
     "name": "stdout",
     "output_type": "stream",
     "text": [
      "<re.Match object; span=(5, 12), match='looking'>\n",
      "<re.Match object; span=(5, 12), match='looking'>\n",
      "None\n",
      "<re.Match object; span=(5, 12), match='looking'>\n",
      "<re.Match object; span=(5, 12), match='looking'>\n"
     ]
    }
   ],
   "source": [
    "print(re.search(r\"loo[j-l]ing\", s))\n",
    "print(re.search(r\"loo[a-z]ing\", s))\n",
    "print(re.search(r\"loo[0-9]ing\", s))\n",
    "print(re.search(r\"loo[0-9j-l]ing\", s))\n",
    "print(re.search(r\"loo[akoj-l]ing\", s))"
   ]
  },
  {
   "cell_type": "markdown",
   "id": "af8ed114-b4e3-49ba-915b-954ed8c6dbd7",
   "metadata": {},
   "source": [
    "## Repeticiones\n",
    "### `*` Cero o más repeticiones\n",
    "Del carácter anterior al `*`"
   ]
  },
  {
   "cell_type": "code",
   "execution_count": 59,
   "id": "b9190f8a-70c7-4b8a-8166-c0b7938713cd",
   "metadata": {},
   "outputs": [
    {
     "name": "stdout",
     "output_type": "stream",
     "text": [
      "<re.Match object; span=(0, 7), match='foo-bar'>\n",
      "<re.Match object; span=(0, 6), match='foobar'>\n",
      "<re.Match object; span=(0, 12), match='foo------bar'>\n"
     ]
    }
   ],
   "source": [
    "print(re.search(r\"foo-*bar\", \"foo-bar\"))\n",
    "print(re.search(r\"foo-*bar\", \"foobar\"))\n",
    "print(re.search(r\"foo-*bar\", \"foo------bar\"))"
   ]
  },
  {
   "cell_type": "code",
   "execution_count": 61,
   "id": "ae14c514-b873-4fb7-ac0e-a0371b841cb4",
   "metadata": {},
   "outputs": [
    {
     "name": "stdout",
     "output_type": "stream",
     "text": [
      "None\n",
      "<re.Match object; span=(0, 7), match='foo-bar'>\n"
     ]
    }
   ],
   "source": [
    "print(re.search(r\"fo(o-)*bar\", \"foobar\"))\n",
    "print(re.search(r\"fo(o-)*bar\", \"foo-bar\"))"
   ]
  },
  {
   "cell_type": "markdown",
   "id": "3c36c9ee-64a7-4189-bb33-2e0b6522c54e",
   "metadata": {},
   "source": [
    "### `?` Cero o una única repetición\n",
    "Del carácter anterior al `?`"
   ]
  },
  {
   "cell_type": "code",
   "execution_count": 66,
   "id": "2b2c1047-cb8f-4fbc-80cf-6c3728f41f58",
   "metadata": {},
   "outputs": [
    {
     "name": "stdout",
     "output_type": "stream",
     "text": [
      "<re.Match object; span=(0, 7), match='foo-bar'>\n",
      "None\n",
      "<re.Match object; span=(0, 6), match='foobar'>\n",
      "<re.Match object; span=(0, 7), match='foo-bar'>\n",
      "None\n"
     ]
    }
   ],
   "source": [
    "print(re.search(r\"foo-?bar\", \"foo-bar\"))\n",
    "print(re.search(r\"foo-?bar\", \"foo--bar\"))\n",
    "print(re.search(r\"foo-?bar\", \"foobar\"))\n",
    "print(re.search(r\"fo(o-)?bar\", \"foo-bar\"))\n",
    "print(re.search(r\"fo(o-)?bar\", \"foobar\"))"
   ]
  },
  {
   "cell_type": "markdown",
   "id": "06223b54-25bd-4955-9f87-0f44ed5070e6",
   "metadata": {},
   "source": [
    "### `+` Más de una repetición\n",
    "Buscamos letras de la `a` a la `z`, justo después de `pattern`. ¿Cuántas? Más de una"
   ]
  },
  {
   "cell_type": "code",
   "execution_count": 70,
   "id": "ec14e5a0-c0b6-423a-921b-2188867f454f",
   "metadata": {},
   "outputs": [
    {
     "name": "stdout",
     "output_type": "stream",
     "text": [
      "<re.Match object; span=(19, 26), match='pattern'>\n",
      "<re.Match object; span=(19, 41), match='pattern in this string'>\n"
     ]
    }
   ],
   "source": [
    "s = \"I am looking for a pattern in this string\"\n",
    "print(re.search(r\"pat+ern\", s))\n",
    "print(re.search(r\"pattern[a-z\\s]+\", s))"
   ]
  },
  {
   "cell_type": "code",
   "execution_count": 69,
   "id": "f1f74f38-9c0d-426d-a99b-af810ce8422f",
   "metadata": {},
   "outputs": [
    {
     "name": "stdout",
     "output_type": "stream",
     "text": [
      "<re.Match object; span=(0, 13), match='patterntolook'>\n"
     ]
    }
   ],
   "source": [
    "s=\"patterntolook\"\n",
    "print(re.search(r\"pattern[a-z]+\", s))"
   ]
  },
  {
   "cell_type": "markdown",
   "id": "7913256a-3ccb-48f4-81da-66f2bec087d6",
   "metadata": {},
   "source": [
    "### {m, n} Match de m a n repeticiones\n",
    "Buscamos un caracter, o patrón que se repite seguidamente, entre m y n veces\n",
    "- `{m}` m repeticiones\n",
    "- `{m,}` al menos m repeticiones\n",
    "- `{m,n}` de m a n repeticiones"
   ]
  },
  {
   "cell_type": "code",
   "execution_count": 74,
   "id": "5982c6c9-cc03-4ead-9ad6-a94267ff2126",
   "metadata": {},
   "outputs": [
    {
     "name": "stdout",
     "output_type": "stream",
     "text": [
      "<re.Match object; span=(0, 5), match='x---x'>\n",
      "None\n",
      "<re.Match object; span=(0, 5), match='x---x'>\n",
      "<re.Match object; span=(0, 5), match='x---x'>\n"
     ]
    }
   ],
   "source": [
    "print(re.search(r\"x-{3}x\", \"x---x\"))\n",
    "print(re.search(r\"(x-){3}x\", \"x---x\"))\n",
    "print(re.search(r\"x-{3,}x\", \"x---x\"))\n",
    "print(re.search(r\"x-{2,4}x\", \"x---x\"))"
   ]
  },
  {
   "cell_type": "markdown",
   "id": "f7c83fbc-a959-471c-b7e0-d43f3002fbbe",
   "metadata": {},
   "source": [
    "### `\\b`, `\\B`"
   ]
  },
  {
   "cell_type": "code",
   "execution_count": 76,
   "id": "220007d9-9ef6-4dd1-a84d-676784b89099",
   "metadata": {},
   "outputs": [
    {
     "name": "stdout",
     "output_type": "stream",
     "text": [
      "<re.Match object; span=(4, 7), match='cat'>\n",
      "None\n",
      "<re.Match object; span=(41, 44), match='cat'>\n"
     ]
    }
   ],
   "source": [
    "s1 = \"The cat scattered his food all over the room.\"\n",
    "s2 = \"The scattered his food all over the room.\"\n",
    "s3 = \"The scattered his food all over the room cat.\"\n",
    "\n",
    "print(re.search(r\"\\bcat\\b\", s1))\n",
    "print(re.search(r\"\\bcat\\b\", s2))\n",
    "print(re.search(r\"\\bcat\\b\", s3))"
   ]
  },
  {
   "cell_type": "markdown",
   "id": "b8cfa8c0-fedb-4769-b39f-d7f5a6d364a7",
   "metadata": {},
   "source": [
    "## Otros\n",
    "### | Match de RegEx `a` or RegEx `b`"
   ]
  },
  {
   "cell_type": "code",
   "execution_count": 2,
   "id": "da18562f-8ed3-4c46-a280-469fbcf68019",
   "metadata": {},
   "outputs": [
    {
     "data": {
      "text/plain": [
       "['a10', 'A10', 'A1', 'A9', 'A10', 'C10']"
      ]
     },
     "execution_count": 2,
     "metadata": {},
     "output_type": "execute_result"
    }
   ],
   "source": [
    "import re\n",
    "lista = ['a10', 'A100', 'A10', 'A0', 'A1', 'A9', 'J4', 'K4', 'A10', 'C10', 'A11']\n",
    "[x for x in lista if re.search(r\"^[A-Ja-j][1,9]$|^[A-Ja-j]10$\", x)]"
   ]
  },
  {
   "cell_type": "code",
   "execution_count": 3,
   "id": "e4f92c7a-57d8-4e2a-adf0-f2fc9a58a17f",
   "metadata": {},
   "outputs": [
    {
     "data": {
      "text/plain": [
       "['a10', 'A10', 'A1', 'A9', 'A10', 'C10']"
      ]
     },
     "execution_count": 3,
     "metadata": {},
     "output_type": "execute_result"
    }
   ],
   "source": [
    "lista = ['a10', 'A100', 'A10', 'A0', 'A1', 'A9', 'J4', 'K4', 'A10', 'C10', 'A11']\n",
    "[x for x in lista if re.search(r\"^[A-Ja-j](10|[1,9])$\", x)]"
   ]
  },
  {
   "cell_type": "markdown",
   "id": "6c6f4a6a-177b-4105-a933-0062ae408e23",
   "metadata": {},
   "source": [
    "### HTML"
   ]
  },
  {
   "cell_type": "code",
   "execution_count": 74,
   "id": "bae353fc-b289-4db5-ba37-9a9ec49a999a",
   "metadata": {},
   "outputs": [
    {
     "name": "stdout",
     "output_type": "stream",
     "text": [
      "[' simple div']\n"
     ]
    }
   ],
   "source": [
    "s = \"This is a <div> simple div</div> test\"\n",
    "print(re.findall(r\"<div>(.*)</div>\", s))"
   ]
  },
  {
   "cell_type": "markdown",
   "id": "aa2326cc-9c4c-46bd-8680-c980bba705e5",
   "metadata": {},
   "source": [
    "### Deteccion de mail"
   ]
  },
  {
   "cell_type": "code",
   "execution_count": 77,
   "id": "6495d9ea-18e4-4f4c-988c-c1840bd22070",
   "metadata": {},
   "outputs": [
    {
     "name": "stdout",
     "output_type": "stream",
     "text": [
      "<re.Match object; span=(22, 39), match='support@thebridge'>\n"
     ]
    }
   ],
   "source": [
    "email_address = 'Please contact us at: support@thebridge.com\\n for any question'\n",
    "print(re.search(r\"[\\w\\.\\-]+@[A-za-z\\-\\.]+\\.[A-Za-z]+\", email_address))"
   ]
  },
  {
   "cell_type": "markdown",
   "id": "ccae60a2-7942-4dab-a807-ef18efe66829",
   "metadata": {},
   "source": [
    "#### Devuelve todas las ocurrencias"
   ]
  },
  {
   "cell_type": "code",
   "execution_count": 81,
   "id": "b7abaa0e-72e0-4b06-b6ee-203315437e0b",
   "metadata": {},
   "outputs": [
    {
     "name": "stdout",
     "output_type": "stream",
     "text": [
      "['support.data@data-science.com', 'xyz@thebridge.com']\n"
     ]
    }
   ],
   "source": [
    "email_address = \"Please contact us at: support.data@data-science.com, xyz@thebridge.com\"\n",
    "\n",
    "print(re.findall(r\"[\\w\\.\\-]+@[A-za-z\\-\\.]+\\.[A-Za-z]+\", email_address))"
   ]
  },
  {
   "cell_type": "markdown",
   "id": "1b28ae39-d86d-476d-afb7-975a7133f22d",
   "metadata": {},
   "source": [
    "#### Números de telefono"
   ]
  },
  {
   "cell_type": "code",
   "execution_count": 73,
   "id": "053e2aa5-e2ae-4508-8409-3d6a895cf03a",
   "metadata": {},
   "outputs": [
    {
     "data": {
      "text/plain": [
       "['34-739-941-941', '344-278-870-242', '34-999-876-292']"
      ]
     },
     "execution_count": 73,
     "metadata": {},
     "output_type": "execute_result"
    }
   ],
   "source": [
    "numeros = ['34-739-941-941', '344-278-870-242', '34-999-876-292', '34-(345-8877-949', '34_905-089-682']\n",
    "[x for x in numeros if re.search(r\"^[0-9]+-[\\d]\", x)]"
   ]
  },
  {
   "cell_type": "markdown",
   "id": "c099065e-f180-40c0-b888-8f18ad55c17c",
   "metadata": {},
   "source": [
    "#### Nombre de usuario\n",
    "Crea una expresion regular que valide si el nombre de usuario está bien escrito. Caracteres permitidos:\n",
    "- solo minuscula\n",
    "- numeros permitidos\n",
    "- barra baja\n",
    "- de 4 a 16 caracteres, ambos incluidos"
   ]
  },
  {
   "cell_type": "code",
   "execution_count": 87,
   "id": "38635d89-3e9c-43c5-8b69-3081424af13f",
   "metadata": {},
   "outputs": [
    {
     "data": {
      "text/plain": [
       "['dani', 'dani9', 'dani_']"
      ]
     },
     "execution_count": 87,
     "metadata": {},
     "output_type": "execute_result"
    }
   ],
   "source": [
    "users = ['Dani', 'dani', 'dani9', 'dani-', 'dani_', 'dAni_']\n",
    "[x for x in users if re.search(r\"^[a-z0-9_]{4,16}$\", x)]"
   ]
  },
  {
   "cell_type": "code",
   "execution_count": 88,
   "id": "70803e93-7e6a-427b-9008-f8c131d121d5",
   "metadata": {},
   "outputs": [
    {
     "data": {
      "text/plain": [
       "['dani', 'dani9', 'dani_']"
      ]
     },
     "execution_count": 88,
     "metadata": {},
     "output_type": "execute_result"
    }
   ],
   "source": [
    "[x for x in users if re.fullmatch(r\"[a-z0-9_]{4,16}\", x)]"
   ]
  },
  {
   "cell_type": "markdown",
   "id": "f0358c91-7f73-48ac-9685-afcab693f43f",
   "metadata": {},
   "source": [
    "### Pin cajeros\n",
    "Para validar el pin de un cajero, tenemos que comprobar que:\n",
    "- El pin se compone de 4 o 6 números\n",
    "- No está permitido caracteres"
   ]
  },
  {
   "cell_type": "code",
   "execution_count": 93,
   "id": "8a342108-ed42-431e-968d-df877b9cacf8",
   "metadata": {},
   "outputs": [
    {
     "data": {
      "text/plain": [
       "['1234', '123456']"
      ]
     },
     "execution_count": 93,
     "metadata": {},
     "output_type": "execute_result"
    }
   ],
   "source": [
    "users = ['12', 'a234', '1234', '123456', '12345', '1234a']\n",
    "[x for x in users if re.fullmatch(r\"\\d{4}|\\d{6}\", x)]"
   ]
  }
 ],
 "metadata": {
  "kernelspec": {
   "display_name": "Python 3",
   "language": "python",
   "name": "python3"
  },
  "language_info": {
   "codemirror_mode": {
    "name": "ipython",
    "version": 3
   },
   "file_extension": ".py",
   "mimetype": "text/x-python",
   "name": "python",
   "nbconvert_exporter": "python",
   "pygments_lexer": "ipython3",
   "version": "3.8.10"
  },
  "toc-autonumbering": false,
  "toc-showcode": false
 },
 "nbformat": 4,
 "nbformat_minor": 5
}
