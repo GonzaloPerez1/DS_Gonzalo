{
 "cells": [
  {
   "cell_type": "markdown",
   "id": "95edc4a7-e5bf-4484-87aa-f020d3b96ff0",
   "metadata": {},
   "source": [
    "# Ejercicios Regular Expression"
   ]
  },
  {
   "cell_type": "markdown",
   "id": "8fb989d0-8a48-4017-98dc-415e85452933",
   "metadata": {},
   "source": [
    "### Ejercicio 1\n",
    "Comprueba que los siguientes strings contienen `0xB0`, y que el resultado sea un booleano\n",
    "\n",
    "```Python\n",
    "line1 = 'start address: 0xA0, func1 address: 0xC0'\n",
    "line2 = 'end address: 0xFF, func2 address: 0xB0'\n",
    "```"
   ]
  },
  {
   "cell_type": "code",
   "execution_count": 3,
   "id": "5a3130fc-dc30-4c12-ab24-5f3500173148",
   "metadata": {},
   "outputs": [
    {
     "name": "stdout",
     "output_type": "stream",
     "text": [
      "False\n"
     ]
    },
    {
     "data": {
      "text/plain": [
       "True"
      ]
     },
     "execution_count": 3,
     "metadata": {},
     "output_type": "execute_result"
    }
   ],
   "source": [
    "line1 = 'start address: 0xA0, func1 address: 0xC0'\n",
    "line2 = 'end address: 0xFF, func2 address: 0xB0'\n",
    "print('0xB0' in line1)\n",
    "'0xB0' in line2"
   ]
  },
  {
   "cell_type": "markdown",
   "id": "88a7578d-f1b7-4a44-be5b-616da9ef0cbb",
   "metadata": {},
   "source": [
    "### Ejercicio 2\n",
    "Reemplaza `5` por `five`\n",
    "\n",
    "```Python\n",
    "ip = 'They ate 5 apples and 5 oranges'\n",
    "```"
   ]
  },
  {
   "cell_type": "code",
   "execution_count": 3,
   "id": "8324da62-8b91-42c3-8d6f-85e0ef47c511",
   "metadata": {},
   "outputs": [
    {
     "data": {
      "text/plain": [
       "'They ate five apples and five oranges'"
      ]
     },
     "execution_count": 3,
     "metadata": {},
     "output_type": "execute_result"
    }
   ],
   "source": []
  },
  {
   "cell_type": "markdown",
   "id": "8c26c3d3-b35a-499e-b09f-af1cf49704b3",
   "metadata": {},
   "source": [
    "### Ejercicio 3\n",
    "Filtra todos los elementos de la lista que no contentengan la letra `e`\n",
    "```Python\n",
    "items = ['goal', 'new', 'user', 'sit', 'eat', 'dinner']\n",
    "```"
   ]
  },
  {
   "cell_type": "code",
   "execution_count": 7,
   "id": "ec91cf37-2484-45bd-a412-ad0a582c97a1",
   "metadata": {},
   "outputs": [
    {
     "data": {
      "text/plain": [
       "['goal', 'sit']"
      ]
     },
     "execution_count": 7,
     "metadata": {},
     "output_type": "execute_result"
    }
   ],
   "source": []
  },
  {
   "cell_type": "markdown",
   "id": "4d86764e-31a9-4a40-9486-5ad0155ffe32",
   "metadata": {},
   "source": [
    "### Ejercicio 4\n",
    "Sustituye todas las ocurrencias de `note` por `X`, independientemente de las mayúsculas y minúsculas que haya en `note`: `note`, `Note`...\n",
    "```Python\n",
    "ip = 'This note should not be NoTeD'\n",
    "```\n"
   ]
  },
  {
   "cell_type": "code",
   "execution_count": 11,
   "id": "6f686441-ae09-45d1-aace-6712faa0a49b",
   "metadata": {},
   "outputs": [
    {
     "data": {
      "text/plain": [
       "'This X should not be XD'"
      ]
     },
     "execution_count": 11,
     "metadata": {},
     "output_type": "execute_result"
    }
   ],
   "source": []
  },
  {
   "cell_type": "markdown",
   "id": "4401d7ba-1b0c-4c47-b417-074b23e62db5",
   "metadata": {},
   "source": [
    "### Ejercicio 5\n",
    "Para cada linea del siguiente texto, imprimir por pantalla todas aquellas líneas que no contengan `start`, ya sea mayúscula o minúscula\n",
    "```Python\n",
    "para = '''good start\n",
    "Start working on that\n",
    "project you always wanted\n",
    "stars are shining brightly\n",
    "hi there\n",
    "start and try to\n",
    "finish the book\n",
    "bye'''\n",
    "```"
   ]
  },
  {
   "cell_type": "code",
   "execution_count": 12,
   "id": "89ffbf22-dc7f-4746-ada1-3ec0a05ea7b2",
   "metadata": {},
   "outputs": [
    {
     "name": "stdout",
     "output_type": "stream",
     "text": [
      "project you always wanted\n",
      "stars are shining brightly\n",
      "hi there\n",
      "finish the book\n",
      "bye\n"
     ]
    }
   ],
   "source": []
  },
  {
   "cell_type": "markdown",
   "id": "6894ca95-ab77-4adf-ab2a-7bb7ac7d0984",
   "metadata": {},
   "source": [
    "### Ejercicio 6\n",
    "Filtrar todos los elementos que contengan `a` o `w`\n",
    "\n",
    "```Python\n",
    "items = ['goal', 'new', 'user', 'sit', 'eat', 'dinner']\n",
    "```"
   ]
  },
  {
   "cell_type": "code",
   "execution_count": 59,
   "id": "635c3ec4-99b4-4f94-b608-43e833aa804f",
   "metadata": {},
   "outputs": [
    {
     "data": {
      "text/plain": [
       "['goal', 'new', 'eat']"
      ]
     },
     "execution_count": 59,
     "metadata": {},
     "output_type": "execute_result"
    }
   ],
   "source": []
  },
  {
   "cell_type": "markdown",
   "id": "67b56f01-36d6-43bd-a13f-8a4919f395a7",
   "metadata": {},
   "source": [
    "### Ejercicio 7\n",
    "Filtrar todos los elementos que contengan `e` Y `n`\n",
    "\n",
    "```Python\n",
    "items = ['goal', 'new', 'user', 'sit', 'eat', 'dinner']\n",
    "```"
   ]
  },
  {
   "cell_type": "code",
   "execution_count": 61,
   "id": "4320fef0-472a-420b-accc-09e86c421d6b",
   "metadata": {},
   "outputs": [
    {
     "data": {
      "text/plain": [
       "['new', 'dinner']"
      ]
     },
     "execution_count": 61,
     "metadata": {},
     "output_type": "execute_result"
    }
   ],
   "source": []
  },
  {
   "cell_type": "markdown",
   "id": "8b65282a-1481-488f-bbd4-d9ec251a34f3",
   "metadata": {},
   "source": [
    "### Ejercicio 8\n",
    "Reemplaza todos los `0xA0` por `0x7F` y los `0xC0` por `0x1F`\n",
    "\n",
    "```Python\n",
    "ip = 'start address: 0xA0, func1 address: 0xC0'\n",
    "```"
   ]
  },
  {
   "cell_type": "code",
   "execution_count": 29,
   "id": "103e3dc1-b3c9-44c8-8036-d2e4424cace3",
   "metadata": {},
   "outputs": [
    {
     "data": {
      "text/plain": [
       "'start address: 0x7F, func1 address: 0x1F'"
      ]
     },
     "execution_count": 29,
     "metadata": {},
     "output_type": "execute_result"
    }
   ],
   "source": []
  },
  {
   "cell_type": "markdown",
   "id": "2ab6b641-d72d-4bde-8fb1-4f5fa96e43c5",
   "metadata": {},
   "source": [
    "### Ejercicio 9\n",
    "Comprueba que los sigueintes strings empiezan por `be`\n",
    "\n",
    "```Python\n",
    "line1 = 'be nice'\n",
    "line2 = '\"best!\"'\n",
    "line3 = 'better?'\n",
    "line4 = 'oh no\\nbear spotted'\n",
    "```"
   ]
  },
  {
   "cell_type": "code",
   "execution_count": 64,
   "id": "b52d969a-2a30-4bc7-9c71-b0d3db00e131",
   "metadata": {},
   "outputs": [
    {
     "name": "stdout",
     "output_type": "stream",
     "text": [
      "<re.Match object; span=(0, 2), match='be'>\n",
      "None\n",
      "<re.Match object; span=(0, 2), match='be'>\n",
      "None\n"
     ]
    }
   ],
   "source": []
  },
  {
   "cell_type": "markdown",
   "id": "798949ee-7a73-4a85-9866-1490bee095f4",
   "metadata": {},
   "source": [
    "### Ejercicio 10\n",
    "Cambia únicamente la palabra entera `red` por `brown`\n",
    "\n",
    "```Python\n",
    "words = 'bred red spread credible'\n",
    "```"
   ]
  },
  {
   "cell_type": "code",
   "execution_count": 26,
   "id": "f4b9b109-2427-4e45-b5bf-8c22858b62e2",
   "metadata": {},
   "outputs": [
    {
     "data": {
      "text/plain": [
       "'brown bred brown spread credible'"
      ]
     },
     "execution_count": 26,
     "metadata": {},
     "output_type": "execute_result"
    }
   ],
   "source": []
  },
  {
   "cell_type": "markdown",
   "id": "dc815720-01f0-4bca-af38-5148515cdebc",
   "metadata": {},
   "source": [
    "### Ejercicio 11\n",
    "Filtrar todos los elementos de la lista que contengan un `42` rodeado de caracteres alfanuméricos\n",
    "\n",
    "```Python\n",
    "words = ['hi42bye', 'nice1423', 'bad42', 'cool_42a', 'fake4b']\n",
    "```"
   ]
  },
  {
   "cell_type": "code",
   "execution_count": 38,
   "id": "4ca8cfe1-f223-482a-8f9a-d15d4b9e8f7e",
   "metadata": {},
   "outputs": [
    {
     "data": {
      "text/plain": [
       "['hi427ye', 'nice1423', 'cool_42a']"
      ]
     },
     "execution_count": 38,
     "metadata": {},
     "output_type": "execute_result"
    }
   ],
   "source": []
  },
  {
   "cell_type": "markdown",
   "id": "33d6498d-f638-4597-9d06-43f8ce80f44b",
   "metadata": {},
   "source": [
    "### Ejercicio 12\n",
    "Filtra todos los elementos que empiecen por `den` y acaben con `ly`\n",
    "\n",
    "```Python\n",
    "items = ['lovely', '1\\ndentist', '2 lonely', 'eden', 'fly\\n', 'dent']\n",
    "```"
   ]
  },
  {
   "cell_type": "code",
   "execution_count": 47,
   "id": "0809f09d-32b9-4640-b7ff-217091b8c305",
   "metadata": {},
   "outputs": [
    {
     "data": {
      "text/plain": [
       "['lovely', '2 lonely', 'dent']"
      ]
     },
     "execution_count": 47,
     "metadata": {},
     "output_type": "execute_result"
    }
   ],
   "source": []
  },
  {
   "cell_type": "markdown",
   "id": "0b356ccb-5091-457b-b668-fe1336098659",
   "metadata": {},
   "source": [
    "### Ejercicio 13\n",
    "Sustituye todos los `mall` por `123`, sólo si `mall` es principio de línea\n",
    "\n",
    "```Python\n",
    "para = '''\n",
    "ball fall wall tall\n",
    "mall call ball pall\n",
    "wall mall ball fall\n",
    "mallet wallet malls'''\n",
    "```"
   ]
  },
  {
   "cell_type": "code",
   "execution_count": 51,
   "id": "e0d4d5ee-5e4e-4cfd-aed5-0ae72c5ca819",
   "metadata": {},
   "outputs": [
    {
     "name": "stdout",
     "output_type": "stream",
     "text": [
      "\n",
      "ball fall wall tall\n",
      "123 call ball pall\n",
      "wall mall ball fall\n",
      "123et wallet malls\n"
     ]
    }
   ],
   "source": []
  },
  {
   "cell_type": "markdown",
   "id": "4487ec31-92ba-4377-8c9b-f55b25423887",
   "metadata": {},
   "source": [
    "### Ejercicio 14\n",
    "Reemplaza `hand` por `X` en todos los elementos que empiecen por `hand`, seguidos de un caracter de palabra\n",
    "\n",
    "```Python\n",
    "items = ['handed', 'hand', 'handy', 'unhanded', 'handle', 'hand-2']\n",
    "```"
   ]
  },
  {
   "cell_type": "code",
   "execution_count": 67,
   "id": "d173f90b-6291-4cd4-800f-dcc44a9ad86d",
   "metadata": {},
   "outputs": [
    {
     "data": {
      "text/plain": [
       "['Xed', 'hand', 'Xy', 'unhanded', 'Xle', 'hand-2']"
      ]
     },
     "execution_count": 67,
     "metadata": {},
     "output_type": "execute_result"
    }
   ],
   "source": []
  },
  {
   "cell_type": "markdown",
   "id": "caedbf90-3351-4dcd-a713-a877e4a95fd9",
   "metadata": {},
   "source": [
    "### Ejercicio 15\n",
    "Filtra todos los elementos que empiecen por `hand`. Además, reemplaza `e` por `X` en los elementos filtrados\n",
    "\n",
    "```Python\n",
    "items = ['handed', 'hand', 'handy', 'unhanded', 'handle', 'hand-2']\n",
    "```"
   ]
  },
  {
   "cell_type": "code",
   "execution_count": 70,
   "id": "c41eaf68-5efb-49e6-b963-757a45027c36",
   "metadata": {},
   "outputs": [
    {
     "data": {
      "text/plain": [
       "['handXd', 'hand', 'handy', 'handlX', 'hand-2']"
      ]
     },
     "execution_count": 70,
     "metadata": {},
     "output_type": "execute_result"
    }
   ],
   "source": []
  },
  {
   "cell_type": "markdown",
   "id": "87126615-358b-4b4f-ba63-40f04fa17848",
   "metadata": {},
   "source": [
    "### Ejercicio 16\n",
    "Para la siguiente lista filtra todos los elementos que empiecen por `den` o terminen en `ly`\n",
    "```Python\n",
    "items = ['lovely', '1\\ndentist', '2 lonely', 'eden', 'fly\\n', 'dent']\n",
    "```"
   ]
  },
  {
   "cell_type": "code",
   "execution_count": 15,
   "id": "78187b82-ad7e-44ba-9d9e-e9fc9c5cae4e",
   "metadata": {},
   "outputs": [
    {
     "data": {
      "text/plain": [
       "['lovely', '2 lonely', 'dent']"
      ]
     },
     "execution_count": 15,
     "metadata": {},
     "output_type": "execute_result"
    }
   ],
   "source": []
  },
  {
   "cell_type": "markdown",
   "id": "839c6325-bfcf-4b88-981f-74496e6d5f8e",
   "metadata": {},
   "source": [
    "### Ejercicio 17\n",
    "Sustituye todas las ocurrencias de `removed`, `reed`, `received` o `refused` por X\n",
    "```Python\n",
    "s1 = 'creed refuse removed read'\n",
    "s2 = 'refused reed redo received'\n",
    "```"
   ]
  },
  {
   "cell_type": "code",
   "execution_count": 18,
   "id": "e72a5548-9158-4254-9d9f-0435e75fb127",
   "metadata": {},
   "outputs": [
    {
     "name": "stdout",
     "output_type": "stream",
     "text": [
      "cX refuse X read\n",
      "X X redo X\n"
     ]
    }
   ],
   "source": []
  },
  {
   "cell_type": "markdown",
   "id": "042dba07-668b-4c7b-9fb9-1f704019b709",
   "metadata": {},
   "source": [
    "### Ejercicio 18\n",
    "Reemplaza todas las ocurrencias de las palabras de la lista `words` por `A`\n",
    "```Python\n",
    "s1 = 'plate full of slate'\n",
    "s2 = \"slated for later, don't be late\"\n",
    "words = ['late', 'later', 'slated']\n",
    "```"
   ]
  },
  {
   "cell_type": "code",
   "execution_count": 32,
   "id": "6c5fa6be-ecb1-4bd6-b5f0-af933102e564",
   "metadata": {},
   "outputs": [
    {
     "name": "stdout",
     "output_type": "stream",
     "text": [
      "pA full of sA\n",
      "A for A, don't be A\n"
     ]
    }
   ],
   "source": []
  },
  {
   "cell_type": "markdown",
   "id": "e5b51eb9-e039-4e2c-9627-1c49a88c4a53",
   "metadata": {},
   "source": [
    "### Ejercicio 19\n",
    "Filtra todos los elementos de la lista `items`, basándote en los elementos de la lista `words`\n",
    "```Python\n",
    "items = ['slate', 'later', 'plate', 'late', 'slates', 'slated ']\n",
    "words = ['late', 'later', 'slated']\n",
    "```"
   ]
  },
  {
   "cell_type": "code",
   "execution_count": 48,
   "id": "2fbcda30-50b0-4e07-b163-1f18c6ec6596",
   "metadata": {},
   "outputs": [
    {
     "name": "stdout",
     "output_type": "stream",
     "text": [
      "re.compile('\\\\Aslated\\\\Z|\\\\Alater\\\\Z|\\\\Alate\\\\Z')\n"
     ]
    },
    {
     "data": {
      "text/plain": [
       "['later', 'late']"
      ]
     },
     "execution_count": 48,
     "metadata": {},
     "output_type": "execute_result"
    }
   ],
   "source": []
  },
  {
   "cell_type": "markdown",
   "id": "e7f89b01-c43d-473c-a197-093f94623d39",
   "metadata": {},
   "source": [
    "### Ejercicio 20\n",
    "Sustituye `(4)\\|` por `2`, sólo al principio o al final de cada string\n",
    "```Python\n",
    "s1 = r'2.3/(4)\\|6 foo 5.3-(4)\\|'\n",
    "s2 = r'(4)\\|42 - (4)\\|3'\n",
    "s3 = 'two - (4)\\\\|\\n'\n",
    "```"
   ]
  },
  {
   "cell_type": "code",
   "execution_count": 57,
   "id": "7e1166b2-005a-46bd-969a-fbecd0647a5c",
   "metadata": {},
   "outputs": [
    {
     "name": "stdout",
     "output_type": "stream",
     "text": [
      "2.3/(4)\\|6 foo 5.3-2\n",
      "242 - (4)\\|3\n",
      "two - (4)\\|\n",
      "\n"
     ]
    }
   ],
   "source": []
  },
  {
   "cell_type": "markdown",
   "id": "f5a860bc-51ae-40db-a0ce-4a5ab2783229",
   "metadata": {},
   "source": [
    "Para más ejercicios: https://github.com/learnbyexample/py_regular_expressions/blob/master/exercises/Exercises.md#escaping-metacharacters"
   ]
  }
 ],
 "metadata": {
  "kernelspec": {
   "display_name": "Python 3",
   "language": "python",
   "name": "python3"
  },
  "language_info": {
   "codemirror_mode": {
    "name": "ipython",
    "version": 3
   },
   "file_extension": ".py",
   "mimetype": "text/x-python",
   "name": "python",
   "nbconvert_exporter": "python",
   "pygments_lexer": "ipython3",
   "version": "3.8.10"
  }
 },
 "nbformat": 4,
 "nbformat_minor": 5
}
