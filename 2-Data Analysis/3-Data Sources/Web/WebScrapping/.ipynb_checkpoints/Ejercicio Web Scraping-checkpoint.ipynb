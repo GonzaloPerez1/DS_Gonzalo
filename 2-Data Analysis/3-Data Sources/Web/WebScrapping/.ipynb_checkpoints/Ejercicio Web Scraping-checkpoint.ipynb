{
 "cells": [
  {
   "cell_type": "markdown",
   "metadata": {},
   "source": [
    "El otro día fuiste a comprar la Thermomix del Lidl pero, se habían agotado... total que ya te habías calentau y te acabas comprando la original, la buena, la última, la TM6. Y hoy quieres estrenarla, pero ayer cenaste con unos amigos en casa y tienes una resaca importante.\n",
    "\n",
    "Os sobró algo de vino de la cena (tampoco mucho...), y quieres utilizarlo en tu receta."
   ]
  },
  {
   "cell_type": "markdown",
   "metadata": {},
   "source": [
    "Busca recetas con vino de la pagina www.recetario.es"
   ]
  },
  {
   "cell_type": "code",
   "execution_count": 1,
   "metadata": {},
   "outputs": [],
   "source": []
  },
  {
   "cell_type": "markdown",
   "metadata": {},
   "source": [
    "![filtros](filtros.png)\n",
    "\n",
    "Aquí podemos encontrar distintos filtros para aplicar a las recetas. Al no estar muy católico y ser la primera vez que utilizas la maquina quieres solamente las recetas de dificultad baja y tiempo menos de 60 minutos"
   ]
  },
  {
   "cell_type": "code",
   "execution_count": null,
   "metadata": {},
   "outputs": [],
   "source": []
  },
  {
   "cell_type": "markdown",
   "metadata": {},
   "source": [
    "De cada receta quieres quedarte con: el titulo de la receta, las estrellas y los votos, el numero de porciones, el tiempo y el link a la receta. Ten en cuenta que las recetas se encuentran en varias paginas."
   ]
  },
  {
   "cell_type": "code",
   "execution_count": null,
   "metadata": {},
   "outputs": [],
   "source": []
  }
 ],
 "metadata": {
  "kernelspec": {
   "display_name": "Python 3",
   "language": "python",
   "name": "python3"
  },
  "language_info": {
   "codemirror_mode": {
    "name": "ipython",
    "version": 3
   },
   "file_extension": ".py",
   "mimetype": "text/x-python",
   "name": "python",
   "nbconvert_exporter": "python",
   "pygments_lexer": "ipython3",
   "version": "3.8.10"
  },
  "nbTranslate": {
   "displayLangs": [
    "*"
   ],
   "hotkey": "alt-t",
   "langInMainMenu": true,
   "sourceLang": "en",
   "targetLang": "fr",
   "useGoogleTranslate": true
  },
  "varInspector": {
   "cols": {
    "lenName": 16,
    "lenType": 16,
    "lenVar": 40
   },
   "kernels_config": {
    "python": {
     "delete_cmd_postfix": "",
     "delete_cmd_prefix": "del ",
     "library": "var_list.py",
     "varRefreshCmd": "print(var_dic_list())"
    },
    "r": {
     "delete_cmd_postfix": ") ",
     "delete_cmd_prefix": "rm(",
     "library": "var_list.r",
     "varRefreshCmd": "cat(var_dic_list()) "
    }
   },
   "types_to_exclude": [
    "module",
    "function",
    "builtin_function_or_method",
    "instance",
    "_Feature"
   ],
   "window_display": false
  }
 },
 "nbformat": 4,
 "nbformat_minor": 4
}
