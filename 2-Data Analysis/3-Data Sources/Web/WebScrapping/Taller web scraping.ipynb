{
 "cells": [
  {
   "cell_type": "markdown",
   "metadata": {},
   "source": [
    "Vamos a ver como hacer un web scraping con selenium"
   ]
  },
  {
   "cell_type": "markdown",
   "metadata": {},
   "source": [
    "Lo primero que tenemos que hacer es activar el manejador para eso tenemos que tener instalado el chromedriver"
   ]
  },
  {
   "cell_type": "code",
   "execution_count": 1,
   "metadata": {
    "ExecuteTime": {
     "end_time": "2021-02-26T12:16:59.303652Z",
     "start_time": "2021-02-26T12:16:59.300657Z"
    }
   },
   "outputs": [],
   "source": [
    "import pandas as pd\n",
    "from selenium import webdriver\n"
   ]
  },
  {
   "cell_type": "code",
   "execution_count": 149,
   "metadata": {
    "ExecuteTime": {
     "end_time": "2021-02-26T12:17:06.046221Z",
     "start_time": "2021-02-26T12:17:02.644470Z"
    }
   },
   "outputs": [],
   "source": [
    "driver = '/home/gonzalo/Documentos/Data_Science/geckodriver-web_scrapping/geckodriver'\n",
    "\n",
    "options = webdriver.FirefoxOptions()\n",
    "#options.add_argument('headless') #Se utiliza para no sacar la ventana de chrome\n",
    "\n",
    "driver = webdriver.Firefox(executable_path = driver, options = options)\n",
    "\n",
    "url = 'https://www.filmaffinity.com'\n",
    "driver.get(url)"
   ]
  },
  {
   "cell_type": "markdown",
   "metadata": {},
   "source": [
    "El objeto driver es con el que trabajaremos a partir de ahora aqui le indicaremos que pagina queremos scrapear"
   ]
  },
  {
   "cell_type": "code",
   "execution_count": null,
   "metadata": {
    "ExecuteTime": {
     "end_time": "2021-02-26T10:22:46.333679Z",
     "start_time": "2021-02-26T10:22:45.178780Z"
    }
   },
   "outputs": [],
   "source": [
    "url = 'https://www.filmaffinity.com'\n",
    "driver.get(url)"
   ]
  },
  {
   "cell_type": "markdown",
   "metadata": {},
   "source": [
    "Nos hemos encontrado con un pop-up que nos queremos saltar.\n",
    "- Buscamos el botón\n",
    "- Hacemos click en el botón\n",
    "\n",
    "selenium nos permite buscar elementos por etiqueteas de html: https://selenium-python.readthedocs.io/locating-elements.html\n",
    "\n",
    "CUIDADO! Los metodos de busqueda de elementos estan \"duplicados\". Tenemos *find_element_by_tag_name* y *find_elements_by_tag_name* el primero nos devolverá el primer elemento que encuentre (aunque haya más), el segundo nos devolverá una lista con todos los elementos que encuentre (aunque solo sea uno)"
   ]
  },
  {
   "cell_type": "code",
   "execution_count": 150,
   "metadata": {
    "ExecuteTime": {
     "end_time": "2021-02-26T10:22:48.546287Z",
     "start_time": "2021-02-26T10:22:48.489040Z"
    }
   },
   "outputs": [],
   "source": [
    "elements_by_tag = driver.find_elements_by_tag_name('button')"
   ]
  },
  {
   "cell_type": "code",
   "execution_count": 31,
   "metadata": {},
   "outputs": [],
   "source": [
    "elements_by_class = driver.find_elements_by_class_name('css-v43ltw')"
   ]
  },
  {
   "cell_type": "code",
   "execution_count": 41,
   "metadata": {},
   "outputs": [],
   "source": [
    "elements_by_xpath = driver.find_element_by_xpath('/html/body/div[1]/div/div/div/div[2]/div/button[2]')"
   ]
  },
  {
   "cell_type": "markdown",
   "metadata": {},
   "source": [
    "Una vez tenemos los elementos podemos hacer varias cosas con ellos"
   ]
  },
  {
   "cell_type": "markdown",
   "metadata": {},
   "source": [
    "Podemos extraer todos los atributos que tenga"
   ]
  },
  {
   "cell_type": "code",
   "execution_count": 22,
   "metadata": {
    "ExecuteTime": {
     "end_time": "2021-02-26T10:22:51.542538Z",
     "start_time": "2021-02-26T10:22:51.508077Z"
    }
   },
   "outputs": [
    {
     "name": "stdout",
     "output_type": "stream",
     "text": [
      "None\n",
      "MÁS OPCIONES\n",
      "ACEPTO\n"
     ]
    }
   ],
   "source": [
    "for boton in elements_by_tag:\n",
    "    print(boton.get_attribute('aria-label'))"
   ]
  },
  {
   "cell_type": "code",
   "execution_count": 34,
   "metadata": {},
   "outputs": [
    {
     "name": "stdout",
     "output_type": "stream",
     "text": [
      "ACEPTO\n"
     ]
    }
   ],
   "source": [
    "for boton in elements_by_class:\n",
    "    print(boton.get_attribute('aria-label'))"
   ]
  },
  {
   "cell_type": "code",
   "execution_count": 44,
   "metadata": {},
   "outputs": [
    {
     "data": {
      "text/plain": [
       "'ACEPTO'"
      ]
     },
     "execution_count": 44,
     "metadata": {},
     "output_type": "execute_result"
    }
   ],
   "source": [
    "elements_by_xpath.get_attribute('aria-label')"
   ]
  },
  {
   "cell_type": "markdown",
   "metadata": {},
   "source": [
    "Podemos evaluar que tipo de elemento es (tag)"
   ]
  },
  {
   "cell_type": "code",
   "execution_count": 23,
   "metadata": {
    "ExecuteTime": {
     "end_time": "2021-02-26T10:22:53.325430Z",
     "start_time": "2021-02-26T10:22:53.306520Z"
    }
   },
   "outputs": [
    {
     "name": "stdout",
     "output_type": "stream",
     "text": [
      "button\n",
      "button\n",
      "button\n"
     ]
    }
   ],
   "source": [
    "for boton in elements_by_tag:\n",
    "    print(boton.tag_name)"
   ]
  },
  {
   "cell_type": "code",
   "execution_count": 35,
   "metadata": {},
   "outputs": [
    {
     "name": "stdout",
     "output_type": "stream",
     "text": [
      "button\n"
     ]
    }
   ],
   "source": [
    "for boton in elements_by_class:\n",
    "    print(boton.tag_name)"
   ]
  },
  {
   "cell_type": "markdown",
   "metadata": {},
   "source": [
    "Podemos sacar el valor que tiene (el texto)"
   ]
  },
  {
   "cell_type": "code",
   "execution_count": 40,
   "metadata": {
    "ExecuteTime": {
     "end_time": "2021-02-26T10:22:54.583190Z",
     "start_time": "2021-02-26T10:22:54.553596Z"
    }
   },
   "outputs": [
    {
     "name": "stdout",
     "output_type": "stream",
     "text": [
      "ACEPTO\n",
      "ACEPTO\n"
     ]
    }
   ],
   "source": [
    "print(elements_by_tag[2].text)\n",
    "print(elements_by_class[0].text)"
   ]
  },
  {
   "cell_type": "markdown",
   "metadata": {},
   "source": [
    "Incluso podemos guardar una imagen del elemento"
   ]
  },
  {
   "cell_type": "code",
   "execution_count": 47,
   "metadata": {
    "ExecuteTime": {
     "end_time": "2021-02-26T10:24:41.830050Z",
     "start_time": "2021-02-26T10:24:41.510086Z"
    }
   },
   "outputs": [
    {
     "data": {
      "text/plain": [
       "True"
      ]
     },
     "execution_count": 47,
     "metadata": {},
     "output_type": "execute_result"
    }
   ],
   "source": [
    "elements_by_tag[1].screenshot('segundo_boton.png')"
   ]
  },
  {
   "cell_type": "markdown",
   "metadata": {
    "ExecuteTime": {
     "end_time": "2021-02-25T09:56:21.322475Z",
     "start_time": "2021-02-25T09:56:21.318715Z"
    }
   },
   "source": [
    "Evaluemos que elementos hemos encontrado por el tag"
   ]
  },
  {
   "cell_type": "code",
   "execution_count": 117,
   "metadata": {
    "ExecuteTime": {
     "end_time": "2021-02-25T10:40:47.561469Z",
     "start_time": "2021-02-25T10:40:46.812684Z"
    }
   },
   "outputs": [
    {
     "name": "stdout",
     "output_type": "stream",
     "text": [
      "Elemento:  0\n",
      "Este elemento tiene este texto: socios\n",
      "Este elemento tiene este tag: button\n",
      "Elemento:  1\n",
      "Este elemento tiene este texto: MÁS OPCIONES\n",
      "Este elemento tiene este tag: button\n",
      "Elemento:  2\n",
      "Este elemento tiene este texto: ACEPTO\n",
      "Este elemento tiene este tag: button\n"
     ]
    }
   ],
   "source": []
  },
  {
   "cell_type": "markdown",
   "metadata": {},
   "source": [
    "Nos quedamos con el boton que nos interesa"
   ]
  },
  {
   "cell_type": "code",
   "execution_count": 151,
   "metadata": {
    "ExecuteTime": {
     "end_time": "2021-02-26T10:24:47.302978Z",
     "start_time": "2021-02-26T10:24:47.291261Z"
    }
   },
   "outputs": [],
   "source": [
    "boton_aceptar = elements_by_tag[2]"
   ]
  },
  {
   "cell_type": "markdown",
   "metadata": {},
   "source": [
    "Si el elemento es interactivo podremos hacer más cosas además de las anteriores. Como hacer click"
   ]
  },
  {
   "cell_type": "code",
   "execution_count": 152,
   "metadata": {
    "ExecuteTime": {
     "end_time": "2021-02-26T10:24:48.611716Z",
     "start_time": "2021-02-26T10:24:48.390430Z"
    }
   },
   "outputs": [],
   "source": [
    "boton_aceptar.click()"
   ]
  },
  {
   "cell_type": "markdown",
   "metadata": {},
   "source": [
    "Buscamos una pelicula"
   ]
  },
  {
   "cell_type": "code",
   "execution_count": 65,
   "metadata": {
    "ExecuteTime": {
     "end_time": "2021-02-26T10:28:14.592155Z",
     "start_time": "2021-02-26T10:28:13.509998Z"
    }
   },
   "outputs": [],
   "source": [
    "buscador = driver.find_element_by_id('top-search-input')\n",
    "buscador.clear()\n",
    "# Opción 1\n",
    "buscador.send_keys('El gran lebowski')\n",
    "#buscador.send_keys('El gran lebowski\\n') #\\n para buscar\n",
    "#buscador.submit()\n",
    "# Opción 2\n",
    "from selenium.webdriver.common.keys import Keys\n",
    "buscador.send_keys(Keys.ENTER)"
   ]
  },
  {
   "cell_type": "markdown",
   "metadata": {
    "ExecuteTime": {
     "end_time": "2021-02-25T10:09:19.308961Z",
     "start_time": "2021-02-25T10:09:19.299983Z"
    }
   },
   "source": [
    "Vamos a buscar todas las peliculas que se estrenan el proximos viernes"
   ]
  },
  {
   "cell_type": "markdown",
   "metadata": {},
   "source": [
    "1. Nos cogemos los containers que hay en la zona central"
   ]
  },
  {
   "cell_type": "code",
   "execution_count": 268,
   "metadata": {
    "scrolled": true
   },
   "outputs": [
    {
     "data": {
      "text/html": [
       "<div>\n",
       "<style scoped>\n",
       "    .dataframe tbody tr th:only-of-type {\n",
       "        vertical-align: middle;\n",
       "    }\n",
       "\n",
       "    .dataframe tbody tr th {\n",
       "        vertical-align: top;\n",
       "    }\n",
       "\n",
       "    .dataframe thead th {\n",
       "        text-align: right;\n",
       "    }\n",
       "</style>\n",
       "<table border=\"1\" class=\"dataframe\">\n",
       "  <thead>\n",
       "    <tr style=\"text-align: right;\">\n",
       "      <th></th>\n",
       "      <th>index</th>\n",
       "      <th>Título original</th>\n",
       "      <th>Año</th>\n",
       "      <th>Duración</th>\n",
       "      <th>País</th>\n",
       "      <th>Dirección</th>\n",
       "      <th>Guion</th>\n",
       "      <th>Música</th>\n",
       "      <th>Fotografía</th>\n",
       "      <th>Reparto</th>\n",
       "      <th>Productora</th>\n",
       "      <th>Género</th>\n",
       "      <th>Grupos</th>\n",
       "      <th>Sinopsis</th>\n",
       "      <th></th>\n",
       "    </tr>\n",
       "  </thead>\n",
       "  <tbody>\n",
       "    <tr>\n",
       "      <th>0</th>\n",
       "      <td>La Purga: Infinita</td>\n",
       "      <td>The Forever Purge</td>\n",
       "      <td>2021</td>\n",
       "      <td>103 min.</td>\n",
       "      <td>Estados Unidos</td>\n",
       "      <td>Everardo Gout</td>\n",
       "      <td>James DeMonaco</td>\n",
       "      <td>The Newton Brothers</td>\n",
       "      <td>Luis David Sansans</td>\n",
       "      <td>Ana de la Reguera, Tenoch Huerta, Josh Lucas, ...</td>\n",
       "      <td>Blumhouse Productions, Man in a Tree, Perfect ...</td>\n",
       "      <td>Thriller. Terror. Acción | Secuela. Distopía. ...</td>\n",
       "      <td>Blumhouse Productions | The Purge</td>\n",
       "      <td>Para los miembros de un movimiento clandestino...</td>\n",
       "      <td>NaN</td>\n",
       "    </tr>\n",
       "    <tr>\n",
       "      <th>0</th>\n",
       "      <td>Peter Rabbit 2: A la fuga</td>\n",
       "      <td>Peter Rabbit 2: The Runaway</td>\n",
       "      <td>2021</td>\n",
       "      <td>93 min.</td>\n",
       "      <td>Estados Unidos</td>\n",
       "      <td>Will Gluck</td>\n",
       "      <td>Patrick Burleigh, Will Gluck. Libros: Beatrix ...</td>\n",
       "      <td>Dominic Lewis</td>\n",
       "      <td>Animación, Peter Menzies Jr.</td>\n",
       "      <td>Animación, Domhnall Gleeson, Rose Byrne, David...</td>\n",
       "      <td>Coproducción Estados Unidos-Australia; Animal ...</td>\n",
       "      <td>Animación. Comedia. Aventuras. Infantil | Anim...</td>\n",
       "      <td>NaN</td>\n",
       "      <td>¡El jardín fue solo el principio! Peter y sus ...</td>\n",
       "      <td>NaN</td>\n",
       "    </tr>\n",
       "    <tr>\n",
       "      <th>0</th>\n",
       "      <td>Una canción irlandesa</td>\n",
       "      <td>Wild Mountain Thyme</td>\n",
       "      <td>2020</td>\n",
       "      <td>102 min.</td>\n",
       "      <td>Reino Unido</td>\n",
       "      <td>John Patrick Shanley</td>\n",
       "      <td>John Patrick Shanley. Obra: John Patrick Shanley</td>\n",
       "      <td>Amelia Warner</td>\n",
       "      <td>Stephen Goldblatt</td>\n",
       "      <td>Emily Blunt, Jamie Dornan, Jon Hamm, Christoph...</td>\n",
       "      <td>Coproducción Reino Unido-Estados Unidos; Likel...</td>\n",
       "      <td>Romance. Drama | Drama romántico</td>\n",
       "      <td>NaN</td>\n",
       "      <td>Anthony y Rosemary son dos amantes irlandeses ...</td>\n",
       "      <td>NaN</td>\n",
       "    </tr>\n",
       "    <tr>\n",
       "      <th>0</th>\n",
       "      <td>Ama</td>\n",
       "      <td>Ama</td>\n",
       "      <td>2021</td>\n",
       "      <td>90 min.</td>\n",
       "      <td>España</td>\n",
       "      <td>Júlia De Paz Solvas</td>\n",
       "      <td>Nuria Dunjó, Júlia De Paz Solvas</td>\n",
       "      <td>Martín Sorozabal</td>\n",
       "      <td>Sandra Roca</td>\n",
       "      <td>Tamara Casellas, Leire Marin Vara, Estefanía d...</td>\n",
       "      <td>La Dalia Films</td>\n",
       "      <td>Drama | Maternidad</td>\n",
       "      <td>NaN</td>\n",
       "      <td>Cuenta la historia de muchas mujeres expuestas...</td>\n",
       "      <td>NaN</td>\n",
       "    </tr>\n",
       "    <tr>\n",
       "      <th>0</th>\n",
       "      <td>La mujer que escapó</td>\n",
       "      <td>Domangchin yeoja aka</td>\n",
       "      <td>2020</td>\n",
       "      <td>77 min.</td>\n",
       "      <td>Corea del Sur</td>\n",
       "      <td>Hong Sang-soo</td>\n",
       "      <td>Hong Sang-soo</td>\n",
       "      <td>Hong Sang-soo</td>\n",
       "      <td>Kim Sumin</td>\n",
       "      <td>Kim Min-hee, Seo Young-hwa, Song Seon-mi, Kwon...</td>\n",
       "      <td>Jeonwonsa Film</td>\n",
       "      <td>Drama</td>\n",
       "      <td>NaN</td>\n",
       "      <td>Mientras su marido está en un viaje de negocio...</td>\n",
       "      <td></td>\n",
       "    </tr>\n",
       "    <tr>\n",
       "      <th>0</th>\n",
       "      <td>Las apariencias</td>\n",
       "      <td>Les apparences</td>\n",
       "      <td>2020</td>\n",
       "      <td>110 min.</td>\n",
       "      <td>Francia</td>\n",
       "      <td>Marc Fitoussi</td>\n",
       "      <td>Sylvie Dauvillier. Novela: Karin Alvtegen-Lund...</td>\n",
       "      <td>Bertrand Burgalat</td>\n",
       "      <td>Antoine Roch</td>\n",
       "      <td>Karin Viard, Pascale Arbillot, Benjamin Biolay...</td>\n",
       "      <td>Coproducción Francia-Bélgica; Thelma Films, Sc...</td>\n",
       "      <td>Thriller | Thriller psicológico</td>\n",
       "      <td>NaN</td>\n",
       "      <td>Eve y Henri son un matrimonio francés viviendo...</td>\n",
       "      <td>NaN</td>\n",
       "    </tr>\n",
       "    <tr>\n",
       "      <th>0</th>\n",
       "      <td>Summer of Soul</td>\n",
       "      <td>Summer of Soul (...Or, When the Revolution Cou...</td>\n",
       "      <td>2021</td>\n",
       "      <td>117 min.</td>\n",
       "      <td>Estados Unidos</td>\n",
       "      <td>Questlove</td>\n",
       "      <td>NaN</td>\n",
       "      <td>NaN</td>\n",
       "      <td>Shawn Peters</td>\n",
       "      <td>Documental, Stevie Wonder, B.B. King, Nina Sim...</td>\n",
       "      <td>Concordia Studio, Mass Distraction Media, Radi...</td>\n",
       "      <td>Documental | Documental sobre música. Años 60....</td>\n",
       "      <td>NaN</td>\n",
       "      <td>Explora el legendario Harlem Cultural Festival...</td>\n",
       "      <td>NaN</td>\n",
       "    </tr>\n",
       "    <tr>\n",
       "      <th>0</th>\n",
       "      <td>Amalia en el otoño</td>\n",
       "      <td>Amalia en el otoño</td>\n",
       "      <td>2020</td>\n",
       "      <td>75 min.</td>\n",
       "      <td>España</td>\n",
       "      <td>Anna Utrecht, Octavio Lasheras</td>\n",
       "      <td>Anna Utrecht, Octavio Lasheras</td>\n",
       "      <td>Santiago Royo</td>\n",
       "      <td>Octavio Lasheras, Mario Lopez</td>\n",
       "      <td>María José Alfonso, Máximo Valverde, Manuel Za...</td>\n",
       "      <td>Abanico Vision</td>\n",
       "      <td>Drama | Coronavirus (COVID-19). Vejez/Madurez</td>\n",
       "      <td>NaN</td>\n",
       "      <td>Amalia es viuda desde hace ya 10 años. Acaba d...</td>\n",
       "      <td>NaN</td>\n",
       "    </tr>\n",
       "  </tbody>\n",
       "</table>\n",
       "</div>"
      ],
      "text/plain": [
       "                       index  \\\n",
       "0         La Purga: Infinita   \n",
       "0  Peter Rabbit 2: A la fuga   \n",
       "0      Una canción irlandesa   \n",
       "0                        Ama   \n",
       "0        La mujer que escapó   \n",
       "0            Las apariencias   \n",
       "0             Summer of Soul   \n",
       "0         Amalia en el otoño   \n",
       "\n",
       "                                     Título original   Año  Duración  \\\n",
       "0                                  The Forever Purge  2021  103 min.   \n",
       "0                        Peter Rabbit 2: The Runaway  2021   93 min.   \n",
       "0                                Wild Mountain Thyme  2020  102 min.   \n",
       "0                                                Ama  2021   90 min.   \n",
       "0                               Domangchin yeoja aka  2020   77 min.   \n",
       "0                                     Les apparences  2020  110 min.   \n",
       "0  Summer of Soul (...Or, When the Revolution Cou...  2021  117 min.   \n",
       "0                                 Amalia en el otoño  2020   75 min.   \n",
       "\n",
       "              País                       Dirección  \\\n",
       "0   Estados Unidos                   Everardo Gout   \n",
       "0   Estados Unidos                      Will Gluck   \n",
       "0      Reino Unido            John Patrick Shanley   \n",
       "0           España             Júlia De Paz Solvas   \n",
       "0    Corea del Sur                   Hong Sang-soo   \n",
       "0          Francia                   Marc Fitoussi   \n",
       "0   Estados Unidos                       Questlove   \n",
       "0           España  Anna Utrecht, Octavio Lasheras   \n",
       "\n",
       "                                               Guion               Música  \\\n",
       "0                                     James DeMonaco  The Newton Brothers   \n",
       "0  Patrick Burleigh, Will Gluck. Libros: Beatrix ...        Dominic Lewis   \n",
       "0   John Patrick Shanley. Obra: John Patrick Shanley        Amelia Warner   \n",
       "0                   Nuria Dunjó, Júlia De Paz Solvas     Martín Sorozabal   \n",
       "0                                      Hong Sang-soo        Hong Sang-soo   \n",
       "0  Sylvie Dauvillier. Novela: Karin Alvtegen-Lund...    Bertrand Burgalat   \n",
       "0                                                NaN                  NaN   \n",
       "0                     Anna Utrecht, Octavio Lasheras        Santiago Royo   \n",
       "\n",
       "                      Fotografía  \\\n",
       "0             Luis David Sansans   \n",
       "0   Animación, Peter Menzies Jr.   \n",
       "0              Stephen Goldblatt   \n",
       "0                    Sandra Roca   \n",
       "0                      Kim Sumin   \n",
       "0                   Antoine Roch   \n",
       "0                   Shawn Peters   \n",
       "0  Octavio Lasheras, Mario Lopez   \n",
       "\n",
       "                                             Reparto  \\\n",
       "0  Ana de la Reguera, Tenoch Huerta, Josh Lucas, ...   \n",
       "0  Animación, Domhnall Gleeson, Rose Byrne, David...   \n",
       "0  Emily Blunt, Jamie Dornan, Jon Hamm, Christoph...   \n",
       "0  Tamara Casellas, Leire Marin Vara, Estefanía d...   \n",
       "0  Kim Min-hee, Seo Young-hwa, Song Seon-mi, Kwon...   \n",
       "0  Karin Viard, Pascale Arbillot, Benjamin Biolay...   \n",
       "0  Documental, Stevie Wonder, B.B. King, Nina Sim...   \n",
       "0  María José Alfonso, Máximo Valverde, Manuel Za...   \n",
       "\n",
       "                                          Productora  \\\n",
       "0  Blumhouse Productions, Man in a Tree, Perfect ...   \n",
       "0  Coproducción Estados Unidos-Australia; Animal ...   \n",
       "0  Coproducción Reino Unido-Estados Unidos; Likel...   \n",
       "0                                     La Dalia Films   \n",
       "0                                     Jeonwonsa Film   \n",
       "0  Coproducción Francia-Bélgica; Thelma Films, Sc...   \n",
       "0  Concordia Studio, Mass Distraction Media, Radi...   \n",
       "0                                     Abanico Vision   \n",
       "\n",
       "                                              Género  \\\n",
       "0  Thriller. Terror. Acción | Secuela. Distopía. ...   \n",
       "0  Animación. Comedia. Aventuras. Infantil | Anim...   \n",
       "0                   Romance. Drama | Drama romántico   \n",
       "0                                 Drama | Maternidad   \n",
       "0                                              Drama   \n",
       "0                    Thriller | Thriller psicológico   \n",
       "0  Documental | Documental sobre música. Años 60....   \n",
       "0      Drama | Coronavirus (COVID-19). Vejez/Madurez   \n",
       "\n",
       "                              Grupos  \\\n",
       "0  Blumhouse Productions | The Purge   \n",
       "0                                NaN   \n",
       "0                                NaN   \n",
       "0                                NaN   \n",
       "0                                NaN   \n",
       "0                                NaN   \n",
       "0                                NaN   \n",
       "0                                NaN   \n",
       "\n",
       "                                            Sinopsis       \n",
       "0  Para los miembros de un movimiento clandestino...  NaN  \n",
       "0  ¡El jardín fue solo el principio! Peter y sus ...  NaN  \n",
       "0  Anthony y Rosemary son dos amantes irlandeses ...  NaN  \n",
       "0  Cuenta la historia de muchas mujeres expuestas...  NaN  \n",
       "0  Mientras su marido está en un viaje de negocio...       \n",
       "0  Eve y Henri son un matrimonio francés viviendo...  NaN  \n",
       "0  Explora el legendario Harlem Cultural Festival...  NaN  \n",
       "0  Amalia es viuda desde hace ya 10 años. Acaba d...  NaN  "
      ]
     },
     "execution_count": 268,
     "metadata": {},
     "output_type": "execute_result"
    }
   ],
   "source": [
    "import pandas as pd\n",
    "\n",
    "contenedor = driver.find_element_by_id('lsmenu')\n",
    "cont2 = contenedor.find_elements_by_class_name('cat-container')\n",
    "for menus in cont2:\n",
    "    if menus.find_element_by_tag_name('div').text == 'España':\n",
    "        sub_menu = menus\n",
    "        \n",
    "sub_menu\n",
    "contenedor_3 = sub_menu.find_elements_by_tag_name('a')\n",
    "for i in contenedor_3:\n",
    "    if i.text == 'Próximos estrenos':\n",
    "        enlace = i.get_attribute('href')\n",
    "        \n",
    "        \n",
    "driver.get(enlace)\n",
    "list_title = []\n",
    "pelis = driver.find_elements_by_id('main-wrapper-rdcat')\n",
    "for dias in pelis:\n",
    "    if dias.find_element_by_tag_name('div').get_attribute('class') == 'rdate-cat rdate-cat-first':\n",
    "        conjunto = dias\n",
    "\n",
    "enlaces_pelis = []\n",
    "dataframe = []\n",
    "conjunto\n",
    "contenedor_4 = conjunto.find_elements_by_class_name('top-movie')\n",
    "for link in contenedor_4:\n",
    "    enlace = link.find_element_by_tag_name('a').get_attribute('href')\n",
    "    \n",
    "    enlaces_pelis.append(enlace)\n",
    "\n",
    "for enlace in enlaces_pelis:\n",
    "    driver.get(enlace)\n",
    "    \n",
    "    list_title = []\n",
    "    pelicula = driver.find_element_by_id('main-title')\n",
    "    titulo = pelicula.find_element_by_tag_name('span').text\n",
    "    list_title.append(titulo)\n",
    "    #print(f\"Titulo: {titulo}\")\n",
    "    \n",
    "    info = driver.find_element_by_class_name('movie-info')\n",
    "    cuerpo = info.find_elements_by_tag_name('dd')\n",
    "    cuerpo_2 = info.find_elements_by_tag_name('dt')\n",
    "    dd = []\n",
    "    dt = []\n",
    "    for contenido in cuerpo:\n",
    "        dd.append(contenido.text)\n",
    "    for nombres in cuerpo_2:\n",
    "        dt.append(nombres.text)\n",
    "    \n",
    "    dataframe.append(pd.DataFrame([dd], columns=dt, index=list_title))\n",
    "\n",
    "df1 = [df.reset_index() for df in dataframe]\n",
    "df2 = pd.concat(df1, axis=0)\n",
    "df2"
   ]
  },
  {
   "cell_type": "code",
   "execution_count": 272,
   "metadata": {},
   "outputs": [
    {
     "data": {
      "text/html": [
       "<div>\n",
       "<style scoped>\n",
       "    .dataframe tbody tr th:only-of-type {\n",
       "        vertical-align: middle;\n",
       "    }\n",
       "\n",
       "    .dataframe tbody tr th {\n",
       "        vertical-align: top;\n",
       "    }\n",
       "\n",
       "    .dataframe thead th {\n",
       "        text-align: right;\n",
       "    }\n",
       "</style>\n",
       "<table border=\"1\" class=\"dataframe\">\n",
       "  <thead>\n",
       "    <tr style=\"text-align: right;\">\n",
       "      <th></th>\n",
       "      <th>Título original</th>\n",
       "      <th>Año</th>\n",
       "      <th>Duración</th>\n",
       "      <th>País</th>\n",
       "      <th>Dirección</th>\n",
       "      <th>Guion</th>\n",
       "      <th>Música</th>\n",
       "      <th>Fotografía</th>\n",
       "      <th>Reparto</th>\n",
       "      <th>Productora</th>\n",
       "      <th>Género</th>\n",
       "      <th>Grupos</th>\n",
       "      <th>Sinopsis</th>\n",
       "      <th></th>\n",
       "    </tr>\n",
       "    <tr>\n",
       "      <th>Titulo</th>\n",
       "      <th></th>\n",
       "      <th></th>\n",
       "      <th></th>\n",
       "      <th></th>\n",
       "      <th></th>\n",
       "      <th></th>\n",
       "      <th></th>\n",
       "      <th></th>\n",
       "      <th></th>\n",
       "      <th></th>\n",
       "      <th></th>\n",
       "      <th></th>\n",
       "      <th></th>\n",
       "      <th></th>\n",
       "    </tr>\n",
       "  </thead>\n",
       "  <tbody>\n",
       "    <tr>\n",
       "      <th>La Purga: Infinita</th>\n",
       "      <td>The Forever Purge</td>\n",
       "      <td>2021</td>\n",
       "      <td>103 min.</td>\n",
       "      <td>Estados Unidos</td>\n",
       "      <td>Everardo Gout</td>\n",
       "      <td>James DeMonaco</td>\n",
       "      <td>The Newton Brothers</td>\n",
       "      <td>Luis David Sansans</td>\n",
       "      <td>Ana de la Reguera, Tenoch Huerta, Josh Lucas, ...</td>\n",
       "      <td>Blumhouse Productions, Man in a Tree, Perfect ...</td>\n",
       "      <td>Thriller. Terror. Acción | Secuela. Distopía. ...</td>\n",
       "      <td>Blumhouse Productions | The Purge</td>\n",
       "      <td>Para los miembros de un movimiento clandestino...</td>\n",
       "      <td>NaN</td>\n",
       "    </tr>\n",
       "    <tr>\n",
       "      <th>Peter Rabbit 2: A la fuga</th>\n",
       "      <td>Peter Rabbit 2: The Runaway</td>\n",
       "      <td>2021</td>\n",
       "      <td>93 min.</td>\n",
       "      <td>Estados Unidos</td>\n",
       "      <td>Will Gluck</td>\n",
       "      <td>Patrick Burleigh, Will Gluck. Libros: Beatrix ...</td>\n",
       "      <td>Dominic Lewis</td>\n",
       "      <td>Animación, Peter Menzies Jr.</td>\n",
       "      <td>Animación, Domhnall Gleeson, Rose Byrne, David...</td>\n",
       "      <td>Coproducción Estados Unidos-Australia; Animal ...</td>\n",
       "      <td>Animación. Comedia. Aventuras. Infantil | Anim...</td>\n",
       "      <td>NaN</td>\n",
       "      <td>¡El jardín fue solo el principio! Peter y sus ...</td>\n",
       "      <td>NaN</td>\n",
       "    </tr>\n",
       "    <tr>\n",
       "      <th>Una canción irlandesa</th>\n",
       "      <td>Wild Mountain Thyme</td>\n",
       "      <td>2020</td>\n",
       "      <td>102 min.</td>\n",
       "      <td>Reino Unido</td>\n",
       "      <td>John Patrick Shanley</td>\n",
       "      <td>John Patrick Shanley. Obra: John Patrick Shanley</td>\n",
       "      <td>Amelia Warner</td>\n",
       "      <td>Stephen Goldblatt</td>\n",
       "      <td>Emily Blunt, Jamie Dornan, Jon Hamm, Christoph...</td>\n",
       "      <td>Coproducción Reino Unido-Estados Unidos; Likel...</td>\n",
       "      <td>Romance. Drama | Drama romántico</td>\n",
       "      <td>NaN</td>\n",
       "      <td>Anthony y Rosemary son dos amantes irlandeses ...</td>\n",
       "      <td>NaN</td>\n",
       "    </tr>\n",
       "    <tr>\n",
       "      <th>Ama</th>\n",
       "      <td>Ama</td>\n",
       "      <td>2021</td>\n",
       "      <td>90 min.</td>\n",
       "      <td>España</td>\n",
       "      <td>Júlia De Paz Solvas</td>\n",
       "      <td>Nuria Dunjó, Júlia De Paz Solvas</td>\n",
       "      <td>Martín Sorozabal</td>\n",
       "      <td>Sandra Roca</td>\n",
       "      <td>Tamara Casellas, Leire Marin Vara, Estefanía d...</td>\n",
       "      <td>La Dalia Films</td>\n",
       "      <td>Drama | Maternidad</td>\n",
       "      <td>NaN</td>\n",
       "      <td>Cuenta la historia de muchas mujeres expuestas...</td>\n",
       "      <td>NaN</td>\n",
       "    </tr>\n",
       "    <tr>\n",
       "      <th>La mujer que escapó</th>\n",
       "      <td>Domangchin yeoja aka</td>\n",
       "      <td>2020</td>\n",
       "      <td>77 min.</td>\n",
       "      <td>Corea del Sur</td>\n",
       "      <td>Hong Sang-soo</td>\n",
       "      <td>Hong Sang-soo</td>\n",
       "      <td>Hong Sang-soo</td>\n",
       "      <td>Kim Sumin</td>\n",
       "      <td>Kim Min-hee, Seo Young-hwa, Song Seon-mi, Kwon...</td>\n",
       "      <td>Jeonwonsa Film</td>\n",
       "      <td>Drama</td>\n",
       "      <td>NaN</td>\n",
       "      <td>Mientras su marido está en un viaje de negocio...</td>\n",
       "      <td></td>\n",
       "    </tr>\n",
       "    <tr>\n",
       "      <th>Las apariencias</th>\n",
       "      <td>Les apparences</td>\n",
       "      <td>2020</td>\n",
       "      <td>110 min.</td>\n",
       "      <td>Francia</td>\n",
       "      <td>Marc Fitoussi</td>\n",
       "      <td>Sylvie Dauvillier. Novela: Karin Alvtegen-Lund...</td>\n",
       "      <td>Bertrand Burgalat</td>\n",
       "      <td>Antoine Roch</td>\n",
       "      <td>Karin Viard, Pascale Arbillot, Benjamin Biolay...</td>\n",
       "      <td>Coproducción Francia-Bélgica; Thelma Films, Sc...</td>\n",
       "      <td>Thriller | Thriller psicológico</td>\n",
       "      <td>NaN</td>\n",
       "      <td>Eve y Henri son un matrimonio francés viviendo...</td>\n",
       "      <td>NaN</td>\n",
       "    </tr>\n",
       "    <tr>\n",
       "      <th>Summer of Soul</th>\n",
       "      <td>Summer of Soul (...Or, When the Revolution Cou...</td>\n",
       "      <td>2021</td>\n",
       "      <td>117 min.</td>\n",
       "      <td>Estados Unidos</td>\n",
       "      <td>Questlove</td>\n",
       "      <td>NaN</td>\n",
       "      <td>NaN</td>\n",
       "      <td>Shawn Peters</td>\n",
       "      <td>Documental, Stevie Wonder, B.B. King, Nina Sim...</td>\n",
       "      <td>Concordia Studio, Mass Distraction Media, Radi...</td>\n",
       "      <td>Documental | Documental sobre música. Años 60....</td>\n",
       "      <td>NaN</td>\n",
       "      <td>Explora el legendario Harlem Cultural Festival...</td>\n",
       "      <td>NaN</td>\n",
       "    </tr>\n",
       "    <tr>\n",
       "      <th>Amalia en el otoño</th>\n",
       "      <td>Amalia en el otoño</td>\n",
       "      <td>2020</td>\n",
       "      <td>75 min.</td>\n",
       "      <td>España</td>\n",
       "      <td>Anna Utrecht, Octavio Lasheras</td>\n",
       "      <td>Anna Utrecht, Octavio Lasheras</td>\n",
       "      <td>Santiago Royo</td>\n",
       "      <td>Octavio Lasheras, Mario Lopez</td>\n",
       "      <td>María José Alfonso, Máximo Valverde, Manuel Za...</td>\n",
       "      <td>Abanico Vision</td>\n",
       "      <td>Drama | Coronavirus (COVID-19). Vejez/Madurez</td>\n",
       "      <td>NaN</td>\n",
       "      <td>Amalia es viuda desde hace ya 10 años. Acaba d...</td>\n",
       "      <td>NaN</td>\n",
       "    </tr>\n",
       "  </tbody>\n",
       "</table>\n",
       "</div>"
      ],
      "text/plain": [
       "                                                             Título original  \\\n",
       "Titulo                                                                         \n",
       "La Purga: Infinita                                         The Forever Purge   \n",
       "Peter Rabbit 2: A la fuga                        Peter Rabbit 2: The Runaway   \n",
       "Una canción irlandesa                                    Wild Mountain Thyme   \n",
       "Ama                                                                      Ama   \n",
       "La mujer que escapó                                     Domangchin yeoja aka   \n",
       "Las apariencias                                               Les apparences   \n",
       "Summer of Soul             Summer of Soul (...Or, When the Revolution Cou...   \n",
       "Amalia en el otoño                                        Amalia en el otoño   \n",
       "\n",
       "                            Año  Duración             País  \\\n",
       "Titulo                                                       \n",
       "La Purga: Infinita         2021  103 min.   Estados Unidos   \n",
       "Peter Rabbit 2: A la fuga  2021   93 min.   Estados Unidos   \n",
       "Una canción irlandesa      2020  102 min.      Reino Unido   \n",
       "Ama                        2021   90 min.           España   \n",
       "La mujer que escapó        2020   77 min.    Corea del Sur   \n",
       "Las apariencias            2020  110 min.          Francia   \n",
       "Summer of Soul             2021  117 min.   Estados Unidos   \n",
       "Amalia en el otoño         2020   75 min.           España   \n",
       "\n",
       "                                                Dirección  \\\n",
       "Titulo                                                      \n",
       "La Purga: Infinita                          Everardo Gout   \n",
       "Peter Rabbit 2: A la fuga                      Will Gluck   \n",
       "Una canción irlandesa                John Patrick Shanley   \n",
       "Ama                                   Júlia De Paz Solvas   \n",
       "La mujer que escapó                         Hong Sang-soo   \n",
       "Las apariencias                             Marc Fitoussi   \n",
       "Summer of Soul                                  Questlove   \n",
       "Amalia en el otoño         Anna Utrecht, Octavio Lasheras   \n",
       "\n",
       "                                                                       Guion  \\\n",
       "Titulo                                                                         \n",
       "La Purga: Infinita                                            James DeMonaco   \n",
       "Peter Rabbit 2: A la fuga  Patrick Burleigh, Will Gluck. Libros: Beatrix ...   \n",
       "Una canción irlandesa       John Patrick Shanley. Obra: John Patrick Shanley   \n",
       "Ama                                         Nuria Dunjó, Júlia De Paz Solvas   \n",
       "La mujer que escapó                                            Hong Sang-soo   \n",
       "Las apariencias            Sylvie Dauvillier. Novela: Karin Alvtegen-Lund...   \n",
       "Summer of Soul                                                           NaN   \n",
       "Amalia en el otoño                            Anna Utrecht, Octavio Lasheras   \n",
       "\n",
       "                                        Música                     Fotografía  \\\n",
       "Titulo                                                                          \n",
       "La Purga: Infinita         The Newton Brothers             Luis David Sansans   \n",
       "Peter Rabbit 2: A la fuga        Dominic Lewis   Animación, Peter Menzies Jr.   \n",
       "Una canción irlandesa            Amelia Warner              Stephen Goldblatt   \n",
       "Ama                           Martín Sorozabal                    Sandra Roca   \n",
       "La mujer que escapó              Hong Sang-soo                      Kim Sumin   \n",
       "Las apariencias              Bertrand Burgalat                   Antoine Roch   \n",
       "Summer of Soul                             NaN                   Shawn Peters   \n",
       "Amalia en el otoño               Santiago Royo  Octavio Lasheras, Mario Lopez   \n",
       "\n",
       "                                                                     Reparto  \\\n",
       "Titulo                                                                         \n",
       "La Purga: Infinita         Ana de la Reguera, Tenoch Huerta, Josh Lucas, ...   \n",
       "Peter Rabbit 2: A la fuga  Animación, Domhnall Gleeson, Rose Byrne, David...   \n",
       "Una canción irlandesa      Emily Blunt, Jamie Dornan, Jon Hamm, Christoph...   \n",
       "Ama                        Tamara Casellas, Leire Marin Vara, Estefanía d...   \n",
       "La mujer que escapó        Kim Min-hee, Seo Young-hwa, Song Seon-mi, Kwon...   \n",
       "Las apariencias            Karin Viard, Pascale Arbillot, Benjamin Biolay...   \n",
       "Summer of Soul             Documental, Stevie Wonder, B.B. King, Nina Sim...   \n",
       "Amalia en el otoño         María José Alfonso, Máximo Valverde, Manuel Za...   \n",
       "\n",
       "                                                                  Productora  \\\n",
       "Titulo                                                                         \n",
       "La Purga: Infinita         Blumhouse Productions, Man in a Tree, Perfect ...   \n",
       "Peter Rabbit 2: A la fuga  Coproducción Estados Unidos-Australia; Animal ...   \n",
       "Una canción irlandesa      Coproducción Reino Unido-Estados Unidos; Likel...   \n",
       "Ama                                                           La Dalia Films   \n",
       "La mujer que escapó                                           Jeonwonsa Film   \n",
       "Las apariencias            Coproducción Francia-Bélgica; Thelma Films, Sc...   \n",
       "Summer of Soul             Concordia Studio, Mass Distraction Media, Radi...   \n",
       "Amalia en el otoño                                            Abanico Vision   \n",
       "\n",
       "                                                                      Género  \\\n",
       "Titulo                                                                         \n",
       "La Purga: Infinita         Thriller. Terror. Acción | Secuela. Distopía. ...   \n",
       "Peter Rabbit 2: A la fuga  Animación. Comedia. Aventuras. Infantil | Anim...   \n",
       "Una canción irlandesa                       Romance. Drama | Drama romántico   \n",
       "Ama                                                       Drama | Maternidad   \n",
       "La mujer que escapó                                                    Drama   \n",
       "Las apariencias                              Thriller | Thriller psicológico   \n",
       "Summer of Soul             Documental | Documental sobre música. Años 60....   \n",
       "Amalia en el otoño             Drama | Coronavirus (COVID-19). Vejez/Madurez   \n",
       "\n",
       "                                                      Grupos  \\\n",
       "Titulo                                                         \n",
       "La Purga: Infinita         Blumhouse Productions | The Purge   \n",
       "Peter Rabbit 2: A la fuga                                NaN   \n",
       "Una canción irlandesa                                    NaN   \n",
       "Ama                                                      NaN   \n",
       "La mujer que escapó                                      NaN   \n",
       "Las apariencias                                          NaN   \n",
       "Summer of Soul                                           NaN   \n",
       "Amalia en el otoño                                       NaN   \n",
       "\n",
       "                                                                    Sinopsis  \\\n",
       "Titulo                                                                         \n",
       "La Purga: Infinita         Para los miembros de un movimiento clandestino...   \n",
       "Peter Rabbit 2: A la fuga  ¡El jardín fue solo el principio! Peter y sus ...   \n",
       "Una canción irlandesa      Anthony y Rosemary son dos amantes irlandeses ...   \n",
       "Ama                        Cuenta la historia de muchas mujeres expuestas...   \n",
       "La mujer que escapó        Mientras su marido está en un viaje de negocio...   \n",
       "Las apariencias            Eve y Henri son un matrimonio francés viviendo...   \n",
       "Summer of Soul             Explora el legendario Harlem Cultural Festival...   \n",
       "Amalia en el otoño         Amalia es viuda desde hace ya 10 años. Acaba d...   \n",
       "\n",
       "                                \n",
       "Titulo                          \n",
       "La Purga: Infinita         NaN  \n",
       "Peter Rabbit 2: A la fuga  NaN  \n",
       "Una canción irlandesa      NaN  \n",
       "Ama                        NaN  \n",
       "La mujer que escapó             \n",
       "Las apariencias            NaN  \n",
       "Summer of Soul             NaN  \n",
       "Amalia en el otoño         NaN  "
      ]
     },
     "execution_count": 272,
     "metadata": {},
     "output_type": "execute_result"
    }
   ],
   "source": [
    "df_nuevo = df2.rename(columns={'index': 'Titulo'})\n",
    "df_nuevo = df_nuevo.set_index('Titulo')\n",
    "df_nuevo"
   ]
  },
  {
   "cell_type": "markdown",
   "metadata": {},
   "source": [
    "2. Vemos con cual nos tenemos que quedar"
   ]
  },
  {
   "cell_type": "code",
   "execution_count": 121,
   "metadata": {
    "ExecuteTime": {
     "end_time": "2021-02-25T10:40:55.130681Z",
     "start_time": "2021-02-25T10:40:54.930234Z"
    }
   },
   "outputs": [
    {
     "name": "stdout",
     "output_type": "stream",
     "text": [
      "Cartelera España\n",
      "Cartelera España\n",
      "Próximos estrenos España\n",
      "Netflix (estrenos destacados)\n",
      "Disney+\n",
      "Movistar +\n",
      "HBO España\n",
      "Amazon Prime Video España\n",
      "Filmin (últ. incorporaciones)\n",
      "Estrenos Apple TV+\n",
      "Ya a la venta DVD | VOD\n",
      "Novedades alquiler | VOD\n",
      "Netflix (próx. estrenos)\n"
     ]
    }
   ],
   "source": []
  },
  {
   "cell_type": "markdown",
   "metadata": {},
   "source": [
    "3. Dentro del container tenemos que ir al boton de \"ver más\""
   ]
  },
  {
   "cell_type": "code",
   "execution_count": 122,
   "metadata": {
    "ExecuteTime": {
     "end_time": "2021-02-25T10:40:57.145029Z",
     "start_time": "2021-02-25T10:40:57.127072Z"
    }
   },
   "outputs": [],
   "source": []
  },
  {
   "cell_type": "markdown",
   "metadata": {},
   "source": [
    "4. Una vez en el div del boton tenemos que llegar a la *a* "
   ]
  },
  {
   "cell_type": "code",
   "execution_count": 123,
   "metadata": {
    "ExecuteTime": {
     "end_time": "2021-02-25T10:40:58.353853Z",
     "start_time": "2021-02-25T10:40:58.340849Z"
    }
   },
   "outputs": [],
   "source": []
  },
  {
   "cell_type": "markdown",
   "metadata": {},
   "source": [
    "5. Ahora podríamos hacer click como hemos hecho antes con el boton de aceptar las cooks"
   ]
  },
  {
   "cell_type": "code",
   "execution_count": 125,
   "metadata": {
    "ExecuteTime": {
     "end_time": "2021-02-25T10:41:04.327014Z",
     "start_time": "2021-02-25T10:41:03.145618Z"
    }
   },
   "outputs": [],
   "source": []
  },
  {
   "cell_type": "markdown",
   "metadata": {},
   "source": [
    "Accedemos al container de la semana que queremos ver, exactamente igual que hemos hecho antes"
   ]
  },
  {
   "cell_type": "code",
   "execution_count": 128,
   "metadata": {
    "ExecuteTime": {
     "end_time": "2021-02-25T10:43:53.772471Z",
     "start_time": "2021-02-25T10:43:53.757510Z"
    }
   },
   "outputs": [
    {
     "data": {
      "text/plain": [
       "[<selenium.webdriver.remote.webelement.WebElement (session=\"90d45fd2fbdadc7ded39f6fb93ea11a5\", element=\"9e65f37c-3792-4d09-b36e-90afa4c47c0a\")>,\n",
       " <selenium.webdriver.remote.webelement.WebElement (session=\"90d45fd2fbdadc7ded39f6fb93ea11a5\", element=\"e7882fe3-9ab1-4082-a062-3465bdaf45bc\")>,\n",
       " <selenium.webdriver.remote.webelement.WebElement (session=\"90d45fd2fbdadc7ded39f6fb93ea11a5\", element=\"eea44eee-ee17-4264-a410-a8f3a9687223\")>,\n",
       " <selenium.webdriver.remote.webelement.WebElement (session=\"90d45fd2fbdadc7ded39f6fb93ea11a5\", element=\"6851efb6-a327-4378-8177-6b1770a97e8a\")>,\n",
       " <selenium.webdriver.remote.webelement.WebElement (session=\"90d45fd2fbdadc7ded39f6fb93ea11a5\", element=\"69b523aa-6032-4750-9460-547b2e25c1f9\")>,\n",
       " <selenium.webdriver.remote.webelement.WebElement (session=\"90d45fd2fbdadc7ded39f6fb93ea11a5\", element=\"fa69b3bd-e150-48b5-825f-8ecf7b7e1348\")>]"
      ]
     },
     "execution_count": 128,
     "metadata": {},
     "output_type": "execute_result"
    }
   ],
   "source": []
  },
  {
   "cell_type": "code",
   "execution_count": 134,
   "metadata": {
    "ExecuteTime": {
     "end_time": "2021-02-25T11:04:59.734561Z",
     "start_time": "2021-02-25T11:04:59.617626Z"
    }
   },
   "outputs": [
    {
     "name": "stdout",
     "output_type": "stream",
     "text": [
      "0\n",
      "26 de febrero de 2021\n",
      "1\n",
      "5 de marzo de 2021\n",
      "2\n",
      "12 de marzo de 2021\n",
      "3\n",
      "19 de marzo de 2021\n",
      "4\n",
      "26 de marzo de 2021\n",
      "5\n",
      "31 de marzo de 2021\n"
     ]
    }
   ],
   "source": []
  },
  {
   "cell_type": "markdown",
   "metadata": {
    "ExecuteTime": {
     "end_time": "2021-02-25T11:04:08.219853Z",
     "start_time": "2021-02-25T11:04:08.215863Z"
    }
   },
   "source": [
    "Buscamos las peliculas"
   ]
  },
  {
   "cell_type": "code",
   "execution_count": 139,
   "metadata": {
    "ExecuteTime": {
     "end_time": "2021-02-25T11:10:28.294864Z",
     "start_time": "2021-02-25T11:10:28.174126Z"
    }
   },
   "outputs": [
    {
     "data": {
      "text/plain": [
       "['https://www.filmaffinity.com/es/film783812.html',\n",
       " 'https://www.filmaffinity.com/es/film766252.html',\n",
       " 'https://www.filmaffinity.com/es/film228161.html',\n",
       " 'https://www.filmaffinity.com/es/film244293.html',\n",
       " 'https://www.filmaffinity.com/es/film350880.html',\n",
       " 'https://www.filmaffinity.com/es/film674272.html',\n",
       " 'https://www.filmaffinity.com/es/film687348.html',\n",
       " 'https://www.filmaffinity.com/es/film838012.html',\n",
       " 'https://www.filmaffinity.com/es/film561634.html']"
      ]
     },
     "execution_count": 139,
     "metadata": {},
     "output_type": "execute_result"
    }
   ],
   "source": []
  },
  {
   "cell_type": "markdown",
   "metadata": {},
   "source": [
    "Una vez tenemos todas las urls vamos a ver que hacemos con cada una de ellas"
   ]
  },
  {
   "cell_type": "code",
   "execution_count": 140,
   "metadata": {
    "ExecuteTime": {
     "end_time": "2021-02-25T11:15:40.003059Z",
     "start_time": "2021-02-25T11:15:39.091047Z"
    }
   },
   "outputs": [],
   "source": []
  },
  {
   "cell_type": "markdown",
   "metadata": {
    "ExecuteTime": {
     "end_time": "2021-02-25T11:21:51.020248Z",
     "start_time": "2021-02-25T11:21:50.381138Z"
    }
   },
   "source": [
    "Vamos a ver el proceso que deberiamos hacer con cada una de las películas:"
   ]
  },
  {
   "cell_type": "markdown",
   "metadata": {},
   "source": [
    "1. Sacamos toda la información que nos interesa"
   ]
  },
  {
   "cell_type": "code",
   "execution_count": 163,
   "metadata": {
    "ExecuteTime": {
     "end_time": "2021-02-25T11:36:58.487622Z",
     "start_time": "2021-02-25T11:36:58.420292Z"
    }
   },
   "outputs": [],
   "source": []
  },
  {
   "cell_type": "markdown",
   "metadata": {},
   "source": [
    "2. Creamos una lista a partir de la ficha técnica"
   ]
  },
  {
   "cell_type": "code",
   "execution_count": 159,
   "metadata": {
    "ExecuteTime": {
     "end_time": "2021-02-25T11:34:54.218938Z",
     "start_time": "2021-02-25T11:34:53.923558Z"
    }
   },
   "outputs": [],
   "source": [
    "\n",
    "    "
   ]
  },
  {
   "cell_type": "markdown",
   "metadata": {},
   "source": [
    "3. Creamos un dataframe con la info"
   ]
  },
  {
   "cell_type": "code",
   "execution_count": 167,
   "metadata": {
    "ExecuteTime": {
     "end_time": "2021-02-25T11:38:19.916044Z",
     "start_time": "2021-02-25T11:38:19.899094Z"
    }
   },
   "outputs": [
    {
     "data": {
      "text/html": [
       "<div>\n",
       "<style scoped>\n",
       "    .dataframe tbody tr th:only-of-type {\n",
       "        vertical-align: middle;\n",
       "    }\n",
       "\n",
       "    .dataframe tbody tr th {\n",
       "        vertical-align: top;\n",
       "    }\n",
       "\n",
       "    .dataframe thead th {\n",
       "        text-align: right;\n",
       "    }\n",
       "</style>\n",
       "<table border=\"1\" class=\"dataframe\">\n",
       "  <thead>\n",
       "    <tr style=\"text-align: right;\">\n",
       "      <th></th>\n",
       "      <th>titulo</th>\n",
       "      <th>nota</th>\n",
       "      <th>votos</th>\n",
       "      <th>Título original</th>\n",
       "      <th>Año</th>\n",
       "      <th>Duración</th>\n",
       "      <th>País</th>\n",
       "      <th>Dirección</th>\n",
       "      <th>Guion</th>\n",
       "      <th>Música</th>\n",
       "      <th>Fotografía</th>\n",
       "      <th>Reparto</th>\n",
       "      <th>Productora</th>\n",
       "      <th>Género</th>\n",
       "      <th>Sinopsis</th>\n",
       "    </tr>\n",
       "  </thead>\n",
       "  <tbody>\n",
       "    <tr>\n",
       "      <th>0</th>\n",
       "      <td>Pequeños detalles</td>\n",
       "      <td>5,4</td>\n",
       "      <td>615</td>\n",
       "      <td>The Little Things</td>\n",
       "      <td>2021</td>\n",
       "      <td>127 min.</td>\n",
       "      <td>Estados Unidos</td>\n",
       "      <td>John Lee Hancock</td>\n",
       "      <td>John Lee Hancock</td>\n",
       "      <td>Thomas Newman</td>\n",
       "      <td>John Schwartzman</td>\n",
       "      <td>Denzel Washington, Rami Malek, Jared Leto, Sof...</td>\n",
       "      <td>Warner Bros. (Distribuidora: Warner Bros.)</td>\n",
       "      <td>Thriller | Policíaco</td>\n",
       "      <td>Un sheriff (Washington) y un detective de homi...</td>\n",
       "    </tr>\n",
       "  </tbody>\n",
       "</table>\n",
       "</div>"
      ],
      "text/plain": [
       "              titulo nota votos    Título original   Año  Duración  \\\n",
       "0  Pequeños detalles  5,4   615  The Little Things  2021  127 min.   \n",
       "\n",
       "              País         Dirección             Guion         Música  \\\n",
       "0   Estados Unidos  John Lee Hancock  John Lee Hancock  Thomas Newman   \n",
       "\n",
       "         Fotografía                                            Reparto  \\\n",
       "0  John Schwartzman  Denzel Washington, Rami Malek, Jared Leto, Sof...   \n",
       "\n",
       "                                   Productora                Género  \\\n",
       "0  Warner Bros. (Distribuidora: Warner Bros.)  Thriller | Policíaco   \n",
       "\n",
       "                                            Sinopsis  \n",
       "0  Un sheriff (Washington) y un detective de homi...  "
      ]
     },
     "execution_count": 167,
     "metadata": {},
     "output_type": "execute_result"
    }
   ],
   "source": []
  },
  {
   "cell_type": "markdown",
   "metadata": {},
   "source": [
    "Vamos a crear una función que nos haga todo esto"
   ]
  },
  {
   "cell_type": "code",
   "execution_count": 187,
   "metadata": {
    "ExecuteTime": {
     "end_time": "2021-02-25T11:58:39.349919Z",
     "start_time": "2021-02-25T11:58:39.052802Z"
    }
   },
   "outputs": [
    {
     "data": {
      "text/html": [
       "<div>\n",
       "<style scoped>\n",
       "    .dataframe tbody tr th:only-of-type {\n",
       "        vertical-align: middle;\n",
       "    }\n",
       "\n",
       "    .dataframe tbody tr th {\n",
       "        vertical-align: top;\n",
       "    }\n",
       "\n",
       "    .dataframe thead th {\n",
       "        text-align: right;\n",
       "    }\n",
       "</style>\n",
       "<table border=\"1\" class=\"dataframe\">\n",
       "  <thead>\n",
       "    <tr style=\"text-align: right;\">\n",
       "      <th></th>\n",
       "      <th>titulo</th>\n",
       "      <th>nota</th>\n",
       "      <th>votos</th>\n",
       "      <th>Título original</th>\n",
       "      <th>Año</th>\n",
       "      <th>Duración</th>\n",
       "      <th>País</th>\n",
       "      <th>Dirección</th>\n",
       "      <th>Guion</th>\n",
       "      <th>Música</th>\n",
       "      <th>Reparto</th>\n",
       "      <th>Productora</th>\n",
       "      <th>Género</th>\n",
       "      <th>Sinopsis</th>\n",
       "    </tr>\n",
       "  </thead>\n",
       "  <tbody>\n",
       "    <tr>\n",
       "      <th>0</th>\n",
       "      <td>¿Dónde está Mikel?</td>\n",
       "      <td>None</td>\n",
       "      <td>None</td>\n",
       "      <td>Non Dago Mikel?</td>\n",
       "      <td>2020</td>\n",
       "      <td>80 min.</td>\n",
       "      <td>España</td>\n",
       "      <td>Miguel Angel Llamas, Amaia Merino</td>\n",
       "      <td>Miguel Angel Llamas, Amaia Merino</td>\n",
       "      <td>Gorka Pastor</td>\n",
       "      <td>Documental</td>\n",
       "      <td>IZAR Films</td>\n",
       "      <td>Documental</td>\n",
       "      <td>Noviembre de 1985. Mikel Zabalza, un joven con...</td>\n",
       "    </tr>\n",
       "  </tbody>\n",
       "</table>\n",
       "</div>"
      ],
      "text/plain": [
       "               titulo  nota votos  Título original   Año Duración     País  \\\n",
       "0  ¿Dónde está Mikel?  None  None  Non Dago Mikel?  2020  80 min.   España   \n",
       "\n",
       "                           Dirección                              Guion  \\\n",
       "0  Miguel Angel Llamas, Amaia Merino  Miguel Angel Llamas, Amaia Merino   \n",
       "\n",
       "         Música     Reparto  Productora      Género  \\\n",
       "0  Gorka Pastor  Documental  IZAR Films  Documental   \n",
       "\n",
       "                                            Sinopsis  \n",
       "0  Noviembre de 1985. Mikel Zabalza, un joven con...  "
      ]
     },
     "execution_count": 187,
     "metadata": {},
     "output_type": "execute_result"
    }
   ],
   "source": []
  },
  {
   "cell_type": "markdown",
   "metadata": {},
   "source": [
    "## Modo Dios moviendonos entre ventanas"
   ]
  },
  {
   "cell_type": "markdown",
   "metadata": {},
   "source": [
    "Vamos a ver como nos podemos mover entre ventanas del navegador\n",
    "\n",
    "Abrir nueva ventana:"
   ]
  },
  {
   "cell_type": "code",
   "execution_count": null,
   "metadata": {},
   "outputs": [],
   "source": []
  },
  {
   "cell_type": "markdown",
   "metadata": {},
   "source": [
    "Movernos a otra ventana"
   ]
  },
  {
   "cell_type": "code",
   "execution_count": null,
   "metadata": {},
   "outputs": [],
   "source": []
  },
  {
   "cell_type": "markdown",
   "metadata": {},
   "source": [
    "Cerrar ventana"
   ]
  },
  {
   "cell_type": "code",
   "execution_count": 194,
   "metadata": {
    "ExecuteTime": {
     "end_time": "2021-02-25T12:04:17.177986Z",
     "start_time": "2021-02-25T12:04:17.160442Z"
    },
    "collapsed": true
   },
   "outputs": [
    {
     "ename": "NoSuchWindowException",
     "evalue": "Message: no such window: target window already closed\nfrom unknown error: web view not found\n  (Session info: chrome=88.0.4324.182)\n",
     "output_type": "error",
     "traceback": [
      "\u001b[1;31m---------------------------------------------------------------------------\u001b[0m",
      "\u001b[1;31mNoSuchWindowException\u001b[0m                     Traceback (most recent call last)",
      "\u001b[1;32m<ipython-input-194-ad0c9a213c39>\u001b[0m in \u001b[0;36m<module>\u001b[1;34m\u001b[0m\n\u001b[1;32m----> 1\u001b[1;33m \u001b[0mdriver\u001b[0m\u001b[1;33m.\u001b[0m\u001b[0mclose\u001b[0m\u001b[1;33m(\u001b[0m\u001b[1;33m)\u001b[0m\u001b[1;33m\u001b[0m\u001b[1;33m\u001b[0m\u001b[0m\n\u001b[0m",
      "\u001b[1;32m~\\AppData\\Local\\Continuum\\anaconda3\\lib\\site-packages\\selenium\\webdriver\\remote\\webdriver.py\u001b[0m in \u001b[0;36mclose\u001b[1;34m(self)\u001b[0m\n\u001b[0;32m    686\u001b[0m             \u001b[0mdriver\u001b[0m\u001b[1;33m.\u001b[0m\u001b[0mclose\u001b[0m\u001b[1;33m(\u001b[0m\u001b[1;33m)\u001b[0m\u001b[1;33m\u001b[0m\u001b[1;33m\u001b[0m\u001b[0m\n\u001b[0;32m    687\u001b[0m         \"\"\"\n\u001b[1;32m--> 688\u001b[1;33m         \u001b[0mself\u001b[0m\u001b[1;33m.\u001b[0m\u001b[0mexecute\u001b[0m\u001b[1;33m(\u001b[0m\u001b[0mCommand\u001b[0m\u001b[1;33m.\u001b[0m\u001b[0mCLOSE\u001b[0m\u001b[1;33m)\u001b[0m\u001b[1;33m\u001b[0m\u001b[1;33m\u001b[0m\u001b[0m\n\u001b[0m\u001b[0;32m    689\u001b[0m \u001b[1;33m\u001b[0m\u001b[0m\n\u001b[0;32m    690\u001b[0m     \u001b[1;32mdef\u001b[0m \u001b[0mquit\u001b[0m\u001b[1;33m(\u001b[0m\u001b[0mself\u001b[0m\u001b[1;33m)\u001b[0m\u001b[1;33m:\u001b[0m\u001b[1;33m\u001b[0m\u001b[1;33m\u001b[0m\u001b[0m\n",
      "\u001b[1;32m~\\AppData\\Local\\Continuum\\anaconda3\\lib\\site-packages\\selenium\\webdriver\\remote\\webdriver.py\u001b[0m in \u001b[0;36mexecute\u001b[1;34m(self, driver_command, params)\u001b[0m\n\u001b[0;32m    319\u001b[0m         \u001b[0mresponse\u001b[0m \u001b[1;33m=\u001b[0m \u001b[0mself\u001b[0m\u001b[1;33m.\u001b[0m\u001b[0mcommand_executor\u001b[0m\u001b[1;33m.\u001b[0m\u001b[0mexecute\u001b[0m\u001b[1;33m(\u001b[0m\u001b[0mdriver_command\u001b[0m\u001b[1;33m,\u001b[0m \u001b[0mparams\u001b[0m\u001b[1;33m)\u001b[0m\u001b[1;33m\u001b[0m\u001b[1;33m\u001b[0m\u001b[0m\n\u001b[0;32m    320\u001b[0m         \u001b[1;32mif\u001b[0m \u001b[0mresponse\u001b[0m\u001b[1;33m:\u001b[0m\u001b[1;33m\u001b[0m\u001b[1;33m\u001b[0m\u001b[0m\n\u001b[1;32m--> 321\u001b[1;33m             \u001b[0mself\u001b[0m\u001b[1;33m.\u001b[0m\u001b[0merror_handler\u001b[0m\u001b[1;33m.\u001b[0m\u001b[0mcheck_response\u001b[0m\u001b[1;33m(\u001b[0m\u001b[0mresponse\u001b[0m\u001b[1;33m)\u001b[0m\u001b[1;33m\u001b[0m\u001b[1;33m\u001b[0m\u001b[0m\n\u001b[0m\u001b[0;32m    322\u001b[0m             response['value'] = self._unwrap_value(\n\u001b[0;32m    323\u001b[0m                 response.get('value', None))\n",
      "\u001b[1;32m~\\AppData\\Local\\Continuum\\anaconda3\\lib\\site-packages\\selenium\\webdriver\\remote\\errorhandler.py\u001b[0m in \u001b[0;36mcheck_response\u001b[1;34m(self, response)\u001b[0m\n\u001b[0;32m    240\u001b[0m                 \u001b[0malert_text\u001b[0m \u001b[1;33m=\u001b[0m \u001b[0mvalue\u001b[0m\u001b[1;33m[\u001b[0m\u001b[1;34m'alert'\u001b[0m\u001b[1;33m]\u001b[0m\u001b[1;33m.\u001b[0m\u001b[0mget\u001b[0m\u001b[1;33m(\u001b[0m\u001b[1;34m'text'\u001b[0m\u001b[1;33m)\u001b[0m\u001b[1;33m\u001b[0m\u001b[1;33m\u001b[0m\u001b[0m\n\u001b[0;32m    241\u001b[0m             \u001b[1;32mraise\u001b[0m \u001b[0mexception_class\u001b[0m\u001b[1;33m(\u001b[0m\u001b[0mmessage\u001b[0m\u001b[1;33m,\u001b[0m \u001b[0mscreen\u001b[0m\u001b[1;33m,\u001b[0m \u001b[0mstacktrace\u001b[0m\u001b[1;33m,\u001b[0m \u001b[0malert_text\u001b[0m\u001b[1;33m)\u001b[0m\u001b[1;33m\u001b[0m\u001b[1;33m\u001b[0m\u001b[0m\n\u001b[1;32m--> 242\u001b[1;33m         \u001b[1;32mraise\u001b[0m \u001b[0mexception_class\u001b[0m\u001b[1;33m(\u001b[0m\u001b[0mmessage\u001b[0m\u001b[1;33m,\u001b[0m \u001b[0mscreen\u001b[0m\u001b[1;33m,\u001b[0m \u001b[0mstacktrace\u001b[0m\u001b[1;33m)\u001b[0m\u001b[1;33m\u001b[0m\u001b[1;33m\u001b[0m\u001b[0m\n\u001b[0m\u001b[0;32m    243\u001b[0m \u001b[1;33m\u001b[0m\u001b[0m\n\u001b[0;32m    244\u001b[0m     \u001b[1;32mdef\u001b[0m \u001b[0m_value_or_default\u001b[0m\u001b[1;33m(\u001b[0m\u001b[0mself\u001b[0m\u001b[1;33m,\u001b[0m \u001b[0mobj\u001b[0m\u001b[1;33m,\u001b[0m \u001b[0mkey\u001b[0m\u001b[1;33m,\u001b[0m \u001b[0mdefault\u001b[0m\u001b[1;33m)\u001b[0m\u001b[1;33m:\u001b[0m\u001b[1;33m\u001b[0m\u001b[1;33m\u001b[0m\u001b[0m\n",
      "\u001b[1;31mNoSuchWindowException\u001b[0m: Message: no such window: target window already closed\nfrom unknown error: web view not found\n  (Session info: chrome=88.0.4324.182)\n"
     ]
    }
   ],
   "source": []
  },
  {
   "cell_type": "markdown",
   "metadata": {},
   "source": [
    "Una vez cerramos la ventana tenemos que indicarle a que ventana tiene que ir"
   ]
  },
  {
   "cell_type": "code",
   "execution_count": 195,
   "metadata": {
    "ExecuteTime": {
     "end_time": "2021-02-25T12:05:01.711952Z",
     "start_time": "2021-02-25T12:05:01.583709Z"
    }
   },
   "outputs": [],
   "source": []
  },
  {
   "cell_type": "markdown",
   "metadata": {},
   "source": [
    "Sabiendo como podemos movernos por entre las ventanas y sabiendo como extraer de cada pagina toda la información que necesitamos vamos a crear nuestro dataframe"
   ]
  },
  {
   "cell_type": "code",
   "execution_count": 190,
   "metadata": {
    "ExecuteTime": {
     "end_time": "2021-02-25T12:00:27.038323Z",
     "start_time": "2021-02-25T11:59:37.219902Z"
    }
   },
   "outputs": [],
   "source": []
  },
  {
   "cell_type": "code",
   "execution_count": 191,
   "metadata": {
    "ExecuteTime": {
     "end_time": "2021-02-25T12:00:36.221987Z",
     "start_time": "2021-02-25T12:00:36.207006Z"
    }
   },
   "outputs": [
    {
     "data": {
      "text/html": [
       "<div>\n",
       "<style scoped>\n",
       "    .dataframe tbody tr th:only-of-type {\n",
       "        vertical-align: middle;\n",
       "    }\n",
       "\n",
       "    .dataframe tbody tr th {\n",
       "        vertical-align: top;\n",
       "    }\n",
       "\n",
       "    .dataframe thead th {\n",
       "        text-align: right;\n",
       "    }\n",
       "</style>\n",
       "<table border=\"1\" class=\"dataframe\">\n",
       "  <thead>\n",
       "    <tr style=\"text-align: right;\">\n",
       "      <th></th>\n",
       "      <th>titulo</th>\n",
       "      <th>nota</th>\n",
       "      <th>votos</th>\n",
       "      <th>Título original</th>\n",
       "      <th>Año</th>\n",
       "      <th>Duración</th>\n",
       "      <th>País</th>\n",
       "      <th>Dirección</th>\n",
       "      <th>Guion</th>\n",
       "      <th>Música</th>\n",
       "      <th>Fotografía</th>\n",
       "      <th>Reparto</th>\n",
       "      <th>Productora</th>\n",
       "      <th>Género</th>\n",
       "      <th>Sinopsis</th>\n",
       "      <th></th>\n",
       "      <th>Grupos</th>\n",
       "    </tr>\n",
       "  </thead>\n",
       "  <tbody>\n",
       "    <tr>\n",
       "      <th>0</th>\n",
       "      <td>Pequeños detalles</td>\n",
       "      <td>5,4</td>\n",
       "      <td>616</td>\n",
       "      <td>The Little Things</td>\n",
       "      <td>2021</td>\n",
       "      <td>127 min.</td>\n",
       "      <td>Estados Unidos</td>\n",
       "      <td>John Lee Hancock</td>\n",
       "      <td>John Lee Hancock</td>\n",
       "      <td>Thomas Newman</td>\n",
       "      <td>John Schwartzman</td>\n",
       "      <td>Denzel Washington, Rami Malek, Jared Leto, Sof...</td>\n",
       "      <td>Warner Bros. (Distribuidora: Warner Bros.)</td>\n",
       "      <td>Thriller | Policíaco</td>\n",
       "      <td>Un sheriff (Washington) y un detective de homi...</td>\n",
       "      <td>NaN</td>\n",
       "      <td>NaN</td>\n",
       "    </tr>\n",
       "    <tr>\n",
       "      <th>0</th>\n",
       "      <td>Dating Amber</td>\n",
       "      <td>6,5</td>\n",
       "      <td>171</td>\n",
       "      <td>Dating Amber aka</td>\n",
       "      <td>2020</td>\n",
       "      <td>92 min.</td>\n",
       "      <td>Irlanda</td>\n",
       "      <td>David Freyne</td>\n",
       "      <td>David Freyne</td>\n",
       "      <td>NaN</td>\n",
       "      <td>Ruairi O'Brien</td>\n",
       "      <td>Fionn O'Shea, Lola Petticrew, Sharon Horgan, B...</td>\n",
       "      <td>Atomic 80, Tilted Pictures (Distribuidora: Ama...</td>\n",
       "      <td>Drama. Comedia | Amistad. Homosexualidad. Años 80</td>\n",
       "      <td>En la Irlanda de los años 80, los mejores amig...</td>\n",
       "      <td></td>\n",
       "      <td>NaN</td>\n",
       "    </tr>\n",
       "    <tr>\n",
       "      <th>0</th>\n",
       "      <td>El diablo entre las piernas</td>\n",
       "      <td>6,3</td>\n",
       "      <td>39</td>\n",
       "      <td>El diablo entre las piernas</td>\n",
       "      <td>2019</td>\n",
       "      <td>147 min.</td>\n",
       "      <td>México</td>\n",
       "      <td>Arturo Ripstein</td>\n",
       "      <td>Paz Alicia Garciadiego</td>\n",
       "      <td>David Mansfield</td>\n",
       "      <td>Alejandro Cantú (B&amp;W)</td>\n",
       "      <td>Silvia Pasquel, Alejandro Suárez, Greta Cervan...</td>\n",
       "      <td>Alebrije Cine y Video, Oberon Films</td>\n",
       "      <td>Drama | Vejez/Madurez. Celos</td>\n",
       "      <td>Todos los días Beatriz es víctima de insultos,...</td>\n",
       "      <td>NaN</td>\n",
       "      <td>NaN</td>\n",
       "    </tr>\n",
       "    <tr>\n",
       "      <th>0</th>\n",
       "      <td>Libreros de Nueva York</td>\n",
       "      <td>6,5</td>\n",
       "      <td>49</td>\n",
       "      <td>The Booksellers</td>\n",
       "      <td>2019</td>\n",
       "      <td>99 min.</td>\n",
       "      <td>Estados Unidos</td>\n",
       "      <td>D.W. Young</td>\n",
       "      <td>NaN</td>\n",
       "      <td>David Ullmann</td>\n",
       "      <td>Peter Bolte</td>\n",
       "      <td>Documental, (intervenciones de: Fran Lebowitz,...</td>\n",
       "      <td>Blackletter Films</td>\n",
       "      <td>Documental | Literatura</td>\n",
       "      <td>Un vistazo a los pormenores del extraño mundo ...</td>\n",
       "      <td>NaN</td>\n",
       "      <td>NaN</td>\n",
       "    </tr>\n",
       "    <tr>\n",
       "      <th>0</th>\n",
       "      <td>Millennium Actress</td>\n",
       "      <td>7,4</td>\n",
       "      <td>4.837</td>\n",
       "      <td>Sennen Joyû aka</td>\n",
       "      <td>2001</td>\n",
       "      <td>87 min.</td>\n",
       "      <td>Japón</td>\n",
       "      <td>Satoshi Kon</td>\n",
       "      <td>Satoshi Kon, Sadayuki Murai</td>\n",
       "      <td>Susumu Hirasawa</td>\n",
       "      <td>Animación, Hisao Shirai</td>\n",
       "      <td>Animación</td>\n",
       "      <td>Bandai Visual, Chiyoko Commitee, Madhouse, Wor...</td>\n",
       "      <td>Animación. Fantástico. Romance. Drama | Melodr...</td>\n",
       "      <td>Hace treinta años, Chiyoko Fujiwara fue la est...</td>\n",
       "      <td></td>\n",
       "      <td>NaN</td>\n",
       "    </tr>\n",
       "    <tr>\n",
       "      <th>0</th>\n",
       "      <td>Del inconveniente de haber nacido</td>\n",
       "      <td>5,4</td>\n",
       "      <td>60</td>\n",
       "      <td>The Trouble with Being Born</td>\n",
       "      <td>2020</td>\n",
       "      <td>94 min.</td>\n",
       "      <td>Austria</td>\n",
       "      <td>Sandra Wollner</td>\n",
       "      <td>Sandra Wollner, Roderick Warich</td>\n",
       "      <td>David Schweighart, Peter Kutin</td>\n",
       "      <td>Timm Kröger</td>\n",
       "      <td>Jana McKinnon, Ingrid Burkhard, Dominik Warta,...</td>\n",
       "      <td>Co-production Austria-Alemania; Panama Film</td>\n",
       "      <td>Ciencia ficción. Drama | Robots</td>\n",
       "      <td>Elli es una androide y vive con un hombre al q...</td>\n",
       "      <td>NaN</td>\n",
       "      <td>NaN</td>\n",
       "    </tr>\n",
       "    <tr>\n",
       "      <th>0</th>\n",
       "      <td>¿Dónde está Mikel?</td>\n",
       "      <td>None</td>\n",
       "      <td>None</td>\n",
       "      <td>Non Dago Mikel?</td>\n",
       "      <td>2020</td>\n",
       "      <td>80 min.</td>\n",
       "      <td>España</td>\n",
       "      <td>Miguel Angel Llamas, Amaia Merino</td>\n",
       "      <td>Miguel Angel Llamas, Amaia Merino</td>\n",
       "      <td>Gorka Pastor</td>\n",
       "      <td>NaN</td>\n",
       "      <td>Documental</td>\n",
       "      <td>IZAR Films</td>\n",
       "      <td>Documental</td>\n",
       "      <td>Noviembre de 1985. Mikel Zabalza, un joven con...</td>\n",
       "      <td>NaN</td>\n",
       "      <td>NaN</td>\n",
       "    </tr>\n",
       "    <tr>\n",
       "      <th>0</th>\n",
       "      <td>Érase una vez en Venezuela</td>\n",
       "      <td>6,6</td>\n",
       "      <td>97</td>\n",
       "      <td>Érase una vez en Venezuela aka</td>\n",
       "      <td>2020</td>\n",
       "      <td>99 min.</td>\n",
       "      <td>Venezuela</td>\n",
       "      <td>Anabel Rodriguez Rios</td>\n",
       "      <td>Anabel Rodriguez Rios</td>\n",
       "      <td>Nascuy Linares</td>\n",
       "      <td>John Márquez</td>\n",
       "      <td>Documental</td>\n",
       "      <td>Co-production Venezuela-Reino Unido-Brasil-Aus...</td>\n",
       "      <td>Documental | Política</td>\n",
       "      <td>Hace no mucho tiempo, la vida en Congo Mirador...</td>\n",
       "      <td></td>\n",
       "      <td>NaN</td>\n",
       "    </tr>\n",
       "    <tr>\n",
       "      <th>0</th>\n",
       "      <td>El caracol y la ballena</td>\n",
       "      <td>6,4</td>\n",
       "      <td>92</td>\n",
       "      <td>The Snail and the Whale</td>\n",
       "      <td>2019</td>\n",
       "      <td>26 min.</td>\n",
       "      <td>Reino Unido</td>\n",
       "      <td>Max Lang, Daniel Snaddon</td>\n",
       "      <td>Max Lang, Suzanne Lang (Libro: Julia Donaldson...</td>\n",
       "      <td>René Aubry</td>\n",
       "      <td>Animación</td>\n",
       "      <td>Animación</td>\n",
       "      <td>Magic Light Pictures, ZDF</td>\n",
       "      <td>Animación. Aventuras | Mediometraje. Animales</td>\n",
       "      <td>Un caracol anhela ver el mundo y se sube a la ...</td>\n",
       "      <td>NaN</td>\n",
       "      <td>Adaptaciones de Julia Donaldson</td>\n",
       "    </tr>\n",
       "  </tbody>\n",
       "</table>\n",
       "</div>"
      ],
      "text/plain": [
       "                              titulo  nota  votos  \\\n",
       "0                  Pequeños detalles   5,4    616   \n",
       "0                       Dating Amber   6,5    171   \n",
       "0        El diablo entre las piernas   6,3     39   \n",
       "0             Libreros de Nueva York   6,5     49   \n",
       "0                 Millennium Actress   7,4  4.837   \n",
       "0  Del inconveniente de haber nacido   5,4     60   \n",
       "0                 ¿Dónde está Mikel?  None   None   \n",
       "0         Érase una vez en Venezuela   6,6     97   \n",
       "0            El caracol y la ballena   6,4     92   \n",
       "\n",
       "                  Título original   Año  Duración             País  \\\n",
       "0               The Little Things  2021  127 min.   Estados Unidos   \n",
       "0                Dating Amber aka  2020   92 min.          Irlanda   \n",
       "0     El diablo entre las piernas  2019  147 min.           México   \n",
       "0                 The Booksellers  2019   99 min.   Estados Unidos   \n",
       "0                 Sennen Joyû aka  2001   87 min.            Japón   \n",
       "0     The Trouble with Being Born  2020   94 min.          Austria   \n",
       "0                 Non Dago Mikel?  2020   80 min.           España   \n",
       "0  Érase una vez en Venezuela aka  2020   99 min.        Venezuela   \n",
       "0         The Snail and the Whale  2019   26 min.      Reino Unido   \n",
       "\n",
       "                           Dirección  \\\n",
       "0                   John Lee Hancock   \n",
       "0                       David Freyne   \n",
       "0                    Arturo Ripstein   \n",
       "0                         D.W. Young   \n",
       "0                        Satoshi Kon   \n",
       "0                     Sandra Wollner   \n",
       "0  Miguel Angel Llamas, Amaia Merino   \n",
       "0              Anabel Rodriguez Rios   \n",
       "0           Max Lang, Daniel Snaddon   \n",
       "\n",
       "                                               Guion  \\\n",
       "0                                   John Lee Hancock   \n",
       "0                                       David Freyne   \n",
       "0                             Paz Alicia Garciadiego   \n",
       "0                                                NaN   \n",
       "0                        Satoshi Kon, Sadayuki Murai   \n",
       "0                    Sandra Wollner, Roderick Warich   \n",
       "0                  Miguel Angel Llamas, Amaia Merino   \n",
       "0                              Anabel Rodriguez Rios   \n",
       "0  Max Lang, Suzanne Lang (Libro: Julia Donaldson...   \n",
       "\n",
       "                           Música               Fotografía  \\\n",
       "0                   Thomas Newman         John Schwartzman   \n",
       "0                             NaN           Ruairi O'Brien   \n",
       "0                 David Mansfield    Alejandro Cantú (B&W)   \n",
       "0                   David Ullmann              Peter Bolte   \n",
       "0                 Susumu Hirasawa  Animación, Hisao Shirai   \n",
       "0  David Schweighart, Peter Kutin              Timm Kröger   \n",
       "0                    Gorka Pastor                      NaN   \n",
       "0                  Nascuy Linares             John Márquez   \n",
       "0                      René Aubry                Animación   \n",
       "\n",
       "                                             Reparto  \\\n",
       "0  Denzel Washington, Rami Malek, Jared Leto, Sof...   \n",
       "0  Fionn O'Shea, Lola Petticrew, Sharon Horgan, B...   \n",
       "0  Silvia Pasquel, Alejandro Suárez, Greta Cervan...   \n",
       "0  Documental, (intervenciones de: Fran Lebowitz,...   \n",
       "0                                          Animación   \n",
       "0  Jana McKinnon, Ingrid Burkhard, Dominik Warta,...   \n",
       "0                                         Documental   \n",
       "0                                         Documental   \n",
       "0                                          Animación   \n",
       "\n",
       "                                          Productora  \\\n",
       "0         Warner Bros. (Distribuidora: Warner Bros.)   \n",
       "0  Atomic 80, Tilted Pictures (Distribuidora: Ama...   \n",
       "0                Alebrije Cine y Video, Oberon Films   \n",
       "0                                  Blackletter Films   \n",
       "0  Bandai Visual, Chiyoko Commitee, Madhouse, Wor...   \n",
       "0        Co-production Austria-Alemania; Panama Film   \n",
       "0                                         IZAR Films   \n",
       "0  Co-production Venezuela-Reino Unido-Brasil-Aus...   \n",
       "0                          Magic Light Pictures, ZDF   \n",
       "\n",
       "                                              Género  \\\n",
       "0                               Thriller | Policíaco   \n",
       "0  Drama. Comedia | Amistad. Homosexualidad. Años 80   \n",
       "0                       Drama | Vejez/Madurez. Celos   \n",
       "0                            Documental | Literatura   \n",
       "0  Animación. Fantástico. Romance. Drama | Melodr...   \n",
       "0                    Ciencia ficción. Drama | Robots   \n",
       "0                                         Documental   \n",
       "0                              Documental | Política   \n",
       "0      Animación. Aventuras | Mediometraje. Animales   \n",
       "\n",
       "                                            Sinopsis       \\\n",
       "0  Un sheriff (Washington) y un detective de homi...  NaN   \n",
       "0  En la Irlanda de los años 80, los mejores amig...        \n",
       "0  Todos los días Beatriz es víctima de insultos,...  NaN   \n",
       "0  Un vistazo a los pormenores del extraño mundo ...  NaN   \n",
       "0  Hace treinta años, Chiyoko Fujiwara fue la est...        \n",
       "0  Elli es una androide y vive con un hombre al q...  NaN   \n",
       "0  Noviembre de 1985. Mikel Zabalza, un joven con...  NaN   \n",
       "0  Hace no mucho tiempo, la vida en Congo Mirador...        \n",
       "0  Un caracol anhela ver el mundo y se sube a la ...  NaN   \n",
       "\n",
       "                            Grupos  \n",
       "0                              NaN  \n",
       "0                              NaN  \n",
       "0                              NaN  \n",
       "0                              NaN  \n",
       "0                              NaN  \n",
       "0                              NaN  \n",
       "0                              NaN  \n",
       "0                              NaN  \n",
       "0  Adaptaciones de Julia Donaldson  "
      ]
     },
     "execution_count": 191,
     "metadata": {},
     "output_type": "execute_result"
    }
   ],
   "source": []
  }
 ],
 "metadata": {
  "kernelspec": {
   "display_name": "Python 3",
   "language": "python",
   "name": "python3"
  },
  "language_info": {
   "codemirror_mode": {
    "name": "ipython",
    "version": 3
   },
   "file_extension": ".py",
   "mimetype": "text/x-python",
   "name": "python",
   "nbconvert_exporter": "python",
   "pygments_lexer": "ipython3",
   "version": "3.8.10"
  },
  "nbTranslate": {
   "displayLangs": [
    "*"
   ],
   "hotkey": "alt-t",
   "langInMainMenu": true,
   "sourceLang": "en",
   "targetLang": "fr",
   "useGoogleTranslate": true
  },
  "varInspector": {
   "cols": {
    "lenName": 16,
    "lenType": 16,
    "lenVar": 40
   },
   "kernels_config": {
    "python": {
     "delete_cmd_postfix": "",
     "delete_cmd_prefix": "del ",
     "library": "var_list.py",
     "varRefreshCmd": "print(var_dic_list())"
    },
    "r": {
     "delete_cmd_postfix": ") ",
     "delete_cmd_prefix": "rm(",
     "library": "var_list.r",
     "varRefreshCmd": "cat(var_dic_list()) "
    }
   },
   "types_to_exclude": [
    "module",
    "function",
    "builtin_function_or_method",
    "instance",
    "_Feature"
   ],
   "window_display": false
  }
 },
 "nbformat": 4,
 "nbformat_minor": 2
}
