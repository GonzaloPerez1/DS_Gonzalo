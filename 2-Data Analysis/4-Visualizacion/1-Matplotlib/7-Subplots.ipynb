{
 "cells": [
  {
   "cell_type": "markdown",
   "metadata": {
    "colab_type": "text",
    "id": "uK08qC2h0U28"
   },
   "source": [
    "# Multiple Subplots"
   ]
  },
  {
   "cell_type": "markdown",
   "metadata": {
    "colab_type": "text",
    "id": "sJjSXdhH0U28"
   },
   "source": [
    "**Sometimes it is helpful to compare different views of data side by side.**\n",
    "To this end, Matplotlib has the concept of *subplots*: groups of smaller axes that can exist together within a single figure.\n",
    "These subplots might be insets, grids of plots, or other more complicated layouts.\n",
    "In this section we'll explore four routines for creating subplots in Matplotlib."
   ]
  },
  {
   "cell_type": "code",
   "execution_count": null,
   "metadata": {
    "colab": {},
    "colab_type": "code",
    "id": "40_Ao5YI0U28"
   },
   "outputs": [],
   "source": [
    "%matplotlib inline\n",
    "import matplotlib.pyplot as plt\n",
    "plt.style.use('seaborn-white')\n",
    "import numpy as np"
   ]
  },
  {
   "cell_type": "markdown",
   "metadata": {
    "colab_type": "text",
    "id": "q4NGyMD30U29"
   },
   "source": [
    "## ``plt.axes``: Subplots by Hand\n",
    "\n",
    "The most basic method of creating an axes is to use the ``plt.axes`` function.\n",
    "As we've seen previously, by default this creates a standard axes object that fills the entire figure.\n",
    "``plt.axes`` also takes an optional argument that is a list of four numbers in the figure coordinate system.\n",
    "These numbers represent ``[left, bottom, width, height]`` in the figure coordinate system, which ranges from 0 at the bottom left of the figure to 1 at the top right of the figure.\n",
    "\n",
    "For example, we might create an inset axes at the top-right corner of another axes by setting the *x* and *y* position to 0.65 (that is, starting at 65% of the width and 65% of the height of the figure) and the *x* and *y* extents to 0.2 (that is, the size of the axes is 20% of the width and 20% of the height of the figure):"
   ]
  },
  {
   "cell_type": "code",
   "execution_count": null,
   "metadata": {
    "colab": {},
    "colab_type": "code",
    "collapsed": false,
    "id": "m-sBUTjE0U29",
    "jupyter": {
     "outputs_hidden": false
    },
    "outputId": "32118709-4c4e-4d79-afc0-0d1016a8d363"
   },
   "outputs": [],
   "source": []
  },
  {
   "cell_type": "markdown",
   "metadata": {
    "colab_type": "text",
    "id": "b2XN3sQx0U2-"
   },
   "source": [
    "The equivalent of this command within the object-oriented interface is ``fig.add_axes()``. Let's use this to create two vertically stacked axes:"
   ]
  },
  {
   "cell_type": "code",
   "execution_count": null,
   "metadata": {
    "colab": {},
    "colab_type": "code",
    "collapsed": false,
    "id": "2QruNT4z0U2-",
    "jupyter": {
     "outputs_hidden": false
    },
    "outputId": "1813a1e1-e15c-4a1d-f0db-90295100165d"
   },
   "outputs": [],
   "source": []
  },
  {
   "cell_type": "markdown",
   "metadata": {
    "colab_type": "text",
    "id": "yDjT0fus0U2_"
   },
   "source": [
    "We now have two axes (the top with no tick labels) that are just touching: the bottom of the upper panel (at position 0.5) matches the top of the lower panel (at position 0.1 + 0.4)."
   ]
  },
  {
   "cell_type": "markdown",
   "metadata": {
    "colab_type": "text",
    "id": "_RrGGaIA0U3A"
   },
   "source": [
    "## ``plt.subplot``: Simple Grids of Subplots\n",
    "\n",
    "Aligned columns or rows of subplots are a common-enough need that Matplotlib has several convenience routines that make them easy to create.\n",
    "The lowest level of these is ``plt.subplot()``, which creates a single subplot within a grid.\n",
    "As you can see, this command takes three integer arguments—the number of rows, the number of columns, and the index of the plot to be created in this scheme, which runs from the upper left to the bottom right:"
   ]
  },
  {
   "cell_type": "code",
   "execution_count": null,
   "metadata": {
    "colab": {},
    "colab_type": "code",
    "collapsed": false,
    "id": "Umk34T3W0U3A",
    "jupyter": {
     "outputs_hidden": false
    },
    "outputId": "255285f5-2029-43b6-c176-07514beff4a8"
   },
   "outputs": [],
   "source": [
    "for i in range(1, 7):\n",
    "    # RELLENAR\n",
    "    plt.text(0.5, 0.5, str((2, 3, i)),\n",
    "             fontsize=18, ha='center')"
   ]
  },
  {
   "cell_type": "markdown",
   "metadata": {
    "colab_type": "text",
    "id": "QnGz__xl0U3C"
   },
   "source": [
    "The command ``plt.subplots_adjust`` can be used to adjust the spacing between these plots.\n",
    "The following code uses the equivalent object-oriented command, ``fig.add_subplot()``:"
   ]
  },
  {
   "cell_type": "code",
   "execution_count": null,
   "metadata": {
    "colab": {},
    "colab_type": "code",
    "collapsed": false,
    "id": "05YZSMJI0U3C",
    "jupyter": {
     "outputs_hidden": false
    },
    "outputId": "5c8a437f-6fe9-42a0-a6e3-6931cbe5ca3c"
   },
   "outputs": [],
   "source": [
    "# RELLENAR\n",
    "\n",
    "for i in range(1, 7):\n",
    "    ax = fig.add_subplot(2, 3, i)\n",
    "    ax.text(0.5, 0.5, str((2, 3, i)),\n",
    "           fontsize=18, ha='center')"
   ]
  },
  {
   "cell_type": "markdown",
   "metadata": {
    "colab_type": "text",
    "id": "deXqRCGs0U3E"
   },
   "source": [
    "We've used the ``hspace`` and ``wspace`` arguments of ``plt.subplots_adjust``, which specify the **spacing along the height and width of the figure**, in units of the subplot size (in this case, the space is 40% of the subplot width and height)."
   ]
  },
  {
   "cell_type": "markdown",
   "metadata": {
    "colab_type": "text",
    "id": "RlGYiLm00U3E"
   },
   "source": [
    "## ``plt.subplots``: The Whole Grid in One Go\n",
    "\n",
    "**The approach just described can become quite tedious when creating a large grid of subplots, especially if you'd like to hide the x- and y-axis labels on the inner plots.**\n",
    "For this purpose, ``plt.subplots()`` is the easier tool to use (note the ``s`` at the end of ``subplots``). Rather than creating a single subplot, this function creates a full grid of subplots in a single line, returning them in a NumPy array.\n",
    "The arguments are the number of rows and number of columns, along with optional keywords ``sharex`` and ``sharey``, which allow you to specify the relationships between different axes.\n",
    "\n",
    "Here we'll create a $2 \\times 3$ grid of subplots, where all axes in the same row share their y-axis scale, and all axes in the same column share their x-axis scale:"
   ]
  },
  {
   "cell_type": "code",
   "execution_count": null,
   "metadata": {
    "colab": {},
    "colab_type": "code",
    "collapsed": false,
    "id": "m19wOHuN0U3E",
    "jupyter": {
     "outputs_hidden": false
    },
    "outputId": "c6d963ff-cfd1-435a-e3e1-75749b390ba7"
   },
   "outputs": [],
   "source": []
  },
  {
   "cell_type": "markdown",
   "metadata": {
    "colab_type": "text",
    "id": "ukU0F6xj0U3F"
   },
   "source": [
    "Note that by specifying ``sharex`` and ``sharey``, we've automatically removed inner labels on the grid to make the plot cleaner.\n",
    "The resulting grid of axes instances is returned within a NumPy array, allowing for convenient specification of the desired axes using standard array indexing notation:"
   ]
  },
  {
   "cell_type": "code",
   "execution_count": null,
   "metadata": {
    "colab": {},
    "colab_type": "code",
    "collapsed": false,
    "id": "9lpNYXJU0U3G",
    "jupyter": {
     "outputs_hidden": false
    },
    "outputId": "88365002-f76a-40d7-e489-c4f3fbb02977"
   },
   "outputs": [],
   "source": [
    "# axes are in a two-dimensional array, indexed by [row, col]\n",
    "for i in range(2):\n",
    "    for j in range(3):\n",
    "        ax[i, j].text(0.5, 0.5, str((i, j)),\n",
    "                      fontsize=18, ha='center')\n",
    "fig"
   ]
  },
  {
   "cell_type": "markdown",
   "metadata": {
    "colab_type": "text",
    "id": "ydmMslbj0U3G"
   },
   "source": [
    "In comparison to ``plt.subplot()``, ``plt.subplots()`` is more consistent with Python's conventional 0-based indexing."
   ]
  },
  {
   "cell_type": "markdown",
   "metadata": {
    "colab_type": "text",
    "id": "GKTyycH40U3H"
   },
   "source": [
    "## ``plt.GridSpec``: More Complicated Arrangements\n",
    "\n",
    "To go beyond a regular grid to subplots that span multiple rows and columns, ``plt.GridSpec()`` is the best tool.\n",
    "The ``plt.GridSpec()`` object does not create a plot by itself; it is simply a convenient interface that is recognized by the ``plt.subplot()`` command.\n",
    "For example, a gridspec for a grid of two rows and three columns with some specified width and height space looks like this:"
   ]
  },
  {
   "cell_type": "code",
   "execution_count": null,
   "metadata": {
    "colab": {},
    "colab_type": "code",
    "collapsed": false,
    "id": "J7gnPJWM0U3H",
    "jupyter": {
     "outputs_hidden": false
    }
   },
   "outputs": [],
   "source": []
  },
  {
   "cell_type": "markdown",
   "metadata": {
    "colab_type": "text",
    "id": "g-PAqHZJ0U3I"
   },
   "source": [
    "From this we can specify subplot locations and extents using the familiary Python slicing syntax:"
   ]
  },
  {
   "cell_type": "code",
   "execution_count": null,
   "metadata": {
    "colab": {},
    "colab_type": "code",
    "collapsed": false,
    "id": "sTzBKetb0U3I",
    "jupyter": {
     "outputs_hidden": false
    },
    "outputId": "8632f6a3-3584-455a-c717-8d72df96e011"
   },
   "outputs": [],
   "source": []
  },
  {
   "cell_type": "markdown",
   "metadata": {
    "colab_type": "text",
    "id": "iWDXlF9x0U3J"
   },
   "source": [
    "This type of flexible grid alignment has a wide range of uses.\n",
    "I most often use it when creating multi-axes histogram plots like the ones shown here:"
   ]
  },
  {
   "cell_type": "code",
   "execution_count": null,
   "metadata": {
    "colab": {},
    "colab_type": "code",
    "collapsed": false,
    "id": "H44S38lk0U3J",
    "jupyter": {
     "outputs_hidden": false
    },
    "outputId": "e3f64b80-38d2-494b-bbe5-1ae5d1dda0ba"
   },
   "outputs": [],
   "source": [
    "# Create some normally distributed data\n",
    "mean = [0, 0]\n",
    "cov = [[1, 1], [1, 2]]\n",
    "x, y = np.random.multivariate_normal(mean, cov, 3000).T\n",
    "\n",
    "# Set up the axes with gridspec\n",
    "fig = plt.figure(figsize=(6, 6))\n",
    "grid = plt.GridSpec(4, 4, hspace=0.2, wspace=0.2)\n",
    "main_ax = fig.add_subplot(grid[:-1, 1:])\n",
    "y_hist = fig.add_subplot(grid[:-1, 0], xticklabels=[], sharey=main_ax)\n",
    "x_hist = fig.add_subplot(grid[-1, 1:], yticklabels=[], sharex=main_ax)\n",
    "\n",
    "# scatter points on the main axes\n",
    "main_ax.plot(x, y, 'ok', markersize=3, alpha=0.2)\n",
    "\n",
    "# histogram on the attached axes\n",
    "x_hist.hist(x, 40, histtype='stepfilled',\n",
    "            orientation='vertical', color='gray')\n",
    "x_hist.invert_yaxis()\n",
    "\n",
    "y_hist.hist(y, 40, histtype='stepfilled',\n",
    "            orientation='horizontal', color='gray')\n",
    "y_hist.invert_xaxis()"
   ]
  },
  {
   "cell_type": "markdown",
   "metadata": {
    "colab_type": "text",
    "id": "u6m4PxZq0U3J"
   },
   "source": [
    "This type of distribution plotted alongside its margins is common enough that it has its own plotting API in the Seaborn package; see [Visualization With Seaborn](04.14-Visualization-With-Seaborn.ipynb) for more details."
   ]
  }
 ],
 "metadata": {
  "colab": {
   "name": "EDA-Intro-visualization_MatplotLib.ipynb",
   "provenance": []
  },
  "kernelspec": {
   "display_name": "Python 3",
   "language": "python",
   "name": "python3"
  },
  "language_info": {
   "codemirror_mode": {
    "name": "ipython",
    "version": 3
   },
   "file_extension": ".py",
   "mimetype": "text/x-python",
   "name": "python",
   "nbconvert_exporter": "python",
   "pygments_lexer": "ipython3",
   "version": "3.8.8"
  }
 },
 "nbformat": 4,
 "nbformat_minor": 4
}
