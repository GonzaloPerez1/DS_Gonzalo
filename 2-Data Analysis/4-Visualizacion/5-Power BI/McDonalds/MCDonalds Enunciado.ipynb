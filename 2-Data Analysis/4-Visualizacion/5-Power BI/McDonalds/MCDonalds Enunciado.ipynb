{
 "cells": [
  {
   "cell_type": "markdown",
   "id": "f771c45f-9ac5-4f45-952b-0975b9cfdfa6",
   "metadata": {},
   "source": [
    "# Análisis nutricional productos de McDonalds\n",
    "Simularemos trabajar en un proyecto de consultora encargado de realizar un análisis nutricional de los productos vendidos en los restaurantes de comida rápida McDonalds. Relizaremos un análisis exploratorio de datos con el objetivo de detectar los productos con mejores y peores propiedades nutricionales para el cliente.\n",
    "\n",
    "### Información relevante\n",
    "Tenemos que responder a preguntas como:\n",
    "1. ¿Cuáles son las categorías de productos que en media son más calóricos? ¿Y grasosos (Total Fat)?\n",
    "1. Los datos por producto están muy bien, pero no todos pesan lo mismo. Sería ideal que sacases información por cada 100gr, tal y como viene en las descripciones de los productos alimenticios.\n",
    "1. ¿Qué categorias de productos tienen más colesterol?\n",
    "1. ¿Cuáles son los productos que contribuyen más a la aportación calórica diaria?\n",
    "1. ¿Podemos llegar a la cantidad diaria recomendada de carbohidratos con un único producto de McDonalds? ¿Y de grasas saturadas?\n",
    "1. ¿Podríamos pedir un menú en McDonalds de calorías moderadas y que no tenga un bajo % de grasas, carbohidratos y azúcares?\n",
    "1. ¿Qué más se te ocurre que puedes encontrar en estos datos?\n",
    "\n",
    "### Fuentes de datos\n",
    "1. \"mcdonalds_menu.csv\": donde se encuentra la mayor parte de la información sobre los componentes de cada producto\n",
    "1. \"mcdonalds_percet_daily.tsv\": aquí reside toda la info relativa a los porcentajes diarios recomendados de cada componente nutricional.\n",
    "1. MySQL: por último, en una base de datos SQL tendrás la tabla \"categories\", con un mapeo con las categorias de los productos.\n",
    "\n",
    "### Para acceder al SQL\n",
    "Tienes que [instalar el módulo de MySQL](https://dev.mysql.com/downloads/file/?id=506231) para poder acceder a los datos de la BD, que se encuentra alojada en Amazon. Recuerda reiniciar el Power BI tras la instalación\n",
    "\n",
    "Después en la conexión a la BD habrá que introducir:\n",
    "1. Servidor y base de datos (preguntar profesor)\n",
    "\n",
    "    ![imagen](./img/db1.png)\n",
    "    \n",
    "1. Luego introducir las credenciales en \"Base de Datos\": Nombre Usuario (admin) y Contraseña (12345678) \n",
    "\n",
    "    ![imagen](./img/db2.png)\n",
    "    \n",
    "\n",
    "\n",
    "Con esto sería suficiente para conectar con la BD y obtener la tabla.\n",
    "\n",
    "**NOTA:** la base de datos estará disponible únicamente durante el día de la realización de este taller.\n",
    "\n",
    "### Limpieza\n",
    "Consejos a la hora de limpiar los datos:\n",
    "1. Mira a ver si hay que eliminar columnas\n",
    "1. Ojo la columna \"Fat Trans\"\n",
    "1. Revisa que todos los tipos estén bien\n",
    "1. ¿Hay missings? De ser así, NO los elimines y razona por qué valores podrían sustituirse.\n",
    "\n",
    "### Modelo de datos\n",
    "No hace falta mergear todas las tablas. Tienes que cargarlas y asociarlas mediante un modelo de datos:\n",
    "![imagen](./img/data_model.png)"
   ]
  }
 ],
 "metadata": {
  "kernelspec": {
   "display_name": "Python 3",
   "language": "python",
   "name": "python3"
  },
  "language_info": {
   "codemirror_mode": {
    "name": "ipython",
    "version": 3
   },
   "file_extension": ".py",
   "mimetype": "text/x-python",
   "name": "python",
   "nbconvert_exporter": "python",
   "pygments_lexer": "ipython3",
   "version": "3.8.8"
  }
 },
 "nbformat": 4,
 "nbformat_minor": 5
}
