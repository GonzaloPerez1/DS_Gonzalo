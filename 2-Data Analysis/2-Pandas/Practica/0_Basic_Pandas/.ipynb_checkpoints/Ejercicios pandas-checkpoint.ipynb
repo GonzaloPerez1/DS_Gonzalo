{
 "cells": [
  {
   "cell_type": "markdown",
   "metadata": {},
   "source": [
    "## Ejercicio 1\n",
    "Importa la libreria de pandas. ¿Qué versión de la librería tienes?"
   ]
  },
  {
   "cell_type": "code",
   "execution_count": 2,
   "metadata": {
    "tags": []
   },
   "outputs": [
    {
     "data": {
      "text/plain": [
       "'1.2.5'"
      ]
     },
     "execution_count": 2,
     "metadata": {},
     "output_type": "execute_result"
    }
   ],
   "source": [
    "import pandas as pd\n",
    "pd.__version__"
   ]
  },
  {
   "cell_type": "markdown",
   "metadata": {},
   "source": [
    "## Ejercicio 2\n",
    "Lee el archivo CSV de la liga. Guarda el DataFrame en una variable llamada `df`. [Usa el método `read_csv` de `pandas`](https://pandas.pydata.org/pandas-docs/stable/reference/api/pandas.read_csv.html)."
   ]
  },
  {
   "cell_type": "code",
   "execution_count": 3,
   "metadata": {},
   "outputs": [],
   "source": [
    "df = pd.read_csv(\"laliga.csv\")"
   ]
  },
  {
   "cell_type": "markdown",
   "metadata": {},
   "source": [
    "## Ejercicio 3\n",
    "Obtén por pantalla los 4 primero registros"
   ]
  },
  {
   "cell_type": "code",
   "execution_count": 11,
   "metadata": {},
   "outputs": [
    {
     "data": {
      "text/html": [
       "<div>\n",
       "<style scoped>\n",
       "    .dataframe tbody tr th:only-of-type {\n",
       "        vertical-align: middle;\n",
       "    }\n",
       "\n",
       "    .dataframe tbody tr th {\n",
       "        vertical-align: top;\n",
       "    }\n",
       "\n",
       "    .dataframe thead th {\n",
       "        text-align: right;\n",
       "    }\n",
       "</style>\n",
       "<table border=\"1\" class=\"dataframe\">\n",
       "  <thead>\n",
       "    <tr style=\"text-align: right;\">\n",
       "      <th></th>\n",
       "      <th>Unnamed: 0</th>\n",
       "      <th>season</th>\n",
       "      <th>division</th>\n",
       "      <th>round</th>\n",
       "      <th>localTeam</th>\n",
       "      <th>visitorTeam</th>\n",
       "      <th>localGoals</th>\n",
       "      <th>visitorGoals</th>\n",
       "      <th>date</th>\n",
       "      <th>timestamp</th>\n",
       "    </tr>\n",
       "  </thead>\n",
       "  <tbody>\n",
       "    <tr>\n",
       "      <th>0</th>\n",
       "      <td>26201</td>\n",
       "      <td>2005-06</td>\n",
       "      <td>1</td>\n",
       "      <td>1</td>\n",
       "      <td>Atletico de Bilbao</td>\n",
       "      <td>Real Sociedad</td>\n",
       "      <td>3</td>\n",
       "      <td>0</td>\n",
       "      <td>27/08/2005</td>\n",
       "      <td>1125093600</td>\n",
       "    </tr>\n",
       "    <tr>\n",
       "      <th>1</th>\n",
       "      <td>26202</td>\n",
       "      <td>2005-06</td>\n",
       "      <td>1</td>\n",
       "      <td>1</td>\n",
       "      <td>Alaves</td>\n",
       "      <td>Barcelona</td>\n",
       "      <td>0</td>\n",
       "      <td>0</td>\n",
       "      <td>27/08/2005</td>\n",
       "      <td>1125093600</td>\n",
       "    </tr>\n",
       "    <tr>\n",
       "      <th>2</th>\n",
       "      <td>26203</td>\n",
       "      <td>2005-06</td>\n",
       "      <td>1</td>\n",
       "      <td>1</td>\n",
       "      <td>Valencia</td>\n",
       "      <td>Betis</td>\n",
       "      <td>1</td>\n",
       "      <td>0</td>\n",
       "      <td>27/08/2005</td>\n",
       "      <td>1125093600</td>\n",
       "    </tr>\n",
       "    <tr>\n",
       "      <th>3</th>\n",
       "      <td>26204</td>\n",
       "      <td>2005-06</td>\n",
       "      <td>1</td>\n",
       "      <td>1</td>\n",
       "      <td>Atletico de Madrid</td>\n",
       "      <td>Zaragoza</td>\n",
       "      <td>0</td>\n",
       "      <td>0</td>\n",
       "      <td>28/08/2005</td>\n",
       "      <td>1125180000</td>\n",
       "    </tr>\n",
       "  </tbody>\n",
       "</table>\n",
       "</div>"
      ],
      "text/plain": [
       "   Unnamed: 0   season  division  round           localTeam    visitorTeam  \\\n",
       "0       26201  2005-06         1      1  Atletico de Bilbao  Real Sociedad   \n",
       "1       26202  2005-06         1      1              Alaves      Barcelona   \n",
       "2       26203  2005-06         1      1            Valencia          Betis   \n",
       "3       26204  2005-06         1      1  Atletico de Madrid       Zaragoza   \n",
       "\n",
       "   localGoals  visitorGoals        date   timestamp  \n",
       "0           3             0  27/08/2005  1125093600  \n",
       "1           0             0  27/08/2005  1125093600  \n",
       "2           1             0  27/08/2005  1125093600  \n",
       "3           0             0  28/08/2005  1125180000  "
      ]
     },
     "execution_count": 11,
     "metadata": {},
     "output_type": "execute_result"
    }
   ],
   "source": [
    "df.head(4)"
   ]
  },
  {
   "cell_type": "markdown",
   "metadata": {},
   "source": [
    "## Ejercicio 4\n",
    "Obtén en un array de `numpy` todos los valores del DataFrame"
   ]
  },
  {
   "cell_type": "code",
   "execution_count": 6,
   "metadata": {},
   "outputs": [
    {
     "data": {
      "text/plain": [
       "array([[26201, '2005-06', 1, ..., 0, '27/08/2005', 1125093600],\n",
       "       [26202, '2005-06', 1, ..., 0, '27/08/2005', 1125093600],\n",
       "       [26203, '2005-06', 1, ..., 0, '27/08/2005', 1125093600],\n",
       "       ...,\n",
       "       [36682, '2017-18', 1, ..., 0, '20/05/2018', 1526767200],\n",
       "       [36683, '2017-18', 1, ..., 1, '20/05/2018', 1526767200],\n",
       "       [36684, '2017-18', 1, ..., 2, '20/05/2018', 1526767200]],\n",
       "      dtype=object)"
      ]
     },
     "execution_count": 6,
     "metadata": {},
     "output_type": "execute_result"
    }
   ],
   "source": [
    "df.values"
   ]
  },
  {
   "cell_type": "markdown",
   "metadata": {},
   "source": [
    "## Ejercicio 5\n",
    "¿Cuáles son las columnas de `df`?"
   ]
  },
  {
   "cell_type": "code",
   "execution_count": 9,
   "metadata": {},
   "outputs": [
    {
     "data": {
      "text/plain": [
       "['Unnamed: 0',\n",
       " 'season',\n",
       " 'division',\n",
       " 'round',\n",
       " 'localTeam',\n",
       " 'visitorTeam',\n",
       " 'localGoals',\n",
       " 'visitorGoals',\n",
       " 'date',\n",
       " 'timestamp']"
      ]
     },
     "execution_count": 9,
     "metadata": {},
     "output_type": "execute_result"
    }
   ],
   "source": [
    "list(df.columns)"
   ]
  },
  {
   "cell_type": "markdown",
   "metadata": {},
   "source": [
    "## Ejercicio 6\n",
    "Crea un `Series` con la [población de Madrid, Galicia, Murcia y Andalucía](https://es.wikipedia.org/wiki/Anexo:Comunidades_y_ciudades_aut%C3%B3nomas_de_Espa%C3%B1a). Llamalo `poblacion`. Créalo de dos maneras diferentes.\n",
    "\n",
    "Madrid: 6685471\n",
    "\n",
    "Galicia: 2698764\n",
    "\n",
    "Murcia: 1494442\n",
    "\n",
    "Andalucía: 8446561\n"
   ]
  },
  {
   "cell_type": "code",
   "execution_count": 10,
   "metadata": {},
   "outputs": [
    {
     "name": "stdout",
     "output_type": "stream",
     "text": [
      "0       Atletico de Bilbao\n",
      "1                   Alaves\n",
      "2                 Valencia\n",
      "3       Atletico de Madrid\n",
      "4                    Cadiz\n",
      "               ...        \n",
      "4935            Villarreal\n",
      "4936    Atletico de Bilbao\n",
      "4937             Barcelona\n",
      "4938              Valencia\n",
      "4939    Atletico de Madrid\n",
      "Name: localTeam, Length: 4940, dtype: object\n"
     ]
    }
   ],
   "source": [
    "print(df['localTeam'])"
   ]
  },
  {
   "cell_type": "markdown",
   "metadata": {},
   "source": [
    "## Ejercicio 7\n",
    "Obtén un array de `numpy` con los valores del `Series`.\n",
    "\n",
    "Saca también sus índices, y los valores de sus índices."
   ]
  },
  {
   "cell_type": "code",
   "execution_count": null,
   "metadata": {},
   "outputs": [],
   "source": []
  },
  {
   "cell_type": "markdown",
   "metadata": {},
   "source": [
    "## Ejercicio 8\n",
    "1. ¿Qué población hay en el primer elemento del `Series`?\n",
    "2. ¿Qué población hay en Galicia?\n",
    "3. Imprime por pantalla las poblaciones de Galicia, Andalucía y las comunidades autónomas que se encuentren entre ambas, dentro del `Series`.\n",
    "4. Comprueba con un output booleano que `Galicia` se encuentra entre los índices del `Index`.\n",
    "5. Realiza los apartados 1,2,3 pero esta vez de una manera diferente."
   ]
  },
  {
   "cell_type": "code",
   "execution_count": null,
   "metadata": {},
   "outputs": [],
   "source": []
  },
  {
   "cell_type": "markdown",
   "metadata": {},
   "source": [
    "## Ejercicio 9\n",
    "A partir de las comunidades autónomas anteriores, crea un `Series` con [la tasa de paro](https://es.statista.com/estadisticas/941646/prevision-de-la-tasa-de-paro-por-comunidad-autonoma-espana/) en dichas comunidades autónomas.\n",
    "\n",
    "Con la tasa de paro y las poblaciones, crea un DataFrame de pandas. Llámalo `data`.\n",
    "\n",
    "Tasas de paro\n",
    "\n",
    "Madrid: 9.99\n",
    "\n",
    "Galicia: 11.74\n",
    "\n",
    "Murcia: 16.08\n",
    "\n",
    "Andalucía: 20.8"
   ]
  },
  {
   "cell_type": "code",
   "execution_count": null,
   "metadata": {},
   "outputs": [],
   "source": []
  },
  {
   "cell_type": "markdown",
   "metadata": {},
   "source": [
    "## Ejercicio 10\n",
    "Imprime por pantalla la población, y la tasa de paro. Por separado"
   ]
  },
  {
   "cell_type": "code",
   "execution_count": null,
   "metadata": {},
   "outputs": [],
   "source": []
  },
  {
   "cell_type": "markdown",
   "metadata": {},
   "source": [
    "## Ejercicio 11\n",
    "Crea un nuevo Data Frame (`data2`), que sea igual que `data`, pero con una nueva columna, que lleve [la superficie de las Comunidades Autónomas](https://es.wikipedia.org/wiki/Anexo:Comunidades_y_ciudades_aut%C3%B3nomas_de_Espa%C3%B1a).\n",
    "\n",
    "Madrid: 8028\n",
    "\n",
    "Galicia: 29575\n",
    "\n",
    "Murcia: 11314\n",
    "\n",
    "Andalucía: 87599"
   ]
  },
  {
   "cell_type": "code",
   "execution_count": null,
   "metadata": {},
   "outputs": [],
   "source": []
  },
  {
   "cell_type": "markdown",
   "metadata": {},
   "source": [
    "## Ejercicio 12\n",
    "Calcula en una nueva columna la densidad de población (hab/km^2)"
   ]
  },
  {
   "cell_type": "code",
   "execution_count": null,
   "metadata": {},
   "outputs": [],
   "source": []
  }
 ],
 "metadata": {
  "kernelspec": {
   "display_name": "Python 3",
   "language": "python",
   "name": "python3"
  },
  "language_info": {
   "codemirror_mode": {
    "name": "ipython",
    "version": 3
   },
   "file_extension": ".py",
   "mimetype": "text/x-python",
   "name": "python",
   "nbconvert_exporter": "python",
   "pygments_lexer": "ipython3",
   "version": "3.8.10"
  }
 },
 "nbformat": 4,
 "nbformat_minor": 4
}
